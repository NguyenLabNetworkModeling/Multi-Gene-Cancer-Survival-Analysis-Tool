{
 "cells": [
  {
   "cell_type": "markdown",
   "metadata": {},
   "source": [
    "# Survival Analysis Notebook"
   ]
  },
  {
   "cell_type": "markdown",
   "metadata": {},
   "source": [
    "**IMPORTANT**: this notebook is now **out of date** with the actual analysis code in the server backend (notably, the new analysis code uses a different way to split between tests and controls and classifying what a control is). "
   ]
  },
  {
   "cell_type": "code",
   "execution_count": 1,
   "metadata": {},
   "outputs": [
    {
     "name": "stderr",
     "output_type": "stream",
     "text": [
      "\u001b[32m\u001b[1m Activating\u001b[22m\u001b[39m environment at `~/projects/cansat/backend/Project.toml`\n"
     ]
    }
   ],
   "source": [
    "using Pkg\n",
    "Pkg.activate(\"../\")"
   ]
  },
  {
   "cell_type": "code",
   "execution_count": 16,
   "metadata": {},
   "outputs": [
    {
     "name": "stderr",
     "output_type": "stream",
     "text": [
      "┌ Info: Precompiling Plots [91a5bcdd-55d7-5caf-9e0b-520d859cae80]\n",
      "└ @ Base loading.jl:1278\n",
      "┌ Info: Precompiling RCall [6f49c342-dc21-5d91-9882-a32aef131414]\n",
      "└ @ Base loading.jl:1278\n"
     ]
    }
   ],
   "source": [
    "using HTTP, JSON, DataFrames, Survival, Plots, StatsModels, RCall, StatsBase"
   ]
  },
  {
   "cell_type": "markdown",
   "metadata": {},
   "source": [
    "## Approach"
   ]
  },
  {
   "cell_type": "markdown",
   "metadata": {},
   "source": [
    "The new cBioPortal API documentation is available from https://www.cbioportal.org/api/swagger-ui.html."
   ]
  },
  {
   "cell_type": "markdown",
   "metadata": {},
   "source": [
    "Ideally, we should be able to define a very simple configuration specifying the `study_id` and the `genes` we are interested in as well as their thresholds. It might look something like the following JSON:"
   ]
  },
  {
   "cell_type": "markdown",
   "metadata": {},
   "source": [
    "```json\n",
    "{ \n",
    "    \"study_id\": \"brca_tcga_pub2015\", \n",
    "    \"genes\": [\n",
    "        { \"hugo\": \"BRCA1\",\n",
    "          \"side\": \"above\",\n",
    "          \"zscore\": 2.0 },\n",
    "        { \"hugo\": \"BRCA2\",\n",
    "          \"side\": \"above\",\n",
    "          \"zscore\": 1.5 }\n",
    "    ]\n",
    "}\n",
    "```"
   ]
  },
  {
   "cell_type": "markdown",
   "metadata": {},
   "source": [
    "Let's imagine we received this JSON from the frontend."
   ]
  },
  {
   "cell_type": "code",
   "execution_count": 17,
   "metadata": {},
   "outputs": [
    {
     "data": {
      "text/plain": [
       "\"{ \\n    \\\"study_id\\\": \\\"brca_tcga_pub2015\\\", \\n    \\\"genes\\\": [\\n        { \\\"hugo\\\": \\\"BRCA1\\\",\\n          \\\"entrez\\\": 672,\\n          \\\"side\\\": \\\"above\\\",\\n          \\\"zscore\\\": 1.0 },\\n        { \\\"hugo\\\": \\\"BRCA2\\\",\\n          \\\"entrez\\\": 675,\\n          \\\"side\\\": \\\"above\\\",\\n          \\\"zscore\\\": 1.0 }\\n    ]\\n}\\n\""
      ]
     },
     "execution_count": 17,
     "metadata": {},
     "output_type": "execute_result"
    }
   ],
   "source": [
    "config_json = \"\"\"\n",
    "{ \n",
    "    \"study_id\": \"brca_tcga_pub2015\", \n",
    "    \"genes\": [\n",
    "        { \"hugo\": \"BRCA1\",\n",
    "          \"entrez\": 672,\n",
    "          \"side\": \"above\",\n",
    "          \"zscore\": 1.0 },\n",
    "        { \"hugo\": \"BRCA2\",\n",
    "          \"entrez\": 675,\n",
    "          \"side\": \"above\",\n",
    "          \"zscore\": 1.0 }\n",
    "    ]\n",
    "}\n",
    "\"\"\""
   ]
  },
  {
   "cell_type": "markdown",
   "metadata": {},
   "source": [
    "Let's first parse it into a Julia `Dict` type."
   ]
  },
  {
   "cell_type": "code",
   "execution_count": 18,
   "metadata": {},
   "outputs": [
    {
     "data": {
      "text/plain": [
       "parse_config (generic function with 1 method)"
      ]
     },
     "execution_count": 18,
     "metadata": {},
     "output_type": "execute_result"
    }
   ],
   "source": [
    "function parse_config(jsonstring)\n",
    "    return JSON.Parser.parse(jsonstring)\n",
    "end"
   ]
  },
  {
   "cell_type": "code",
   "execution_count": 19,
   "metadata": {},
   "outputs": [
    {
     "data": {
      "text/plain": [
       "Dict{String,Any} with 2 entries:\n",
       "  \"study_id\" => \"brca_tcga_pub2015\"\n",
       "  \"genes\"    => Any[Dict{String,Any}(\"side\"=>\"above\",\"entrez\"=>672,\"zscore\"=>1.…"
      ]
     },
     "execution_count": 19,
     "metadata": {},
     "output_type": "execute_result"
    }
   ],
   "source": [
    "config = parse_config(config_json)"
   ]
  },
  {
   "cell_type": "markdown",
   "metadata": {},
   "source": [
    "We now need to obtain the following data from the cBioPortal API:\n",
    "\n",
    "1. Clinical data of patients' a) days to last follow up, and b) status at last follow up in terms of either overall survival (OS) or disease-free-survival (DFS). \n",
    "2. mRNA expression data for the specified genes. \n",
    "\n",
    "Sufficient data for either of these steps may often be unavailable, and these error cases need to be handled judiciously."
   ]
  },
  {
   "cell_type": "markdown",
   "metadata": {},
   "source": [
    "### API Requests"
   ]
  },
  {
   "cell_type": "markdown",
   "metadata": {},
   "source": [
    "A handy abstraction for making requests to the cBioPortal API:"
   ]
  },
  {
   "cell_type": "code",
   "execution_count": 20,
   "metadata": {},
   "outputs": [
    {
     "data": {
      "text/plain": [
       "portal_request_get (generic function with 1 method)"
      ]
     },
     "execution_count": 20,
     "metadata": {},
     "output_type": "execute_result"
    }
   ],
   "source": [
    "function portal_request_get(path; query=nothing)\n",
    "    baseurl = \"https://www.cbioportal.org/api\"\n",
    "    request = HTTP.get(baseurl*path, query=query)\n",
    "    json = request.body |> String |> JSON.Parser.parse\n",
    "    return json\n",
    "end"
   ]
  },
  {
   "cell_type": "code",
   "execution_count": 21,
   "metadata": {},
   "outputs": [
    {
     "data": {
      "text/plain": [
       "portal_request_post (generic function with 1 method)"
      ]
     },
     "execution_count": 21,
     "metadata": {},
     "output_type": "execute_result"
    }
   ],
   "source": [
    "function portal_request_post(path, body; query=nothing)\n",
    "    baseurl = \"https://www.cbioportal.org/api\"\n",
    "    body_json = JSON.Writer.json(body)\n",
    "    request = HTTP.post(baseurl*path, [\"Content-Type\" => \"application/json\"], body_json, query=query)\n",
    "    json = request.body |> String |> JSON.Parser.parse\n",
    "    return json\n",
    "end"
   ]
  },
  {
   "cell_type": "markdown",
   "metadata": {},
   "source": [
    "### Clinical Data"
   ]
  },
  {
   "cell_type": "markdown",
   "metadata": {},
   "source": [
    "The clinical data is accessible from an endpoint that resembles `/studies/brca_tcga_pub2015/clinical-data?clinicalDataType=PATIENT`, which returns an array of JSON objects, each representing a single clinical attribute for a patient (with the patient ID accessible in the `patientId` property, the clinical attribute name accessible in the `clinicalAttributeId` property, and the value accessible in the `value` property). The clinical attributes we need at a minimum are, in order of preference:\n",
    "\n",
    "1. (`VITAL_STATUS` or `OS_STATUS`) and `OS_MONTHS`, or\n",
    "2. `DFS_STATUS` and `DFS_MONTHS`. \n",
    "3. `DAYS_TO_DEATH` and `DAYS_TO_LAST_FOLLOWUP` and (`OS_STATUS` or `VITAL_STATUS`), or\n",
    "\n",
    "We also need the `patientId`. "
   ]
  },
  {
   "cell_type": "markdown",
   "metadata": {},
   "source": [
    "First, writing a wrapper to get the clinical data for a patient given a configuration:"
   ]
  },
  {
   "cell_type": "code",
   "execution_count": 22,
   "metadata": {},
   "outputs": [
    {
     "data": {
      "text/plain": [
       "get_clinicaldata (generic function with 1 method)"
      ]
     },
     "execution_count": 22,
     "metadata": {},
     "output_type": "execute_result"
    }
   ],
   "source": [
    "function get_clinicaldata(config)\n",
    "    clinical_attributes_of_interest = [\"VITAL_STATUS\", \"OS_STATUS\", \"OS_MONTHS\", \"DFS_STATUS\", \"DFS_MONTHS\", \"DAYS_TO_LAST_FOLLOWUP\", \"DAYS_TO_DEATH\"]\n",
    "    response = portal_request_post(\"/studies/$(config[\"study_id\"])/clinical-data/fetch\",\n",
    "        Dict(\"attributeIds\" => clinical_attributes_of_interest),\n",
    "        query=\"clinicalDataType=PATIENT\")\n",
    "    return response\n",
    "end"
   ]
  },
  {
   "cell_type": "markdown",
   "metadata": {},
   "source": [
    "Here is an example of the clinical data that is available\""
   ]
  },
  {
   "cell_type": "code",
   "execution_count": 23,
   "metadata": {},
   "outputs": [],
   "source": [
    "response = get_clinicaldata(config);"
   ]
  },
  {
   "cell_type": "code",
   "execution_count": 24,
   "metadata": {},
   "outputs": [
    {
     "data": {
      "text/plain": [
       "Dict{String,Any} with 5 entries:\n",
       "  \"studyId\"             => \"brca_tcga_pub2015\"\n",
       "  \"patientId\"           => \"TCGA-LQ-A4E4\"\n",
       "  \"uniquePatientKey\"    => \"VENHQS1MUS1BNEU0OmJyY2FfdGNnYV9wdWIyMDE1\"\n",
       "  \"value\"               => \"484\"\n",
       "  \"clinicalAttributeId\" => \"DAYS_TO_LAST_FOLLOWUP\""
      ]
     },
     "execution_count": 24,
     "metadata": {},
     "output_type": "execute_result"
    }
   ],
   "source": [
    "response[1]"
   ]
  },
  {
   "cell_type": "markdown",
   "metadata": {},
   "source": [
    "And of the set of all clinical attribute IDs for this particular study, which is helpful to know what information may be available:"
   ]
  },
  {
   "cell_type": "markdown",
   "metadata": {},
   "source": [
    "```julia\n",
    "join(unique([c[\"clinicalAttributeId\"] for c in response]), \", \")\n",
    "```\n",
    "```\n",
    "\"AGE, AJCC_METASTASIS_PATHOLOGIC_PM, AJCC_NODES_PATHOLOGIC_PN, AJCC_PATHOLOGIC_TUMOR_STAGE, AJCC_STAGING_EDITION, AJCC_TUMOR_PATHOLOGIC_PT, DAYS_TO_BIRTH, DAYS_TO_INITIAL_PATHOLOGIC_DIAGNOSIS, DAYS_TO_LAST_FOLLOWUP, DFS_MONTHS, DFS_STATUS, ETHNICITY, FORM_COMPLETION_DATE, HISTOLOGICAL_DIAGNOSIS, HISTORY_NEOADJUVANT_TRTYN, HISTORY_OTHER_MALIGNANCY, ICD_10, ICD_O_3_HISTOLOGY, ICD_O_3_SITE, INFORMED_CONSENT_VERIFIED, INITIAL_PATHOLOGIC_DX_YEAR, LYMPH_NODES_EXAMINED, LYMPH_NODES_EXAMINED_HE_COUNT, LYMPH_NODES_EXAMINED_IHC_COUNT, LYMPH_NODE_EXAMINED_COUNT, MENOPAUSE_STATUS, METHOD_OF_INITIAL_SAMPLE_PROCUREMENT, OS_MONTHS, OS_STATUS, OTHER_PATIENT_ID, PATH_MARGIN, PHARMACEUTICAL_TX_ADJUVANT, PROSPECTIVE_COLLECTION, RACE, RADIATION_TREATMENT_ADJUVANT, RETROSPECTIVE_COLLECTION, SAMPLE_COUNT, SEX, STAGING_SYSTEM, TUMOR_STATUS, BRACHYTHERAPY_TOTAL_DOSE_POINT_A, HISTOLOGICAL_SUBTYPE, METHOD_OF_INITIAL_SAMPLE_PROCUREMENT_OTHER, DAYS_TO_DEATH\"\n",
    "```"
   ]
  },
  {
   "cell_type": "markdown",
   "metadata": {},
   "source": [
    "Important to note: `DAYS_TO_INITIAL_PATHOLOGIC_DIAGNOSIS` is zero for all items, so the other `DAYS_TO_` attributes are presumably relative to the diagnosis time."
   ]
  },
  {
   "cell_type": "markdown",
   "metadata": {},
   "source": [
    "We should also check the correspondence between `OS_MONTHS`, `DAYS_TO_LAST_FOLLOWUP` and `DAYS_TO_DEATH`:"
   ]
  },
  {
   "cell_type": "code",
   "execution_count": 25,
   "metadata": {},
   "outputs": [
    {
     "name": "stdout",
     "output_type": "stream",
     "text": [
      "TCGA-LQ-A4E4: DAYS_TO_LAST_FOLLOWUP=484\n",
      "TCGA-LQ-A4E4: OS_MONTHS=27.89\n",
      "TCGA-LQ-A4E4: OS_STATUS=0:LIVING\n",
      "TCGA-A2-A3KC: DAYS_TO_LAST_FOLLOWUP=363\n",
      "TCGA-A2-A3KC: OS_MONTHS=36.2\n",
      "TCGA-A2-A3KC: OS_STATUS=0:LIVING\n",
      "TCGA-A2-A3KD: DAYS_TO_LAST_FOLLOWUP=804\n",
      "TCGA-A2-A3KD: OS_MONTHS=39.62\n",
      "TCGA-A2-A3KD: OS_STATUS=0:LIVING\n",
      "TCGA-A7-A0D9: DAYS_TO_LAST_FOLLOWUP=160\n",
      "TCGA-A7-A0D9: OS_MONTHS=37.42\n"
     ]
    }
   ],
   "source": [
    "counter = 0\n",
    "keys = Set([\"OS_MONTHS\", \"OS_STATUS\", \"DAYS_TO_LAST_FOLLOWUP\", \"DAYS_TO_DEATH\"])\n",
    "for c in response\n",
    "    if counter > 10\n",
    "        break\n",
    "    elseif c[\"clinicalAttributeId\"] in keys \n",
    "        println(\"$(c[\"patientId\"]): $(c[\"clinicalAttributeId\"])=$(c[\"value\"])\")\n",
    "        counter += 1\n",
    "    end\n",
    "end"
   ]
  },
  {
   "cell_type": "markdown",
   "metadata": {},
   "source": [
    "It's not really clear what the relationship between `OS_MONTHS` and `DAYS_TO_LAST_FOLLOWUP` is. On searching, this has been noticed and discussed before e.g. https://groups.google.com/g/cbioportal/c/KkpKUeRMR90 and https://www.biostars.org/p/122259/."
   ]
  },
  {
   "cell_type": "markdown",
   "metadata": {},
   "source": [
    "At any rate, let's write a function to accumulate the relevant information into a DataFrame:"
   ]
  },
  {
   "cell_type": "code",
   "execution_count": 26,
   "metadata": {},
   "outputs": [
    {
     "data": {
      "text/plain": [
       "preprocess_clinicaldata (generic function with 1 method)"
      ]
     },
     "execution_count": 26,
     "metadata": {},
     "output_type": "execute_result"
    }
   ],
   "source": [
    "function preprocess_clinicaldata(response)\n",
    "    \n",
    "    # Initialise df\n",
    "    patient_df = DataFrame(\n",
    "        PATIENT_ID=String[],\n",
    "        VITAL_STATUS=Union{String, Missing}[],\n",
    "        OS_STATUS=Union{String, Missing}[],\n",
    "        OS_MONTHS=Union{Float64, Missing}[],\n",
    "        DFS_STATUS=Union{String, Missing}[],\n",
    "        DFS_MONTHS=Union{Float64, Missing}[],\n",
    "        DAYS_TO_LAST_FOLLOWUP_OR_DEATH=Union{Float64, Missing}[],\n",
    "    )\n",
    "    \n",
    "    # Fill temp dict\n",
    "    patient_dict = Dict()\n",
    "    keys = Set([\"VITAL_STATUS\", \"OS_STATUS\", \"OS_MONTHS\", \"DFS_STATUS\", \"DFS_MONTHS\", \"DAYS_TO_LAST_FOLLOWUP\", \"DAYS_TO_DEATH\"])\n",
    "    floats = Set([\"OS_MONTHS\", \"DFS_MONTHS\", \"DAYS_TO_LAST_FOLLOWUP\", \"DAYS_TO_DEATH\"])\n",
    "    for object in response\n",
    "        clinical_attribute = object[\"clinicalAttributeId\"]\n",
    "        if clinical_attribute in keys\n",
    "            object_patient_id = object[\"patientId\"]\n",
    "            \n",
    "            if clinical_attribute in floats\n",
    "                value = parse(Float64, object[\"value\"])\n",
    "            else\n",
    "                value = object[\"value\"]\n",
    "            end\n",
    "            \n",
    "            if haskey(patient_dict, object_patient_id)\n",
    "                patient_dict[object_patient_id][clinical_attribute] = value\n",
    "            else\n",
    "                patient_dict[object_patient_id] = Dict{String, Any}(clinical_attribute => value)\n",
    "            end\n",
    "        end\n",
    "    end\n",
    "    \n",
    "    # Fill df\n",
    "    for (patient_id, attributes) in patient_dict\n",
    "        \n",
    "        if haskey(attributes, \"DAYS_TO_LAST_FOLLOWUP\")\n",
    "            days_to_last_followup_or_death = attributes[\"DAYS_TO_LAST_FOLLOWUP\"]\n",
    "        elseif haskey(attributes, \"DAYS_TO_DEATH\")\n",
    "            days_to_last_followup_or_death = attributes[\"DAYS_TO_DEATH\"]\n",
    "        else\n",
    "            days_to_last_followup_or_death = missing\n",
    "        end\n",
    "        \n",
    "        new_patient = [\n",
    "            patient_id,\n",
    "            get(attributes, \"VITAL_STATUS\", missing),\n",
    "            get(attributes, \"OS_STATUS\", missing),     \n",
    "            get(attributes, \"OS_MONTHS\", missing),  \n",
    "            get(attributes, \"DFS_STATUS\", missing),  \n",
    "            get(attributes, \"DFS_MONTHS\", missing),  \n",
    "            days_to_last_followup_or_death,  \n",
    "        ]\n",
    "        push!(patient_df, new_patient)\n",
    "    end\n",
    "    \n",
    "    # choose combination of status\n",
    "    df_os = dropmissing(patient_df[:, [:PATIENT_ID, :OS_STATUS, :OS_MONTHS]])\n",
    "    num_os = size(df_os)[1]\n",
    "    df_os_days = dropmissing(patient_df[:, [:PATIENT_ID, :OS_STATUS, :DAYS_TO_LAST_FOLLOWUP_OR_DEATH]])\n",
    "    num_os_days = size(df_os_days)[1]\n",
    "    df_dfs = dropmissing(patient_df[:, [:PATIENT_ID, :DFS_STATUS, :DFS_MONTHS]])\n",
    "    num_dfs = size(df_dfs)[1]\n",
    "    \n",
    "    \"Status of 0 indicates right-censor, 1 indicates event (e.g. death)\"\n",
    "    function tostatus(string)\n",
    "        if contains(string, \"0\")\n",
    "            return 0\n",
    "        elseif contains(string, \"1\")\n",
    "            return 1\n",
    "        else\n",
    "            throw(\"Unknown status string.\")\n",
    "        end\n",
    "    end\n",
    "    \n",
    "    most_data = max(num_os, num_os_days, num_dfs)\n",
    "    if num_os == most_data\n",
    "        status = tostatus.(df_os.OS_STATUS)\n",
    "        df_os.STATUS = status\n",
    "        rename!(df_os, :OS_MONTHS => :TIME)\n",
    "        return (df_os, \"Overall Survival\", \"MONTHS\")\n",
    "    elseif num_os_days == most_data\n",
    "        status = tostatus.(df_os_days.OS_STATUS)\n",
    "        df_os_days.STATUS = status\n",
    "        rename!(df_os_days, :DAYS_TO_LAST_FOLLOWUP_OR_DEATH => :TIME)\n",
    "        return (df_os_days, \"Overall Survival\", \"DAYS\")\n",
    "    elseif df_dfs == most_data\n",
    "        status = tostatus.(df_dfs.DFS_STATUS)\n",
    "        df_dfs.STATUS = status\n",
    "        rename!(df_dfs, :DFS_MONTHS => :TIME)\n",
    "        return (df_dfs, \"Disease-Free Survival\", \"MONTHS\")\n",
    "    end\n",
    "\n",
    "end"
   ]
  },
  {
   "cell_type": "markdown",
   "metadata": {},
   "source": [
    "This function has many failure modes if there is missing data. Assertions and exception handling will need to be added for the backend."
   ]
  },
  {
   "cell_type": "markdown",
   "metadata": {},
   "source": [
    "If it is successful, however, we should get the clinical data we need back in a neat DataFrame."
   ]
  },
  {
   "cell_type": "code",
   "execution_count": 27,
   "metadata": {},
   "outputs": [],
   "source": [
    "(preprocessed_clinical, clinical_outcome, clinical_time_units) = preprocess_clinicaldata(response);"
   ]
  },
  {
   "cell_type": "code",
   "execution_count": 28,
   "metadata": {},
   "outputs": [
    {
     "name": "stdout",
     "output_type": "stream",
     "text": [
      "Overall Survival, DAYS\n"
     ]
    }
   ],
   "source": [
    "println(\"$clinical_outcome, $clinical_time_units\")"
   ]
  },
  {
   "cell_type": "markdown",
   "metadata": {},
   "source": [
    "The status is given as an integer with 1 indicating an event, and 0 indicating a right censor."
   ]
  },
  {
   "cell_type": "code",
   "execution_count": 29,
   "metadata": {},
   "outputs": [
    {
     "data": {
      "text/html": [
       "<table class=\"data-frame\"><thead><tr><th></th><th>PATIENT_ID</th><th>OS_STATUS</th><th>TIME</th><th>STATUS</th></tr><tr><th></th><th>String</th><th>String</th><th>Float64</th><th>Int64</th></tr></thead><tbody><p>816 rows × 4 columns</p><tr><th>1</th><td>TCGA-B6-A0IE</td><td>1:DECEASED</td><td>1993.0</td><td>1</td></tr><tr><th>2</th><td>TCGA-E2-A15F</td><td>0:LIVING</td><td>469.0</td><td>0</td></tr><tr><th>3</th><td>TCGA-BH-A0WA</td><td>0:LIVING</td><td>372.0</td><td>0</td></tr><tr><th>4</th><td>TCGA-E2-A1LA</td><td>0:LIVING</td><td>463.0</td><td>0</td></tr><tr><th>5</th><td>TCGA-A2-A0CP</td><td>0:LIVING</td><td>2495.0</td><td>0</td></tr><tr><th>6</th><td>TCGA-B6-A0RG</td><td>0:LIVING</td><td>2082.0</td><td>0</td></tr><tr><th>7</th><td>TCGA-EW-A2FS</td><td>0:LIVING</td><td>1173.0</td><td>0</td></tr><tr><th>8</th><td>TCGA-A2-A0T5</td><td>0:LIVING</td><td>321.0</td><td>0</td></tr><tr><th>9</th><td>TCGA-A8-A09D</td><td>0:LIVING</td><td>396.0</td><td>0</td></tr><tr><th>10</th><td>TCGA-AC-A2QI</td><td>0:LIVING</td><td>28.0</td><td>0</td></tr><tr><th>11</th><td>TCGA-B6-A0WY</td><td>1:DECEASED</td><td>3461.0</td><td>1</td></tr><tr><th>12</th><td>TCGA-E9-A5UO</td><td>0:LIVING</td><td>7.0</td><td>0</td></tr><tr><th>13</th><td>TCGA-D8-A1X7</td><td>0:LIVING</td><td>85.0</td><td>0</td></tr><tr><th>14</th><td>TCGA-AN-A0FT</td><td>0:LIVING</td><td>183.0</td><td>0</td></tr><tr><th>15</th><td>TCGA-C8-A26V</td><td>0:LIVING</td><td>9.0</td><td>0</td></tr><tr><th>16</th><td>TCGA-BH-A18J</td><td>1:DECEASED</td><td>612.0</td><td>1</td></tr><tr><th>17</th><td>TCGA-A8-A09I</td><td>0:LIVING</td><td>1006.0</td><td>0</td></tr><tr><th>18</th><td>TCGA-C8-A3M7</td><td>1:DECEASED</td><td>1.0</td><td>1</td></tr><tr><th>19</th><td>TCGA-BH-A0W3</td><td>0:LIVING</td><td>180.0</td><td>0</td></tr><tr><th>20</th><td>TCGA-A8-A07W</td><td>0:LIVING</td><td>304.0</td><td>0</td></tr><tr><th>21</th><td>TCGA-E2-A10F</td><td>0:LIVING</td><td>360.0</td><td>0</td></tr><tr><th>22</th><td>TCGA-BH-A0EI</td><td>0:LIVING</td><td>743.0</td><td>0</td></tr><tr><th>23</th><td>TCGA-A2-A0D2</td><td>0:LIVING</td><td>761.0</td><td>0</td></tr><tr><th>24</th><td>TCGA-A2-A04W</td><td>0:LIVING</td><td>1918.0</td><td>0</td></tr><tr><th>25</th><td>TCGA-A2-A25C</td><td>0:LIVING</td><td>285.0</td><td>0</td></tr><tr><th>26</th><td>TCGA-A1-A0SK</td><td>1:DECEASED</td><td>967.0</td><td>1</td></tr><tr><th>27</th><td>TCGA-AQ-A0Y5</td><td>1:DECEASED</td><td>172.0</td><td>1</td></tr><tr><th>28</th><td>TCGA-E9-A248</td><td>0:LIVING</td><td>22.0</td><td>0</td></tr><tr><th>29</th><td>TCGA-A2-A0SX</td><td>0:LIVING</td><td>1288.0</td><td>0</td></tr><tr><th>30</th><td>TCGA-A2-A0T2</td><td>1:DECEASED</td><td>255.0</td><td>1</td></tr><tr><th>&vellip;</th><td>&vellip;</td><td>&vellip;</td><td>&vellip;</td><td>&vellip;</td></tr></tbody></table>"
      ],
      "text/latex": [
       "\\begin{tabular}{r|cccc}\n",
       "\t& PATIENT\\_ID & OS\\_STATUS & TIME & STATUS\\\\\n",
       "\t\\hline\n",
       "\t& String & String & Float64 & Int64\\\\\n",
       "\t\\hline\n",
       "\t1 & TCGA-B6-A0IE & 1:DECEASED & 1993.0 & 1 \\\\\n",
       "\t2 & TCGA-E2-A15F & 0:LIVING & 469.0 & 0 \\\\\n",
       "\t3 & TCGA-BH-A0WA & 0:LIVING & 372.0 & 0 \\\\\n",
       "\t4 & TCGA-E2-A1LA & 0:LIVING & 463.0 & 0 \\\\\n",
       "\t5 & TCGA-A2-A0CP & 0:LIVING & 2495.0 & 0 \\\\\n",
       "\t6 & TCGA-B6-A0RG & 0:LIVING & 2082.0 & 0 \\\\\n",
       "\t7 & TCGA-EW-A2FS & 0:LIVING & 1173.0 & 0 \\\\\n",
       "\t8 & TCGA-A2-A0T5 & 0:LIVING & 321.0 & 0 \\\\\n",
       "\t9 & TCGA-A8-A09D & 0:LIVING & 396.0 & 0 \\\\\n",
       "\t10 & TCGA-AC-A2QI & 0:LIVING & 28.0 & 0 \\\\\n",
       "\t11 & TCGA-B6-A0WY & 1:DECEASED & 3461.0 & 1 \\\\\n",
       "\t12 & TCGA-E9-A5UO & 0:LIVING & 7.0 & 0 \\\\\n",
       "\t13 & TCGA-D8-A1X7 & 0:LIVING & 85.0 & 0 \\\\\n",
       "\t14 & TCGA-AN-A0FT & 0:LIVING & 183.0 & 0 \\\\\n",
       "\t15 & TCGA-C8-A26V & 0:LIVING & 9.0 & 0 \\\\\n",
       "\t16 & TCGA-BH-A18J & 1:DECEASED & 612.0 & 1 \\\\\n",
       "\t17 & TCGA-A8-A09I & 0:LIVING & 1006.0 & 0 \\\\\n",
       "\t18 & TCGA-C8-A3M7 & 1:DECEASED & 1.0 & 1 \\\\\n",
       "\t19 & TCGA-BH-A0W3 & 0:LIVING & 180.0 & 0 \\\\\n",
       "\t20 & TCGA-A8-A07W & 0:LIVING & 304.0 & 0 \\\\\n",
       "\t21 & TCGA-E2-A10F & 0:LIVING & 360.0 & 0 \\\\\n",
       "\t22 & TCGA-BH-A0EI & 0:LIVING & 743.0 & 0 \\\\\n",
       "\t23 & TCGA-A2-A0D2 & 0:LIVING & 761.0 & 0 \\\\\n",
       "\t24 & TCGA-A2-A04W & 0:LIVING & 1918.0 & 0 \\\\\n",
       "\t25 & TCGA-A2-A25C & 0:LIVING & 285.0 & 0 \\\\\n",
       "\t26 & TCGA-A1-A0SK & 1:DECEASED & 967.0 & 1 \\\\\n",
       "\t27 & TCGA-AQ-A0Y5 & 1:DECEASED & 172.0 & 1 \\\\\n",
       "\t28 & TCGA-E9-A248 & 0:LIVING & 22.0 & 0 \\\\\n",
       "\t29 & TCGA-A2-A0SX & 0:LIVING & 1288.0 & 0 \\\\\n",
       "\t30 & TCGA-A2-A0T2 & 1:DECEASED & 255.0 & 1 \\\\\n",
       "\t$\\dots$ & $\\dots$ & $\\dots$ & $\\dots$ & $\\dots$ \\\\\n",
       "\\end{tabular}\n"
      ],
      "text/plain": [
       "816×4 DataFrame\n",
       "│ Row │ PATIENT_ID   │ OS_STATUS  │ TIME    │ STATUS │\n",
       "│     │ \u001b[90mString\u001b[39m       │ \u001b[90mString\u001b[39m     │ \u001b[90mFloat64\u001b[39m │ \u001b[90mInt64\u001b[39m  │\n",
       "├─────┼──────────────┼────────────┼─────────┼────────┤\n",
       "│ 1   │ TCGA-B6-A0IE │ 1:DECEASED │ 1993.0  │ 1      │\n",
       "│ 2   │ TCGA-E2-A15F │ 0:LIVING   │ 469.0   │ 0      │\n",
       "│ 3   │ TCGA-BH-A0WA │ 0:LIVING   │ 372.0   │ 0      │\n",
       "│ 4   │ TCGA-E2-A1LA │ 0:LIVING   │ 463.0   │ 0      │\n",
       "│ 5   │ TCGA-A2-A0CP │ 0:LIVING   │ 2495.0  │ 0      │\n",
       "│ 6   │ TCGA-B6-A0RG │ 0:LIVING   │ 2082.0  │ 0      │\n",
       "│ 7   │ TCGA-EW-A2FS │ 0:LIVING   │ 1173.0  │ 0      │\n",
       "│ 8   │ TCGA-A2-A0T5 │ 0:LIVING   │ 321.0   │ 0      │\n",
       "│ 9   │ TCGA-A8-A09D │ 0:LIVING   │ 396.0   │ 0      │\n",
       "│ 10  │ TCGA-AC-A2QI │ 0:LIVING   │ 28.0    │ 0      │\n",
       "⋮\n",
       "│ 806 │ TCGA-A2-A25E │ 0:LIVING   │ 2511.0  │ 0      │\n",
       "│ 807 │ TCGA-E9-A1NH │ 0:LIVING   │ 0.0     │ 0      │\n",
       "│ 808 │ TCGA-BH-A0DQ │ 0:LIVING   │ 98.0    │ 0      │\n",
       "│ 809 │ TCGA-E2-A2P5 │ 1:DECEASED │ 326.0   │ 1      │\n",
       "│ 810 │ TCGA-B6-A0RV │ 0:LIVING   │ 4788.0  │ 0      │\n",
       "│ 811 │ TCGA-E9-A22B │ 0:LIVING   │ 0.0     │ 0      │\n",
       "│ 812 │ TCGA-A7-A3RF │ 0:LIVING   │ 54.0    │ 0      │\n",
       "│ 813 │ TCGA-E9-A22A │ 0:LIVING   │ 0.0     │ 0      │\n",
       "│ 814 │ TCGA-E9-A249 │ 0:LIVING   │ 29.0    │ 0      │\n",
       "│ 815 │ TCGA-AC-A3TN │ 0:LIVING   │ 34.0    │ 0      │\n",
       "│ 816 │ TCGA-E2-A1B6 │ 0:LIVING   │ 338.0   │ 0      │"
      ]
     },
     "execution_count": 29,
     "metadata": {},
     "output_type": "execute_result"
    }
   ],
   "source": [
    "preprocessed_clinical"
   ]
  },
  {
   "cell_type": "markdown",
   "metadata": {},
   "source": [
    "### Gene Expression Data"
   ]
  },
  {
   "cell_type": "markdown",
   "metadata": {},
   "source": [
    "The molecular gene expression data is available at an endpoint resembling `/molecular-profiles/{molecularProfileId}/molecular-data`, though there is an extra level of indirection (and potential source of error) because we must get the molecular profile ID first for an appropriate mRNA expression measurement (which may or may not exist!)"
   ]
  },
  {
   "cell_type": "markdown",
   "metadata": {},
   "source": [
    "First a function to get the mRNA profiles:"
   ]
  },
  {
   "cell_type": "code",
   "execution_count": 30,
   "metadata": {},
   "outputs": [
    {
     "data": {
      "text/plain": [
       "get_molecularprofiles (generic function with 1 method)"
      ]
     },
     "execution_count": 30,
     "metadata": {},
     "output_type": "execute_result"
    }
   ],
   "source": [
    "function get_molecularprofiles(config)\n",
    "    return portal_request_get(\"/studies/$(config[\"study_id\"])/molecular-profiles\")\n",
    "end"
   ]
  },
  {
   "cell_type": "markdown",
   "metadata": {},
   "source": [
    "An example of one of the values in the resulting array:"
   ]
  },
  {
   "cell_type": "code",
   "execution_count": 31,
   "metadata": {},
   "outputs": [
    {
     "data": {
      "text/plain": [
       "Dict{String,Any} with 7 entries:\n",
       "  \"name\"                     => \"Protein expression (RPPA)\"\n",
       "  \"studyId\"                  => \"brca_tcga_pub2015\"\n",
       "  \"molecularProfileId\"       => \"brca_tcga_pub2015_protein_quantification\"\n",
       "  \"showProfileInAnalysisTab\" => false\n",
       "  \"datatype\"                 => \"CONTINUOUS\"\n",
       "  \"description\"              => \"Protein expression measured by reverse-phase p…\n",
       "  \"molecularAlterationType\"  => \"PROTEIN_LEVEL\""
      ]
     },
     "execution_count": 31,
     "metadata": {},
     "output_type": "execute_result"
    }
   ],
   "source": [
    "response = get_molecularprofiles(config)\n",
    "response[1]"
   ]
  },
  {
   "cell_type": "markdown",
   "metadata": {},
   "source": [
    "And of all the `molecularAlterationType` values for this particular study:"
   ]
  },
  {
   "cell_type": "code",
   "execution_count": 32,
   "metadata": {},
   "outputs": [
    {
     "data": {
      "text/plain": [
       "Set{String} with 5 elements:\n",
       "  \"MUTATION_EXTENDED\"\n",
       "  \"PROTEIN_LEVEL\"\n",
       "  \"MRNA_EXPRESSION\"\n",
       "  \"METHYLATION\"\n",
       "  \"COPY_NUMBER_ALTERATION\""
      ]
     },
     "execution_count": 32,
     "metadata": {},
     "output_type": "execute_result"
    }
   ],
   "source": [
    "Set([c[\"molecularAlterationType\"] for c in response])"
   ]
  },
  {
   "cell_type": "markdown",
   "metadata": {},
   "source": [
    "For now, we can limit ourselves to handling profiles of type `MRNA_EXPRESSION`. This study has the following profiles for this:"
   ]
  },
  {
   "cell_type": "code",
   "execution_count": 33,
   "metadata": {},
   "outputs": [
    {
     "data": {
      "text/plain": [
       "6-element Array{String,1}:\n",
       " \"mRNA expression (microarray): CONTINUOUS, ID: brca_tcga_pub2015_mrna\"\n",
       " \"mRNA expression z-Scores relative to diploid samples (microarray): Z-SCORE, ID: brca_tcga_pub2015_mrna_median_Zscores\"\n",
       " \"mRNA expression (RNA Seq V2 RSEM): CONTINUOUS, ID: brca_tcga_pub2015_rna_seq_v2_mrna\"\n",
       " \"mRNA expression z-Scores relative to diploid samples (RNA Seq V2 RSEM): Z-SCORE, ID: brca_tcga_pub2015_rna_seq_v2_mrna_median_Zscores\"\n",
       " \"mRNA expression z-Scores relative to all samples (log RNA Seq V2 RSEM): Z-SCORE, ID: brca_tcga_pub2015_rna_seq_v2_mrna_median_all_sample_Zscores\"\n",
       " \"mRNA expression z-Scores relative to all samples (log microarray): Z-SCORE, ID: brca_tcga_pub2015_mrna_median_all_sample_Zscores\""
      ]
     },
     "execution_count": 33,
     "metadata": {},
     "output_type": "execute_result"
    }
   ],
   "source": [
    "[\"\"\"$(c[\"name\"]): $(c[\"datatype\"]), ID: $(c[\"molecularProfileId\"])\"\"\" for c in response if c[\"molecularAlterationType\"] == \"MRNA_EXPRESSION\"]"
   ]
  },
  {
   "cell_type": "markdown",
   "metadata": {},
   "source": [
    "We should probably opt to choose a `Z-SCORE` expression type, or we could optionally leave it to the user (with a sensible default). Given the likely high variability of these amongst the studies, let's assume this was supplied by the config (and we'll only take Z-score profiles). We'll update our config JSON here."
   ]
  },
  {
   "cell_type": "code",
   "execution_count": 34,
   "metadata": {},
   "outputs": [
    {
     "data": {
      "text/plain": [
       "\"{ \\n    \\\"study_id\\\": \\\"brca_tcga_pub2015\\\", \\n    \\\"molecular_profile_id\\\": \\\"brca_tcga_pub2015_rna_seq_v2_mrna_median_Zscores\\\",\\n    \\\"genes\\\": [\\n        { \\\"hugo\\\": \\\"BRCA1\\\",\\n          \\\"entrez\\\": 672,\\n          \\\"side\\\": \\\"above\\\",\\n          \\\"zscore\\\": 1.0 },\\n        { \\\"hugo\\\": \\\"BRCA2\\\",\\n          \\\"entrez\\\": 675,\\n          \\\"side\\\": \\\"above\\\",\\n          \\\"zscore\\\": 1.0 }\\n    ]\\n}\\n\""
      ]
     },
     "execution_count": 34,
     "metadata": {},
     "output_type": "execute_result"
    }
   ],
   "source": [
    "config_json = \"\"\"\n",
    "{ \n",
    "    \"study_id\": \"brca_tcga_pub2015\", \n",
    "    \"molecular_profile_id\": \"brca_tcga_pub2015_rna_seq_v2_mrna_median_Zscores\",\n",
    "    \"genes\": [\n",
    "        { \"hugo\": \"BRCA1\",\n",
    "          \"entrez\": 672,\n",
    "          \"side\": \"above\",\n",
    "          \"zscore\": 1.0 },\n",
    "        { \"hugo\": \"BRCA2\",\n",
    "          \"entrez\": 675,\n",
    "          \"side\": \"above\",\n",
    "          \"zscore\": 1.0 }\n",
    "    ]\n",
    "}\n",
    "\"\"\""
   ]
  },
  {
   "cell_type": "code",
   "execution_count": 35,
   "metadata": {},
   "outputs": [
    {
     "data": {
      "text/plain": [
       "Dict{String,Any} with 3 entries:\n",
       "  \"molecular_profile_id\" => \"brca_tcga_pub2015_rna_seq_v2_mrna_median_Zscores\"\n",
       "  \"study_id\"             => \"brca_tcga_pub2015\"\n",
       "  \"genes\"                => Any[Dict{String,Any}(\"side\"=>\"above\",\"entrez\"=>672,…"
      ]
     },
     "execution_count": 35,
     "metadata": {},
     "output_type": "execute_result"
    }
   ],
   "source": [
    "config = parse_config(config_json)"
   ]
  },
  {
   "cell_type": "markdown",
   "metadata": {},
   "source": [
    "We can now retrieve the actual molecular data."
   ]
  },
  {
   "cell_type": "code",
   "execution_count": 36,
   "metadata": {},
   "outputs": [
    {
     "data": {
      "text/plain": [
       "get_moleculardata (generic function with 1 method)"
      ]
     },
     "execution_count": 36,
     "metadata": {},
     "output_type": "execute_result"
    }
   ],
   "source": [
    "function get_moleculardata(config)\n",
    "    body = Dict(\n",
    "        \"entrezGeneIds\" => [gene[\"entrez\"] for gene in config[\"genes\"]],\n",
    "        \"molecularProfileIds\" => [config[\"molecular_profile_id\"]]\n",
    "    )\n",
    "    return portal_request_post(\"/molecular-data/fetch\", body)\n",
    "end"
   ]
  },
  {
   "cell_type": "markdown",
   "metadata": {},
   "source": [
    "And an example of the output:"
   ]
  },
  {
   "cell_type": "code",
   "execution_count": 37,
   "metadata": {},
   "outputs": [
    {
     "data": {
      "text/plain": [
       "Dict{String,Any} with 8 entries:\n",
       "  \"sampleId\"           => \"TCGA-LQ-A4E4-01\"\n",
       "  \"uniqueSampleKey\"    => \"VENHQS1MUS1BNEU0LTAxOmJyY2FfdGNnYV9wdWIyMDE1\"\n",
       "  \"studyId\"            => \"brca_tcga_pub2015\"\n",
       "  \"entrezGeneId\"       => 672\n",
       "  \"patientId\"          => \"TCGA-LQ-A4E4\"\n",
       "  \"molecularProfileId\" => \"brca_tcga_pub2015_rna_seq_v2_mrna_median_Zscores\"\n",
       "  \"uniquePatientKey\"   => \"VENHQS1MUS1BNEU0OmJyY2FfdGNnYV9wdWIyMDE1\"\n",
       "  \"value\"              => -0.0364"
      ]
     },
     "execution_count": 37,
     "metadata": {},
     "output_type": "execute_result"
    }
   ],
   "source": [
    "response = get_moleculardata(config)\n",
    "response[1]"
   ]
  },
  {
   "cell_type": "markdown",
   "metadata": {},
   "source": [
    "Again, we need to preprocess this into a DataFrame, though hopefully it should be much simpler. It'd be easiest to preprocess this into a DataFrame with columns `PATIENT_ID`, `GROUP` (one of `CONTROL` or `TEST`) so we can join it with the clinical data. "
   ]
  },
  {
   "cell_type": "markdown",
   "metadata": {},
   "source": [
    "We can first aggregate the data into a DataFrame containing a `PATIENT_ID` column and columns corresponding to the value of each gene, and then allocate a group from there based on the configuration."
   ]
  },
  {
   "cell_type": "code",
   "execution_count": 38,
   "metadata": {},
   "outputs": [
    {
     "data": {
      "text/plain": [
       "preprocess_moleculardata (generic function with 1 method)"
      ]
     },
     "execution_count": 38,
     "metadata": {},
     "output_type": "execute_result"
    }
   ],
   "source": [
    "function preprocess_moleculardata(response, config)\n",
    "    # Initialise df\n",
    "    df = DataFrame(PATIENT_ID=String[])\n",
    "    for gene in config[\"genes\"]\n",
    "        df[:, string(gene[\"entrez\"])] = Union{Float64, Missing}[]\n",
    "    end\n",
    "\n",
    "    # Fill temp dict\n",
    "    dict = Dict()\n",
    "    for object in response\n",
    "        patient_id = object[\"patientId\"]\n",
    "        value = object[\"value\"]\n",
    "        entrez = object[\"entrezGeneId\"]\n",
    "        if haskey(dict, patient_id)\n",
    "            dict[patient_id][entrez] = value\n",
    "        else\n",
    "            dict[patient_id] = Dict(entrez => value)\n",
    "        end\n",
    "    end    \n",
    "\n",
    "    # Fill df\n",
    "    for (patient, values) in dict\n",
    "        new_patient::Array{Any} = [ patient ]\n",
    "        for gene in config[\"genes\"]\n",
    "            value = get(values, gene[\"entrez\"], missing)\n",
    "            push!(new_patient, value)\n",
    "        end\n",
    "        push!(df, new_patient)\n",
    "    end\n",
    "\n",
    "    dropmissing!(df)\n",
    "\n",
    "    # Group based on columns\n",
    "    # At the moment, a control is any case which is not a test. Maybe this needs to be symetrical though?\n",
    "    groups = []\n",
    "    for row in eachrow(df)\n",
    "        satisfied = []\n",
    "        for gene in config[\"genes\"]\n",
    "            entrez = string(gene[\"entrez\"])\n",
    "            if gene[\"side\"] == \"above\"\n",
    "                single_satisfy = row[entrez] >= gene[\"zscore\"]\n",
    "            elseif gene[\"side\"] == \"below\"\n",
    "                single_satisfy = row[entrez] <= gene[\"zscore\"]\n",
    "            end\n",
    "            push!(satisfied, single_satisfy)\n",
    "        end\n",
    "        if all(satisfied)\n",
    "            push!(groups, \"TEST\")\n",
    "        else\n",
    "            push!(groups, \"CONTROL\")\n",
    "        end\n",
    "    end\n",
    "    df.GROUP = groups\n",
    "    return df\n",
    "end"
   ]
  },
  {
   "cell_type": "code",
   "execution_count": 39,
   "metadata": {},
   "outputs": [
    {
     "data": {
      "text/html": [
       "<table class=\"data-frame\"><thead><tr><th></th><th>PATIENT_ID</th><th>672</th><th>675</th><th>GROUP</th></tr><tr><th></th><th>String</th><th>Float64</th><th>Float64</th><th>Any</th></tr></thead><tbody><p>817 rows × 4 columns</p><tr><th>1</th><td>TCGA-B6-A0IE</td><td>-1.2441</td><td>-1.0352</td><td>CONTROL</td></tr><tr><th>2</th><td>TCGA-E2-A15F</td><td>0.6242</td><td>0.7127</td><td>CONTROL</td></tr><tr><th>3</th><td>TCGA-BH-A0WA</td><td>-1.1785</td><td>1.6689</td><td>CONTROL</td></tr><tr><th>4</th><td>TCGA-E2-A1LA</td><td>0.4595</td><td>-1.2012</td><td>CONTROL</td></tr><tr><th>5</th><td>TCGA-A2-A0CP</td><td>-1.3196</td><td>-1.1093</td><td>CONTROL</td></tr><tr><th>6</th><td>TCGA-B6-A0RG</td><td>0.0707</td><td>-1.078</td><td>CONTROL</td></tr><tr><th>7</th><td>TCGA-EW-A2FS</td><td>-0.3513</td><td>-0.7424</td><td>CONTROL</td></tr><tr><th>8</th><td>TCGA-A2-A0T5</td><td>0.04</td><td>-0.4338</td><td>CONTROL</td></tr><tr><th>9</th><td>TCGA-A8-A09D</td><td>-0.911</td><td>-0.0314</td><td>CONTROL</td></tr><tr><th>10</th><td>TCGA-AC-A2QI</td><td>-0.813</td><td>-0.9856</td><td>CONTROL</td></tr><tr><th>11</th><td>TCGA-B6-A0WY</td><td>-0.7625</td><td>-0.5879</td><td>CONTROL</td></tr><tr><th>12</th><td>TCGA-E9-A5UO</td><td>2.6321</td><td>-0.2382</td><td>CONTROL</td></tr><tr><th>13</th><td>TCGA-D8-A1X7</td><td>0.7354</td><td>0.7039</td><td>CONTROL</td></tr><tr><th>14</th><td>TCGA-AN-A0FT</td><td>-1.0625</td><td>-0.8112</td><td>CONTROL</td></tr><tr><th>15</th><td>TCGA-C8-A26V</td><td>-0.5188</td><td>-0.0731</td><td>CONTROL</td></tr><tr><th>16</th><td>TCGA-BH-A18J</td><td>-0.4876</td><td>-0.2121</td><td>CONTROL</td></tr><tr><th>17</th><td>TCGA-A8-A09I</td><td>0.4462</td><td>2.412</td><td>CONTROL</td></tr><tr><th>18</th><td>TCGA-C8-A3M7</td><td>-0.8687</td><td>-0.325</td><td>CONTROL</td></tr><tr><th>19</th><td>TCGA-BH-A0W3</td><td>1.9688</td><td>0.8187</td><td>CONTROL</td></tr><tr><th>20</th><td>TCGA-A8-A07W</td><td>3.7171</td><td>0.7185</td><td>CONTROL</td></tr><tr><th>21</th><td>TCGA-E2-A10F</td><td>0.0737</td><td>0.1408</td><td>CONTROL</td></tr><tr><th>22</th><td>TCGA-BH-A0EI</td><td>0.0891</td><td>0.1996</td><td>CONTROL</td></tr><tr><th>23</th><td>TCGA-A2-A0D2</td><td>-1.3582</td><td>-0.5367</td><td>CONTROL</td></tr><tr><th>24</th><td>TCGA-A2-A04W</td><td>-1.2837</td><td>-0.3388</td><td>CONTROL</td></tr><tr><th>25</th><td>TCGA-A2-A25C</td><td>2.2914</td><td>0.2805</td><td>CONTROL</td></tr><tr><th>26</th><td>TCGA-A1-A0SK</td><td>2.953</td><td>4.5893</td><td>TEST</td></tr><tr><th>27</th><td>TCGA-AQ-A0Y5</td><td>-0.8576</td><td>-0.194</td><td>CONTROL</td></tr><tr><th>28</th><td>TCGA-E9-A248</td><td>2.6468</td><td>2.2828</td><td>TEST</td></tr><tr><th>29</th><td>TCGA-A2-A0SX</td><td>0.4313</td><td>2.343</td><td>CONTROL</td></tr><tr><th>30</th><td>TCGA-A2-A0T2</td><td>-1.1475</td><td>-1.0067</td><td>CONTROL</td></tr><tr><th>&vellip;</th><td>&vellip;</td><td>&vellip;</td><td>&vellip;</td><td>&vellip;</td></tr></tbody></table>"
      ],
      "text/latex": [
       "\\begin{tabular}{r|cccc}\n",
       "\t& PATIENT\\_ID & 672 & 675 & GROUP\\\\\n",
       "\t\\hline\n",
       "\t& String & Float64 & Float64 & Any\\\\\n",
       "\t\\hline\n",
       "\t1 & TCGA-B6-A0IE & -1.2441 & -1.0352 & CONTROL \\\\\n",
       "\t2 & TCGA-E2-A15F & 0.6242 & 0.7127 & CONTROL \\\\\n",
       "\t3 & TCGA-BH-A0WA & -1.1785 & 1.6689 & CONTROL \\\\\n",
       "\t4 & TCGA-E2-A1LA & 0.4595 & -1.2012 & CONTROL \\\\\n",
       "\t5 & TCGA-A2-A0CP & -1.3196 & -1.1093 & CONTROL \\\\\n",
       "\t6 & TCGA-B6-A0RG & 0.0707 & -1.078 & CONTROL \\\\\n",
       "\t7 & TCGA-EW-A2FS & -0.3513 & -0.7424 & CONTROL \\\\\n",
       "\t8 & TCGA-A2-A0T5 & 0.04 & -0.4338 & CONTROL \\\\\n",
       "\t9 & TCGA-A8-A09D & -0.911 & -0.0314 & CONTROL \\\\\n",
       "\t10 & TCGA-AC-A2QI & -0.813 & -0.9856 & CONTROL \\\\\n",
       "\t11 & TCGA-B6-A0WY & -0.7625 & -0.5879 & CONTROL \\\\\n",
       "\t12 & TCGA-E9-A5UO & 2.6321 & -0.2382 & CONTROL \\\\\n",
       "\t13 & TCGA-D8-A1X7 & 0.7354 & 0.7039 & CONTROL \\\\\n",
       "\t14 & TCGA-AN-A0FT & -1.0625 & -0.8112 & CONTROL \\\\\n",
       "\t15 & TCGA-C8-A26V & -0.5188 & -0.0731 & CONTROL \\\\\n",
       "\t16 & TCGA-BH-A18J & -0.4876 & -0.2121 & CONTROL \\\\\n",
       "\t17 & TCGA-A8-A09I & 0.4462 & 2.412 & CONTROL \\\\\n",
       "\t18 & TCGA-C8-A3M7 & -0.8687 & -0.325 & CONTROL \\\\\n",
       "\t19 & TCGA-BH-A0W3 & 1.9688 & 0.8187 & CONTROL \\\\\n",
       "\t20 & TCGA-A8-A07W & 3.7171 & 0.7185 & CONTROL \\\\\n",
       "\t21 & TCGA-E2-A10F & 0.0737 & 0.1408 & CONTROL \\\\\n",
       "\t22 & TCGA-BH-A0EI & 0.0891 & 0.1996 & CONTROL \\\\\n",
       "\t23 & TCGA-A2-A0D2 & -1.3582 & -0.5367 & CONTROL \\\\\n",
       "\t24 & TCGA-A2-A04W & -1.2837 & -0.3388 & CONTROL \\\\\n",
       "\t25 & TCGA-A2-A25C & 2.2914 & 0.2805 & CONTROL \\\\\n",
       "\t26 & TCGA-A1-A0SK & 2.953 & 4.5893 & TEST \\\\\n",
       "\t27 & TCGA-AQ-A0Y5 & -0.8576 & -0.194 & CONTROL \\\\\n",
       "\t28 & TCGA-E9-A248 & 2.6468 & 2.2828 & TEST \\\\\n",
       "\t29 & TCGA-A2-A0SX & 0.4313 & 2.343 & CONTROL \\\\\n",
       "\t30 & TCGA-A2-A0T2 & -1.1475 & -1.0067 & CONTROL \\\\\n",
       "\t$\\dots$ & $\\dots$ & $\\dots$ & $\\dots$ & $\\dots$ \\\\\n",
       "\\end{tabular}\n"
      ],
      "text/plain": [
       "817×4 DataFrame\n",
       "│ Row │ PATIENT_ID   │ 672     │ 675     │ GROUP   │\n",
       "│     │ \u001b[90mString\u001b[39m       │ \u001b[90mFloat64\u001b[39m │ \u001b[90mFloat64\u001b[39m │ \u001b[90mAny\u001b[39m     │\n",
       "├─────┼──────────────┼─────────┼─────────┼─────────┤\n",
       "│ 1   │ TCGA-B6-A0IE │ -1.2441 │ -1.0352 │ CONTROL │\n",
       "│ 2   │ TCGA-E2-A15F │ 0.6242  │ 0.7127  │ CONTROL │\n",
       "│ 3   │ TCGA-BH-A0WA │ -1.1785 │ 1.6689  │ CONTROL │\n",
       "│ 4   │ TCGA-E2-A1LA │ 0.4595  │ -1.2012 │ CONTROL │\n",
       "│ 5   │ TCGA-A2-A0CP │ -1.3196 │ -1.1093 │ CONTROL │\n",
       "│ 6   │ TCGA-B6-A0RG │ 0.0707  │ -1.078  │ CONTROL │\n",
       "│ 7   │ TCGA-EW-A2FS │ -0.3513 │ -0.7424 │ CONTROL │\n",
       "│ 8   │ TCGA-A2-A0T5 │ 0.04    │ -0.4338 │ CONTROL │\n",
       "│ 9   │ TCGA-A8-A09D │ -0.911  │ -0.0314 │ CONTROL │\n",
       "│ 10  │ TCGA-AC-A2QI │ -0.813  │ -0.9856 │ CONTROL │\n",
       "⋮\n",
       "│ 807 │ TCGA-A2-A25E │ 2.3401  │ -0.8457 │ CONTROL │\n",
       "│ 808 │ TCGA-E9-A1NH │ -1.159  │ -0.8049 │ CONTROL │\n",
       "│ 809 │ TCGA-BH-A0DQ │ 0.1008  │ -0.1012 │ CONTROL │\n",
       "│ 810 │ TCGA-E2-A2P5 │ -0.4329 │ -0.8227 │ CONTROL │\n",
       "│ 811 │ TCGA-B6-A0RV │ -0.8397 │ -0.3916 │ CONTROL │\n",
       "│ 812 │ TCGA-E9-A22B │ -0.3883 │ -0.5388 │ CONTROL │\n",
       "│ 813 │ TCGA-A7-A3RF │ -0.9401 │ -1.086  │ CONTROL │\n",
       "│ 814 │ TCGA-E9-A22A │ -0.8451 │ 0.1968  │ CONTROL │\n",
       "│ 815 │ TCGA-E9-A249 │ 1.0653  │ -0.3167 │ CONTROL │\n",
       "│ 816 │ TCGA-AC-A3TN │ -0.8728 │ -1.1693 │ CONTROL │\n",
       "│ 817 │ TCGA-E2-A1B6 │ -0.588  │ -0.3434 │ CONTROL │"
      ]
     },
     "execution_count": 39,
     "metadata": {},
     "output_type": "execute_result"
    }
   ],
   "source": [
    "preprocessed_molecular = preprocess_moleculardata(response, config)"
   ]
  },
  {
   "cell_type": "markdown",
   "metadata": {},
   "source": [
    "### Joining Data"
   ]
  },
  {
   "cell_type": "markdown",
   "metadata": {},
   "source": [
    "Now that we have data corresponding to survival events and patient groups, we can join the DataFrames and then split it into a test and control group."
   ]
  },
  {
   "cell_type": "code",
   "execution_count": 40,
   "metadata": {},
   "outputs": [
    {
     "data": {
      "text/plain": [
       "join_data (generic function with 1 method)"
      ]
     },
     "execution_count": 40,
     "metadata": {},
     "output_type": "execute_result"
    }
   ],
   "source": [
    "function join_data(clinicaldata, moleculardata)\n",
    "    joined = innerjoin(clinicaldata, moleculardata, on=:PATIENT_ID)\n",
    "    return joined\n",
    "end"
   ]
  },
  {
   "cell_type": "markdown",
   "metadata": {},
   "source": [
    "And an example:"
   ]
  },
  {
   "cell_type": "code",
   "execution_count": 41,
   "metadata": {},
   "outputs": [
    {
     "data": {
      "text/html": [
       "<table class=\"data-frame\"><thead><tr><th></th><th>PATIENT_ID</th><th>OS_STATUS</th><th>TIME</th><th>STATUS</th><th>672</th><th>675</th><th>GROUP</th></tr><tr><th></th><th>String</th><th>String</th><th>Float64</th><th>Int64</th><th>Float64</th><th>Float64</th><th>Any</th></tr></thead><tbody><p>816 rows × 7 columns</p><tr><th>1</th><td>TCGA-B6-A0IE</td><td>1:DECEASED</td><td>1993.0</td><td>1</td><td>-1.2441</td><td>-1.0352</td><td>CONTROL</td></tr><tr><th>2</th><td>TCGA-E2-A15F</td><td>0:LIVING</td><td>469.0</td><td>0</td><td>0.6242</td><td>0.7127</td><td>CONTROL</td></tr><tr><th>3</th><td>TCGA-BH-A0WA</td><td>0:LIVING</td><td>372.0</td><td>0</td><td>-1.1785</td><td>1.6689</td><td>CONTROL</td></tr><tr><th>4</th><td>TCGA-E2-A1LA</td><td>0:LIVING</td><td>463.0</td><td>0</td><td>0.4595</td><td>-1.2012</td><td>CONTROL</td></tr><tr><th>5</th><td>TCGA-A2-A0CP</td><td>0:LIVING</td><td>2495.0</td><td>0</td><td>-1.3196</td><td>-1.1093</td><td>CONTROL</td></tr><tr><th>6</th><td>TCGA-B6-A0RG</td><td>0:LIVING</td><td>2082.0</td><td>0</td><td>0.0707</td><td>-1.078</td><td>CONTROL</td></tr><tr><th>7</th><td>TCGA-EW-A2FS</td><td>0:LIVING</td><td>1173.0</td><td>0</td><td>-0.3513</td><td>-0.7424</td><td>CONTROL</td></tr><tr><th>8</th><td>TCGA-A2-A0T5</td><td>0:LIVING</td><td>321.0</td><td>0</td><td>0.04</td><td>-0.4338</td><td>CONTROL</td></tr><tr><th>9</th><td>TCGA-A8-A09D</td><td>0:LIVING</td><td>396.0</td><td>0</td><td>-0.911</td><td>-0.0314</td><td>CONTROL</td></tr><tr><th>10</th><td>TCGA-AC-A2QI</td><td>0:LIVING</td><td>28.0</td><td>0</td><td>-0.813</td><td>-0.9856</td><td>CONTROL</td></tr><tr><th>11</th><td>TCGA-B6-A0WY</td><td>1:DECEASED</td><td>3461.0</td><td>1</td><td>-0.7625</td><td>-0.5879</td><td>CONTROL</td></tr><tr><th>12</th><td>TCGA-E9-A5UO</td><td>0:LIVING</td><td>7.0</td><td>0</td><td>2.6321</td><td>-0.2382</td><td>CONTROL</td></tr><tr><th>13</th><td>TCGA-D8-A1X7</td><td>0:LIVING</td><td>85.0</td><td>0</td><td>0.7354</td><td>0.7039</td><td>CONTROL</td></tr><tr><th>14</th><td>TCGA-AN-A0FT</td><td>0:LIVING</td><td>183.0</td><td>0</td><td>-1.0625</td><td>-0.8112</td><td>CONTROL</td></tr><tr><th>15</th><td>TCGA-C8-A26V</td><td>0:LIVING</td><td>9.0</td><td>0</td><td>-0.5188</td><td>-0.0731</td><td>CONTROL</td></tr><tr><th>16</th><td>TCGA-BH-A18J</td><td>1:DECEASED</td><td>612.0</td><td>1</td><td>-0.4876</td><td>-0.2121</td><td>CONTROL</td></tr><tr><th>17</th><td>TCGA-A8-A09I</td><td>0:LIVING</td><td>1006.0</td><td>0</td><td>0.4462</td><td>2.412</td><td>CONTROL</td></tr><tr><th>18</th><td>TCGA-C8-A3M7</td><td>1:DECEASED</td><td>1.0</td><td>1</td><td>-0.8687</td><td>-0.325</td><td>CONTROL</td></tr><tr><th>19</th><td>TCGA-BH-A0W3</td><td>0:LIVING</td><td>180.0</td><td>0</td><td>1.9688</td><td>0.8187</td><td>CONTROL</td></tr><tr><th>20</th><td>TCGA-A8-A07W</td><td>0:LIVING</td><td>304.0</td><td>0</td><td>3.7171</td><td>0.7185</td><td>CONTROL</td></tr><tr><th>21</th><td>TCGA-E2-A10F</td><td>0:LIVING</td><td>360.0</td><td>0</td><td>0.0737</td><td>0.1408</td><td>CONTROL</td></tr><tr><th>22</th><td>TCGA-BH-A0EI</td><td>0:LIVING</td><td>743.0</td><td>0</td><td>0.0891</td><td>0.1996</td><td>CONTROL</td></tr><tr><th>23</th><td>TCGA-A2-A0D2</td><td>0:LIVING</td><td>761.0</td><td>0</td><td>-1.3582</td><td>-0.5367</td><td>CONTROL</td></tr><tr><th>24</th><td>TCGA-A2-A04W</td><td>0:LIVING</td><td>1918.0</td><td>0</td><td>-1.2837</td><td>-0.3388</td><td>CONTROL</td></tr><tr><th>25</th><td>TCGA-A2-A25C</td><td>0:LIVING</td><td>285.0</td><td>0</td><td>2.2914</td><td>0.2805</td><td>CONTROL</td></tr><tr><th>26</th><td>TCGA-A1-A0SK</td><td>1:DECEASED</td><td>967.0</td><td>1</td><td>2.953</td><td>4.5893</td><td>TEST</td></tr><tr><th>27</th><td>TCGA-AQ-A0Y5</td><td>1:DECEASED</td><td>172.0</td><td>1</td><td>-0.8576</td><td>-0.194</td><td>CONTROL</td></tr><tr><th>28</th><td>TCGA-E9-A248</td><td>0:LIVING</td><td>22.0</td><td>0</td><td>2.6468</td><td>2.2828</td><td>TEST</td></tr><tr><th>29</th><td>TCGA-A2-A0SX</td><td>0:LIVING</td><td>1288.0</td><td>0</td><td>0.4313</td><td>2.343</td><td>CONTROL</td></tr><tr><th>30</th><td>TCGA-A2-A0T2</td><td>1:DECEASED</td><td>255.0</td><td>1</td><td>-1.1475</td><td>-1.0067</td><td>CONTROL</td></tr><tr><th>&vellip;</th><td>&vellip;</td><td>&vellip;</td><td>&vellip;</td><td>&vellip;</td><td>&vellip;</td><td>&vellip;</td><td>&vellip;</td></tr></tbody></table>"
      ],
      "text/latex": [
       "\\begin{tabular}{r|ccccccc}\n",
       "\t& PATIENT\\_ID & OS\\_STATUS & TIME & STATUS & 672 & 675 & GROUP\\\\\n",
       "\t\\hline\n",
       "\t& String & String & Float64 & Int64 & Float64 & Float64 & Any\\\\\n",
       "\t\\hline\n",
       "\t1 & TCGA-B6-A0IE & 1:DECEASED & 1993.0 & 1 & -1.2441 & -1.0352 & CONTROL \\\\\n",
       "\t2 & TCGA-E2-A15F & 0:LIVING & 469.0 & 0 & 0.6242 & 0.7127 & CONTROL \\\\\n",
       "\t3 & TCGA-BH-A0WA & 0:LIVING & 372.0 & 0 & -1.1785 & 1.6689 & CONTROL \\\\\n",
       "\t4 & TCGA-E2-A1LA & 0:LIVING & 463.0 & 0 & 0.4595 & -1.2012 & CONTROL \\\\\n",
       "\t5 & TCGA-A2-A0CP & 0:LIVING & 2495.0 & 0 & -1.3196 & -1.1093 & CONTROL \\\\\n",
       "\t6 & TCGA-B6-A0RG & 0:LIVING & 2082.0 & 0 & 0.0707 & -1.078 & CONTROL \\\\\n",
       "\t7 & TCGA-EW-A2FS & 0:LIVING & 1173.0 & 0 & -0.3513 & -0.7424 & CONTROL \\\\\n",
       "\t8 & TCGA-A2-A0T5 & 0:LIVING & 321.0 & 0 & 0.04 & -0.4338 & CONTROL \\\\\n",
       "\t9 & TCGA-A8-A09D & 0:LIVING & 396.0 & 0 & -0.911 & -0.0314 & CONTROL \\\\\n",
       "\t10 & TCGA-AC-A2QI & 0:LIVING & 28.0 & 0 & -0.813 & -0.9856 & CONTROL \\\\\n",
       "\t11 & TCGA-B6-A0WY & 1:DECEASED & 3461.0 & 1 & -0.7625 & -0.5879 & CONTROL \\\\\n",
       "\t12 & TCGA-E9-A5UO & 0:LIVING & 7.0 & 0 & 2.6321 & -0.2382 & CONTROL \\\\\n",
       "\t13 & TCGA-D8-A1X7 & 0:LIVING & 85.0 & 0 & 0.7354 & 0.7039 & CONTROL \\\\\n",
       "\t14 & TCGA-AN-A0FT & 0:LIVING & 183.0 & 0 & -1.0625 & -0.8112 & CONTROL \\\\\n",
       "\t15 & TCGA-C8-A26V & 0:LIVING & 9.0 & 0 & -0.5188 & -0.0731 & CONTROL \\\\\n",
       "\t16 & TCGA-BH-A18J & 1:DECEASED & 612.0 & 1 & -0.4876 & -0.2121 & CONTROL \\\\\n",
       "\t17 & TCGA-A8-A09I & 0:LIVING & 1006.0 & 0 & 0.4462 & 2.412 & CONTROL \\\\\n",
       "\t18 & TCGA-C8-A3M7 & 1:DECEASED & 1.0 & 1 & -0.8687 & -0.325 & CONTROL \\\\\n",
       "\t19 & TCGA-BH-A0W3 & 0:LIVING & 180.0 & 0 & 1.9688 & 0.8187 & CONTROL \\\\\n",
       "\t20 & TCGA-A8-A07W & 0:LIVING & 304.0 & 0 & 3.7171 & 0.7185 & CONTROL \\\\\n",
       "\t21 & TCGA-E2-A10F & 0:LIVING & 360.0 & 0 & 0.0737 & 0.1408 & CONTROL \\\\\n",
       "\t22 & TCGA-BH-A0EI & 0:LIVING & 743.0 & 0 & 0.0891 & 0.1996 & CONTROL \\\\\n",
       "\t23 & TCGA-A2-A0D2 & 0:LIVING & 761.0 & 0 & -1.3582 & -0.5367 & CONTROL \\\\\n",
       "\t24 & TCGA-A2-A04W & 0:LIVING & 1918.0 & 0 & -1.2837 & -0.3388 & CONTROL \\\\\n",
       "\t25 & TCGA-A2-A25C & 0:LIVING & 285.0 & 0 & 2.2914 & 0.2805 & CONTROL \\\\\n",
       "\t26 & TCGA-A1-A0SK & 1:DECEASED & 967.0 & 1 & 2.953 & 4.5893 & TEST \\\\\n",
       "\t27 & TCGA-AQ-A0Y5 & 1:DECEASED & 172.0 & 1 & -0.8576 & -0.194 & CONTROL \\\\\n",
       "\t28 & TCGA-E9-A248 & 0:LIVING & 22.0 & 0 & 2.6468 & 2.2828 & TEST \\\\\n",
       "\t29 & TCGA-A2-A0SX & 0:LIVING & 1288.0 & 0 & 0.4313 & 2.343 & CONTROL \\\\\n",
       "\t30 & TCGA-A2-A0T2 & 1:DECEASED & 255.0 & 1 & -1.1475 & -1.0067 & CONTROL \\\\\n",
       "\t$\\dots$ & $\\dots$ & $\\dots$ & $\\dots$ & $\\dots$ & $\\dots$ & $\\dots$ & $\\dots$ \\\\\n",
       "\\end{tabular}\n"
      ],
      "text/plain": [
       "816×7 DataFrame. Omitted printing of 1 columns\n",
       "│ Row │ PATIENT_ID   │ OS_STATUS  │ TIME    │ STATUS │ 672     │ 675     │\n",
       "│     │ \u001b[90mString\u001b[39m       │ \u001b[90mString\u001b[39m     │ \u001b[90mFloat64\u001b[39m │ \u001b[90mInt64\u001b[39m  │ \u001b[90mFloat64\u001b[39m │ \u001b[90mFloat64\u001b[39m │\n",
       "├─────┼──────────────┼────────────┼─────────┼────────┼─────────┼─────────┤\n",
       "│ 1   │ TCGA-B6-A0IE │ 1:DECEASED │ 1993.0  │ 1      │ -1.2441 │ -1.0352 │\n",
       "│ 2   │ TCGA-E2-A15F │ 0:LIVING   │ 469.0   │ 0      │ 0.6242  │ 0.7127  │\n",
       "│ 3   │ TCGA-BH-A0WA │ 0:LIVING   │ 372.0   │ 0      │ -1.1785 │ 1.6689  │\n",
       "│ 4   │ TCGA-E2-A1LA │ 0:LIVING   │ 463.0   │ 0      │ 0.4595  │ -1.2012 │\n",
       "│ 5   │ TCGA-A2-A0CP │ 0:LIVING   │ 2495.0  │ 0      │ -1.3196 │ -1.1093 │\n",
       "│ 6   │ TCGA-B6-A0RG │ 0:LIVING   │ 2082.0  │ 0      │ 0.0707  │ -1.078  │\n",
       "│ 7   │ TCGA-EW-A2FS │ 0:LIVING   │ 1173.0  │ 0      │ -0.3513 │ -0.7424 │\n",
       "│ 8   │ TCGA-A2-A0T5 │ 0:LIVING   │ 321.0   │ 0      │ 0.04    │ -0.4338 │\n",
       "│ 9   │ TCGA-A8-A09D │ 0:LIVING   │ 396.0   │ 0      │ -0.911  │ -0.0314 │\n",
       "│ 10  │ TCGA-AC-A2QI │ 0:LIVING   │ 28.0    │ 0      │ -0.813  │ -0.9856 │\n",
       "⋮\n",
       "│ 806 │ TCGA-A2-A25E │ 0:LIVING   │ 2511.0  │ 0      │ 2.3401  │ -0.8457 │\n",
       "│ 807 │ TCGA-E9-A1NH │ 0:LIVING   │ 0.0     │ 0      │ -1.159  │ -0.8049 │\n",
       "│ 808 │ TCGA-BH-A0DQ │ 0:LIVING   │ 98.0    │ 0      │ 0.1008  │ -0.1012 │\n",
       "│ 809 │ TCGA-E2-A2P5 │ 1:DECEASED │ 326.0   │ 1      │ -0.4329 │ -0.8227 │\n",
       "│ 810 │ TCGA-B6-A0RV │ 0:LIVING   │ 4788.0  │ 0      │ -0.8397 │ -0.3916 │\n",
       "│ 811 │ TCGA-E9-A22B │ 0:LIVING   │ 0.0     │ 0      │ -0.3883 │ -0.5388 │\n",
       "│ 812 │ TCGA-A7-A3RF │ 0:LIVING   │ 54.0    │ 0      │ -0.9401 │ -1.086  │\n",
       "│ 813 │ TCGA-E9-A22A │ 0:LIVING   │ 0.0     │ 0      │ -0.8451 │ 0.1968  │\n",
       "│ 814 │ TCGA-E9-A249 │ 0:LIVING   │ 29.0    │ 0      │ 1.0653  │ -0.3167 │\n",
       "│ 815 │ TCGA-AC-A3TN │ 0:LIVING   │ 34.0    │ 0      │ -0.8728 │ -1.1693 │\n",
       "│ 816 │ TCGA-E2-A1B6 │ 0:LIVING   │ 338.0   │ 0      │ -0.588  │ -0.3434 │"
      ]
     },
     "execution_count": 41,
     "metadata": {},
     "output_type": "execute_result"
    }
   ],
   "source": [
    "joined = join_data(preprocessed_clinical, preprocessed_molecular)"
   ]
  },
  {
   "cell_type": "markdown",
   "metadata": {},
   "source": [
    "### Survival Analysis"
   ]
  },
  {
   "cell_type": "markdown",
   "metadata": {},
   "source": [
    "We can now use the `Survival.jl` package to perform the analysis."
   ]
  },
  {
   "cell_type": "markdown",
   "metadata": {},
   "source": [
    "First, the Kaplan Meier fit for each of the two groups:"
   ]
  },
  {
   "cell_type": "code",
   "execution_count": 42,
   "metadata": {},
   "outputs": [],
   "source": [
    "controls = joined[joined.GROUP .== \"CONTROL\", :]\n",
    "test = joined[joined.GROUP .== \"TEST\", :]\n",
    "\n",
    "km_control = fit(KaplanMeier, controls.TIME, controls.STATUS)\n",
    "km_test = fit(KaplanMeier, test.TIME, test.STATUS);"
   ]
  },
  {
   "cell_type": "markdown",
   "metadata": {},
   "source": [
    "This object contains the following attributes that might be useful to return to the frontend:\n",
    "\n",
    "1. `time` - time points to put on the x-axis.\n",
    "2. `survival` - survival as a percentage at each time point.\n",
    "3. `ncensor` - the number of censors at each time point.\n",
    "\n",
    "For plotting on the frontend, it'd probably be useful to return this in something like the following so the steps can be directly plotted as a step plot, and the censors can be directly plotted as an overlying scatter plot:\n",
    "\n",
    "```json\n",
    "\n",
    "{ \"control\": \n",
    " { \"steps\": \n",
    "  { \"times\": [...],\n",
    "    \"survival\": [...]\n",
    "  },\n",
    "   \"censors\": \n",
    "  { \"times\": [...],\n",
    "    \"survival\": [...]\n",
    "  }\n",
    " }\n",
    "}\n",
    "\n",
    "```"
   ]
  },
  {
   "cell_type": "code",
   "execution_count": 43,
   "metadata": {},
   "outputs": [
    {
     "data": {
      "text/plain": [
       "preprocess_km (generic function with 1 method)"
      ]
     },
     "execution_count": 43,
     "metadata": {},
     "output_type": "execute_result"
    }
   ],
   "source": [
    "function preprocess_km(km_fit)\n",
    "    # Steps\n",
    "    steps = Dict(\n",
    "        \"times\" => km_fit.times,\n",
    "        \"survival\" => km_fit.survival\n",
    "    )\n",
    "    \n",
    "    # Scatter\n",
    "    censor_times = []\n",
    "    censor_survival = []\n",
    "    for (i, censored) in enumerate(km_fit.ncensor)\n",
    "        if censored > 0 \n",
    "            push!(censor_times, km_fit.times[i])\n",
    "            push!(censor_survival, km_fit.survival[i])\n",
    "        end\n",
    "    end\n",
    "    censors = Dict(\n",
    "        \"times\" => censor_times,\n",
    "        \"survival\" => censor_survival\n",
    "    )\n",
    "    \n",
    "    # Aggregating\n",
    "    result = Dict(\n",
    "        \"steps\" => steps,\n",
    "        \"censors\" => censors\n",
    "    )\n",
    "    \n",
    "    return result\n",
    "end"
   ]
  },
  {
   "cell_type": "markdown",
   "metadata": {},
   "source": [
    "And defining a function to do it all:"
   ]
  },
  {
   "cell_type": "code",
   "execution_count": 44,
   "metadata": {},
   "outputs": [
    {
     "data": {
      "text/plain": [
       "perform_km (generic function with 1 method)"
      ]
     },
     "execution_count": 44,
     "metadata": {},
     "output_type": "execute_result"
    }
   ],
   "source": [
    "function perform_km(joined)\n",
    "    controls = joined[joined.GROUP .== \"CONTROL\", :]\n",
    "    test = joined[joined.GROUP .== \"TEST\", :]\n",
    "    \n",
    "    km_control = fit(KaplanMeier, controls.TIME, controls.STATUS)\n",
    "    km_test = fit(KaplanMeier, test.TIME, test.STATUS)\n",
    "    \n",
    "    km_results = Dict(\n",
    "        \"control\" => preprocess_km(km_control),\n",
    "        \"test\" => preprocess_km(km_test)\n",
    "        )\n",
    "    return km_results\n",
    "end"
   ]
  },
  {
   "cell_type": "code",
   "execution_count": 45,
   "metadata": {},
   "outputs": [
    {
     "data": {
      "text/plain": [
       "Dict{String,Dict{String,Dict{String,V} where V}} with 2 entries:\n",
       "  \"test\"    => Dict{String,Dict{String,V} where V}(\"censors\"=>Dict{String,Array…\n",
       "  \"control\" => Dict{String,Dict{String,V} where V}(\"censors\"=>Dict{String,Array…"
      ]
     },
     "execution_count": 45,
     "metadata": {},
     "output_type": "execute_result"
    }
   ],
   "source": [
    "km_results = perform_km(joined)"
   ]
  },
  {
   "cell_type": "markdown",
   "metadata": {},
   "source": [
    "And plotting the results:"
   ]
  },
  {
   "cell_type": "code",
   "execution_count": 46,
   "metadata": {},
   "outputs": [
    {
     "data": {
      "text/plain": [
       "to_sign (generic function with 1 method)"
      ]
     },
     "execution_count": 46,
     "metadata": {},
     "output_type": "execute_result"
    }
   ],
   "source": [
    "to_sign(string) = string == \"above\" ? \"≥\" : \"<\""
   ]
  },
  {
   "cell_type": "code",
   "execution_count": 47,
   "metadata": {},
   "outputs": [
    {
     "data": {
      "text/plain": [
       "make_title (generic function with 1 method)"
      ]
     },
     "execution_count": 47,
     "metadata": {},
     "output_type": "execute_result"
    }
   ],
   "source": [
    "function make_title(config)\n",
    "    accum = []\n",
    "    for g in config[\"genes\"]\n",
    "        push!(accum, g[\"hugo\"]*\":Z\"*to_sign(g[\"side\"])*string(g[\"zscore\"]))\n",
    "    end\n",
    "    return join(accum, \" & \")\n",
    "end"
   ]
  },
  {
   "cell_type": "code",
   "execution_count": 48,
   "metadata": {},
   "outputs": [
    {
     "data": {
      "text/plain": [
       "plot_km_results (generic function with 1 method)"
      ]
     },
     "execution_count": 48,
     "metadata": {},
     "output_type": "execute_result"
    }
   ],
   "source": [
    "function plot_km_results(km_results, config, clinical_outcome, clinical_time_units)\n",
    "    plot(km_results[\"control\"][\"steps\"][\"times\"], km_results[\"control\"][\"steps\"][\"survival\"], linetype=:steppost, label=\"All Remaining Cases\")\n",
    "    plot!(km_results[\"test\"][\"steps\"][\"times\"], km_results[\"test\"][\"steps\"][\"survival\"], linetype=:steppost, label=make_title(config))\n",
    "    title!(\"Kaplan-Meier Curve \\n $(config[\"molecular_profile_id\"])\")\n",
    "    ylabel!(\"Survival ($clinical_outcome)\")\n",
    "    xlabel!(\"Time ($(clinical_time_units))\")\n",
    "end"
   ]
  },
  {
   "cell_type": "code",
   "execution_count": 49,
   "metadata": {},
   "outputs": [
    {
     "data": {
      "image/svg+xml": [
       "<?xml version=\"1.0\" encoding=\"utf-8\"?>\n",
       "<svg xmlns=\"http://www.w3.org/2000/svg\" xmlns:xlink=\"http://www.w3.org/1999/xlink\" width=\"600\" height=\"400\" viewBox=\"0 0 2400 1600\">\n",
       "<defs>\n",
       "  <clipPath id=\"clip810\">\n",
       "    <rect x=\"0\" y=\"0\" width=\"2400\" height=\"1600\"/>\n",
       "  </clipPath>\n",
       "</defs>\n",
       "<path clip-path=\"url(#clip810)\" d=\"\n",
       "M0 1600 L2400 1600 L2400 0 L0 0  Z\n",
       "  \" fill=\"#ffffff\" fill-rule=\"evenodd\" fill-opacity=\"1\"/>\n",
       "<defs>\n",
       "  <clipPath id=\"clip811\">\n",
       "    <rect x=\"480\" y=\"0\" width=\"1681\" height=\"1600\"/>\n",
       "  </clipPath>\n",
       "</defs>\n",
       "<path clip-path=\"url(#clip810)\" d=\"\n",
       "M211.602 1423.18 L2352.76 1423.18 L2352.76 183.952 L211.602 183.952  Z\n",
       "  \" fill=\"#ffffff\" fill-rule=\"evenodd\" fill-opacity=\"1\"/>\n",
       "<defs>\n",
       "  <clipPath id=\"clip812\">\n",
       "    <rect x=\"211\" y=\"183\" width=\"2142\" height=\"1240\"/>\n",
       "  </clipPath>\n",
       "</defs>\n",
       "<polyline clip-path=\"url(#clip812)\" style=\"stroke:#000000; stroke-width:2; stroke-opacity:0.1; fill:none\" points=\"\n",
       "  274.2,1423.18 274.2,183.952 \n",
       "  \"/>\n",
       "<polyline clip-path=\"url(#clip812)\" style=\"stroke:#000000; stroke-width:2; stroke-opacity:0.1; fill:none\" points=\"\n",
       "  845.293,1423.18 845.293,183.952 \n",
       "  \"/>\n",
       "<polyline clip-path=\"url(#clip812)\" style=\"stroke:#000000; stroke-width:2; stroke-opacity:0.1; fill:none\" points=\"\n",
       "  1416.39,1423.18 1416.39,183.952 \n",
       "  \"/>\n",
       "<polyline clip-path=\"url(#clip812)\" style=\"stroke:#000000; stroke-width:2; stroke-opacity:0.1; fill:none\" points=\"\n",
       "  1987.48,1423.18 1987.48,183.952 \n",
       "  \"/>\n",
       "<polyline clip-path=\"url(#clip812)\" style=\"stroke:#000000; stroke-width:2; stroke-opacity:0.1; fill:none\" points=\"\n",
       "  211.602,1366.62 2352.76,1366.62 \n",
       "  \"/>\n",
       "<polyline clip-path=\"url(#clip812)\" style=\"stroke:#000000; stroke-width:2; stroke-opacity:0.1; fill:none\" points=\"\n",
       "  211.602,1079.72 2352.76,1079.72 \n",
       "  \"/>\n",
       "<polyline clip-path=\"url(#clip812)\" style=\"stroke:#000000; stroke-width:2; stroke-opacity:0.1; fill:none\" points=\"\n",
       "  211.602,792.824 2352.76,792.824 \n",
       "  \"/>\n",
       "<polyline clip-path=\"url(#clip812)\" style=\"stroke:#000000; stroke-width:2; stroke-opacity:0.1; fill:none\" points=\"\n",
       "  211.602,505.924 2352.76,505.924 \n",
       "  \"/>\n",
       "<polyline clip-path=\"url(#clip812)\" style=\"stroke:#000000; stroke-width:2; stroke-opacity:0.1; fill:none\" points=\"\n",
       "  211.602,219.025 2352.76,219.025 \n",
       "  \"/>\n",
       "<polyline clip-path=\"url(#clip810)\" style=\"stroke:#000000; stroke-width:4; stroke-opacity:1; fill:none\" points=\"\n",
       "  211.602,1423.18 2352.76,1423.18 \n",
       "  \"/>\n",
       "<polyline clip-path=\"url(#clip810)\" style=\"stroke:#000000; stroke-width:4; stroke-opacity:1; fill:none\" points=\"\n",
       "  211.602,1423.18 211.602,183.952 \n",
       "  \"/>\n",
       "<polyline clip-path=\"url(#clip810)\" style=\"stroke:#000000; stroke-width:4; stroke-opacity:1; fill:none\" points=\"\n",
       "  274.2,1423.18 274.2,1408.31 \n",
       "  \"/>\n",
       "<polyline clip-path=\"url(#clip810)\" style=\"stroke:#000000; stroke-width:4; stroke-opacity:1; fill:none\" points=\"\n",
       "  845.293,1423.18 845.293,1408.31 \n",
       "  \"/>\n",
       "<polyline clip-path=\"url(#clip810)\" style=\"stroke:#000000; stroke-width:4; stroke-opacity:1; fill:none\" points=\"\n",
       "  1416.39,1423.18 1416.39,1408.31 \n",
       "  \"/>\n",
       "<polyline clip-path=\"url(#clip810)\" style=\"stroke:#000000; stroke-width:4; stroke-opacity:1; fill:none\" points=\"\n",
       "  1987.48,1423.18 1987.48,1408.31 \n",
       "  \"/>\n",
       "<polyline clip-path=\"url(#clip810)\" style=\"stroke:#000000; stroke-width:4; stroke-opacity:1; fill:none\" points=\"\n",
       "  211.602,1366.62 237.296,1366.62 \n",
       "  \"/>\n",
       "<polyline clip-path=\"url(#clip810)\" style=\"stroke:#000000; stroke-width:4; stroke-opacity:1; fill:none\" points=\"\n",
       "  211.602,1079.72 237.296,1079.72 \n",
       "  \"/>\n",
       "<polyline clip-path=\"url(#clip810)\" style=\"stroke:#000000; stroke-width:4; stroke-opacity:1; fill:none\" points=\"\n",
       "  211.602,792.824 237.296,792.824 \n",
       "  \"/>\n",
       "<polyline clip-path=\"url(#clip810)\" style=\"stroke:#000000; stroke-width:4; stroke-opacity:1; fill:none\" points=\"\n",
       "  211.602,505.924 237.296,505.924 \n",
       "  \"/>\n",
       "<polyline clip-path=\"url(#clip810)\" style=\"stroke:#000000; stroke-width:4; stroke-opacity:1; fill:none\" points=\"\n",
       "  211.602,219.025 237.296,219.025 \n",
       "  \"/>\n",
       "<path clip-path=\"url(#clip810)\" d=\"M 0 0 M274.2 1445.17 Q270.589 1445.17 268.76 1448.74 Q266.955 1452.28 266.955 1459.41 Q266.955 1466.51 268.76 1470.08 Q270.589 1473.62 274.2 1473.62 Q277.834 1473.62 279.64 1470.08 Q281.468 1466.51 281.468 1459.41 Q281.468 1452.28 279.64 1448.74 Q277.834 1445.17 274.2 1445.17 M274.2 1441.47 Q280.01 1441.47 283.066 1446.07 Q286.144 1450.66 286.144 1459.41 Q286.144 1468.13 283.066 1472.74 Q280.01 1477.32 274.2 1477.32 Q268.39 1477.32 265.311 1472.74 Q262.256 1468.13 262.256 1459.41 Q262.256 1450.66 265.311 1446.07 Q268.39 1441.47 274.2 1441.47 Z\" fill=\"#000000\" fill-rule=\"evenodd\" fill-opacity=\"1\" /><path clip-path=\"url(#clip810)\" d=\"M 0 0 M799.425 1472.72 L815.745 1472.72 L815.745 1476.65 L793.8 1476.65 L793.8 1472.72 Q796.462 1469.96 801.046 1465.33 Q805.652 1460.68 806.833 1459.34 Q809.078 1456.81 809.958 1455.08 Q810.86 1453.32 810.86 1451.63 Q810.86 1448.87 808.916 1447.14 Q806.995 1445.4 803.893 1445.4 Q801.694 1445.4 799.24 1446.17 Q796.809 1446.93 794.032 1448.48 L794.032 1443.76 Q796.856 1442.62 799.309 1442.05 Q801.763 1441.47 803.8 1441.47 Q809.17 1441.47 812.365 1444.15 Q815.559 1446.84 815.559 1451.33 Q815.559 1453.46 814.749 1455.38 Q813.962 1457.28 811.856 1459.87 Q811.277 1460.54 808.175 1463.76 Q805.073 1466.95 799.425 1472.72 Z\" fill=\"#000000\" fill-rule=\"evenodd\" fill-opacity=\"1\" /><path clip-path=\"url(#clip810)\" d=\"M 0 0 M830.814 1445.17 Q827.203 1445.17 825.374 1448.74 Q823.569 1452.28 823.569 1459.41 Q823.569 1466.51 825.374 1470.08 Q827.203 1473.62 830.814 1473.62 Q834.448 1473.62 836.254 1470.08 Q838.082 1466.51 838.082 1459.41 Q838.082 1452.28 836.254 1448.74 Q834.448 1445.17 830.814 1445.17 M830.814 1441.47 Q836.624 1441.47 839.68 1446.07 Q842.758 1450.66 842.758 1459.41 Q842.758 1468.13 839.68 1472.74 Q836.624 1477.32 830.814 1477.32 Q825.004 1477.32 821.925 1472.74 Q818.87 1468.13 818.87 1459.41 Q818.87 1450.66 821.925 1446.07 Q825.004 1441.47 830.814 1441.47 Z\" fill=\"#000000\" fill-rule=\"evenodd\" fill-opacity=\"1\" /><path clip-path=\"url(#clip810)\" d=\"M 0 0 M857.828 1445.17 Q854.217 1445.17 852.388 1448.74 Q850.582 1452.28 850.582 1459.41 Q850.582 1466.51 852.388 1470.08 Q854.217 1473.62 857.828 1473.62 Q861.462 1473.62 863.267 1470.08 Q865.096 1466.51 865.096 1459.41 Q865.096 1452.28 863.267 1448.74 Q861.462 1445.17 857.828 1445.17 M857.828 1441.47 Q863.638 1441.47 866.693 1446.07 Q869.772 1450.66 869.772 1459.41 Q869.772 1468.13 866.693 1472.74 Q863.638 1477.32 857.828 1477.32 Q852.017 1477.32 848.939 1472.74 Q845.883 1468.13 845.883 1459.41 Q845.883 1450.66 848.939 1446.07 Q852.017 1441.47 857.828 1441.47 Z\" fill=\"#000000\" fill-rule=\"evenodd\" fill-opacity=\"1\" /><path clip-path=\"url(#clip810)\" d=\"M 0 0 M884.841 1445.17 Q881.23 1445.17 879.402 1448.74 Q877.596 1452.28 877.596 1459.41 Q877.596 1466.51 879.402 1470.08 Q881.23 1473.62 884.841 1473.62 Q888.476 1473.62 890.281 1470.08 Q892.11 1466.51 892.11 1459.41 Q892.11 1452.28 890.281 1448.74 Q888.476 1445.17 884.841 1445.17 M884.841 1441.47 Q890.652 1441.47 893.707 1446.07 Q896.786 1450.66 896.786 1459.41 Q896.786 1468.13 893.707 1472.74 Q890.652 1477.32 884.841 1477.32 Q879.031 1477.32 875.953 1472.74 Q872.897 1468.13 872.897 1459.41 Q872.897 1450.66 875.953 1446.07 Q879.031 1441.47 884.841 1441.47 Z\" fill=\"#000000\" fill-rule=\"evenodd\" fill-opacity=\"1\" /><path clip-path=\"url(#clip810)\" d=\"M 0 0 M1378.87 1446.17 L1367.07 1464.61 L1378.87 1464.61 L1378.87 1446.17 M1377.65 1442.09 L1383.53 1442.09 L1383.53 1464.61 L1388.46 1464.61 L1388.46 1468.5 L1383.53 1468.5 L1383.53 1476.65 L1378.87 1476.65 L1378.87 1468.5 L1363.27 1468.5 L1363.27 1463.99 L1377.65 1442.09 Z\" fill=\"#000000\" fill-rule=\"evenodd\" fill-opacity=\"1\" /><path clip-path=\"url(#clip810)\" d=\"M 0 0 M1403.53 1445.17 Q1399.92 1445.17 1398.09 1448.74 Q1396.28 1452.28 1396.28 1459.41 Q1396.28 1466.51 1398.09 1470.08 Q1399.92 1473.62 1403.53 1473.62 Q1407.16 1473.62 1408.97 1470.08 Q1410.8 1466.51 1410.8 1459.41 Q1410.8 1452.28 1408.97 1448.74 Q1407.16 1445.17 1403.53 1445.17 M1403.53 1441.47 Q1409.34 1441.47 1412.39 1446.07 Q1415.47 1450.66 1415.47 1459.41 Q1415.47 1468.13 1412.39 1472.74 Q1409.34 1477.32 1403.53 1477.32 Q1397.72 1477.32 1394.64 1472.74 Q1391.58 1468.13 1391.58 1459.41 Q1391.58 1450.66 1394.64 1446.07 Q1397.72 1441.47 1403.53 1441.47 Z\" fill=\"#000000\" fill-rule=\"evenodd\" fill-opacity=\"1\" /><path clip-path=\"url(#clip810)\" d=\"M 0 0 M1430.54 1445.17 Q1426.93 1445.17 1425.1 1448.74 Q1423.3 1452.28 1423.3 1459.41 Q1423.3 1466.51 1425.1 1470.08 Q1426.93 1473.62 1430.54 1473.62 Q1434.18 1473.62 1435.98 1470.08 Q1437.81 1466.51 1437.81 1459.41 Q1437.81 1452.28 1435.98 1448.74 Q1434.18 1445.17 1430.54 1445.17 M1430.54 1441.47 Q1436.35 1441.47 1439.41 1446.07 Q1442.49 1450.66 1442.49 1459.41 Q1442.49 1468.13 1439.41 1472.74 Q1436.35 1477.32 1430.54 1477.32 Q1424.73 1477.32 1421.65 1472.74 Q1418.6 1468.13 1418.6 1459.41 Q1418.6 1450.66 1421.65 1446.07 Q1424.73 1441.47 1430.54 1441.47 Z\" fill=\"#000000\" fill-rule=\"evenodd\" fill-opacity=\"1\" /><path clip-path=\"url(#clip810)\" d=\"M 0 0 M1457.55 1445.17 Q1453.94 1445.17 1452.12 1448.74 Q1450.31 1452.28 1450.31 1459.41 Q1450.31 1466.51 1452.12 1470.08 Q1453.94 1473.62 1457.55 1473.62 Q1461.19 1473.62 1462.99 1470.08 Q1464.82 1466.51 1464.82 1459.41 Q1464.82 1452.28 1462.99 1448.74 Q1461.19 1445.17 1457.55 1445.17 M1457.55 1441.47 Q1463.36 1441.47 1466.42 1446.07 Q1469.5 1450.66 1469.5 1459.41 Q1469.5 1468.13 1466.42 1472.74 Q1463.36 1477.32 1457.55 1477.32 Q1451.74 1477.32 1448.67 1472.74 Q1445.61 1468.13 1445.61 1459.41 Q1445.61 1450.66 1448.67 1446.07 Q1451.74 1441.47 1457.55 1441.47 Z\" fill=\"#000000\" fill-rule=\"evenodd\" fill-opacity=\"1\" /><path clip-path=\"url(#clip810)\" d=\"M 0 0 M1947.36 1457.51 Q1944.22 1457.51 1942.36 1459.66 Q1940.53 1461.81 1940.53 1465.56 Q1940.53 1469.29 1942.36 1471.47 Q1944.22 1473.62 1947.36 1473.62 Q1950.51 1473.62 1952.34 1471.47 Q1954.19 1469.29 1954.19 1465.56 Q1954.19 1461.81 1952.34 1459.66 Q1950.51 1457.51 1947.36 1457.51 M1956.65 1442.86 L1956.65 1447.11 Q1954.89 1446.28 1953.08 1445.84 Q1951.3 1445.4 1949.54 1445.4 Q1944.91 1445.4 1942.46 1448.53 Q1940.03 1451.65 1939.68 1457.97 Q1941.04 1455.96 1943.1 1454.89 Q1945.16 1453.8 1947.64 1453.8 Q1952.85 1453.8 1955.86 1456.98 Q1958.89 1460.12 1958.89 1465.56 Q1958.89 1470.89 1955.74 1474.11 Q1952.6 1477.32 1947.36 1477.32 Q1941.37 1477.32 1938.2 1472.74 Q1935.03 1468.13 1935.03 1459.41 Q1935.03 1451.21 1938.91 1446.35 Q1942.8 1441.47 1949.35 1441.47 Q1951.11 1441.47 1952.9 1441.81 Q1954.7 1442.16 1956.65 1442.86 Z\" fill=\"#000000\" fill-rule=\"evenodd\" fill-opacity=\"1\" /><path clip-path=\"url(#clip810)\" d=\"M 0 0 M1973.96 1445.17 Q1970.35 1445.17 1968.52 1448.74 Q1966.72 1452.28 1966.72 1459.41 Q1966.72 1466.51 1968.52 1470.08 Q1970.35 1473.62 1973.96 1473.62 Q1977.59 1473.62 1979.4 1470.08 Q1981.23 1466.51 1981.23 1459.41 Q1981.23 1452.28 1979.4 1448.74 Q1977.59 1445.17 1973.96 1445.17 M1973.96 1441.47 Q1979.77 1441.47 1982.83 1446.07 Q1985.91 1450.66 1985.91 1459.41 Q1985.91 1468.13 1982.83 1472.74 Q1979.77 1477.32 1973.96 1477.32 Q1968.15 1477.32 1965.07 1472.74 Q1962.02 1468.13 1962.02 1459.41 Q1962.02 1450.66 1965.07 1446.07 Q1968.15 1441.47 1973.96 1441.47 Z\" fill=\"#000000\" fill-rule=\"evenodd\" fill-opacity=\"1\" /><path clip-path=\"url(#clip810)\" d=\"M 0 0 M2000.97 1445.17 Q1997.36 1445.17 1995.53 1448.74 Q1993.73 1452.28 1993.73 1459.41 Q1993.73 1466.51 1995.53 1470.08 Q1997.36 1473.62 2000.97 1473.62 Q2004.61 1473.62 2006.41 1470.08 Q2008.24 1466.51 2008.24 1459.41 Q2008.24 1452.28 2006.41 1448.74 Q2004.61 1445.17 2000.97 1445.17 M2000.97 1441.47 Q2006.78 1441.47 2009.84 1446.07 Q2012.92 1450.66 2012.92 1459.41 Q2012.92 1468.13 2009.84 1472.74 Q2006.78 1477.32 2000.97 1477.32 Q1995.16 1477.32 1992.09 1472.74 Q1989.03 1468.13 1989.03 1459.41 Q1989.03 1450.66 1992.09 1446.07 Q1995.16 1441.47 2000.97 1441.47 Z\" fill=\"#000000\" fill-rule=\"evenodd\" fill-opacity=\"1\" /><path clip-path=\"url(#clip810)\" d=\"M 0 0 M2027.99 1445.17 Q2024.38 1445.17 2022.55 1448.74 Q2020.74 1452.28 2020.74 1459.41 Q2020.74 1466.51 2022.55 1470.08 Q2024.38 1473.62 2027.99 1473.62 Q2031.62 1473.62 2033.43 1470.08 Q2035.26 1466.51 2035.26 1459.41 Q2035.26 1452.28 2033.43 1448.74 Q2031.62 1445.17 2027.99 1445.17 M2027.99 1441.47 Q2033.8 1441.47 2036.85 1446.07 Q2039.93 1450.66 2039.93 1459.41 Q2039.93 1468.13 2036.85 1472.74 Q2033.8 1477.32 2027.99 1477.32 Q2022.18 1477.32 2019.1 1472.74 Q2016.04 1468.13 2016.04 1459.41 Q2016.04 1450.66 2019.1 1446.07 Q2022.18 1441.47 2027.99 1441.47 Z\" fill=\"#000000\" fill-rule=\"evenodd\" fill-opacity=\"1\" /><path clip-path=\"url(#clip810)\" d=\"M 0 0 M140.288 1352.42 Q136.677 1352.42 134.848 1355.99 Q133.043 1359.53 133.043 1366.66 Q133.043 1373.76 134.848 1377.33 Q136.677 1380.87 140.288 1380.87 Q143.922 1380.87 145.728 1377.33 Q147.556 1373.76 147.556 1366.66 Q147.556 1359.53 145.728 1355.99 Q143.922 1352.42 140.288 1352.42 M140.288 1348.72 Q146.098 1348.72 149.154 1353.32 Q152.232 1357.91 152.232 1366.66 Q152.232 1375.38 149.154 1379.99 Q146.098 1384.57 140.288 1384.57 Q134.478 1384.57 131.399 1379.99 Q128.343 1375.38 128.343 1366.66 Q128.343 1357.91 131.399 1353.32 Q134.478 1348.72 140.288 1348.72 Z\" fill=\"#000000\" fill-rule=\"evenodd\" fill-opacity=\"1\" /><path clip-path=\"url(#clip810)\" d=\"M 0 0 M157.302 1378.02 L162.186 1378.02 L162.186 1383.9 L157.302 1383.9 L157.302 1378.02 Z\" fill=\"#000000\" fill-rule=\"evenodd\" fill-opacity=\"1\" /><path clip-path=\"url(#clip810)\" d=\"M 0 0 M171.283 1379.97 L187.602 1379.97 L187.602 1383.9 L165.658 1383.9 L165.658 1379.97 Q168.32 1377.21 172.903 1372.58 Q177.51 1367.93 178.69 1366.59 Q180.936 1364.06 181.815 1362.33 Q182.718 1360.57 182.718 1358.88 Q182.718 1356.13 180.774 1354.39 Q178.852 1352.65 175.751 1352.65 Q173.552 1352.65 171.098 1353.42 Q168.667 1354.18 165.89 1355.73 L165.89 1351.01 Q168.714 1349.88 171.167 1349.3 Q173.621 1348.72 175.658 1348.72 Q181.028 1348.72 184.223 1351.4 Q187.417 1354.09 187.417 1358.58 Q187.417 1360.71 186.607 1362.63 Q185.82 1364.53 183.714 1367.12 Q183.135 1367.79 180.033 1371.01 Q176.931 1374.2 171.283 1379.97 Z\" fill=\"#000000\" fill-rule=\"evenodd\" fill-opacity=\"1\" /><path clip-path=\"url(#clip810)\" d=\"M 0 0 M138.205 1065.52 Q134.593 1065.52 132.765 1069.09 Q130.959 1072.63 130.959 1079.76 Q130.959 1086.86 132.765 1090.43 Q134.593 1093.97 138.205 1093.97 Q141.839 1093.97 143.644 1090.43 Q145.473 1086.86 145.473 1079.76 Q145.473 1072.63 143.644 1069.09 Q141.839 1065.52 138.205 1065.52 M138.205 1061.82 Q144.015 1061.82 147.07 1066.42 Q150.149 1071.01 150.149 1079.76 Q150.149 1088.48 147.07 1093.09 Q144.015 1097.67 138.205 1097.67 Q132.394 1097.67 129.316 1093.09 Q126.26 1088.48 126.26 1079.76 Q126.26 1071.01 129.316 1066.42 Q132.394 1061.82 138.205 1061.82 Z\" fill=\"#000000\" fill-rule=\"evenodd\" fill-opacity=\"1\" /><path clip-path=\"url(#clip810)\" d=\"M 0 0 M155.218 1091.12 L160.103 1091.12 L160.103 1097 L155.218 1097 L155.218 1091.12 Z\" fill=\"#000000\" fill-rule=\"evenodd\" fill-opacity=\"1\" /><path clip-path=\"url(#clip810)\" d=\"M 0 0 M178.019 1066.52 L166.214 1084.97 L178.019 1084.97 L178.019 1066.52 M176.792 1062.44 L182.672 1062.44 L182.672 1084.97 L187.602 1084.97 L187.602 1088.86 L182.672 1088.86 L182.672 1097 L178.019 1097 L178.019 1088.86 L162.417 1088.86 L162.417 1084.34 L176.792 1062.44 Z\" fill=\"#000000\" fill-rule=\"evenodd\" fill-opacity=\"1\" /><path clip-path=\"url(#clip810)\" d=\"M 0 0 M138.529 778.622 Q134.918 778.622 133.089 782.187 Q131.283 785.729 131.283 792.858 Q131.283 799.965 133.089 803.53 Q134.918 807.071 138.529 807.071 Q142.163 807.071 143.968 803.53 Q145.797 799.965 145.797 792.858 Q145.797 785.729 143.968 782.187 Q142.163 778.622 138.529 778.622 M138.529 774.919 Q144.339 774.919 147.394 779.525 Q150.473 784.108 150.473 792.858 Q150.473 801.585 147.394 806.192 Q144.339 810.775 138.529 810.775 Q132.718 810.775 129.64 806.192 Q126.584 801.585 126.584 792.858 Q126.584 784.108 129.64 779.525 Q132.718 774.919 138.529 774.919 Z\" fill=\"#000000\" fill-rule=\"evenodd\" fill-opacity=\"1\" /><path clip-path=\"url(#clip810)\" d=\"M 0 0 M155.542 804.224 L160.427 804.224 L160.427 810.104 L155.542 810.104 L155.542 804.224 Z\" fill=\"#000000\" fill-rule=\"evenodd\" fill-opacity=\"1\" /><path clip-path=\"url(#clip810)\" d=\"M 0 0 M176.075 790.96 Q172.927 790.96 171.075 793.113 Q169.246 795.266 169.246 799.016 Q169.246 802.743 171.075 804.919 Q172.927 807.071 176.075 807.071 Q179.223 807.071 181.052 804.919 Q182.903 802.743 182.903 799.016 Q182.903 795.266 181.052 793.113 Q179.223 790.96 176.075 790.96 M185.357 776.308 L185.357 780.567 Q183.598 779.734 181.792 779.294 Q180.01 778.854 178.251 778.854 Q173.621 778.854 171.167 781.979 Q168.737 785.104 168.39 791.423 Q169.755 789.409 171.815 788.345 Q173.876 787.257 176.352 787.257 Q181.561 787.257 184.57 790.428 Q187.602 793.576 187.602 799.016 Q187.602 804.34 184.454 807.557 Q181.306 810.775 176.075 810.775 Q170.079 810.775 166.908 806.192 Q163.737 801.585 163.737 792.858 Q163.737 784.664 167.626 779.803 Q171.515 774.919 178.065 774.919 Q179.825 774.919 181.607 775.266 Q183.413 775.613 185.357 776.308 Z\" fill=\"#000000\" fill-rule=\"evenodd\" fill-opacity=\"1\" /><path clip-path=\"url(#clip810)\" d=\"M 0 0 M138.783 491.723 Q135.172 491.723 133.343 495.288 Q131.538 498.829 131.538 505.959 Q131.538 513.065 133.343 516.63 Q135.172 520.172 138.783 520.172 Q142.417 520.172 144.223 516.63 Q146.052 513.065 146.052 505.959 Q146.052 498.829 144.223 495.288 Q142.417 491.723 138.783 491.723 M138.783 488.019 Q144.593 488.019 147.649 492.626 Q150.728 497.209 150.728 505.959 Q150.728 514.686 147.649 519.292 Q144.593 523.875 138.783 523.875 Q132.973 523.875 129.894 519.292 Q126.839 514.686 126.839 505.959 Q126.839 497.209 129.894 492.626 Q132.973 488.019 138.783 488.019 Z\" fill=\"#000000\" fill-rule=\"evenodd\" fill-opacity=\"1\" /><path clip-path=\"url(#clip810)\" d=\"M 0 0 M155.797 517.325 L160.681 517.325 L160.681 523.204 L155.797 523.204 L155.797 517.325 Z\" fill=\"#000000\" fill-rule=\"evenodd\" fill-opacity=\"1\" /><path clip-path=\"url(#clip810)\" d=\"M 0 0 M175.751 506.792 Q172.417 506.792 170.496 508.575 Q168.598 510.357 168.598 513.482 Q168.598 516.607 170.496 518.389 Q172.417 520.172 175.751 520.172 Q179.084 520.172 181.005 518.389 Q182.927 516.584 182.927 513.482 Q182.927 510.357 181.005 508.575 Q179.107 506.792 175.751 506.792 M171.075 504.801 Q168.065 504.061 166.376 502.001 Q164.709 499.94 164.709 496.977 Q164.709 492.834 167.649 490.427 Q170.612 488.019 175.751 488.019 Q180.913 488.019 183.852 490.427 Q186.792 492.834 186.792 496.977 Q186.792 499.94 185.102 502.001 Q183.436 504.061 180.45 504.801 Q183.829 505.589 185.704 507.88 Q187.602 510.172 187.602 513.482 Q187.602 518.505 184.524 521.19 Q181.468 523.875 175.751 523.875 Q170.033 523.875 166.954 521.19 Q163.899 518.505 163.899 513.482 Q163.899 510.172 165.797 507.88 Q167.695 505.589 171.075 504.801 M169.362 497.417 Q169.362 500.102 171.028 501.607 Q172.718 503.112 175.751 503.112 Q178.76 503.112 180.45 501.607 Q182.163 500.102 182.163 497.417 Q182.163 494.732 180.45 493.227 Q178.76 491.723 175.751 491.723 Q172.718 491.723 171.028 493.227 Q169.362 494.732 169.362 497.417 Z\" fill=\"#000000\" fill-rule=\"evenodd\" fill-opacity=\"1\" /><path clip-path=\"url(#clip810)\" d=\"M 0 0 M130.728 232.369 L138.367 232.369 L138.367 206.004 L130.056 207.671 L130.056 203.411 L138.32 201.745 L142.996 201.745 L142.996 232.369 L150.635 232.369 L150.635 236.305 L130.728 236.305 L130.728 232.369 Z\" fill=\"#000000\" fill-rule=\"evenodd\" fill-opacity=\"1\" /><path clip-path=\"url(#clip810)\" d=\"M 0 0 M155.704 230.425 L160.589 230.425 L160.589 236.305 L155.704 236.305 L155.704 230.425 Z\" fill=\"#000000\" fill-rule=\"evenodd\" fill-opacity=\"1\" /><path clip-path=\"url(#clip810)\" d=\"M 0 0 M175.658 204.823 Q172.047 204.823 170.218 208.388 Q168.413 211.93 168.413 219.059 Q168.413 226.166 170.218 229.731 Q172.047 233.272 175.658 233.272 Q179.292 233.272 181.098 229.731 Q182.927 226.166 182.927 219.059 Q182.927 211.93 181.098 208.388 Q179.292 204.823 175.658 204.823 M175.658 201.12 Q181.468 201.12 184.524 205.726 Q187.602 210.309 187.602 219.059 Q187.602 227.786 184.524 232.393 Q181.468 236.976 175.658 236.976 Q169.848 236.976 166.769 232.393 Q163.714 227.786 163.714 219.059 Q163.714 210.309 166.769 205.726 Q169.848 201.12 175.658 201.12 Z\" fill=\"#000000\" fill-rule=\"evenodd\" fill-opacity=\"1\" /><path clip-path=\"url(#clip810)\" d=\"M 0 0 M905.85 12.096 L914.033 12.096 L914.033 37.6572 L941.174 12.096 L951.706 12.096 L921.689 40.2903 L953.853 72.576 L943.078 72.576 L914.033 43.45 L914.033 72.576 L905.85 72.576 L905.85 12.096 Z\" fill=\"#000000\" fill-rule=\"evenodd\" fill-opacity=\"1\" /><path clip-path=\"url(#clip810)\" d=\"M 0 0 M980.832 49.7694 Q971.799 49.7694 968.315 51.8354 Q964.831 53.9013 964.831 58.8839 Q964.831 62.8538 967.424 65.2034 Q970.057 67.5124 974.553 67.5124 Q980.751 67.5124 984.478 63.1374 Q988.246 58.7219 988.246 51.4303 L988.246 49.7694 L980.832 49.7694 M995.699 46.6907 L995.699 72.576 L988.246 72.576 L988.246 65.6895 Q985.693 69.8214 981.886 71.8063 Q978.078 73.7508 972.569 73.7508 Q965.601 73.7508 961.469 69.8619 Q957.378 65.9325 957.378 59.3701 Q957.378 51.7138 962.482 47.825 Q967.626 43.9361 977.794 43.9361 L988.246 43.9361 L988.246 43.2069 Q988.246 38.0623 984.843 35.2672 Q981.481 32.4315 975.364 32.4315 Q971.475 32.4315 967.788 33.3632 Q964.102 34.295 960.699 36.1584 L960.699 29.2718 Q964.791 27.692 968.639 26.9223 Q972.488 26.1121 976.133 26.1121 Q985.977 26.1121 990.838 31.2163 Q995.699 36.3204 995.699 46.6907 Z\" fill=\"#000000\" fill-rule=\"evenodd\" fill-opacity=\"1\" /><path clip-path=\"url(#clip810)\" d=\"M 0 0 M1010.73 65.7705 L1010.73 89.8329 L1003.23 89.8329 L1003.23 27.2059 L1010.73 27.2059 L1010.73 34.0924 Q1013.08 30.0415 1016.64 28.0971 Q1020.25 26.1121 1025.23 26.1121 Q1033.49 26.1121 1038.64 32.6746 Q1043.82 39.2371 1043.82 49.9314 Q1043.82 60.6258 1038.64 67.1883 Q1033.49 73.7508 1025.23 73.7508 Q1020.25 73.7508 1016.64 71.8063 Q1013.08 69.8214 1010.73 65.7705 M1036.09 49.9314 Q1036.09 41.7081 1032.68 37.0496 Q1029.32 32.3505 1023.41 32.3505 Q1017.49 32.3505 1014.09 37.0496 Q1010.73 41.7081 1010.73 49.9314 Q1010.73 58.1548 1014.09 62.8538 Q1017.49 67.5124 1023.41 67.5124 Q1029.32 67.5124 1032.68 62.8538 Q1036.09 58.1548 1036.09 49.9314 Z\" fill=\"#000000\" fill-rule=\"evenodd\" fill-opacity=\"1\" /><path clip-path=\"url(#clip810)\" d=\"M 0 0 M1051.64 9.54393 L1059.1 9.54393 L1059.1 72.576 L1051.64 72.576 L1051.64 9.54393 Z\" fill=\"#000000\" fill-rule=\"evenodd\" fill-opacity=\"1\" /><path clip-path=\"url(#clip810)\" d=\"M 0 0 M1087.53 49.7694 Q1078.5 49.7694 1075.02 51.8354 Q1071.53 53.9013 1071.53 58.8839 Q1071.53 62.8538 1074.12 65.2034 Q1076.76 67.5124 1081.25 67.5124 Q1087.45 67.5124 1091.18 63.1374 Q1094.95 58.7219 1094.95 51.4303 L1094.95 49.7694 L1087.53 49.7694 M1102.4 46.6907 L1102.4 72.576 L1094.95 72.576 L1094.95 65.6895 Q1092.39 69.8214 1088.59 71.8063 Q1084.78 73.7508 1079.27 73.7508 Q1072.3 73.7508 1068.17 69.8619 Q1064.08 65.9325 1064.08 59.3701 Q1064.08 51.7138 1069.18 47.825 Q1074.33 43.9361 1084.5 43.9361 L1094.95 43.9361 L1094.95 43.2069 Q1094.95 38.0623 1091.54 35.2672 Q1088.18 32.4315 1082.06 32.4315 Q1078.18 32.4315 1074.49 33.3632 Q1070.8 34.295 1067.4 36.1584 L1067.4 29.2718 Q1071.49 27.692 1075.34 26.9223 Q1079.19 26.1121 1082.83 26.1121 Q1092.68 26.1121 1097.54 31.2163 Q1102.4 36.3204 1102.4 46.6907 Z\" fill=\"#000000\" fill-rule=\"evenodd\" fill-opacity=\"1\" /><path clip-path=\"url(#clip810)\" d=\"M 0 0 M1147.93 45.1919 L1147.93 72.576 L1140.48 72.576 L1140.48 45.4349 Q1140.48 38.994 1137.97 35.7938 Q1135.46 32.5936 1130.43 32.5936 Q1124.4 32.5936 1120.91 36.4419 Q1117.43 40.2903 1117.43 46.9338 L1117.43 72.576 L1109.93 72.576 L1109.93 27.2059 L1117.43 27.2059 L1117.43 34.2544 Q1120.1 30.163 1123.71 28.1376 Q1127.35 26.1121 1132.09 26.1121 Q1139.91 26.1121 1143.92 30.9732 Q1147.93 35.7938 1147.93 45.1919 Z\" fill=\"#000000\" fill-rule=\"evenodd\" fill-opacity=\"1\" /><path clip-path=\"url(#clip810)\" d=\"M 0 0 M1151.98 46.5287 L1173.82 46.5287 L1173.82 53.1722 L1151.98 53.1722 L1151.98 46.5287 Z\" fill=\"#000000\" fill-rule=\"evenodd\" fill-opacity=\"1\" /><path clip-path=\"url(#clip810)\" d=\"M 0 0 M1181.96 12.096 L1194.15 12.096 L1209.59 53.2532 L1225.1 12.096 L1237.3 12.096 L1237.3 72.576 L1229.31 72.576 L1229.31 19.4686 L1213.72 60.9499 L1205.5 60.9499 L1189.9 19.4686 L1189.9 72.576 L1181.96 72.576 L1181.96 12.096 Z\" fill=\"#000000\" fill-rule=\"evenodd\" fill-opacity=\"1\" /><path clip-path=\"url(#clip810)\" d=\"M 0 0 M1283.92 48.0275 L1283.92 51.6733 L1249.65 51.6733 Q1250.14 59.3701 1254.27 63.421 Q1258.44 67.4314 1265.85 67.4314 Q1270.15 67.4314 1274.16 66.3781 Q1278.21 65.3249 1282.18 63.2184 L1282.18 70.267 Q1278.17 71.9684 1273.96 72.8596 Q1269.74 73.7508 1265.41 73.7508 Q1254.55 73.7508 1248.19 67.4314 Q1241.87 61.1119 1241.87 50.3365 Q1241.87 39.1965 1247.87 32.6746 Q1253.9 26.1121 1264.11 26.1121 Q1273.27 26.1121 1278.57 32.0264 Q1283.92 37.9003 1283.92 48.0275 M1276.47 45.84 Q1276.39 39.7232 1273.02 36.0774 Q1269.7 32.4315 1264.19 32.4315 Q1257.95 32.4315 1254.19 35.9558 Q1250.46 39.4801 1249.89 45.8805 L1276.47 45.84 Z\" fill=\"#000000\" fill-rule=\"evenodd\" fill-opacity=\"1\" /><path clip-path=\"url(#clip810)\" d=\"M 0 0 M1291.74 27.2059 L1299.19 27.2059 L1299.19 72.576 L1291.74 72.576 L1291.74 27.2059 M1291.74 9.54393 L1299.19 9.54393 L1299.19 18.9825 L1291.74 18.9825 L1291.74 9.54393 Z\" fill=\"#000000\" fill-rule=\"evenodd\" fill-opacity=\"1\" /><path clip-path=\"url(#clip810)\" d=\"M 0 0 M1345.82 48.0275 L1345.82 51.6733 L1311.55 51.6733 Q1312.03 59.3701 1316.17 63.421 Q1320.34 67.4314 1327.75 67.4314 Q1332.05 67.4314 1336.06 66.3781 Q1340.11 65.3249 1344.08 63.2184 L1344.08 70.267 Q1340.07 71.9684 1335.85 72.8596 Q1331.64 73.7508 1327.31 73.7508 Q1316.45 73.7508 1310.09 67.4314 Q1303.77 61.1119 1303.77 50.3365 Q1303.77 39.1965 1309.77 32.6746 Q1315.8 26.1121 1326.01 26.1121 Q1335.16 26.1121 1340.47 32.0264 Q1345.82 37.9003 1345.82 48.0275 M1338.37 45.84 Q1338.28 39.7232 1334.92 36.0774 Q1331.6 32.4315 1326.09 32.4315 Q1319.85 32.4315 1316.09 35.9558 Q1312.36 39.4801 1311.79 45.8805 L1338.37 45.84 Z\" fill=\"#000000\" fill-rule=\"evenodd\" fill-opacity=\"1\" /><path clip-path=\"url(#clip810)\" d=\"M 0 0 M1379.93 34.1734 Q1378.67 33.4443 1377.17 33.1202 Q1375.71 32.7556 1373.93 32.7556 Q1367.61 32.7556 1364.21 36.8875 Q1360.85 40.9789 1360.85 48.6757 L1360.85 72.576 L1353.35 72.576 L1353.35 27.2059 L1360.85 27.2059 L1360.85 34.2544 Q1363.2 30.1225 1366.96 28.1376 Q1370.73 26.1121 1376.12 26.1121 Q1376.89 26.1121 1377.82 26.2337 Q1378.75 26.3147 1379.89 26.5172 L1379.93 34.1734 Z\" fill=\"#000000\" fill-rule=\"evenodd\" fill-opacity=\"1\" /><path clip-path=\"url(#clip810)\" d=\"M 0 0 M1459.73 16.7545 L1459.73 25.383 Q1455.6 21.5346 1450.9 19.6307 Q1446.24 17.7268 1440.97 17.7268 Q1430.6 17.7268 1425.1 24.0867 Q1419.59 30.4061 1419.59 42.3968 Q1419.59 54.3469 1425.1 60.7069 Q1430.6 67.0263 1440.97 67.0263 Q1446.24 67.0263 1450.9 65.1223 Q1455.6 63.2184 1459.73 59.3701 L1459.73 67.9175 Q1455.44 70.8341 1450.62 72.2924 Q1445.84 73.7508 1440.49 73.7508 Q1426.76 73.7508 1418.86 65.3654 Q1410.96 56.9395 1410.96 42.3968 Q1410.96 27.8135 1418.86 19.4281 Q1426.76 11.0023 1440.49 11.0023 Q1445.92 11.0023 1450.7 12.4606 Q1455.52 13.8784 1459.73 16.7545 Z\" fill=\"#000000\" fill-rule=\"evenodd\" fill-opacity=\"1\" /><path clip-path=\"url(#clip810)\" d=\"M 0 0 M1466.78 54.671 L1466.78 27.2059 L1474.23 27.2059 L1474.23 54.3874 Q1474.23 60.8284 1476.74 64.0691 Q1479.26 67.2693 1484.28 67.2693 Q1490.31 67.2693 1493.8 63.421 Q1497.32 59.5726 1497.32 52.9291 L1497.32 27.2059 L1504.78 27.2059 L1504.78 72.576 L1497.32 72.576 L1497.32 65.6084 Q1494.61 69.7404 1491 71.7658 Q1487.44 73.7508 1482.7 73.7508 Q1474.88 73.7508 1470.83 68.8897 Q1466.78 64.0286 1466.78 54.671 M1485.53 26.1121 L1485.53 26.1121 Z\" fill=\"#000000\" fill-rule=\"evenodd\" fill-opacity=\"1\" /><path clip-path=\"url(#clip810)\" d=\"M 0 0 M1538.88 34.1734 Q1537.63 33.4443 1536.13 33.1202 Q1534.67 32.7556 1532.89 32.7556 Q1526.57 32.7556 1523.17 36.8875 Q1519.81 40.9789 1519.81 48.6757 L1519.81 72.576 L1512.31 72.576 L1512.31 27.2059 L1519.81 27.2059 L1519.81 34.2544 Q1522.15 30.1225 1525.92 28.1376 Q1529.69 26.1121 1535.08 26.1121 Q1535.85 26.1121 1536.78 26.2337 Q1537.71 26.3147 1538.84 26.5172 L1538.88 34.1734 Z\" fill=\"#000000\" fill-rule=\"evenodd\" fill-opacity=\"1\" /><path clip-path=\"url(#clip810)\" d=\"M 0 0 M1541.36 27.2059 L1549.26 27.2059 L1563.43 65.2844 L1577.61 27.2059 L1585.51 27.2059 L1568.5 72.576 L1558.37 72.576 L1541.36 27.2059 Z\" fill=\"#000000\" fill-rule=\"evenodd\" fill-opacity=\"1\" /><path clip-path=\"url(#clip810)\" d=\"M 0 0 M1632.14 48.0275 L1632.14 51.6733 L1597.87 51.6733 Q1598.35 59.3701 1602.48 63.421 Q1606.66 67.4314 1614.07 67.4314 Q1618.36 67.4314 1622.37 66.3781 Q1626.43 65.3249 1630.39 63.2184 L1630.39 70.267 Q1626.38 71.9684 1622.17 72.8596 Q1617.96 73.7508 1613.62 73.7508 Q1602.77 73.7508 1596.41 67.4314 Q1590.09 61.1119 1590.09 50.3365 Q1590.09 39.1965 1596.08 32.6746 Q1602.12 26.1121 1612.33 26.1121 Q1621.48 26.1121 1626.79 32.0264 Q1632.14 37.9003 1632.14 48.0275 M1624.68 45.84 Q1624.6 39.7232 1621.24 36.0774 Q1617.92 32.4315 1612.41 32.4315 Q1606.17 32.4315 1602.4 35.9558 Q1598.68 39.4801 1598.11 45.8805 L1624.68 45.84 Z\" fill=\"#000000\" fill-rule=\"evenodd\" fill-opacity=\"1\" /><path clip-path=\"url(#clip810)\" d=\"M 0 0 M290.194 140.651 Q290.194 132.428 286.791 127.77 Q283.429 123.071 277.514 123.071 Q271.6 123.071 268.197 127.77 Q264.835 132.428 264.835 140.651 Q264.835 148.875 268.197 153.574 Q271.6 158.232 277.514 158.232 Q283.429 158.232 286.791 153.574 Q290.194 148.875 290.194 140.651 M264.835 124.812 Q267.185 120.762 270.749 118.817 Q274.355 116.832 279.337 116.832 Q287.601 116.832 292.746 123.395 Q297.931 129.957 297.931 140.651 Q297.931 151.346 292.746 157.908 Q287.601 164.471 279.337 164.471 Q274.355 164.471 270.749 162.526 Q267.185 160.541 264.835 156.49 L264.835 163.296 L257.341 163.296 L257.341 100.264 L264.835 100.264 L264.835 124.812 Z\" fill=\"#000000\" fill-rule=\"evenodd\" fill-opacity=\"1\" /><path clip-path=\"url(#clip810)\" d=\"M 0 0 M332.04 124.893 Q330.784 124.164 329.285 123.84 Q327.827 123.476 326.044 123.476 Q319.725 123.476 316.322 127.608 Q312.96 131.699 312.96 139.396 L312.96 163.296 L305.466 163.296 L305.466 117.926 L312.96 117.926 L312.96 124.974 Q315.309 120.843 319.077 118.858 Q322.844 116.832 328.232 116.832 Q329.001 116.832 329.933 116.954 Q330.865 117.035 331.999 117.237 L332.04 124.893 Z\" fill=\"#000000\" fill-rule=\"evenodd\" fill-opacity=\"1\" /><path clip-path=\"url(#clip810)\" d=\"M 0 0 M370.685 119.668 L370.685 126.635 Q367.525 124.893 364.325 124.043 Q361.166 123.152 357.925 123.152 Q350.674 123.152 346.663 127.77 Q342.653 132.347 342.653 140.651 Q342.653 148.956 346.663 153.574 Q350.674 158.151 357.925 158.151 Q361.166 158.151 364.325 157.301 Q367.525 156.409 370.685 154.668 L370.685 161.554 Q367.566 163.012 364.204 163.742 Q360.882 164.471 357.115 164.471 Q346.866 164.471 340.83 158.03 Q334.794 151.589 334.794 140.651 Q334.794 129.552 340.871 123.192 Q346.987 116.832 357.601 116.832 Q361.044 116.832 364.325 117.561 Q367.607 118.25 370.685 119.668 Z\" fill=\"#000000\" fill-rule=\"evenodd\" fill-opacity=\"1\" /><path clip-path=\"url(#clip810)\" d=\"M 0 0 M399.123 140.489 Q390.089 140.489 386.605 142.555 Q383.121 144.621 383.121 149.604 Q383.121 153.574 385.714 155.923 Q388.347 158.232 392.844 158.232 Q399.042 158.232 402.768 153.857 Q406.536 149.442 406.536 142.15 L406.536 140.489 L399.123 140.489 M413.989 137.411 L413.989 163.296 L406.536 163.296 L406.536 156.409 Q403.984 160.541 400.176 162.526 Q396.368 164.471 390.859 164.471 Q383.891 164.471 379.759 160.582 Q375.668 156.653 375.668 150.09 Q375.668 142.434 380.772 138.545 Q385.917 134.656 396.084 134.656 L406.536 134.656 L406.536 133.927 Q406.536 128.782 403.133 125.987 Q399.771 123.152 393.654 123.152 Q389.765 123.152 386.079 124.083 Q382.392 125.015 378.99 126.878 L378.99 119.992 Q383.081 118.412 386.929 117.642 Q390.778 116.832 394.424 116.832 Q404.267 116.832 409.128 121.936 Q413.989 127.04 413.989 137.411 Z\" fill=\"#000000\" fill-rule=\"evenodd\" fill-opacity=\"1\" /><path clip-path=\"url(#clip810)\" d=\"M 0 0 M456.281 177.069 L456.281 182.862 L413.179 182.862 L413.179 177.069 L456.281 177.069 Z\" fill=\"#000000\" fill-rule=\"evenodd\" fill-opacity=\"1\" /><path clip-path=\"url(#clip810)\" d=\"M 0 0 M471.472 105.044 L471.472 117.926 L486.825 117.926 L486.825 123.719 L471.472 123.719 L471.472 148.348 Q471.472 153.898 472.971 155.478 Q474.51 157.058 479.168 157.058 L486.825 157.058 L486.825 163.296 L479.168 163.296 Q470.54 163.296 467.259 160.096 Q463.978 156.855 463.978 148.348 L463.978 123.719 L458.509 123.719 L458.509 117.926 L463.978 117.926 L463.978 105.044 L471.472 105.044 Z\" fill=\"#000000\" fill-rule=\"evenodd\" fill-opacity=\"1\" /><path clip-path=\"url(#clip810)\" d=\"M 0 0 M527.293 119.668 L527.293 126.635 Q524.133 124.893 520.933 124.043 Q517.774 123.152 514.533 123.152 Q507.282 123.152 503.271 127.77 Q499.261 132.347 499.261 140.651 Q499.261 148.956 503.271 153.574 Q507.282 158.151 514.533 158.151 Q517.774 158.151 520.933 157.301 Q524.133 156.409 527.293 154.668 L527.293 161.554 Q524.174 163.012 520.812 163.742 Q517.49 164.471 513.723 164.471 Q503.474 164.471 497.438 158.03 Q491.402 151.589 491.402 140.651 Q491.402 129.552 497.479 123.192 Q503.595 116.832 514.209 116.832 Q517.652 116.832 520.933 117.561 Q524.214 118.25 527.293 119.668 Z\" fill=\"#000000\" fill-rule=\"evenodd\" fill-opacity=\"1\" /><path clip-path=\"url(#clip810)\" d=\"M 0 0 M564.967 140.084 Q564.967 131.983 561.604 127.527 Q558.283 123.071 552.247 123.071 Q546.251 123.071 542.889 127.527 Q539.567 131.983 539.567 140.084 Q539.567 148.146 542.889 152.602 Q546.251 157.058 552.247 157.058 Q558.283 157.058 561.604 152.602 Q564.967 148.146 564.967 140.084 M572.42 157.665 Q572.42 169.251 567.276 174.882 Q562.131 180.553 551.518 180.553 Q547.588 180.553 544.104 179.945 Q540.621 179.378 537.339 178.163 L537.339 170.912 Q540.621 172.694 543.821 173.545 Q547.021 174.395 550.343 174.395 Q557.675 174.395 561.321 170.547 Q564.967 166.739 564.967 159.002 L564.967 155.316 Q562.658 159.326 559.052 161.311 Q555.447 163.296 550.424 163.296 Q542.079 163.296 536.975 156.936 Q531.871 150.576 531.871 140.084 Q531.871 129.552 536.975 123.192 Q542.079 116.832 550.424 116.832 Q555.447 116.832 559.052 118.817 Q562.658 120.802 564.967 124.812 L564.967 117.926 L572.42 117.926 L572.42 157.665 Z\" fill=\"#000000\" fill-rule=\"evenodd\" fill-opacity=\"1\" /><path clip-path=\"url(#clip810)\" d=\"M 0 0 M600.858 140.489 Q591.824 140.489 588.34 142.555 Q584.857 144.621 584.857 149.604 Q584.857 153.574 587.449 155.923 Q590.082 158.232 594.579 158.232 Q600.777 158.232 604.503 153.857 Q608.271 149.442 608.271 142.15 L608.271 140.489 L600.858 140.489 M615.724 137.411 L615.724 163.296 L608.271 163.296 L608.271 156.409 Q605.719 160.541 601.911 162.526 Q598.103 164.471 592.594 164.471 Q585.626 164.471 581.494 160.582 Q577.403 156.653 577.403 150.09 Q577.403 142.434 582.507 138.545 Q587.652 134.656 597.819 134.656 L608.271 134.656 L608.271 133.927 Q608.271 128.782 604.868 125.987 Q601.506 123.152 595.389 123.152 Q591.5 123.152 587.814 124.083 Q584.127 125.015 580.725 126.878 L580.725 119.992 Q584.816 118.412 588.664 117.642 Q592.513 116.832 596.159 116.832 Q606.002 116.832 610.863 121.936 Q615.724 127.04 615.724 137.411 Z\" fill=\"#000000\" fill-rule=\"evenodd\" fill-opacity=\"1\" /><path clip-path=\"url(#clip810)\" d=\"M 0 0 M658.016 177.069 L658.016 182.862 L614.914 182.862 L614.914 177.069 L658.016 177.069 Z\" fill=\"#000000\" fill-rule=\"evenodd\" fill-opacity=\"1\" /><path clip-path=\"url(#clip810)\" d=\"M 0 0 M673.045 156.49 L673.045 180.553 L665.551 180.553 L665.551 117.926 L673.045 117.926 L673.045 124.812 Q675.394 120.762 678.959 118.817 Q682.564 116.832 687.547 116.832 Q695.811 116.832 700.955 123.395 Q706.141 129.957 706.141 140.651 Q706.141 151.346 700.955 157.908 Q695.811 164.471 687.547 164.471 Q682.564 164.471 678.959 162.526 Q675.394 160.541 673.045 156.49 M698.403 140.651 Q698.403 132.428 695.001 127.77 Q691.638 123.071 685.724 123.071 Q679.81 123.071 676.407 127.77 Q673.045 132.428 673.045 140.651 Q673.045 148.875 676.407 153.574 Q679.81 158.232 685.724 158.232 Q691.638 158.232 695.001 153.574 Q698.403 148.875 698.403 140.651 Z\" fill=\"#000000\" fill-rule=\"evenodd\" fill-opacity=\"1\" /><path clip-path=\"url(#clip810)\" d=\"M 0 0 M713.189 145.391 L713.189 117.926 L720.643 117.926 L720.643 145.107 Q720.643 151.548 723.154 154.789 Q725.666 157.989 730.689 157.989 Q736.725 157.989 740.209 154.141 Q743.733 150.293 743.733 143.649 L743.733 117.926 L751.187 117.926 L751.187 163.296 L743.733 163.296 L743.733 156.328 Q741.019 160.46 737.414 162.486 Q733.849 164.471 729.109 164.471 Q721.291 164.471 717.24 159.61 Q713.189 154.749 713.189 145.391 M731.945 116.832 L731.945 116.832 Z\" fill=\"#000000\" fill-rule=\"evenodd\" fill-opacity=\"1\" /><path clip-path=\"url(#clip810)\" d=\"M 0 0 M791.574 140.651 Q791.574 132.428 788.171 127.77 Q784.809 123.071 778.895 123.071 Q772.981 123.071 769.578 127.77 Q766.215 132.428 766.215 140.651 Q766.215 148.875 769.578 153.574 Q772.981 158.232 778.895 158.232 Q784.809 158.232 788.171 153.574 Q791.574 148.875 791.574 140.651 M766.215 124.812 Q768.565 120.762 772.13 118.817 Q775.735 116.832 780.718 116.832 Q788.982 116.832 794.126 123.395 Q799.311 129.957 799.311 140.651 Q799.311 151.346 794.126 157.908 Q788.982 164.471 780.718 164.471 Q775.735 164.471 772.13 162.526 Q768.565 160.541 766.215 156.49 L766.215 163.296 L758.721 163.296 L758.721 100.264 L766.215 100.264 L766.215 124.812 Z\" fill=\"#000000\" fill-rule=\"evenodd\" fill-opacity=\"1\" /><path clip-path=\"url(#clip810)\" d=\"M 0 0 M815.231 156.409 L843.79 156.409 L843.79 163.296 L805.388 163.296 L805.388 156.409 Q810.046 151.589 818.067 143.487 Q826.128 135.345 828.194 132.995 Q832.124 128.58 833.663 125.542 Q835.243 122.463 835.243 119.506 Q835.243 114.685 831.84 111.647 Q828.478 108.609 823.05 108.609 Q819.201 108.609 814.907 109.946 Q810.654 111.282 805.793 113.996 L805.793 105.733 Q810.735 103.748 815.029 102.735 Q819.323 101.722 822.888 101.722 Q832.286 101.722 837.876 106.421 Q843.466 111.12 843.466 118.979 Q843.466 122.706 842.048 126.068 Q840.671 129.39 836.985 133.927 Q835.972 135.102 830.544 140.732 Q825.116 146.323 815.231 156.409 Z\" fill=\"#000000\" fill-rule=\"evenodd\" fill-opacity=\"1\" /><path clip-path=\"url(#clip810)\" d=\"M 0 0 M870.162 108.204 Q863.842 108.204 860.642 114.442 Q857.482 120.64 857.482 133.117 Q857.482 145.553 860.642 151.791 Q863.842 157.989 870.162 157.989 Q876.522 157.989 879.681 151.791 Q882.882 145.553 882.882 133.117 Q882.882 120.64 879.681 114.442 Q876.522 108.204 870.162 108.204 M870.162 101.722 Q880.329 101.722 885.677 109.784 Q891.064 117.804 891.064 133.117 Q891.064 148.389 885.677 156.45 Q880.329 164.471 870.162 164.471 Q859.994 164.471 854.606 156.45 Q849.259 148.389 849.259 133.117 Q849.259 117.804 854.606 109.784 Q859.994 101.722 870.162 101.722 Z\" fill=\"#000000\" fill-rule=\"evenodd\" fill-opacity=\"1\" /><path clip-path=\"url(#clip810)\" d=\"M 0 0 M901.354 156.409 L914.722 156.409 L914.722 110.27 L900.179 113.186 L900.179 105.733 L914.641 102.816 L922.823 102.816 L922.823 156.409 L936.191 156.409 L936.191 163.296 L901.354 163.296 L901.354 156.409 Z\" fill=\"#000000\" fill-rule=\"evenodd\" fill-opacity=\"1\" /><path clip-path=\"url(#clip810)\" d=\"M 0 0 M945.144 102.816 L977.268 102.816 L977.268 109.703 L952.638 109.703 L952.638 124.529 Q954.421 123.921 956.203 123.638 Q957.985 123.314 959.768 123.314 Q969.895 123.314 975.809 128.863 Q981.724 134.413 981.724 143.892 Q981.724 153.655 975.647 159.083 Q969.571 164.471 958.512 164.471 Q954.704 164.471 950.734 163.823 Q946.805 163.174 942.592 161.878 L942.592 153.655 Q946.238 155.64 950.127 156.612 Q954.015 157.584 958.35 157.584 Q965.358 157.584 969.449 153.898 Q973.541 150.212 973.541 143.892 Q973.541 137.573 969.449 133.886 Q965.358 130.2 958.35 130.2 Q955.069 130.2 951.787 130.929 Q948.547 131.658 945.144 133.198 L945.144 102.816 Z\" fill=\"#000000\" fill-rule=\"evenodd\" fill-opacity=\"1\" /><path clip-path=\"url(#clip810)\" d=\"M 0 0 M1024.02 177.069 L1024.02 182.862 L980.913 182.862 L980.913 177.069 L1024.02 177.069 Z\" fill=\"#000000\" fill-rule=\"evenodd\" fill-opacity=\"1\" /><path clip-path=\"url(#clip810)\" d=\"M 0 0 M1058.12 124.893 Q1056.87 124.164 1055.37 123.84 Q1053.91 123.476 1052.13 123.476 Q1045.81 123.476 1042.41 127.608 Q1039.04 131.699 1039.04 139.396 L1039.04 163.296 L1031.55 163.296 L1031.55 117.926 L1039.04 117.926 L1039.04 124.974 Q1041.39 120.843 1045.16 118.858 Q1048.93 116.832 1054.32 116.832 Q1055.09 116.832 1056.02 116.954 Q1056.95 117.035 1058.08 117.237 L1058.12 124.893 Z\" fill=\"#000000\" fill-rule=\"evenodd\" fill-opacity=\"1\" /><path clip-path=\"url(#clip810)\" d=\"M 0 0 M1102.2 135.912 L1102.2 163.296 L1094.74 163.296 L1094.74 136.155 Q1094.74 129.714 1092.23 126.514 Q1089.72 123.314 1084.7 123.314 Q1078.66 123.314 1075.18 127.162 Q1071.69 131.01 1071.69 137.654 L1071.69 163.296 L1064.2 163.296 L1064.2 117.926 L1071.69 117.926 L1071.69 124.974 Q1074.37 120.883 1077.97 118.858 Q1081.62 116.832 1086.36 116.832 Q1094.18 116.832 1098.19 121.693 Q1102.2 126.514 1102.2 135.912 Z\" fill=\"#000000\" fill-rule=\"evenodd\" fill-opacity=\"1\" /><path clip-path=\"url(#clip810)\" d=\"M 0 0 M1130.63 140.489 Q1121.6 140.489 1118.12 142.555 Q1114.63 144.621 1114.63 149.604 Q1114.63 153.574 1117.23 155.923 Q1119.86 158.232 1124.36 158.232 Q1130.55 158.232 1134.28 153.857 Q1138.05 149.442 1138.05 142.15 L1138.05 140.489 L1130.63 140.489 M1145.5 137.411 L1145.5 163.296 L1138.05 163.296 L1138.05 156.409 Q1135.5 160.541 1131.69 162.526 Q1127.88 164.471 1122.37 164.471 Q1115.4 164.471 1111.27 160.582 Q1107.18 156.653 1107.18 150.09 Q1107.18 142.434 1112.28 138.545 Q1117.43 134.656 1127.6 134.656 L1138.05 134.656 L1138.05 133.927 Q1138.05 128.782 1134.65 125.987 Q1131.28 123.152 1125.17 123.152 Q1121.28 123.152 1117.59 124.083 Q1113.9 125.015 1110.5 126.878 L1110.5 119.992 Q1114.59 118.412 1118.44 117.642 Q1122.29 116.832 1125.94 116.832 Q1135.78 116.832 1140.64 121.936 Q1145.5 127.04 1145.5 137.411 Z\" fill=\"#000000\" fill-rule=\"evenodd\" fill-opacity=\"1\" /><path clip-path=\"url(#clip810)\" d=\"M 0 0 M1187.79 177.069 L1187.79 182.862 L1144.69 182.862 L1144.69 177.069 L1187.79 177.069 Z\" fill=\"#000000\" fill-rule=\"evenodd\" fill-opacity=\"1\" /><path clip-path=\"url(#clip810)\" d=\"M 0 0 M1224.53 119.263 L1224.53 126.311 Q1221.38 124.691 1217.97 123.881 Q1214.57 123.071 1210.92 123.071 Q1205.37 123.071 1202.58 124.772 Q1199.82 126.473 1199.82 129.876 Q1199.82 132.469 1201.81 133.967 Q1203.79 135.426 1209.79 136.763 L1212.34 137.33 Q1220.28 139.031 1223.6 142.15 Q1226.97 145.229 1226.97 150.779 Q1226.97 157.098 1221.94 160.784 Q1216.96 164.471 1208.21 164.471 Q1204.56 164.471 1200.59 163.742 Q1196.66 163.053 1192.29 161.635 L1192.29 153.938 Q1196.42 156.085 1200.43 157.179 Q1204.44 158.232 1208.37 158.232 Q1213.64 158.232 1216.47 156.45 Q1219.31 154.627 1219.31 151.346 Q1219.31 148.308 1217.24 146.687 Q1215.22 145.067 1208.29 143.568 L1205.7 142.96 Q1198.77 141.502 1195.69 138.504 Q1192.61 135.466 1192.61 130.2 Q1192.61 123.8 1197.15 120.316 Q1201.69 116.832 1210.03 116.832 Q1214.16 116.832 1217.81 117.44 Q1221.46 118.047 1224.53 119.263 Z\" fill=\"#000000\" fill-rule=\"evenodd\" fill-opacity=\"1\" /><path clip-path=\"url(#clip810)\" d=\"M 0 0 M1273.59 138.748 L1273.59 142.393 L1239.32 142.393 Q1239.81 150.09 1243.94 154.141 Q1248.11 158.151 1255.52 158.151 Q1259.82 158.151 1263.83 157.098 Q1267.88 156.045 1271.85 153.938 L1271.85 160.987 Q1267.84 162.688 1263.63 163.58 Q1259.41 164.471 1255.08 164.471 Q1244.22 164.471 1237.86 158.151 Q1231.54 151.832 1231.54 141.057 Q1231.54 129.917 1237.54 123.395 Q1243.57 116.832 1253.78 116.832 Q1262.94 116.832 1268.24 122.746 Q1273.59 128.62 1273.59 138.748 M1266.14 136.56 Q1266.06 130.443 1262.69 126.797 Q1259.37 123.152 1253.86 123.152 Q1247.62 123.152 1243.86 126.676 Q1240.13 130.2 1239.56 136.601 L1266.14 136.56 Z\" fill=\"#000000\" fill-rule=\"evenodd\" fill-opacity=\"1\" /><path clip-path=\"url(#clip810)\" d=\"M 0 0 M1285.87 140.651 Q1285.87 148.875 1289.23 153.574 Q1292.63 158.232 1298.54 158.232 Q1304.46 158.232 1307.86 153.574 Q1311.26 148.875 1311.26 140.651 Q1311.26 132.428 1307.86 127.77 Q1304.46 123.071 1298.54 123.071 Q1292.63 123.071 1289.23 127.77 Q1285.87 132.428 1285.87 140.651 M1311.26 156.49 Q1308.92 160.541 1305.31 162.526 Q1301.75 164.471 1296.72 164.471 Q1288.5 164.471 1283.31 157.908 Q1278.17 151.346 1278.17 140.651 Q1278.17 129.957 1283.31 123.395 Q1288.5 116.832 1296.72 116.832 Q1301.75 116.832 1305.31 118.817 Q1308.92 120.762 1311.26 124.812 L1311.26 117.926 L1318.72 117.926 L1318.72 180.553 L1311.26 180.553 L1311.26 156.49 Z\" fill=\"#000000\" fill-rule=\"evenodd\" fill-opacity=\"1\" /><path clip-path=\"url(#clip810)\" d=\"M 0 0 M1361.01 177.069 L1361.01 182.862 L1317.91 182.862 L1317.91 177.069 L1361.01 177.069 Z\" fill=\"#000000\" fill-rule=\"evenodd\" fill-opacity=\"1\" /><path clip-path=\"url(#clip810)\" d=\"M 0 0 M1363.48 117.926 L1371.38 117.926 L1385.56 156.004 L1399.74 117.926 L1407.64 117.926 L1390.62 163.296 L1380.49 163.296 L1363.48 117.926 Z\" fill=\"#000000\" fill-rule=\"evenodd\" fill-opacity=\"1\" /><path clip-path=\"url(#clip810)\" d=\"M 0 0 M1423.56 156.409 L1452.11 156.409 L1452.11 163.296 L1413.71 163.296 L1413.71 156.409 Q1418.37 151.589 1426.39 143.487 Q1434.45 135.345 1436.52 132.995 Q1440.45 128.58 1441.99 125.542 Q1443.57 122.463 1443.57 119.506 Q1443.57 114.685 1440.16 111.647 Q1436.8 108.609 1431.37 108.609 Q1427.53 108.609 1423.23 109.946 Q1418.98 111.282 1414.12 113.996 L1414.12 105.733 Q1419.06 103.748 1423.35 102.735 Q1427.65 101.722 1431.21 101.722 Q1440.61 101.722 1446.2 106.421 Q1451.79 111.12 1451.79 118.979 Q1451.79 122.706 1450.37 126.068 Q1449 129.39 1445.31 133.927 Q1444.3 135.102 1438.87 140.732 Q1433.44 146.323 1423.56 156.409 Z\" fill=\"#000000\" fill-rule=\"evenodd\" fill-opacity=\"1\" /><path clip-path=\"url(#clip810)\" d=\"M 0 0 M1494.41 177.069 L1494.41 182.862 L1451.3 182.862 L1451.3 177.069 L1494.41 177.069 Z\" fill=\"#000000\" fill-rule=\"evenodd\" fill-opacity=\"1\" /><path clip-path=\"url(#clip810)\" d=\"M 0 0 M1537.55 126.635 Q1540.34 121.612 1544.23 119.222 Q1548.12 116.832 1553.39 116.832 Q1560.48 116.832 1564.32 121.815 Q1568.17 126.757 1568.17 135.912 L1568.17 163.296 L1560.68 163.296 L1560.68 136.155 Q1560.68 129.633 1558.37 126.473 Q1556.06 123.314 1551.32 123.314 Q1545.53 123.314 1542.17 127.162 Q1538.8 131.01 1538.8 137.654 L1538.8 163.296 L1531.31 163.296 L1531.31 136.155 Q1531.31 129.592 1529 126.473 Q1526.69 123.314 1521.87 123.314 Q1516.16 123.314 1512.8 127.202 Q1509.43 131.051 1509.43 137.654 L1509.43 163.296 L1501.94 163.296 L1501.94 117.926 L1509.43 117.926 L1509.43 124.974 Q1511.99 120.802 1515.55 118.817 Q1519.12 116.832 1524.02 116.832 Q1528.96 116.832 1532.4 119.344 Q1535.89 121.855 1537.55 126.635 Z\" fill=\"#000000\" fill-rule=\"evenodd\" fill-opacity=\"1\" /><path clip-path=\"url(#clip810)\" d=\"M 0 0 M1602.28 124.893 Q1601.03 124.164 1599.53 123.84 Q1598.07 123.476 1596.29 123.476 Q1589.97 123.476 1586.56 127.608 Q1583.2 131.699 1583.2 139.396 L1583.2 163.296 L1575.71 163.296 L1575.71 117.926 L1583.2 117.926 L1583.2 124.974 Q1585.55 120.843 1589.32 118.858 Q1593.09 116.832 1598.47 116.832 Q1599.24 116.832 1600.18 116.954 Q1601.11 117.035 1602.24 117.237 L1602.28 124.893 Z\" fill=\"#000000\" fill-rule=\"evenodd\" fill-opacity=\"1\" /><path clip-path=\"url(#clip810)\" d=\"M 0 0 M1646.36 135.912 L1646.36 163.296 L1638.9 163.296 L1638.9 136.155 Q1638.9 129.714 1636.39 126.514 Q1633.88 123.314 1628.86 123.314 Q1622.82 123.314 1619.34 127.162 Q1615.85 131.01 1615.85 137.654 L1615.85 163.296 L1608.36 163.296 L1608.36 117.926 L1615.85 117.926 L1615.85 124.974 Q1618.53 120.883 1622.13 118.858 Q1625.78 116.832 1630.52 116.832 Q1638.33 116.832 1642.35 121.693 Q1646.36 126.514 1646.36 135.912 Z\" fill=\"#000000\" fill-rule=\"evenodd\" fill-opacity=\"1\" /><path clip-path=\"url(#clip810)\" d=\"M 0 0 M1674.79 140.489 Q1665.76 140.489 1662.28 142.555 Q1658.79 144.621 1658.79 149.604 Q1658.79 153.574 1661.38 155.923 Q1664.02 158.232 1668.51 158.232 Q1674.71 158.232 1678.44 153.857 Q1682.21 149.442 1682.21 142.15 L1682.21 140.489 L1674.79 140.489 M1689.66 137.411 L1689.66 163.296 L1682.21 163.296 L1682.21 156.409 Q1679.65 160.541 1675.85 162.526 Q1672.04 164.471 1666.53 164.471 Q1659.56 164.471 1655.43 160.582 Q1651.34 156.653 1651.34 150.09 Q1651.34 142.434 1656.44 138.545 Q1661.59 134.656 1671.75 134.656 L1682.21 134.656 L1682.21 133.927 Q1682.21 128.782 1678.8 125.987 Q1675.44 123.152 1669.32 123.152 Q1665.44 123.152 1661.75 124.083 Q1658.06 125.015 1654.66 126.878 L1654.66 119.992 Q1658.75 118.412 1662.6 117.642 Q1666.45 116.832 1670.09 116.832 Q1679.94 116.832 1684.8 121.936 Q1689.66 127.04 1689.66 137.411 Z\" fill=\"#000000\" fill-rule=\"evenodd\" fill-opacity=\"1\" /><path clip-path=\"url(#clip810)\" d=\"M 0 0 M1731.95 177.069 L1731.95 182.862 L1688.85 182.862 L1688.85 177.069 L1731.95 177.069 Z\" fill=\"#000000\" fill-rule=\"evenodd\" fill-opacity=\"1\" /><path clip-path=\"url(#clip810)\" d=\"M 0 0 M1775.09 126.635 Q1777.89 121.612 1781.78 119.222 Q1785.67 116.832 1790.93 116.832 Q1798.02 116.832 1801.87 121.815 Q1805.72 126.757 1805.72 135.912 L1805.72 163.296 L1798.22 163.296 L1798.22 136.155 Q1798.22 129.633 1795.91 126.473 Q1793.61 123.314 1788.87 123.314 Q1783.07 123.314 1779.71 127.162 Q1776.35 131.01 1776.35 137.654 L1776.35 163.296 L1768.85 163.296 L1768.85 136.155 Q1768.85 129.592 1766.55 126.473 Q1764.24 123.314 1759.42 123.314 Q1753.7 123.314 1750.34 127.202 Q1746.98 131.051 1746.98 137.654 L1746.98 163.296 L1739.49 163.296 L1739.49 117.926 L1746.98 117.926 L1746.98 124.974 Q1749.53 120.802 1753.1 118.817 Q1756.66 116.832 1761.56 116.832 Q1766.51 116.832 1769.95 119.344 Q1773.43 121.855 1775.09 126.635 Z\" fill=\"#000000\" fill-rule=\"evenodd\" fill-opacity=\"1\" /><path clip-path=\"url(#clip810)\" d=\"M 0 0 M1852.34 138.748 L1852.34 142.393 L1818.07 142.393 Q1818.56 150.09 1822.69 154.141 Q1826.86 158.151 1834.28 158.151 Q1838.57 158.151 1842.58 157.098 Q1846.63 156.045 1850.6 153.938 L1850.6 160.987 Q1846.59 162.688 1842.38 163.58 Q1838.17 164.471 1833.83 164.471 Q1822.97 164.471 1816.61 158.151 Q1810.3 151.832 1810.3 141.057 Q1810.3 129.917 1816.29 123.395 Q1822.33 116.832 1832.54 116.832 Q1841.69 116.832 1847 122.746 Q1852.34 128.62 1852.34 138.748 M1844.89 136.56 Q1844.81 130.443 1841.45 126.797 Q1838.13 123.152 1832.62 123.152 Q1826.38 123.152 1822.61 126.676 Q1818.88 130.2 1818.32 136.601 L1844.89 136.56 Z\" fill=\"#000000\" fill-rule=\"evenodd\" fill-opacity=\"1\" /><path clip-path=\"url(#clip810)\" d=\"M 0 0 M1890.02 124.812 L1890.02 100.264 L1897.47 100.264 L1897.47 163.296 L1890.02 163.296 L1890.02 156.49 Q1887.67 160.541 1884.06 162.526 Q1880.5 164.471 1875.47 164.471 Q1867.25 164.471 1862.07 157.908 Q1856.92 151.346 1856.92 140.651 Q1856.92 129.957 1862.07 123.395 Q1867.25 116.832 1875.47 116.832 Q1880.5 116.832 1884.06 118.817 Q1887.67 120.762 1890.02 124.812 M1864.62 140.651 Q1864.62 148.875 1867.98 153.574 Q1871.38 158.232 1877.3 158.232 Q1883.21 158.232 1886.61 153.574 Q1890.02 148.875 1890.02 140.651 Q1890.02 132.428 1886.61 127.77 Q1883.21 123.071 1877.3 123.071 Q1871.38 123.071 1867.98 127.77 Q1864.62 132.428 1864.62 140.651 Z\" fill=\"#000000\" fill-rule=\"evenodd\" fill-opacity=\"1\" /><path clip-path=\"url(#clip810)\" d=\"M 0 0 M1905.29 117.926 L1912.74 117.926 L1912.74 163.296 L1905.29 163.296 L1905.29 117.926 M1905.29 100.264 L1912.74 100.264 L1912.74 109.703 L1905.29 109.703 L1905.29 100.264 Z\" fill=\"#000000\" fill-rule=\"evenodd\" fill-opacity=\"1\" /><path clip-path=\"url(#clip810)\" d=\"M 0 0 M1941.18 140.489 Q1932.15 140.489 1928.66 142.555 Q1925.18 144.621 1925.18 149.604 Q1925.18 153.574 1927.77 155.923 Q1930.4 158.232 1934.9 158.232 Q1941.1 158.232 1944.83 153.857 Q1948.59 149.442 1948.59 142.15 L1948.59 140.489 L1941.18 140.489 M1956.05 137.411 L1956.05 163.296 L1948.59 163.296 L1948.59 156.409 Q1946.04 160.541 1942.23 162.526 Q1938.43 164.471 1932.92 164.471 Q1925.95 164.471 1921.82 160.582 Q1917.73 156.653 1917.73 150.09 Q1917.73 142.434 1922.83 138.545 Q1927.97 134.656 1938.14 134.656 L1948.59 134.656 L1948.59 133.927 Q1948.59 128.782 1945.19 125.987 Q1941.83 123.152 1935.71 123.152 Q1931.82 123.152 1928.14 124.083 Q1924.45 125.015 1921.05 126.878 L1921.05 119.992 Q1925.14 118.412 1928.99 117.642 Q1932.84 116.832 1936.48 116.832 Q1946.32 116.832 1951.19 121.936 Q1956.05 127.04 1956.05 137.411 Z\" fill=\"#000000\" fill-rule=\"evenodd\" fill-opacity=\"1\" /><path clip-path=\"url(#clip810)\" d=\"M 0 0 M2001.58 135.912 L2001.58 163.296 L1994.13 163.296 L1994.13 136.155 Q1994.13 129.714 1991.61 126.514 Q1989.1 123.314 1984.08 123.314 Q1978.04 123.314 1974.56 127.162 Q1971.08 131.01 1971.08 137.654 L1971.08 163.296 L1963.58 163.296 L1963.58 117.926 L1971.08 117.926 L1971.08 124.974 Q1973.75 120.883 1977.35 118.858 Q1981 116.832 1985.74 116.832 Q1993.56 116.832 1997.57 121.693 Q2001.58 126.514 2001.58 135.912 Z\" fill=\"#000000\" fill-rule=\"evenodd\" fill-opacity=\"1\" /><path clip-path=\"url(#clip810)\" d=\"M 0 0 M2043.87 177.069 L2043.87 182.862 L2000.77 182.862 L2000.77 177.069 L2043.87 177.069 Z\" fill=\"#000000\" fill-rule=\"evenodd\" fill-opacity=\"1\" /><path clip-path=\"url(#clip810)\" d=\"M 0 0 M2048.53 102.816 L2096.05 102.816 L2096.05 109.054 L2057.81 156.409 L2096.98 156.409 L2096.98 163.296 L2047.6 163.296 L2047.6 157.058 L2085.84 109.703 L2048.53 109.703 L2048.53 102.816 Z\" fill=\"#000000\" fill-rule=\"evenodd\" fill-opacity=\"1\" /><path clip-path=\"url(#clip810)\" d=\"M 0 0 M2133.72 119.263 L2133.72 126.311 Q2130.56 124.691 2127.16 123.881 Q2123.75 123.071 2120.11 123.071 Q2114.56 123.071 2111.76 124.772 Q2109.01 126.473 2109.01 129.876 Q2109.01 132.469 2110.99 133.967 Q2112.98 135.426 2118.97 136.763 L2121.53 137.33 Q2129.47 139.031 2132.79 142.15 Q2136.15 145.229 2136.15 150.779 Q2136.15 157.098 2131.13 160.784 Q2126.14 164.471 2117.39 164.471 Q2113.75 164.471 2109.78 163.742 Q2105.85 163.053 2101.47 161.635 L2101.47 153.938 Q2105.61 156.085 2109.62 157.179 Q2113.63 158.232 2117.56 158.232 Q2122.82 158.232 2125.66 156.45 Q2128.49 154.627 2128.49 151.346 Q2128.49 148.308 2126.43 146.687 Q2124.4 145.067 2117.48 143.568 L2114.88 142.96 Q2107.96 141.502 2104.88 138.504 Q2101.8 135.466 2101.8 130.2 Q2101.8 123.8 2106.34 120.316 Q2110.87 116.832 2119.22 116.832 Q2123.35 116.832 2127 117.44 Q2130.64 118.047 2133.72 119.263 Z\" fill=\"#000000\" fill-rule=\"evenodd\" fill-opacity=\"1\" /><path clip-path=\"url(#clip810)\" d=\"M 0 0 M2176.62 119.668 L2176.62 126.635 Q2173.46 124.893 2170.26 124.043 Q2167.1 123.152 2163.86 123.152 Q2156.61 123.152 2152.6 127.77 Q2148.59 132.347 2148.59 140.651 Q2148.59 148.956 2152.6 153.574 Q2156.61 158.151 2163.86 158.151 Q2167.1 158.151 2170.26 157.301 Q2173.46 156.409 2176.62 154.668 L2176.62 161.554 Q2173.5 163.012 2170.14 163.742 Q2166.82 164.471 2163.05 164.471 Q2152.8 164.471 2146.76 158.03 Q2140.73 151.589 2140.73 140.651 Q2140.73 129.552 2146.8 123.192 Q2152.92 116.832 2163.53 116.832 Q2166.98 116.832 2170.26 117.561 Q2173.54 118.25 2176.62 119.668 Z\" fill=\"#000000\" fill-rule=\"evenodd\" fill-opacity=\"1\" /><path clip-path=\"url(#clip810)\" d=\"M 0 0 M2202.02 123.152 Q2196.02 123.152 2192.54 127.851 Q2189.06 132.509 2189.06 140.651 Q2189.06 148.794 2192.5 153.493 Q2195.98 158.151 2202.02 158.151 Q2207.97 158.151 2211.46 153.452 Q2214.94 148.753 2214.94 140.651 Q2214.94 132.59 2211.46 127.891 Q2207.97 123.152 2202.02 123.152 M2202.02 116.832 Q2211.74 116.832 2217.29 123.152 Q2222.84 129.471 2222.84 140.651 Q2222.84 151.791 2217.29 158.151 Q2211.74 164.471 2202.02 164.471 Q2192.26 164.471 2186.71 158.151 Q2181.2 151.791 2181.2 140.651 Q2181.2 129.471 2186.71 123.152 Q2192.26 116.832 2202.02 116.832 Z\" fill=\"#000000\" fill-rule=\"evenodd\" fill-opacity=\"1\" /><path clip-path=\"url(#clip810)\" d=\"M 0 0 M2256.95 124.893 Q2255.69 124.164 2254.19 123.84 Q2252.74 123.476 2250.95 123.476 Q2244.63 123.476 2241.23 127.608 Q2237.87 131.699 2237.87 139.396 L2237.87 163.296 L2230.37 163.296 L2230.37 117.926 L2237.87 117.926 L2237.87 124.974 Q2240.22 120.843 2243.99 118.858 Q2247.75 116.832 2253.14 116.832 Q2253.91 116.832 2254.84 116.954 Q2255.77 117.035 2256.91 117.237 L2256.95 124.893 Z\" fill=\"#000000\" fill-rule=\"evenodd\" fill-opacity=\"1\" /><path clip-path=\"url(#clip810)\" d=\"M 0 0 M2301.75 138.748 L2301.75 142.393 L2267.48 142.393 Q2267.97 150.09 2272.1 154.141 Q2276.27 158.151 2283.68 158.151 Q2287.98 158.151 2291.99 157.098 Q2296.04 156.045 2300.01 153.938 L2300.01 160.987 Q2296 162.688 2291.79 163.58 Q2287.57 164.471 2283.24 164.471 Q2272.38 164.471 2266.02 158.151 Q2259.7 151.832 2259.7 141.057 Q2259.7 129.917 2265.7 123.395 Q2271.73 116.832 2281.94 116.832 Q2291.1 116.832 2296.4 122.746 Q2301.75 128.62 2301.75 138.748 M2294.3 136.56 Q2294.22 130.443 2290.85 126.797 Q2287.53 123.152 2282.02 123.152 Q2275.78 123.152 2272.02 126.676 Q2268.29 130.2 2267.72 136.601 L2294.3 136.56 Z\" fill=\"#000000\" fill-rule=\"evenodd\" fill-opacity=\"1\" /><path clip-path=\"url(#clip810)\" d=\"M 0 0 M2338.49 119.263 L2338.49 126.311 Q2335.33 124.691 2331.93 123.881 Q2328.53 123.071 2324.88 123.071 Q2319.33 123.071 2316.54 124.772 Q2313.78 126.473 2313.78 129.876 Q2313.78 132.469 2315.77 133.967 Q2317.75 135.426 2323.75 136.763 L2326.3 137.33 Q2334.24 139.031 2337.56 142.15 Q2340.92 145.229 2340.92 150.779 Q2340.92 157.098 2335.9 160.784 Q2330.92 164.471 2322.17 164.471 Q2318.52 164.471 2314.55 163.742 Q2310.62 163.053 2306.25 161.635 L2306.25 153.938 Q2310.38 156.085 2314.39 157.179 Q2318.4 158.232 2322.33 158.232 Q2327.6 158.232 2330.43 156.45 Q2333.27 154.627 2333.27 151.346 Q2333.27 148.308 2331.2 146.687 Q2329.18 145.067 2322.25 143.568 L2319.66 142.96 Q2312.73 141.502 2309.65 138.504 Q2306.57 135.466 2306.57 130.2 Q2306.57 123.8 2311.11 120.316 Q2315.65 116.832 2323.99 116.832 Q2328.12 116.832 2331.77 117.44 Q2335.41 118.047 2338.49 119.263 Z\" fill=\"#000000\" fill-rule=\"evenodd\" fill-opacity=\"1\" /><path clip-path=\"url(#clip810)\" d=\"M 0 0 M1098.46 1508.52 L1138.66 1508.52 L1138.66 1513.93 L1121.8 1513.93 L1121.8 1556.04 L1115.33 1556.04 L1115.33 1513.93 L1098.46 1513.93 L1098.46 1508.52 Z\" fill=\"#000000\" fill-rule=\"evenodd\" fill-opacity=\"1\" /><path clip-path=\"url(#clip810)\" d=\"M 0 0 M1142.8 1520.4 L1148.66 1520.4 L1148.66 1556.04 L1142.8 1556.04 L1142.8 1520.4 M1142.8 1506.52 L1148.66 1506.52 L1148.66 1513.93 L1142.8 1513.93 L1142.8 1506.52 Z\" fill=\"#000000\" fill-rule=\"evenodd\" fill-opacity=\"1\" /><path clip-path=\"url(#clip810)\" d=\"M 0 0 M1182.56 1527.24 Q1184.75 1523.29 1187.81 1521.41 Q1190.86 1519.54 1195 1519.54 Q1200.57 1519.54 1203.59 1523.45 Q1206.62 1527.33 1206.62 1534.53 L1206.62 1556.04 L1200.73 1556.04 L1200.73 1534.72 Q1200.73 1529.59 1198.92 1527.11 Q1197.1 1524.63 1193.38 1524.63 Q1188.83 1524.63 1186.18 1527.65 Q1183.54 1530.68 1183.54 1535.9 L1183.54 1556.04 L1177.65 1556.04 L1177.65 1534.72 Q1177.65 1529.56 1175.84 1527.11 Q1174.03 1524.63 1170.24 1524.63 Q1165.75 1524.63 1163.11 1527.68 Q1160.47 1530.71 1160.47 1535.9 L1160.47 1556.04 L1154.58 1556.04 L1154.58 1520.4 L1160.47 1520.4 L1160.47 1525.93 Q1162.47 1522.66 1165.27 1521.1 Q1168.07 1519.54 1171.93 1519.54 Q1175.81 1519.54 1178.51 1521.51 Q1181.25 1523.48 1182.56 1527.24 Z\" fill=\"#000000\" fill-rule=\"evenodd\" fill-opacity=\"1\" /><path clip-path=\"url(#clip810)\" d=\"M 0 0 M1243.25 1536.76 L1243.25 1539.62 L1216.33 1539.62 Q1216.71 1545.67 1219.95 1548.85 Q1223.23 1552 1229.06 1552 Q1232.43 1552 1235.58 1551.17 Q1238.77 1550.35 1241.88 1548.69 L1241.88 1554.23 Q1238.73 1555.57 1235.42 1556.27 Q1232.11 1556.97 1228.71 1556.97 Q1220.18 1556.97 1215.18 1552 Q1210.21 1547.04 1210.21 1538.57 Q1210.21 1529.82 1214.93 1524.69 Q1219.67 1519.54 1227.69 1519.54 Q1234.88 1519.54 1239.05 1524.18 Q1243.25 1528.8 1243.25 1536.76 M1237.4 1535.04 Q1237.33 1530.23 1234.69 1527.37 Q1232.08 1524.5 1227.75 1524.5 Q1222.85 1524.5 1219.89 1527.27 Q1216.96 1530.04 1216.52 1535.07 L1237.4 1535.04 Z\" fill=\"#000000\" fill-rule=\"evenodd\" fill-opacity=\"1\" /><path clip-path=\"url(#clip810)\" d=\"M 0 0 M1284.18 1506.58 Q1279.92 1513.9 1277.85 1521.06 Q1275.78 1528.23 1275.78 1535.58 Q1275.78 1542.93 1277.85 1550.16 Q1279.95 1557.35 1284.18 1564.64 L1279.09 1564.64 Q1274.32 1557.16 1271.93 1549.93 Q1269.58 1542.71 1269.58 1535.58 Q1269.58 1528.48 1271.93 1521.29 Q1274.29 1514.09 1279.09 1506.58 L1284.18 1506.58 Z\" fill=\"#000000\" fill-rule=\"evenodd\" fill-opacity=\"1\" /><path clip-path=\"url(#clip810)\" d=\"M 0 0 M1297.01 1513.81 L1297.01 1550.76 L1304.78 1550.76 Q1314.61 1550.76 1319.16 1546.3 Q1323.75 1541.85 1323.75 1532.24 Q1323.75 1522.69 1319.16 1518.26 Q1314.61 1513.81 1304.78 1513.81 L1297.01 1513.81 M1290.58 1508.52 L1303.79 1508.52 Q1317.6 1508.52 1324.07 1514.28 Q1330.53 1520.01 1330.53 1532.24 Q1330.53 1544.52 1324.03 1550.28 Q1317.54 1556.04 1303.79 1556.04 L1290.58 1556.04 L1290.58 1508.52 Z\" fill=\"#000000\" fill-rule=\"evenodd\" fill-opacity=\"1\" /><path clip-path=\"url(#clip810)\" d=\"M 0 0 M1351.66 1514.86 L1342.94 1538.51 L1360.41 1538.51 L1351.66 1514.86 M1348.03 1508.52 L1355.32 1508.52 L1373.43 1556.04 L1366.75 1556.04 L1362.42 1543.85 L1341 1543.85 L1336.67 1556.04 L1329.89 1556.04 L1348.03 1508.52 Z\" fill=\"#000000\" fill-rule=\"evenodd\" fill-opacity=\"1\" /><path clip-path=\"url(#clip810)\" d=\"M 0 0 M1368.24 1508.52 L1375.15 1508.52 L1388.33 1528.07 L1401.41 1508.52 L1408.32 1508.52 L1391.51 1533.41 L1391.51 1556.04 L1385.05 1556.04 L1385.05 1533.41 L1368.24 1508.52 Z\" fill=\"#000000\" fill-rule=\"evenodd\" fill-opacity=\"1\" /><path clip-path=\"url(#clip810)\" d=\"M 0 0 M1443.2 1510.08 L1443.2 1516.35 Q1439.54 1514.6 1436.29 1513.74 Q1433.05 1512.88 1430.02 1512.88 Q1424.77 1512.88 1421.91 1514.92 Q1419.07 1516.96 1419.07 1520.71 Q1419.07 1523.87 1420.95 1525.49 Q1422.86 1527.08 1428.14 1528.07 L1432.03 1528.86 Q1439.22 1530.23 1442.63 1533.7 Q1446.06 1537.14 1446.06 1542.93 Q1446.06 1549.84 1441.42 1553.4 Q1436.8 1556.97 1427.86 1556.97 Q1424.48 1556.97 1420.67 1556.2 Q1416.88 1555.44 1412.8 1553.94 L1412.8 1547.32 Q1416.72 1549.52 1420.47 1550.63 Q1424.23 1551.75 1427.86 1551.75 Q1433.36 1551.75 1436.36 1549.58 Q1439.35 1547.42 1439.35 1543.41 Q1439.35 1539.91 1437.18 1537.93 Q1435.05 1535.96 1430.15 1534.97 L1426.24 1534.21 Q1419.04 1532.78 1415.83 1529.72 Q1412.61 1526.67 1412.61 1521.22 Q1412.61 1514.92 1417.04 1511.29 Q1421.49 1507.66 1429.29 1507.66 Q1432.63 1507.66 1436.1 1508.27 Q1439.57 1508.87 1443.2 1510.08 Z\" fill=\"#000000\" fill-rule=\"evenodd\" fill-opacity=\"1\" /><path clip-path=\"url(#clip810)\" d=\"M 0 0 M1451.28 1506.58 L1456.38 1506.58 Q1461.15 1514.09 1463.51 1521.29 Q1465.89 1528.48 1465.89 1535.58 Q1465.89 1542.71 1463.51 1549.93 Q1461.15 1557.16 1456.38 1564.64 L1451.28 1564.64 Q1455.52 1557.35 1457.59 1550.16 Q1459.69 1542.93 1459.69 1535.58 Q1459.69 1528.23 1457.59 1521.06 Q1455.52 1513.9 1451.28 1506.58 Z\" fill=\"#000000\" fill-rule=\"evenodd\" fill-opacity=\"1\" /><path clip-path=\"url(#clip810)\" d=\"M 0 0 M42.0438 1145.67 L48.314 1145.67 Q46.5634 1149.34 45.704 1152.58 Q44.8447 1155.83 44.8447 1158.85 Q44.8447 1164.1 46.8817 1166.97 Q48.9187 1169.8 52.6745 1169.8 Q55.8255 1169.8 57.4488 1167.92 Q59.0402 1166.01 60.0269 1160.73 L60.8226 1156.85 Q62.1912 1149.65 65.6605 1146.25 Q69.098 1142.81 74.8908 1142.81 Q81.7976 1142.81 85.3624 1147.46 Q88.9272 1152.07 88.9272 1161.02 Q88.9272 1164.39 88.1633 1168.21 Q87.3994 1172 85.9035 1176.07 L79.2831 1176.07 Q81.4793 1172.16 82.5933 1168.4 Q83.7073 1164.64 83.7073 1161.02 Q83.7073 1155.51 81.543 1152.52 Q79.3786 1149.53 75.3682 1149.53 Q71.8671 1149.53 69.8937 1151.69 Q67.9204 1153.82 66.9337 1158.72 L66.1698 1162.64 Q64.7375 1169.83 61.682 1173.05 Q58.6264 1176.26 53.1837 1176.26 Q46.8817 1176.26 43.2532 1171.84 Q39.6248 1167.38 39.6248 1159.58 Q39.6248 1156.24 40.2295 1152.77 Q40.8343 1149.3 42.0438 1145.67 Z\" fill=\"#000000\" fill-rule=\"evenodd\" fill-opacity=\"1\" /><path clip-path=\"url(#clip810)\" d=\"M 0 0 M73.9359 1137.27 L52.3562 1137.27 L52.3562 1131.42 L73.7131 1131.42 Q78.7739 1131.42 81.3202 1129.44 Q83.8346 1127.47 83.8346 1123.52 Q83.8346 1118.78 80.8109 1116.04 Q77.7872 1113.27 72.5673 1113.27 L52.3562 1113.27 L52.3562 1107.42 L88.0042 1107.42 L88.0042 1113.27 L82.5296 1113.27 Q85.7762 1115.41 87.3676 1118.24 Q88.9272 1121.04 88.9272 1124.76 Q88.9272 1130.91 85.1078 1134.09 Q81.2883 1137.27 73.9359 1137.27 M51.4968 1122.54 L51.4968 1122.54 Z\" fill=\"#000000\" fill-rule=\"evenodd\" fill-opacity=\"1\" /><path clip-path=\"url(#clip810)\" d=\"M 0 0 M57.8307 1080.62 Q57.2578 1081.6 57.0032 1082.78 Q56.7167 1083.93 56.7167 1085.33 Q56.7167 1090.29 59.9632 1092.97 Q63.1779 1095.61 69.2253 1095.61 L88.0042 1095.61 L88.0042 1101.5 L52.3562 1101.5 L52.3562 1095.61 L57.8944 1095.61 Q54.6479 1093.76 53.0883 1090.8 Q51.4968 1087.84 51.4968 1083.61 Q51.4968 1083 51.5923 1082.27 Q51.656 1081.54 51.8151 1080.65 L57.8307 1080.62 Z\" fill=\"#000000\" fill-rule=\"evenodd\" fill-opacity=\"1\" /><path clip-path=\"url(#clip810)\" d=\"M 0 0 M52.3562 1078.68 L52.3562 1072.47 L82.275 1061.33 L52.3562 1050.19 L52.3562 1043.98 L88.0042 1057.35 L88.0042 1065.31 L52.3562 1078.68 Z\" fill=\"#000000\" fill-rule=\"evenodd\" fill-opacity=\"1\" /><path clip-path=\"url(#clip810)\" d=\"M 0 0 M52.3562 1037.84 L52.3562 1031.98 L88.0042 1031.98 L88.0042 1037.84 L52.3562 1037.84 M38.479 1037.84 L38.479 1031.98 L45.895 1031.98 L45.895 1037.84 L38.479 1037.84 Z\" fill=\"#000000\" fill-rule=\"evenodd\" fill-opacity=\"1\" /><path clip-path=\"url(#clip810)\" d=\"M 0 0 M52.3562 1030.04 L52.3562 1023.84 L82.275 1012.7 L52.3562 1001.56 L52.3562 995.349 L88.0042 1008.72 L88.0042 1016.67 L52.3562 1030.04 Z\" fill=\"#000000\" fill-rule=\"evenodd\" fill-opacity=\"1\" /><path clip-path=\"url(#clip810)\" d=\"M 0 0 M70.0847 973.005 Q70.0847 980.103 71.7079 982.84 Q73.3312 985.577 77.2461 985.577 Q80.3653 985.577 82.2114 983.54 Q84.0256 981.472 84.0256 977.939 Q84.0256 973.069 80.5881 970.141 Q77.1188 967.181 71.3897 967.181 L70.0847 967.181 L70.0847 973.005 M67.6657 961.324 L88.0042 961.324 L88.0042 967.181 L82.5933 967.181 Q85.8398 969.186 87.3994 972.178 Q88.9272 975.17 88.9272 979.498 Q88.9272 984.973 85.8716 988.219 Q82.7843 991.434 77.6281 991.434 Q71.6125 991.434 68.5569 987.424 Q65.5014 983.381 65.5014 975.392 L65.5014 967.181 L64.9285 967.181 Q60.8862 967.181 58.6901 969.854 Q56.4621 972.496 56.4621 977.302 Q56.4621 980.358 57.1941 983.254 Q57.9262 986.15 59.3903 988.824 L53.9795 988.824 Q52.7381 985.609 52.1334 982.586 Q51.4968 979.562 51.4968 976.697 Q51.4968 968.963 55.5072 965.144 Q59.5176 961.324 67.6657 961.324 Z\" fill=\"#000000\" fill-rule=\"evenodd\" fill-opacity=\"1\" /><path clip-path=\"url(#clip810)\" d=\"M 0 0 M38.479 955.181 L38.479 949.325 L88.0042 949.325 L88.0042 955.181 L38.479 955.181 Z\" fill=\"#000000\" fill-rule=\"evenodd\" fill-opacity=\"1\" /><path clip-path=\"url(#clip810)\" d=\"M 0 0 M38.5426 908.393 Q45.8632 912.658 53.0246 914.727 Q60.186 916.796 67.5384 916.796 Q74.8908 916.796 82.1159 914.727 Q89.3091 912.626 96.5979 908.393 L96.5979 913.486 Q89.1182 918.26 81.8931 920.647 Q74.668 923.003 67.5384 923.003 Q60.4406 923.003 53.2474 920.647 Q46.0542 918.292 38.5426 913.486 L38.5426 908.393 Z\" fill=\"#000000\" fill-rule=\"evenodd\" fill-opacity=\"1\" /><path clip-path=\"url(#clip810)\" d=\"M 0 0 M44.8447 882.708 Q44.8447 889.71 50.0645 893.848 Q55.2844 897.953 64.2919 897.953 Q73.2675 897.953 78.4874 893.848 Q83.7073 889.71 83.7073 882.708 Q83.7073 875.705 78.4874 871.631 Q73.2675 867.525 64.2919 867.525 Q55.2844 867.525 50.0645 871.631 Q44.8447 875.705 44.8447 882.708 M39.6248 882.708 Q39.6248 872.713 46.3406 866.73 Q53.0246 860.746 64.2919 860.746 Q75.5274 860.746 82.2432 866.73 Q88.9272 872.713 88.9272 882.708 Q88.9272 892.734 82.2432 898.749 Q75.5592 904.733 64.2919 904.733 Q53.0246 904.733 46.3406 898.749 Q39.6248 892.734 39.6248 882.708 Z\" fill=\"#000000\" fill-rule=\"evenodd\" fill-opacity=\"1\" /><path clip-path=\"url(#clip810)\" d=\"M 0 0 M52.3562 858.804 L52.3562 852.598 L82.275 841.458 L52.3562 830.318 L52.3562 824.111 L88.0042 837.479 L88.0042 845.436 L52.3562 858.804 Z\" fill=\"#000000\" fill-rule=\"evenodd\" fill-opacity=\"1\" /><path clip-path=\"url(#clip810)\" d=\"M 0 0 M68.7161 787.477 L71.5806 787.477 L71.5806 814.404 Q77.6281 814.022 80.8109 810.775 Q83.9619 807.497 83.9619 801.672 Q83.9619 798.298 83.1344 795.147 Q82.3069 791.964 80.6518 788.845 L86.1899 788.845 Q87.5267 791.996 88.227 795.306 Q88.9272 798.617 88.9272 802.022 Q88.9272 810.552 83.9619 815.549 Q78.9967 820.515 70.5303 820.515 Q61.7774 820.515 56.6531 815.804 Q51.4968 811.062 51.4968 803.041 Q51.4968 795.848 56.1438 791.678 Q60.7589 787.477 68.7161 787.477 M66.9973 793.333 Q62.1912 793.397 59.3266 796.039 Q56.4621 798.648 56.4621 802.977 Q56.4621 807.879 59.2312 810.839 Q62.0002 813.767 67.0292 814.213 L66.9973 793.333 Z\" fill=\"#000000\" fill-rule=\"evenodd\" fill-opacity=\"1\" /><path clip-path=\"url(#clip810)\" d=\"M 0 0 M57.8307 760.677 Q57.2578 761.664 57.0032 762.841 Q56.7167 763.987 56.7167 765.388 Q56.7167 770.353 59.9632 773.027 Q63.1779 775.668 69.2253 775.668 L88.0042 775.668 L88.0042 781.557 L52.3562 781.557 L52.3562 775.668 L57.8944 775.668 Q54.6479 773.822 53.0883 770.862 Q51.4968 767.902 51.4968 763.669 Q51.4968 763.064 51.5923 762.332 Q51.656 761.6 51.8151 760.709 L57.8307 760.677 Z\" fill=\"#000000\" fill-rule=\"evenodd\" fill-opacity=\"1\" /><path clip-path=\"url(#clip810)\" d=\"M 0 0 M70.0847 738.333 Q70.0847 745.431 71.7079 748.168 Q73.3312 750.906 77.2461 750.906 Q80.3653 750.906 82.2114 748.869 Q84.0256 746.8 84.0256 743.267 Q84.0256 738.397 80.5881 735.469 Q77.1188 732.509 71.3897 732.509 L70.0847 732.509 L70.0847 738.333 M67.6657 726.652 L88.0042 726.652 L88.0042 732.509 L82.5933 732.509 Q85.8398 734.514 87.3994 737.506 Q88.9272 740.498 88.9272 744.826 Q88.9272 750.301 85.8716 753.547 Q82.7843 756.762 77.6281 756.762 Q71.6125 756.762 68.5569 752.752 Q65.5014 748.71 65.5014 740.721 L65.5014 732.509 L64.9285 732.509 Q60.8862 732.509 58.6901 735.182 Q56.4621 737.824 56.4621 742.63 Q56.4621 745.686 57.1941 748.582 Q57.9262 751.479 59.3903 754.152 L53.9795 754.152 Q52.7381 750.938 52.1334 747.914 Q51.4968 744.89 51.4968 742.026 Q51.4968 734.291 55.5072 730.472 Q59.5176 726.652 67.6657 726.652 Z\" fill=\"#000000\" fill-rule=\"evenodd\" fill-opacity=\"1\" /><path clip-path=\"url(#clip810)\" d=\"M 0 0 M38.479 720.509 L38.479 714.653 L88.0042 714.653 L88.0042 720.509 L38.479 720.509 Z\" fill=\"#000000\" fill-rule=\"evenodd\" fill-opacity=\"1\" /><path clip-path=\"url(#clip810)\" d=\"M 0 0 M38.479 708.51 L38.479 702.654 L88.0042 702.654 L88.0042 708.51 L38.479 708.51 Z\" fill=\"#000000\" fill-rule=\"evenodd\" fill-opacity=\"1\" /><path clip-path=\"url(#clip810)\" d=\"M 0 0 M42.0438 647.049 L48.314 647.049 Q46.5634 650.709 45.704 653.956 Q44.8447 657.202 44.8447 660.226 Q44.8447 665.478 46.8817 668.342 Q48.9187 671.175 52.6745 671.175 Q55.8255 671.175 57.4488 669.297 Q59.0402 667.388 60.0269 662.104 L60.8226 658.221 Q62.1912 651.028 65.6605 647.622 Q69.098 644.185 74.8908 644.185 Q81.7976 644.185 85.3624 648.832 Q88.9272 653.447 88.9272 662.391 Q88.9272 665.764 88.1633 669.584 Q87.3994 673.371 85.9035 677.445 L79.2831 677.445 Q81.4793 673.531 82.5933 669.775 Q83.7073 666.019 83.7073 662.391 Q83.7073 656.884 81.543 653.892 Q79.3786 650.9 75.3682 650.9 Q71.8671 650.9 69.8937 653.065 Q67.9204 655.197 66.9337 660.099 L66.1698 664.014 Q64.7375 671.207 61.682 674.422 Q58.6264 677.636 53.1837 677.636 Q46.8817 677.636 43.2532 673.212 Q39.6248 668.756 39.6248 660.958 Q39.6248 657.616 40.2295 654.147 Q40.8343 650.678 42.0438 647.049 Z\" fill=\"#000000\" fill-rule=\"evenodd\" fill-opacity=\"1\" /><path clip-path=\"url(#clip810)\" d=\"M 0 0 M73.9359 638.646 L52.3562 638.646 L52.3562 632.79 L73.7131 632.79 Q78.7739 632.79 81.3202 630.817 Q83.8346 628.843 83.8346 624.897 Q83.8346 620.154 80.8109 617.417 Q77.7872 614.648 72.5673 614.648 L52.3562 614.648 L52.3562 608.791 L88.0042 608.791 L88.0042 614.648 L82.5296 614.648 Q85.7762 616.78 87.3676 619.613 Q88.9272 622.414 88.9272 626.138 Q88.9272 632.281 85.1078 635.464 Q81.2883 638.646 73.9359 638.646 M51.4968 623.91 L51.4968 623.91 Z\" fill=\"#000000\" fill-rule=\"evenodd\" fill-opacity=\"1\" /><path clip-path=\"url(#clip810)\" d=\"M 0 0 M57.8307 581.992 Q57.2578 582.978 57.0032 584.156 Q56.7167 585.302 56.7167 586.702 Q56.7167 591.668 59.9632 594.341 Q63.1779 596.983 69.2253 596.983 L88.0042 596.983 L88.0042 602.871 L52.3562 602.871 L52.3562 596.983 L57.8944 596.983 Q54.6479 595.137 53.0883 592.177 Q51.4968 589.217 51.4968 584.984 Q51.4968 584.379 51.5923 583.647 Q51.656 582.915 51.8151 582.023 L57.8307 581.992 Z\" fill=\"#000000\" fill-rule=\"evenodd\" fill-opacity=\"1\" /><path clip-path=\"url(#clip810)\" d=\"M 0 0 M52.3562 580.05 L52.3562 573.844 L82.275 562.704 L52.3562 551.564 L52.3562 545.357 L88.0042 558.725 L88.0042 566.682 L52.3562 580.05 Z\" fill=\"#000000\" fill-rule=\"evenodd\" fill-opacity=\"1\" /><path clip-path=\"url(#clip810)\" d=\"M 0 0 M52.3562 539.214 L52.3562 533.358 L88.0042 533.358 L88.0042 539.214 L52.3562 539.214 M38.479 539.214 L38.479 533.358 L45.895 533.358 L45.895 539.214 L38.479 539.214 Z\" fill=\"#000000\" fill-rule=\"evenodd\" fill-opacity=\"1\" /><path clip-path=\"url(#clip810)\" d=\"M 0 0 M52.3562 531.416 L52.3562 525.21 L82.275 514.07 L52.3562 502.93 L52.3562 496.723 L88.0042 510.091 L88.0042 518.048 L52.3562 531.416 Z\" fill=\"#000000\" fill-rule=\"evenodd\" fill-opacity=\"1\" /><path clip-path=\"url(#clip810)\" d=\"M 0 0 M70.0847 474.379 Q70.0847 481.477 71.7079 484.214 Q73.3312 486.952 77.2461 486.952 Q80.3653 486.952 82.2114 484.915 Q84.0256 482.846 84.0256 479.313 Q84.0256 474.443 80.5881 471.515 Q77.1188 468.555 71.3897 468.555 L70.0847 468.555 L70.0847 474.379 M67.6657 462.698 L88.0042 462.698 L88.0042 468.555 L82.5933 468.555 Q85.8398 470.56 87.3994 473.552 Q88.9272 476.544 88.9272 480.872 Q88.9272 486.347 85.8716 489.593 Q82.7843 492.808 77.6281 492.808 Q71.6125 492.808 68.5569 488.798 Q65.5014 484.755 65.5014 476.767 L65.5014 468.555 L64.9285 468.555 Q60.8862 468.555 58.6901 471.228 Q56.4621 473.87 56.4621 478.676 Q56.4621 481.732 57.1941 484.628 Q57.9262 487.525 59.3903 490.198 L53.9795 490.198 Q52.7381 486.983 52.1334 483.96 Q51.4968 480.936 51.4968 478.071 Q51.4968 470.337 55.5072 466.518 Q59.5176 462.698 67.6657 462.698 Z\" fill=\"#000000\" fill-rule=\"evenodd\" fill-opacity=\"1\" /><path clip-path=\"url(#clip810)\" d=\"M 0 0 M38.479 456.555 L38.479 450.699 L88.0042 450.699 L88.0042 456.555 L38.479 456.555 Z\" fill=\"#000000\" fill-rule=\"evenodd\" fill-opacity=\"1\" /><path clip-path=\"url(#clip810)\" d=\"M 0 0 M38.5426 445.479 L38.5426 440.387 Q46.0542 435.612 53.2474 433.257 Q60.4406 430.87 67.5384 430.87 Q74.668 430.87 81.8931 433.257 Q89.1182 435.612 96.5979 440.387 L96.5979 445.479 Q89.3091 441.246 82.1159 439.177 Q74.8908 437.076 67.5384 437.076 Q60.186 437.076 53.0246 439.177 Q45.8632 441.246 38.5426 445.479 Z\" fill=\"#000000\" fill-rule=\"evenodd\" fill-opacity=\"1\" /><polyline clip-path=\"url(#clip812)\" style=\"stroke:#009af9; stroke-width:4; stroke-opacity:1; fill:none\" points=\"\n",
       "  272.201,219.025 274.485,219.025 274.485,221.031 274.771,221.031 274.771,223.043 275.342,223.043 275.628,223.043 275.913,223.043 \n",
       "  276.199,223.043 276.77,223.043 277.055,223.043 277.341,223.043 277.626,223.043 \n",
       "  277.912,223.043 278.198,223.043 278.483,223.043 278.769,223.043 278.769,225.162 279.054,225.162 \n",
       "  279.054,227.281 279.34,227.281 279.625,227.281 279.911,227.281 280.196,227.281 280.196,229.42 280.482,229.42 \n",
       "  280.768,229.42 281.053,229.42 281.624,229.42 281.624,231.587 281.91,231.587 282.195,231.587 \n",
       "  282.481,231.587 282.766,231.587 282.766,233.775 283.052,233.775 283.909,233.775 284.194,233.775 \n",
       "  285.051,233.775 286.193,233.775 286.478,233.775 286.764,233.775 287.05,233.775 \n",
       "  287.621,233.775 287.906,233.775 288.192,233.775 288.477,233.775 288.763,233.775 \n",
       "  289.048,233.775 289.619,233.775 289.905,233.775 290.476,233.775 291.618,233.775 \n",
       "  292.475,233.775 292.76,233.775 293.903,233.775 293.903,236.087 294.759,236.087 295.045,236.087 \n",
       "  295.616,236.087 295.901,236.087 296.473,236.087 296.758,236.087 297.329,236.087 \n",
       "  297.329,240.788 298.186,240.788 298.471,240.788 300.185,240.788 300.756,240.788 301.612,240.788 \n",
       "  301.898,240.788 302.183,240.788 302.469,240.788 304.182,240.788 304.468,240.788 \n",
       "  304.753,240.788 305.325,240.788 305.896,240.788 306.467,240.788 306.752,240.788 \n",
       "  307.323,240.788 307.323,243.212 307.894,243.212 308.18,243.212 308.751,243.212 309.037,243.212 \n",
       "  309.322,243.212 309.608,243.212 309.893,243.212 310.179,243.212 310.464,243.212 \n",
       "  311.892,243.212 312.463,243.212 313.034,243.212 314.176,243.212 314.462,243.212 \n",
       "  315.033,243.212 315.604,243.212 315.89,243.212 316.175,243.212 316.461,243.212 \n",
       "  317.032,243.212 317.317,243.212 319.316,243.212 319.316,245.739 319.887,245.739 320.458,245.739 \n",
       "  321.886,245.739 322.172,245.739 322.457,245.739 322.743,245.739 323.028,245.739 \n",
       "  323.314,245.739 323.314,248.327 324.171,248.327 324.742,248.327 325.027,248.327 325.598,248.327 \n",
       "  326.169,248.327 326.455,248.327 327.026,248.327 327.312,248.327 327.597,248.327 \n",
       "  328.168,248.327 328.739,248.327 329.025,248.327 329.31,248.327 330.167,248.327 \n",
       "  330.738,248.327 331.309,248.327 331.595,248.327 332.737,248.327 333.594,248.327 \n",
       "  334.165,248.327 335.021,248.327 336.164,248.327 336.449,248.327 336.735,248.327 \n",
       "  337.02,248.327 337.306,248.327 337.591,248.327 337.877,248.327 338.448,248.327 \n",
       "  339.59,248.327 339.876,248.327 340.161,248.327 341.303,248.327 341.303,251.154 341.589,251.154 \n",
       "  342.446,251.154 342.446,253.987 343.017,253.987 343.302,253.987 343.588,253.987 343.873,253.987 \n",
       "  345.015,253.987 346.158,253.987 346.729,253.987 347.014,253.987 347.014,256.879 347.3,256.879 \n",
       "  347.585,256.879 347.871,256.879 348.156,256.879 349.584,256.879 349.87,256.879 \n",
       "  350.155,256.879 350.155,259.813 350.441,259.813 350.726,259.813 351.583,259.813 351.869,259.813 \n",
       "  352.154,259.813 352.44,259.813 354.724,259.813 355.295,259.813 355.581,259.813 \n",
       "  355.866,259.813 356.152,259.813 356.152,262.883 356.723,262.883 357.865,262.883 359.007,262.883 \n",
       "  360.721,262.883 361.006,262.883 361.006,265.987 362.434,265.987 363.29,265.987 364.147,265.987 \n",
       "  364.433,265.987 364.718,265.987 365.289,265.987 365.86,265.987 366.431,265.987 \n",
       "  366.717,265.987 367.288,265.987 367.288,269.191 367.859,269.191 368.43,269.191 368.716,269.191 \n",
       "  369.572,269.191 370.429,269.191 370.715,269.191 372.428,269.191 374.141,269.191 \n",
       "  374.712,269.191 376.426,269.191 376.997,269.191 377.568,269.191 377.568,272.535 377.853,272.535 \n",
       "  378.424,272.535 379.567,272.535 380.138,272.535 380.423,272.535 380.709,272.535 \n",
       "  381.565,272.535 382.422,272.535 382.708,272.535 384.992,272.535 386.134,272.535 \n",
       "  386.991,272.535 387.276,272.535 387.562,272.535 391.274,272.535 391.56,272.535 \n",
       "  392.416,272.535 392.987,272.535 393.558,272.535 394.415,272.535 394.986,272.535 \n",
       "  395.843,272.535 395.843,276.198 396.414,276.198 398.984,276.198 399.555,276.198 400.126,276.198 \n",
       "  402.125,276.198 402.696,276.198 404.695,276.198 404.98,276.198 405.837,276.198 \n",
       "  406.408,276.198 408.121,276.198 410.12,276.198 410.406,276.198 411.548,276.198 \n",
       "  412.404,276.198 412.69,276.198 413.261,276.198 415.545,276.198 415.831,276.198 \n",
       "  416.117,276.198 416.402,276.198 417.259,276.198 417.544,276.198 421.256,276.198 \n",
       "  421.542,276.198 422.113,276.198 422.113,280.156 422.399,280.156 422.684,280.156 423.541,280.156 \n",
       "  424.112,280.156 427.824,280.156 427.824,284.195 428.681,284.195 429.252,284.195 429.823,284.195 \n",
       "  430.108,284.195 430.394,284.195 430.679,284.195 430.679,288.295 430.965,288.295 431.251,288.295 \n",
       "  431.536,288.295 432.107,288.295 432.393,288.295 433.535,288.295 433.535,292.47 434.677,292.47 \n",
       "  437.247,292.47 437.247,296.671 438.96,296.671 439.531,296.671 439.817,296.671 440.959,296.671 \n",
       "  441.53,296.671 442.101,296.671 442.958,296.671 443.529,296.671 444.1,296.671 \n",
       "  446.956,296.671 447.527,296.671 447.812,296.671 448.954,296.671 448.954,301.076 449.811,301.076 \n",
       "  450.097,301.076 450.097,305.496 451.239,305.496 451.81,305.496 454.951,305.496 455.522,305.496 \n",
       "  456.664,305.496 456.664,310.005 457.806,310.005 458.092,310.005 458.949,310.005 462.09,310.005 \n",
       "  462.661,310.005 463.232,310.005 464.088,310.005 465.802,310.005 466.373,310.005 \n",
       "  467.515,310.005 470.656,310.005 471.798,310.005 474.654,310.005 477.224,310.005 \n",
       "  477.795,310.005 478.08,310.005 480.65,310.005 480.65,314.786 481.221,314.786 483.506,314.786 \n",
       "  484.362,314.786 486.361,314.786 487.218,314.786 487.503,314.786 487.789,314.786 \n",
       "  489.502,314.786 489.502,319.708 489.788,319.708 490.073,319.708 491.501,319.708 492.072,319.708 \n",
       "  492.072,324.703 492.357,324.703 494.071,324.703 494.071,329.737 495.213,329.737 496.07,329.737 497.497,329.737 \n",
       "  497.497,334.809 498.639,334.809 498.639,339.88 500.067,339.88 500.067,344.952 500.353,344.952 500.353,350.044 503.779,350.044 504.35,350.044 \n",
       "  504.636,350.044 505.778,350.044 505.778,355.196 509.776,355.196 509.776,360.348 510.347,360.348 510.918,360.348 \n",
       "  512.346,360.348 513.488,360.348 515.487,360.348 516.914,360.348 518.057,360.348 \n",
       "  518.628,360.348 519.484,360.348 519.77,360.348 519.77,365.714 521.769,365.714 522.054,365.714 \n",
       "  524.339,365.714 525.195,365.714 525.195,371.148 526.338,371.148 526.338,376.582 528.336,376.582 534.333,376.582 \n",
       "  534.333,382.039 534.618,382.039 534.618,387.496 536.046,387.496 537.188,387.496 537.188,393 542.899,393 543.47,393 \n",
       "  544.898,393 547.182,393 548.039,393 548.039,398.628 551.751,398.628 552.037,398.628 \n",
       "  552.322,398.628 554.607,398.628 554.892,398.628 556.034,398.628 557.177,398.628 \n",
       "  557.177,404.437 560.032,404.437 560.889,404.437 561.46,404.437 563.744,404.437 564.03,404.437 \n",
       "  565.743,404.437 565.743,410.385 568.884,410.385 568.884,416.333 569.455,416.333 569.455,422.281 580.306,422.281 582.59,422.281 \n",
       "  583.161,422.281 584.018,422.281 589.158,422.281 593.155,422.281 594.012,422.281 \n",
       "  594.298,422.281 595.154,422.281 595.44,422.281 596.011,422.281 596.011,428.595 597.439,428.595 \n",
       "  599.152,428.595 600.294,428.595 600.294,434.975 602.007,434.975 602.007,441.355 602.293,441.355 602.578,441.355 \n",
       "  603.721,441.355 604.292,441.355 604.577,441.355 606.005,441.355 606.291,441.355 \n",
       "  607.718,441.355 607.718,447.979 608.289,447.979 608.86,447.979 609.146,447.979 609.432,447.979 \n",
       "  609.432,454.79 611.145,454.79 614.286,454.79 615.714,454.79 617.712,454.79 619.426,454.79 \n",
       "  621.425,454.79 621.71,454.79 621.996,454.79 623.709,454.79 630.276,454.79 \n",
       "  630.848,454.79 636.844,454.79 641.413,454.79 641.413,462.144 641.984,462.144 643.983,462.144 \n",
       "  645.125,462.144 646.838,462.144 647.98,462.144 648.266,462.144 648.837,462.144 \n",
       "  651.407,462.144 652.549,462.144 652.835,462.144 653.977,462.144 656.547,462.144 \n",
       "  656.547,470.14 656.832,470.14 659.402,470.14 659.688,470.14 660.259,470.14 662.258,470.14 \n",
       "  662.829,470.14 663.4,470.14 663.971,470.14 663.971,478.533 666.541,478.533 670.539,478.533 \n",
       "  670.539,486.986 675.393,486.986 676.535,486.986 681.96,486.986 684.53,486.986 685.958,486.986 \n",
       "  691.954,486.986 692.24,486.986 697.094,486.986 697.094,495.959 698.237,495.959 700.235,495.959 \n",
       "  704.804,495.959 704.804,505.074 707.945,505.074 714.513,505.074 714.513,514.262 716.226,514.262 719.367,514.262 \n",
       "  719.938,514.262 723.079,514.262 735.643,514.262 736.785,514.262 737.642,514.262 \n",
       "  739.07,514.262 740.497,514.262 742.782,514.262 743.067,514.262 743.067,524.434 747.636,524.434 \n",
       "  751.919,524.434 751.919,534.792 755.631,534.792 756.202,534.792 756.202,545.248 757.345,545.248 757.345,555.703 759.343,555.703 \n",
       "  759.343,566.158 764.483,566.158 768.767,566.158 769.052,566.158 772.764,566.158 773.906,566.158 \n",
       "  774.763,566.158 776.476,566.158 776.476,577.254 782.758,577.254 782.758,588.349 791.61,588.349 791.61,599.445 795.893,599.445 \n",
       "  808.172,599.445 811.884,599.445 813.312,599.445 815.596,599.445 817.595,599.445 \n",
       "  821.878,599.445 822.449,599.445 822.449,611.702 824.448,611.702 824.448,623.958 831.016,623.958 842.723,623.958 \n",
       "  843.294,623.958 843.294,636.514 844.722,636.514 847.863,636.514 847.863,649.227 860.427,649.227 868.708,649.227 \n",
       "  872.991,649.227 872.991,662.441 881.557,662.441 881.557,675.656 885.555,675.656 896.406,675.656 896.977,675.656 \n",
       "  900.118,675.656 900.118,689.428 904.401,689.428 904.401,703.201 908.399,703.201 908.399,716.974 913.253,716.974 923.247,716.974 \n",
       "  923.247,730.952 930.386,730.952 930.386,744.931 935.811,744.931 939.809,744.931 945.805,744.931 949.517,744.931 \n",
       "  957.513,744.931 964.366,744.931 964.366,760.33 986.639,760.33 991.207,760.33 991.778,760.33 \n",
       "  993.777,760.33 993.777,776.57 1008.91,776.57 1008.91,792.81 1022.05,792.81 1048.6,792.81 1048.6,809.362 1051.17,809.362 \n",
       "  1061.74,809.362 1063.16,809.362 1073.16,809.362 1073.16,826.949 1082.3,826.949 1082.3,844.536 1095.43,844.536 \n",
       "  1117.99,844.536 1120.85,844.536 1120.85,881.308 1121.7,881.308 1125.7,881.308 1136.84,881.308 \n",
       "  1155.97,881.308 1166.82,881.308 1166.82,901.629 1174.53,901.629 1223.36,901.629 1225.07,901.629 \n",
       "  1225.93,901.629 1230.78,901.629 1233.35,901.629 1237.63,901.629 1237.63,925.884 1247.63,925.884 \n",
       "  1247.63,950.138 1250.2,950.138 1250.2,974.393 1262.48,974.393 1262.48,998.648 1262.76,998.648 1262.76,1022.9 1265.62,1022.9 1265.62,1047.16 1341,1047.16 \n",
       "  1341,1071.41 1364.99,1071.41 1366.99,1071.41 1369.56,1071.41 1369.56,1097.87 1379.84,1097.87 1391.54,1097.87 \n",
       "  1399.54,1097.87 1399.54,1127.12 1400.68,1127.12 1400.68,1158.08 1404.68,1158.08 1404.68,1189.05 1441.51,1189.05 1492.63,1189.05 \n",
       "  1492.63,1222.22 1546.6,1222.22 1546.6,1255.4 1573.44,1255.4 1641.4,1255.4 1656.25,1255.4 1681.66,1255.4 \n",
       "  1776.46,1255.4 1811.3,1255.4 1915.81,1255.4 1915.81,1321.75 1961.49,1321.75 1961.49,1388.11 2111.69,1388.11 \n",
       "  2192.79,1388.11 2214.77,1388.11 2292.16,1388.11 \n",
       "  \"/>\n",
       "<polyline clip-path=\"url(#clip812)\" style=\"stroke:#e26f46; stroke-width:4; stroke-opacity:1; fill:none\" points=\"\n",
       "  275.913,219.025 276.199,219.025 277.912,219.025 277.912,248.3 278.198,248.3 278.769,248.3 280.482,248.3 \n",
       "  281.624,248.3 282.766,248.3 293.617,248.3 301.898,248.3 303.897,248.3 \n",
       "  322.172,248.3 326.169,248.3 327.597,248.3 338.162,248.3 338.162,287.334 346.158,287.334 \n",
       "  367.003,287.334 375.569,287.334 378.424,287.334 378.424,331.405 380.138,331.405 389.561,331.405 \n",
       "  404.409,331.405 423.826,331.405 423.826,382.255 430.965,382.255 432.393,382.255 438.96,382.255 \n",
       "  487.789,382.255 498.354,382.255 498.354,442.792 541.186,442.792 550.323,442.792 550.323,506.514 637.13,506.514 \n",
       "  638.843,506.514 646.553,506.514 646.553,578.202 672.252,578.202 693.097,578.202 694.239,578.202 \n",
       "  718.51,578.202 718.51,667.812 720.509,667.812 720.509,757.422 732.502,757.422 757.916,757.422 757.916,856.989 811.313,856.989 \n",
       "  835.299,856.989 866.423,856.989 997.775,856.989 997.775,1016.3 1002.63,1016.3 1002.63,1175.6 1059.45,1175.6 \n",
       "  1095.72,1175.6 1815.01,1175.6 \n",
       "  \"/>\n",
       "<path clip-path=\"url(#clip810)\" d=\"\n",
       "M1412.9 406.7 L2281.38 406.7 L2281.38 225.26 L1412.9 225.26  Z\n",
       "  \" fill=\"#ffffff\" fill-rule=\"evenodd\" fill-opacity=\"1\"/>\n",
       "<polyline clip-path=\"url(#clip810)\" style=\"stroke:#000000; stroke-width:4; stroke-opacity:1; fill:none\" points=\"\n",
       "  1412.9,406.7 2281.38,406.7 2281.38,225.26 1412.9,225.26 1412.9,406.7 \n",
       "  \"/>\n",
       "<polyline clip-path=\"url(#clip810)\" style=\"stroke:#009af9; stroke-width:4; stroke-opacity:1; fill:none\" points=\"\n",
       "  1436.69,285.74 1579.44,285.74 \n",
       "  \"/>\n",
       "<path clip-path=\"url(#clip810)\" d=\"M 0 0 M1619.06 273.066 L1612.72 290.265 L1625.43 290.265 L1619.06 273.066 M1616.42 268.46 L1621.72 268.46 L1634.89 303.02 L1630.03 303.02 L1626.88 294.154 L1611.31 294.154 L1608.16 303.02 L1603.23 303.02 L1616.42 268.46 Z\" fill=\"#000000\" fill-rule=\"evenodd\" fill-opacity=\"1\" /><path clip-path=\"url(#clip810)\" d=\"M 0 0 M1639.36 267.001 L1643.62 267.001 L1643.62 303.02 L1639.36 303.02 L1639.36 267.001 Z\" fill=\"#000000\" fill-rule=\"evenodd\" fill-opacity=\"1\" /><path clip-path=\"url(#clip810)\" d=\"M 0 0 M1648.09 267.001 L1652.35 267.001 L1652.35 303.02 L1648.09 303.02 L1648.09 267.001 Z\" fill=\"#000000\" fill-rule=\"evenodd\" fill-opacity=\"1\" /><path clip-path=\"url(#clip810)\" d=\"M 0 0 M1688.46 286.816 Q1689.96 287.325 1691.38 288.992 Q1692.81 290.659 1694.25 293.575 L1698.99 303.02 L1693.97 303.02 L1689.55 294.154 Q1687.83 290.682 1686.21 289.548 Q1684.62 288.413 1681.84 288.413 L1676.75 288.413 L1676.75 303.02 L1672.07 303.02 L1672.07 268.46 L1682.63 268.46 Q1688.55 268.46 1691.47 270.937 Q1694.38 273.413 1694.38 278.413 Q1694.38 281.677 1692.86 283.83 Q1691.35 285.983 1688.46 286.816 M1676.75 272.302 L1676.75 284.571 L1682.63 284.571 Q1686 284.571 1687.72 283.02 Q1689.45 281.446 1689.45 278.413 Q1689.45 275.381 1687.72 273.853 Q1686 272.302 1682.63 272.302 L1676.75 272.302 Z\" fill=\"#000000\" fill-rule=\"evenodd\" fill-opacity=\"1\" /><path clip-path=\"url(#clip810)\" d=\"M 0 0 M1723.5 288.992 L1723.5 291.075 L1703.92 291.075 Q1704.2 295.473 1706.56 297.788 Q1708.94 300.08 1713.18 300.08 Q1715.63 300.08 1717.93 299.478 Q1720.24 298.876 1722.51 297.673 L1722.51 301.7 Q1720.22 302.672 1717.81 303.182 Q1715.4 303.691 1712.93 303.691 Q1706.72 303.691 1703.09 300.08 Q1699.48 296.469 1699.48 290.311 Q1699.48 283.946 1702.9 280.219 Q1706.35 276.469 1712.19 276.469 Q1717.42 276.469 1720.45 279.849 Q1723.5 283.205 1723.5 288.992 M1719.25 287.742 Q1719.2 284.247 1717.28 282.163 Q1715.38 280.08 1712.23 280.08 Q1708.67 280.08 1706.51 282.094 Q1704.38 284.108 1704.06 287.765 L1719.25 287.742 Z\" fill=\"#000000\" fill-rule=\"evenodd\" fill-opacity=\"1\" /><path clip-path=\"url(#clip810)\" d=\"M 0 0 M1748.16 282.071 Q1749.75 279.2 1751.98 277.835 Q1754.2 276.469 1757.21 276.469 Q1761.26 276.469 1763.46 279.316 Q1765.66 282.14 1765.66 287.372 L1765.66 303.02 L1761.37 303.02 L1761.37 287.511 Q1761.37 283.784 1760.06 281.978 Q1758.74 280.173 1756.03 280.173 Q1752.72 280.173 1750.8 282.372 Q1748.87 284.571 1748.87 288.367 L1748.87 303.02 L1744.59 303.02 L1744.59 287.511 Q1744.59 283.761 1743.27 281.978 Q1741.95 280.173 1739.2 280.173 Q1735.94 280.173 1734.01 282.395 Q1732.09 284.594 1732.09 288.367 L1732.09 303.02 L1727.81 303.02 L1727.81 277.094 L1732.09 277.094 L1732.09 281.122 Q1733.55 278.737 1735.59 277.603 Q1737.63 276.469 1740.43 276.469 Q1743.25 276.469 1745.22 277.904 Q1747.21 279.339 1748.16 282.071 Z\" fill=\"#000000\" fill-rule=\"evenodd\" fill-opacity=\"1\" /><path clip-path=\"url(#clip810)\" d=\"M 0 0 M1781.91 289.987 Q1776.75 289.987 1774.75 291.168 Q1772.76 292.348 1772.76 295.196 Q1772.76 297.464 1774.25 298.807 Q1775.75 300.126 1778.32 300.126 Q1781.86 300.126 1783.99 297.626 Q1786.14 295.103 1786.14 290.936 L1786.14 289.987 L1781.91 289.987 M1790.4 288.228 L1790.4 303.02 L1786.14 303.02 L1786.14 299.085 Q1784.68 301.446 1782.51 302.58 Q1780.33 303.691 1777.19 303.691 Q1773.2 303.691 1770.84 301.469 Q1768.5 299.223 1768.5 295.473 Q1768.5 291.098 1771.42 288.876 Q1774.36 286.654 1780.17 286.654 L1786.14 286.654 L1786.14 286.237 Q1786.14 283.298 1784.2 281.7 Q1782.28 280.08 1778.78 280.08 Q1776.56 280.08 1774.45 280.612 Q1772.35 281.145 1770.4 282.21 L1770.4 278.274 Q1772.74 277.372 1774.94 276.932 Q1777.14 276.469 1779.22 276.469 Q1784.85 276.469 1787.62 279.386 Q1790.4 282.302 1790.4 288.228 Z\" fill=\"#000000\" fill-rule=\"evenodd\" fill-opacity=\"1\" /><path clip-path=\"url(#clip810)\" d=\"M 0 0 M1794.87 277.094 L1799.13 277.094 L1799.13 303.02 L1794.87 303.02 L1794.87 277.094 M1794.87 267.001 L1799.13 267.001 L1799.13 272.395 L1794.87 272.395 L1794.87 267.001 Z\" fill=\"#000000\" fill-rule=\"evenodd\" fill-opacity=\"1\" /><path clip-path=\"url(#clip810)\" d=\"M 0 0 M1825.15 287.372 L1825.15 303.02 L1820.89 303.02 L1820.89 287.511 Q1820.89 283.83 1819.45 282.001 Q1818.02 280.173 1815.15 280.173 Q1811.7 280.173 1809.71 282.372 Q1807.72 284.571 1807.72 288.367 L1807.72 303.02 L1803.43 303.02 L1803.43 277.094 L1807.72 277.094 L1807.72 281.122 Q1809.25 278.784 1811.31 277.626 Q1813.39 276.469 1816.1 276.469 Q1820.56 276.469 1822.86 279.247 Q1825.15 282.001 1825.15 287.372 Z\" fill=\"#000000\" fill-rule=\"evenodd\" fill-opacity=\"1\" /><path clip-path=\"url(#clip810)\" d=\"M 0 0 M1829.62 277.094 L1833.87 277.094 L1833.87 303.02 L1829.62 303.02 L1829.62 277.094 M1829.62 267.001 L1833.87 267.001 L1833.87 272.395 L1829.62 272.395 L1829.62 267.001 Z\" fill=\"#000000\" fill-rule=\"evenodd\" fill-opacity=\"1\" /><path clip-path=\"url(#clip810)\" d=\"M 0 0 M1859.89 287.372 L1859.89 303.02 L1855.63 303.02 L1855.63 287.511 Q1855.63 283.83 1854.2 282.001 Q1852.76 280.173 1849.89 280.173 Q1846.44 280.173 1844.45 282.372 Q1842.46 284.571 1842.46 288.367 L1842.46 303.02 L1838.18 303.02 L1838.18 277.094 L1842.46 277.094 L1842.46 281.122 Q1843.99 278.784 1846.05 277.626 Q1848.13 276.469 1850.84 276.469 Q1855.31 276.469 1857.6 279.247 Q1859.89 282.001 1859.89 287.372 Z\" fill=\"#000000\" fill-rule=\"evenodd\" fill-opacity=\"1\" /><path clip-path=\"url(#clip810)\" d=\"M 0 0 M1881.42 289.756 Q1881.42 285.126 1879.5 282.58 Q1877.6 280.034 1874.15 280.034 Q1870.73 280.034 1868.8 282.58 Q1866.91 285.126 1866.91 289.756 Q1866.91 294.362 1868.8 296.909 Q1870.73 299.455 1874.15 299.455 Q1877.6 299.455 1879.5 296.909 Q1881.42 294.362 1881.42 289.756 M1885.68 299.802 Q1885.68 306.422 1882.74 309.64 Q1879.8 312.881 1873.74 312.881 Q1871.49 312.881 1869.5 312.534 Q1867.51 312.209 1865.63 311.515 L1865.63 307.372 Q1867.51 308.39 1869.34 308.876 Q1871.17 309.362 1873.06 309.362 Q1877.25 309.362 1879.34 307.163 Q1881.42 304.987 1881.42 300.566 L1881.42 298.46 Q1880.1 300.751 1878.04 301.885 Q1875.98 303.02 1873.11 303.02 Q1868.34 303.02 1865.43 299.385 Q1862.51 295.751 1862.51 289.756 Q1862.51 283.737 1865.43 280.103 Q1868.34 276.469 1873.11 276.469 Q1875.98 276.469 1878.04 277.603 Q1880.1 278.737 1881.42 281.029 L1881.42 277.094 L1885.68 277.094 L1885.68 299.802 Z\" fill=\"#000000\" fill-rule=\"evenodd\" fill-opacity=\"1\" /><path clip-path=\"url(#clip810)\" d=\"M 0 0 M1931.28 271.122 L1931.28 276.052 Q1928.92 273.853 1926.24 272.765 Q1923.57 271.677 1920.56 271.677 Q1914.64 271.677 1911.49 275.312 Q1908.34 278.923 1908.34 285.774 Q1908.34 292.603 1911.49 296.237 Q1914.64 299.848 1920.56 299.848 Q1923.57 299.848 1926.24 298.76 Q1928.92 297.673 1931.28 295.473 L1931.28 300.358 Q1928.83 302.024 1926.07 302.858 Q1923.34 303.691 1920.29 303.691 Q1912.44 303.691 1907.93 298.899 Q1903.41 294.085 1903.41 285.774 Q1903.41 277.441 1907.93 272.65 Q1912.44 267.835 1920.29 267.835 Q1923.39 267.835 1926.12 268.668 Q1928.87 269.478 1931.28 271.122 Z\" fill=\"#000000\" fill-rule=\"evenodd\" fill-opacity=\"1\" /><path clip-path=\"url(#clip810)\" d=\"M 0 0 M1947.53 289.987 Q1942.37 289.987 1940.38 291.168 Q1938.39 292.348 1938.39 295.196 Q1938.39 297.464 1939.87 298.807 Q1941.37 300.126 1943.94 300.126 Q1947.49 300.126 1949.61 297.626 Q1951.77 295.103 1951.77 290.936 L1951.77 289.987 L1947.53 289.987 M1956.03 288.228 L1956.03 303.02 L1951.77 303.02 L1951.77 299.085 Q1950.31 301.446 1948.13 302.58 Q1945.96 303.691 1942.81 303.691 Q1938.83 303.691 1936.47 301.469 Q1934.13 299.223 1934.13 295.473 Q1934.13 291.098 1937.05 288.876 Q1939.99 286.654 1945.8 286.654 L1951.77 286.654 L1951.77 286.237 Q1951.77 283.298 1949.82 281.7 Q1947.9 280.08 1944.41 280.08 Q1942.18 280.08 1940.08 280.612 Q1937.97 281.145 1936.03 282.21 L1936.03 278.274 Q1938.36 277.372 1940.56 276.932 Q1942.76 276.469 1944.85 276.469 Q1950.47 276.469 1953.25 279.386 Q1956.03 282.302 1956.03 288.228 Z\" fill=\"#000000\" fill-rule=\"evenodd\" fill-opacity=\"1\" /><path clip-path=\"url(#clip810)\" d=\"M 0 0 M1977.02 277.858 L1977.02 281.886 Q1975.22 280.96 1973.27 280.497 Q1971.33 280.034 1969.24 280.034 Q1966.07 280.034 1964.48 281.006 Q1962.9 281.978 1962.9 283.923 Q1962.9 285.404 1964.04 286.261 Q1965.17 287.094 1968.6 287.858 L1970.05 288.182 Q1974.59 289.154 1976.49 290.936 Q1978.41 292.696 1978.41 295.867 Q1978.41 299.478 1975.54 301.585 Q1972.69 303.691 1967.69 303.691 Q1965.61 303.691 1963.34 303.274 Q1961.1 302.881 1958.6 302.071 L1958.6 297.673 Q1960.96 298.899 1963.25 299.524 Q1965.54 300.126 1967.79 300.126 Q1970.8 300.126 1972.42 299.108 Q1974.04 298.066 1974.04 296.191 Q1974.04 294.455 1972.86 293.529 Q1971.7 292.603 1967.74 291.747 L1966.26 291.399 Q1962.3 290.566 1960.54 288.853 Q1958.78 287.117 1958.78 284.108 Q1958.78 280.45 1961.37 278.46 Q1963.97 276.469 1968.73 276.469 Q1971.1 276.469 1973.18 276.816 Q1975.26 277.163 1977.02 277.858 Z\" fill=\"#000000\" fill-rule=\"evenodd\" fill-opacity=\"1\" /><path clip-path=\"url(#clip810)\" d=\"M 0 0 M2005.05 288.992 L2005.05 291.075 L1985.47 291.075 Q1985.75 295.473 1988.11 297.788 Q1990.49 300.08 1994.73 300.08 Q1997.18 300.08 1999.48 299.478 Q2001.79 298.876 2004.06 297.673 L2004.06 301.7 Q2001.77 302.672 1999.36 303.182 Q1996.95 303.691 1994.48 303.691 Q1988.27 303.691 1984.64 300.08 Q1981.03 296.469 1981.03 290.311 Q1981.03 283.946 1984.45 280.219 Q1987.9 276.469 1993.73 276.469 Q1998.97 276.469 2002 279.849 Q2005.05 283.205 2005.05 288.992 M2000.79 287.742 Q2000.75 284.247 1998.83 282.163 Q1996.93 280.08 1993.78 280.08 Q1990.22 280.08 1988.06 282.094 Q1985.93 284.108 1985.61 287.765 L2000.79 287.742 Z\" fill=\"#000000\" fill-rule=\"evenodd\" fill-opacity=\"1\" /><path clip-path=\"url(#clip810)\" d=\"M 0 0 M2026.05 277.858 L2026.05 281.886 Q2024.24 280.96 2022.3 280.497 Q2020.36 280.034 2018.27 280.034 Q2015.1 280.034 2013.5 281.006 Q2011.93 281.978 2011.93 283.923 Q2011.93 285.404 2013.06 286.261 Q2014.2 287.094 2017.62 287.858 L2019.08 288.182 Q2023.62 289.154 2025.52 290.936 Q2027.44 292.696 2027.44 295.867 Q2027.44 299.478 2024.57 301.585 Q2021.72 303.691 2016.72 303.691 Q2014.64 303.691 2012.37 303.274 Q2010.12 302.881 2007.62 302.071 L2007.62 297.673 Q2009.98 298.899 2012.28 299.524 Q2014.57 300.126 2016.81 300.126 Q2019.82 300.126 2021.44 299.108 Q2023.06 298.066 2023.06 296.191 Q2023.06 294.455 2021.88 293.529 Q2020.73 292.603 2016.77 291.747 L2015.29 291.399 Q2011.33 290.566 2009.57 288.853 Q2007.81 287.117 2007.81 284.108 Q2007.81 280.45 2010.4 278.46 Q2012.99 276.469 2017.76 276.469 Q2020.12 276.469 2022.21 276.816 Q2024.29 277.163 2026.05 277.858 Z\" fill=\"#000000\" fill-rule=\"evenodd\" fill-opacity=\"1\" /><polyline clip-path=\"url(#clip810)\" style=\"stroke:#e26f46; stroke-width:4; stroke-opacity:1; fill:none\" points=\"\n",
       "  1436.69,346.22 1579.44,346.22 \n",
       "  \"/>\n",
       "<path clip-path=\"url(#clip810)\" d=\"M 0 0 M1607.9 346.995 L1607.9 359.657 L1615.4 359.657 Q1619.18 359.657 1620.98 358.106 Q1622.81 356.532 1622.81 353.315 Q1622.81 350.074 1620.98 348.546 Q1619.18 346.995 1615.4 346.995 L1607.9 346.995 M1607.9 332.782 L1607.9 343.199 L1614.82 343.199 Q1618.25 343.199 1619.92 341.926 Q1621.61 340.629 1621.61 337.991 Q1621.61 335.375 1619.92 334.079 Q1618.25 332.782 1614.82 332.782 L1607.9 332.782 M1603.23 328.94 L1615.17 328.94 Q1620.52 328.94 1623.41 331.162 Q1626.31 333.384 1626.31 337.481 Q1626.31 340.653 1624.82 342.528 Q1623.34 344.403 1620.47 344.866 Q1623.92 345.606 1625.82 347.967 Q1627.74 350.305 1627.74 353.824 Q1627.74 358.453 1624.59 360.977 Q1621.45 363.5 1615.63 363.5 L1603.23 363.5 L1603.23 328.94 Z\" fill=\"#000000\" fill-rule=\"evenodd\" fill-opacity=\"1\" /><path clip-path=\"url(#clip810)\" d=\"M 0 0 M1648.78 347.296 Q1650.29 347.805 1651.7 349.472 Q1653.13 351.139 1654.57 354.055 L1659.32 363.5 L1654.29 363.5 L1649.87 354.634 Q1648.16 351.162 1646.54 350.028 Q1644.94 348.893 1642.16 348.893 L1637.07 348.893 L1637.07 363.5 L1632.39 363.5 L1632.39 328.94 L1642.95 328.94 Q1648.88 328.94 1651.79 331.417 Q1654.71 333.893 1654.71 338.893 Q1654.71 342.157 1653.18 344.31 Q1651.68 346.463 1648.78 347.296 M1637.07 332.782 L1637.07 345.051 L1642.95 345.051 Q1646.33 345.051 1648.04 343.5 Q1649.78 341.926 1649.78 338.893 Q1649.78 335.861 1648.04 334.333 Q1646.33 332.782 1642.95 332.782 L1637.07 332.782 Z\" fill=\"#000000\" fill-rule=\"evenodd\" fill-opacity=\"1\" /><path clip-path=\"url(#clip810)\" d=\"M 0 0 M1687.49 331.602 L1687.49 336.532 Q1685.13 334.333 1682.44 333.245 Q1679.78 332.157 1676.77 332.157 Q1670.84 332.157 1667.69 335.792 Q1664.55 339.403 1664.55 346.254 Q1664.55 353.083 1667.69 356.717 Q1670.84 360.328 1676.77 360.328 Q1679.78 360.328 1682.44 359.24 Q1685.13 358.153 1687.49 355.953 L1687.49 360.838 Q1685.03 362.504 1682.28 363.338 Q1679.55 364.171 1676.49 364.171 Q1668.64 364.171 1664.13 359.379 Q1659.62 354.565 1659.62 346.254 Q1659.62 337.921 1664.13 333.13 Q1668.64 328.315 1676.49 328.315 Q1679.59 328.315 1682.32 329.148 Q1685.08 329.958 1687.49 331.602 Z\" fill=\"#000000\" fill-rule=\"evenodd\" fill-opacity=\"1\" /><path clip-path=\"url(#clip810)\" d=\"M 0 0 M1703.69 333.546 L1697.35 350.745 L1710.06 350.745 L1703.69 333.546 M1701.05 328.94 L1706.35 328.94 L1719.52 363.5 L1714.66 363.5 L1711.51 354.634 L1695.94 354.634 L1692.79 363.5 L1687.86 363.5 L1701.05 328.94 Z\" fill=\"#000000\" fill-rule=\"evenodd\" fill-opacity=\"1\" /><path clip-path=\"url(#clip810)\" d=\"M 0 0 M1725.4 359.565 L1733.04 359.565 L1733.04 333.199 L1724.73 334.866 L1724.73 330.606 L1733 328.94 L1737.67 328.94 L1737.67 359.565 L1745.31 359.565 L1745.31 363.5 L1725.4 363.5 L1725.4 359.565 Z\" fill=\"#000000\" fill-rule=\"evenodd\" fill-opacity=\"1\" /><path clip-path=\"url(#clip810)\" d=\"M 0 0 M1750.87 357.62 L1755.75 357.62 L1755.75 363.5 L1750.87 363.5 L1750.87 357.62 M1750.87 338.986 L1755.75 338.986 L1755.75 344.866 L1750.87 344.866 L1750.87 338.986 Z\" fill=\"#000000\" fill-rule=\"evenodd\" fill-opacity=\"1\" /><path clip-path=\"url(#clip810)\" d=\"M 0 0 M1758.41 328.94 L1785.56 328.94 L1785.56 332.505 L1763.71 359.565 L1786.1 359.565 L1786.1 363.5 L1757.88 363.5 L1757.88 359.935 L1779.73 332.875 L1758.41 332.875 L1758.41 328.94 Z\" fill=\"#000000\" fill-rule=\"evenodd\" fill-opacity=\"1\" /><path clip-path=\"url(#clip810)\" d=\"M 0 0 M1791.12 339.981 L1791.12 335.907 L1820.8 344.403 L1820.8 348.338 L1791.12 356.856 L1791.12 352.736 L1813.37 346.393 L1791.12 339.981 M1820.8 359.565 L1820.8 363.5 L1791.12 363.5 L1791.12 359.565 L1820.8 359.565 Z\" fill=\"#000000\" fill-rule=\"evenodd\" fill-opacity=\"1\" /><path clip-path=\"url(#clip810)\" d=\"M 0 0 M1826.68 359.565 L1834.31 359.565 L1834.31 333.199 L1826 334.866 L1826 330.606 L1834.27 328.94 L1838.94 328.94 L1838.94 359.565 L1846.58 359.565 L1846.58 363.5 L1826.68 363.5 L1826.68 359.565 Z\" fill=\"#000000\" fill-rule=\"evenodd\" fill-opacity=\"1\" /><path clip-path=\"url(#clip810)\" d=\"M 0 0 M1851.65 357.62 L1856.54 357.62 L1856.54 363.5 L1851.65 363.5 L1851.65 357.62 Z\" fill=\"#000000\" fill-rule=\"evenodd\" fill-opacity=\"1\" /><path clip-path=\"url(#clip810)\" d=\"M 0 0 M1871.61 332.018 Q1867.99 332.018 1866.17 335.583 Q1864.36 339.125 1864.36 346.254 Q1864.36 353.361 1866.17 356.926 Q1867.99 360.467 1871.61 360.467 Q1875.24 360.467 1877.05 356.926 Q1878.87 353.361 1878.87 346.254 Q1878.87 339.125 1877.05 335.583 Q1875.24 332.018 1871.61 332.018 M1871.61 328.315 Q1877.42 328.315 1880.47 332.921 Q1883.55 337.504 1883.55 346.254 Q1883.55 354.981 1880.47 359.588 Q1877.42 364.171 1871.61 364.171 Q1865.8 364.171 1862.72 359.588 Q1859.66 354.981 1859.66 346.254 Q1859.66 337.504 1862.72 332.921 Q1865.8 328.315 1871.61 328.315 Z\" fill=\"#000000\" fill-rule=\"evenodd\" fill-opacity=\"1\" /><path clip-path=\"url(#clip810)\" d=\"M 0 0 M1910.15 344.912 Q1908.04 346.787 1907.05 348.662 Q1906.07 350.514 1906.07 352.551 Q1906.07 355.93 1908.53 358.176 Q1910.98 360.421 1914.68 360.421 Q1916.88 360.421 1918.8 359.703 Q1920.73 358.963 1922.42 357.481 L1910.15 344.912 M1913.41 342.319 L1925.17 354.356 Q1926.54 352.296 1927.3 349.958 Q1928.06 347.597 1928.2 344.958 L1932.51 344.958 Q1932.23 348.014 1931.03 351 Q1929.82 353.986 1927.67 356.903 L1934.13 363.5 L1928.3 363.5 L1924.99 360.097 Q1922.58 362.157 1919.94 363.176 Q1917.3 364.171 1914.27 364.171 Q1908.69 364.171 1905.15 361 Q1901.61 357.805 1901.61 352.828 Q1901.61 349.866 1903.16 347.273 Q1904.71 344.657 1907.81 342.366 Q1906.7 340.907 1906.12 339.472 Q1905.54 338.014 1905.54 336.625 Q1905.54 332.875 1908.11 330.606 Q1910.68 328.315 1914.94 328.315 Q1916.86 328.315 1918.76 328.731 Q1920.68 329.148 1922.65 329.981 L1922.65 334.194 Q1920.63 333.106 1918.8 332.551 Q1916.98 331.972 1915.4 331.972 Q1912.97 331.972 1911.44 333.268 Q1909.94 334.542 1909.94 336.579 Q1909.94 337.759 1910.61 338.963 Q1911.3 340.143 1913.41 342.319 Z\" fill=\"#000000\" fill-rule=\"evenodd\" fill-opacity=\"1\" /><path clip-path=\"url(#clip810)\" d=\"M 0 0 M1958.53 346.995 L1958.53 359.657 L1966.03 359.657 Q1969.8 359.657 1971.61 358.106 Q1973.43 356.532 1973.43 353.315 Q1973.43 350.074 1971.61 348.546 Q1969.8 346.995 1966.03 346.995 L1958.53 346.995 M1958.53 332.782 L1958.53 343.199 L1965.45 343.199 Q1968.87 343.199 1970.54 341.926 Q1972.23 340.629 1972.23 337.991 Q1972.23 335.375 1970.54 334.079 Q1968.87 332.782 1965.45 332.782 L1958.53 332.782 M1953.85 328.94 L1965.8 328.94 Q1971.14 328.94 1974.04 331.162 Q1976.93 333.384 1976.93 337.481 Q1976.93 340.653 1975.45 342.528 Q1973.97 344.403 1971.1 344.866 Q1974.55 345.606 1976.44 347.967 Q1978.36 350.305 1978.36 353.824 Q1978.36 358.453 1975.22 360.977 Q1972.07 363.5 1966.26 363.5 L1953.85 363.5 L1953.85 328.94 Z\" fill=\"#000000\" fill-rule=\"evenodd\" fill-opacity=\"1\" /><path clip-path=\"url(#clip810)\" d=\"M 0 0 M1999.41 347.296 Q2000.91 347.805 2002.32 349.472 Q2003.76 351.139 2005.19 354.055 L2009.94 363.5 L2004.92 363.5 L2000.49 354.634 Q1998.78 351.162 1997.16 350.028 Q1995.56 348.893 1992.79 348.893 L1987.69 348.893 L1987.69 363.5 L1983.02 363.5 L1983.02 328.94 L1993.57 328.94 Q1999.5 328.94 2002.42 331.417 Q2005.33 333.893 2005.33 338.893 Q2005.33 342.157 2003.8 344.31 Q2002.3 346.463 1999.41 347.296 M1987.69 332.782 L1987.69 345.051 L1993.57 345.051 Q1996.95 345.051 1998.67 343.5 Q2000.4 341.926 2000.4 338.893 Q2000.4 335.861 1998.67 334.333 Q1996.95 332.782 1993.57 332.782 L1987.69 332.782 Z\" fill=\"#000000\" fill-rule=\"evenodd\" fill-opacity=\"1\" /><path clip-path=\"url(#clip810)\" d=\"M 0 0 M2038.11 331.602 L2038.11 336.532 Q2035.75 334.333 2033.06 333.245 Q2030.4 332.157 2027.39 332.157 Q2021.47 332.157 2018.32 335.792 Q2015.17 339.403 2015.17 346.254 Q2015.17 353.083 2018.32 356.717 Q2021.47 360.328 2027.39 360.328 Q2030.4 360.328 2033.06 359.24 Q2035.75 358.153 2038.11 355.953 L2038.11 360.838 Q2035.66 362.504 2032.9 363.338 Q2030.17 364.171 2027.11 364.171 Q2019.27 364.171 2014.75 359.379 Q2010.24 354.565 2010.24 346.254 Q2010.24 337.921 2014.75 333.13 Q2019.27 328.315 2027.11 328.315 Q2030.22 328.315 2032.95 329.148 Q2035.7 329.958 2038.11 331.602 Z\" fill=\"#000000\" fill-rule=\"evenodd\" fill-opacity=\"1\" /><path clip-path=\"url(#clip810)\" d=\"M 0 0 M2054.31 333.546 L2047.97 350.745 L2060.68 350.745 L2054.31 333.546 M2051.67 328.94 L2056.98 328.94 L2070.15 363.5 L2065.29 363.5 L2062.14 354.634 L2046.56 354.634 L2043.41 363.5 L2038.48 363.5 L2051.67 328.94 Z\" fill=\"#000000\" fill-rule=\"evenodd\" fill-opacity=\"1\" /><path clip-path=\"url(#clip810)\" d=\"M 0 0 M2079.24 359.565 L2095.56 359.565 L2095.56 363.5 L2073.62 363.5 L2073.62 359.565 Q2076.28 356.81 2080.86 352.18 Q2085.47 347.528 2086.65 346.185 Q2088.9 343.662 2089.78 341.926 Q2090.68 340.167 2090.68 338.477 Q2090.68 335.722 2088.73 333.986 Q2086.81 332.25 2083.71 332.25 Q2081.51 332.25 2079.06 333.014 Q2076.63 333.778 2073.85 335.329 L2073.85 330.606 Q2076.67 329.472 2079.13 328.893 Q2081.58 328.315 2083.62 328.315 Q2088.99 328.315 2092.18 331 Q2095.38 333.685 2095.38 338.176 Q2095.38 340.305 2094.57 342.227 Q2093.78 344.125 2091.67 346.717 Q2091.1 347.389 2087.99 350.606 Q2084.89 353.801 2079.24 359.565 Z\" fill=\"#000000\" fill-rule=\"evenodd\" fill-opacity=\"1\" /><path clip-path=\"url(#clip810)\" d=\"M 0 0 M2101.12 357.62 L2106 357.62 L2106 363.5 L2101.12 363.5 L2101.12 357.62 M2101.12 338.986 L2106 338.986 L2106 344.866 L2101.12 344.866 L2101.12 338.986 Z\" fill=\"#000000\" fill-rule=\"evenodd\" fill-opacity=\"1\" /><path clip-path=\"url(#clip810)\" d=\"M 0 0 M2108.66 328.94 L2135.82 328.94 L2135.82 332.505 L2113.97 359.565 L2136.35 359.565 L2136.35 363.5 L2108.13 363.5 L2108.13 359.935 L2129.98 332.875 L2108.66 332.875 L2108.66 328.94 Z\" fill=\"#000000\" fill-rule=\"evenodd\" fill-opacity=\"1\" /><path clip-path=\"url(#clip810)\" d=\"M 0 0 M2141.37 339.981 L2141.37 335.907 L2171.05 344.403 L2171.05 348.338 L2141.37 356.856 L2141.37 352.736 L2163.62 346.393 L2141.37 339.981 M2171.05 359.565 L2171.05 363.5 L2141.37 363.5 L2141.37 359.565 L2171.05 359.565 Z\" fill=\"#000000\" fill-rule=\"evenodd\" fill-opacity=\"1\" /><path clip-path=\"url(#clip810)\" d=\"M 0 0 M2176.93 359.565 L2184.57 359.565 L2184.57 333.199 L2176.26 334.866 L2176.26 330.606 L2184.52 328.94 L2189.2 328.94 L2189.2 359.565 L2196.84 359.565 L2196.84 363.5 L2176.93 363.5 L2176.93 359.565 Z\" fill=\"#000000\" fill-rule=\"evenodd\" fill-opacity=\"1\" /><path clip-path=\"url(#clip810)\" d=\"M 0 0 M2201.9 357.62 L2206.79 357.62 L2206.79 363.5 L2201.9 363.5 L2201.9 357.62 Z\" fill=\"#000000\" fill-rule=\"evenodd\" fill-opacity=\"1\" /><path clip-path=\"url(#clip810)\" d=\"M 0 0 M2221.86 332.018 Q2218.25 332.018 2216.42 335.583 Q2214.61 339.125 2214.61 346.254 Q2214.61 353.361 2216.42 356.926 Q2218.25 360.467 2221.86 360.467 Q2225.49 360.467 2227.3 356.926 Q2229.13 353.361 2229.13 346.254 Q2229.13 339.125 2227.3 335.583 Q2225.49 332.018 2221.86 332.018 M2221.86 328.315 Q2227.67 328.315 2230.72 332.921 Q2233.8 337.504 2233.8 346.254 Q2233.8 354.981 2230.72 359.588 Q2227.67 364.171 2221.86 364.171 Q2216.05 364.171 2212.97 359.588 Q2209.91 354.981 2209.91 346.254 Q2209.91 337.504 2212.97 332.921 Q2216.05 328.315 2221.86 328.315 Z\" fill=\"#000000\" fill-rule=\"evenodd\" fill-opacity=\"1\" /></svg>\n"
      ]
     },
     "execution_count": 49,
     "metadata": {},
     "output_type": "execute_result"
    }
   ],
   "source": [
    "plot_km_results(km_results, config, clinical_outcome, clinical_time_units)"
   ]
  },
  {
   "cell_type": "markdown",
   "metadata": {},
   "source": [
    "And the Cox proportional hazards model:"
   ]
  },
  {
   "cell_type": "code",
   "execution_count": 79,
   "metadata": {},
   "outputs": [
    {
     "data": {
      "text/plain": [
       "perform_cox (generic function with 1 method)"
      ]
     },
     "execution_count": 79,
     "metadata": {},
     "output_type": "execute_result"
    }
   ],
   "source": [
    "function perform_cox(joined)\n",
    "    joined.EVENT = EventTime.(joined.TIME, Bool.(joined.STATUS))\n",
    "    joined.GROUP_INT = map(row -> row.GROUP == \"CONTROL\" ? 0 : row.GROUP == \"TEST\" ? 1 : -1, eachrow(joined))\n",
    "    cox_model = coxph(@formula(EVENT ~ GROUP_INT), joined)\n",
    "    coefs = coeftable(cox_model)\n",
    "    results = Dict(\n",
    "        \"p_value\" => coefs.cols[4],\n",
    "        \"estimate\" => coefs.cols[1]\n",
    "    )\n",
    "    return results\n",
    "end"
   ]
  },
  {
   "cell_type": "code",
   "execution_count": 80,
   "metadata": {},
   "outputs": [
    {
     "data": {
      "text/plain": [
       "Dict{String,Array{Float64,1}} with 2 entries:\n",
       "  \"p_value\"  => [0.153884]\n",
       "  \"estimate\" => [0.435464]"
      ]
     },
     "execution_count": 80,
     "metadata": {},
     "output_type": "execute_result"
    }
   ],
   "source": [
    "perform_cox(joined)"
   ]
  },
  {
   "cell_type": "code",
   "execution_count": 93,
   "metadata": {},
   "outputs": [
    {
     "data": {
      "text/plain": [
       "StatsModels.TableRegressionModel{CoxModel{Float64},Array{Float64,2}}\n",
       "\n",
       "EVENT ~ GROUP_INT\n",
       "\n",
       "Coefficients:\n",
       "───────────────────────────────────────────────────\n",
       "            Estimate  Std.Error   z value  Pr(>|z|)\n",
       "───────────────────────────────────────────────────\n",
       "GROUP_INT  -0.435464   0.305386  -1.42594    0.1539\n",
       "───────────────────────────────────────────────────"
      ]
     },
     "execution_count": 93,
     "metadata": {},
     "output_type": "execute_result"
    }
   ],
   "source": [
    "joined.EVENT = EventTime.(joined.TIME, Bool.(joined.STATUS))\n",
    "joined.GROUP_INT = map(row -> row.GROUP == \"CONTROL\" ? 1 : row.GROUP == \"TEST\" ? 0 : -1, eachrow(joined))\n",
    "cox_model = coxph(@formula(EVENT ~ GROUP_INT), joined)\n"
   ]
  },
  {
   "cell_type": "code",
   "execution_count": 94,
   "metadata": {},
   "outputs": [
    {
     "data": {
      "text/plain": [
       "───────────────────────────────────────────────────\n",
       "            Estimate  Std.Error   z value  Pr(>|z|)\n",
       "───────────────────────────────────────────────────\n",
       "GROUP_INT  -0.435464   0.305386  -1.42594    0.1539\n",
       "───────────────────────────────────────────────────"
      ]
     },
     "execution_count": 94,
     "metadata": {},
     "output_type": "execute_result"
    }
   ],
   "source": [
    "coefs = coeftable(cox_model)"
   ]
  },
  {
   "cell_type": "markdown",
   "metadata": {},
   "source": [
    "$\\lambda(t | X_i) = \\lambda_0(t) \\exp(X_i \\cdot \\beta)$"
   ]
  },
  {
   "cell_type": "code",
   "execution_count": 99,
   "metadata": {},
   "outputs": [
    {
     "data": {
      "text/plain": [
       "0.15388439909444282"
      ]
     },
     "execution_count": 99,
     "metadata": {},
     "output_type": "execute_result"
    }
   ],
   "source": [
    "coefs.cols[4][1]"
   ]
  },
  {
   "cell_type": "markdown",
   "metadata": {},
   "source": [
    "The p-value can be extracted and returned, along with the estimate. "
   ]
  },
  {
   "cell_type": "markdown",
   "metadata": {},
   "source": [
    "## Putting it all Together"
   ]
  },
  {
   "cell_type": "markdown",
   "metadata": {},
   "source": [
    "These measures can be wrapped together in a single function that will take a single JSON configuration, and return the result (bar any errors). This can be wrapped in a try block to catch any errors that might occur and return useful information."
   ]
  },
  {
   "cell_type": "code",
   "execution_count": 39,
   "metadata": {},
   "outputs": [
    {
     "data": {
      "text/plain": [
       "perform_survival_analysis (generic function with 1 method)"
      ]
     },
     "execution_count": 39,
     "metadata": {},
     "output_type": "execute_result"
    }
   ],
   "source": [
    "function perform_survival_analysis(config_json)\n",
    "    local clinicaldata, clinicalevent, clinicaltimeunit, moleculardata\n",
    "    config = parse_config(config_json)\n",
    "    @sync begin\n",
    "        @async begin\n",
    "            clinicaldata_dict = get_clinicaldata(config)\n",
    "            (clinicaldata, clinicalevent, clinicaltimeunit) = preprocess_clinicaldata(clinicaldata_dict)\n",
    "        end\n",
    "\n",
    "        @async begin\n",
    "            moleculardata_dict = get_moleculardata(config)\n",
    "            moleculardata = preprocess_moleculardata(moleculardata_dict, config)\n",
    "        end\n",
    "    end\n",
    "    \n",
    "    # Join the data\n",
    "    joined = join_data(clinicaldata, moleculardata)\n",
    "    \n",
    "    # Perform statistics\n",
    "    km = perform_km(joined)\n",
    "    cox = perform_cox(joined)\n",
    "        \n",
    "    # Aggregate\n",
    "    result = Dict(\n",
    "        \"km\" => km,\n",
    "        \"cox\" => cox,\n",
    "        \"event_type\" => clinicalevent,\n",
    "        \"event_time_unit\" => clinicaltimeunit\n",
    "    )\n",
    "    \n",
    "    return result\n",
    "end"
   ]
  },
  {
   "cell_type": "markdown",
   "metadata": {},
   "source": [
    "And an interactive version for visualisation here:"
   ]
  },
  {
   "cell_type": "code",
   "execution_count": 79,
   "metadata": {},
   "outputs": [
    {
     "data": {
      "text/plain": [
       "interactive_perform_survival (generic function with 1 method)"
      ]
     },
     "execution_count": 79,
     "metadata": {},
     "output_type": "execute_result"
    }
   ],
   "source": [
    "function interactive_perform_survival(config_json)\n",
    "    config = parse_config(config_json)\n",
    "    result = perform_survival_analysis(config_json)\n",
    "    println(result[\"cox\"])\n",
    "    plot_km_results(result[\"km\"], config, result[\"event_type\"], result[\"event_time_unit\"])\n",
    "end"
   ]
  },
  {
   "cell_type": "markdown",
   "metadata": {},
   "source": [
    "We can now supply this with arbitrary configurations and return the results."
   ]
  },
  {
   "cell_type": "code",
   "execution_count": 80,
   "metadata": {},
   "outputs": [
    {
     "name": "stdout",
     "output_type": "stream",
     "text": [
      "Dict(\"p_value\" => [0.023221356411472185],\"estimate\" => [0.6302145034233457])\n"
     ]
    },
    {
     "data": {
      "image/svg+xml": [
       "<?xml version=\"1.0\" encoding=\"utf-8\"?>\n",
       "<svg xmlns=\"http://www.w3.org/2000/svg\" xmlns:xlink=\"http://www.w3.org/1999/xlink\" width=\"600\" height=\"400\" viewBox=\"0 0 2400 1600\">\n",
       "<defs>\n",
       "  <clipPath id=\"clip890\">\n",
       "    <rect x=\"0\" y=\"0\" width=\"2400\" height=\"1600\"/>\n",
       "  </clipPath>\n",
       "</defs>\n",
       "<path clip-path=\"url(#clip890)\" d=\"\n",
       "M0 1600 L2400 1600 L2400 0 L0 0  Z\n",
       "  \" fill=\"#ffffff\" fill-rule=\"evenodd\" fill-opacity=\"1\"/>\n",
       "<defs>\n",
       "  <clipPath id=\"clip891\">\n",
       "    <rect x=\"480\" y=\"0\" width=\"1681\" height=\"1600\"/>\n",
       "  </clipPath>\n",
       "</defs>\n",
       "<path clip-path=\"url(#clip890)\" d=\"\n",
       "M211.602 1423.18 L2352.76 1423.18 L2352.76 183.952 L211.602 183.952  Z\n",
       "  \" fill=\"#ffffff\" fill-rule=\"evenodd\" fill-opacity=\"1\"/>\n",
       "<defs>\n",
       "  <clipPath id=\"clip892\">\n",
       "    <rect x=\"211\" y=\"183\" width=\"2142\" height=\"1240\"/>\n",
       "  </clipPath>\n",
       "</defs>\n",
       "<polyline clip-path=\"url(#clip892)\" style=\"stroke:#000000; stroke-width:2; stroke-opacity:0.1; fill:none\" points=\"\n",
       "  274.2,1423.18 274.2,183.952 \n",
       "  \"/>\n",
       "<polyline clip-path=\"url(#clip892)\" style=\"stroke:#000000; stroke-width:2; stroke-opacity:0.1; fill:none\" points=\"\n",
       "  845.293,1423.18 845.293,183.952 \n",
       "  \"/>\n",
       "<polyline clip-path=\"url(#clip892)\" style=\"stroke:#000000; stroke-width:2; stroke-opacity:0.1; fill:none\" points=\"\n",
       "  1416.39,1423.18 1416.39,183.952 \n",
       "  \"/>\n",
       "<polyline clip-path=\"url(#clip892)\" style=\"stroke:#000000; stroke-width:2; stroke-opacity:0.1; fill:none\" points=\"\n",
       "  1987.48,1423.18 1987.48,183.952 \n",
       "  \"/>\n",
       "<polyline clip-path=\"url(#clip892)\" style=\"stroke:#000000; stroke-width:2; stroke-opacity:0.1; fill:none\" points=\"\n",
       "  211.602,1376.34 2352.76,1376.34 \n",
       "  \"/>\n",
       "<polyline clip-path=\"url(#clip892)\" style=\"stroke:#000000; stroke-width:2; stroke-opacity:0.1; fill:none\" points=\"\n",
       "  211.602,1087.01 2352.76,1087.01 \n",
       "  \"/>\n",
       "<polyline clip-path=\"url(#clip892)\" style=\"stroke:#000000; stroke-width:2; stroke-opacity:0.1; fill:none\" points=\"\n",
       "  211.602,797.68 2352.76,797.68 \n",
       "  \"/>\n",
       "<polyline clip-path=\"url(#clip892)\" style=\"stroke:#000000; stroke-width:2; stroke-opacity:0.1; fill:none\" points=\"\n",
       "  211.602,508.352 2352.76,508.352 \n",
       "  \"/>\n",
       "<polyline clip-path=\"url(#clip892)\" style=\"stroke:#000000; stroke-width:2; stroke-opacity:0.1; fill:none\" points=\"\n",
       "  211.602,219.025 2352.76,219.025 \n",
       "  \"/>\n",
       "<polyline clip-path=\"url(#clip890)\" style=\"stroke:#000000; stroke-width:4; stroke-opacity:1; fill:none\" points=\"\n",
       "  211.602,1423.18 2352.76,1423.18 \n",
       "  \"/>\n",
       "<polyline clip-path=\"url(#clip890)\" style=\"stroke:#000000; stroke-width:4; stroke-opacity:1; fill:none\" points=\"\n",
       "  211.602,1423.18 211.602,183.952 \n",
       "  \"/>\n",
       "<polyline clip-path=\"url(#clip890)\" style=\"stroke:#000000; stroke-width:4; stroke-opacity:1; fill:none\" points=\"\n",
       "  274.2,1423.18 274.2,1408.31 \n",
       "  \"/>\n",
       "<polyline clip-path=\"url(#clip890)\" style=\"stroke:#000000; stroke-width:4; stroke-opacity:1; fill:none\" points=\"\n",
       "  845.293,1423.18 845.293,1408.31 \n",
       "  \"/>\n",
       "<polyline clip-path=\"url(#clip890)\" style=\"stroke:#000000; stroke-width:4; stroke-opacity:1; fill:none\" points=\"\n",
       "  1416.39,1423.18 1416.39,1408.31 \n",
       "  \"/>\n",
       "<polyline clip-path=\"url(#clip890)\" style=\"stroke:#000000; stroke-width:4; stroke-opacity:1; fill:none\" points=\"\n",
       "  1987.48,1423.18 1987.48,1408.31 \n",
       "  \"/>\n",
       "<polyline clip-path=\"url(#clip890)\" style=\"stroke:#000000; stroke-width:4; stroke-opacity:1; fill:none\" points=\"\n",
       "  211.602,1376.34 237.296,1376.34 \n",
       "  \"/>\n",
       "<polyline clip-path=\"url(#clip890)\" style=\"stroke:#000000; stroke-width:4; stroke-opacity:1; fill:none\" points=\"\n",
       "  211.602,1087.01 237.296,1087.01 \n",
       "  \"/>\n",
       "<polyline clip-path=\"url(#clip890)\" style=\"stroke:#000000; stroke-width:4; stroke-opacity:1; fill:none\" points=\"\n",
       "  211.602,797.68 237.296,797.68 \n",
       "  \"/>\n",
       "<polyline clip-path=\"url(#clip890)\" style=\"stroke:#000000; stroke-width:4; stroke-opacity:1; fill:none\" points=\"\n",
       "  211.602,508.352 237.296,508.352 \n",
       "  \"/>\n",
       "<polyline clip-path=\"url(#clip890)\" style=\"stroke:#000000; stroke-width:4; stroke-opacity:1; fill:none\" points=\"\n",
       "  211.602,219.025 237.296,219.025 \n",
       "  \"/>\n",
       "<path clip-path=\"url(#clip890)\" d=\"M 0 0 M274.2 1445.17 Q270.589 1445.17 268.76 1448.74 Q266.955 1452.28 266.955 1459.41 Q266.955 1466.51 268.76 1470.08 Q270.589 1473.62 274.2 1473.62 Q277.834 1473.62 279.64 1470.08 Q281.468 1466.51 281.468 1459.41 Q281.468 1452.28 279.64 1448.74 Q277.834 1445.17 274.2 1445.17 M274.2 1441.47 Q280.01 1441.47 283.066 1446.07 Q286.144 1450.66 286.144 1459.41 Q286.144 1468.13 283.066 1472.74 Q280.01 1477.32 274.2 1477.32 Q268.39 1477.32 265.311 1472.74 Q262.256 1468.13 262.256 1459.41 Q262.256 1450.66 265.311 1446.07 Q268.39 1441.47 274.2 1441.47 Z\" fill=\"#000000\" fill-rule=\"evenodd\" fill-opacity=\"1\" /><path clip-path=\"url(#clip890)\" d=\"M 0 0 M799.425 1472.72 L815.745 1472.72 L815.745 1476.65 L793.8 1476.65 L793.8 1472.72 Q796.462 1469.96 801.046 1465.33 Q805.652 1460.68 806.833 1459.34 Q809.078 1456.81 809.958 1455.08 Q810.86 1453.32 810.86 1451.63 Q810.86 1448.87 808.916 1447.14 Q806.995 1445.4 803.893 1445.4 Q801.694 1445.4 799.24 1446.17 Q796.809 1446.93 794.032 1448.48 L794.032 1443.76 Q796.856 1442.62 799.309 1442.05 Q801.763 1441.47 803.8 1441.47 Q809.17 1441.47 812.365 1444.15 Q815.559 1446.84 815.559 1451.33 Q815.559 1453.46 814.749 1455.38 Q813.962 1457.28 811.856 1459.87 Q811.277 1460.54 808.175 1463.76 Q805.073 1466.95 799.425 1472.72 Z\" fill=\"#000000\" fill-rule=\"evenodd\" fill-opacity=\"1\" /><path clip-path=\"url(#clip890)\" d=\"M 0 0 M830.814 1445.17 Q827.203 1445.17 825.374 1448.74 Q823.569 1452.28 823.569 1459.41 Q823.569 1466.51 825.374 1470.08 Q827.203 1473.62 830.814 1473.62 Q834.448 1473.62 836.254 1470.08 Q838.082 1466.51 838.082 1459.41 Q838.082 1452.28 836.254 1448.74 Q834.448 1445.17 830.814 1445.17 M830.814 1441.47 Q836.624 1441.47 839.68 1446.07 Q842.758 1450.66 842.758 1459.41 Q842.758 1468.13 839.68 1472.74 Q836.624 1477.32 830.814 1477.32 Q825.004 1477.32 821.925 1472.74 Q818.87 1468.13 818.87 1459.41 Q818.87 1450.66 821.925 1446.07 Q825.004 1441.47 830.814 1441.47 Z\" fill=\"#000000\" fill-rule=\"evenodd\" fill-opacity=\"1\" /><path clip-path=\"url(#clip890)\" d=\"M 0 0 M857.828 1445.17 Q854.217 1445.17 852.388 1448.74 Q850.582 1452.28 850.582 1459.41 Q850.582 1466.51 852.388 1470.08 Q854.217 1473.62 857.828 1473.62 Q861.462 1473.62 863.267 1470.08 Q865.096 1466.51 865.096 1459.41 Q865.096 1452.28 863.267 1448.74 Q861.462 1445.17 857.828 1445.17 M857.828 1441.47 Q863.638 1441.47 866.693 1446.07 Q869.772 1450.66 869.772 1459.41 Q869.772 1468.13 866.693 1472.74 Q863.638 1477.32 857.828 1477.32 Q852.017 1477.32 848.939 1472.74 Q845.883 1468.13 845.883 1459.41 Q845.883 1450.66 848.939 1446.07 Q852.017 1441.47 857.828 1441.47 Z\" fill=\"#000000\" fill-rule=\"evenodd\" fill-opacity=\"1\" /><path clip-path=\"url(#clip890)\" d=\"M 0 0 M884.841 1445.17 Q881.23 1445.17 879.402 1448.74 Q877.596 1452.28 877.596 1459.41 Q877.596 1466.51 879.402 1470.08 Q881.23 1473.62 884.841 1473.62 Q888.476 1473.62 890.281 1470.08 Q892.11 1466.51 892.11 1459.41 Q892.11 1452.28 890.281 1448.74 Q888.476 1445.17 884.841 1445.17 M884.841 1441.47 Q890.652 1441.47 893.707 1446.07 Q896.786 1450.66 896.786 1459.41 Q896.786 1468.13 893.707 1472.74 Q890.652 1477.32 884.841 1477.32 Q879.031 1477.32 875.953 1472.74 Q872.897 1468.13 872.897 1459.41 Q872.897 1450.66 875.953 1446.07 Q879.031 1441.47 884.841 1441.47 Z\" fill=\"#000000\" fill-rule=\"evenodd\" fill-opacity=\"1\" /><path clip-path=\"url(#clip890)\" d=\"M 0 0 M1378.87 1446.17 L1367.07 1464.61 L1378.87 1464.61 L1378.87 1446.17 M1377.65 1442.09 L1383.53 1442.09 L1383.53 1464.61 L1388.46 1464.61 L1388.46 1468.5 L1383.53 1468.5 L1383.53 1476.65 L1378.87 1476.65 L1378.87 1468.5 L1363.27 1468.5 L1363.27 1463.99 L1377.65 1442.09 Z\" fill=\"#000000\" fill-rule=\"evenodd\" fill-opacity=\"1\" /><path clip-path=\"url(#clip890)\" d=\"M 0 0 M1403.53 1445.17 Q1399.92 1445.17 1398.09 1448.74 Q1396.28 1452.28 1396.28 1459.41 Q1396.28 1466.51 1398.09 1470.08 Q1399.92 1473.62 1403.53 1473.62 Q1407.16 1473.62 1408.97 1470.08 Q1410.8 1466.51 1410.8 1459.41 Q1410.8 1452.28 1408.97 1448.74 Q1407.16 1445.17 1403.53 1445.17 M1403.53 1441.47 Q1409.34 1441.47 1412.39 1446.07 Q1415.47 1450.66 1415.47 1459.41 Q1415.47 1468.13 1412.39 1472.74 Q1409.34 1477.32 1403.53 1477.32 Q1397.72 1477.32 1394.64 1472.74 Q1391.58 1468.13 1391.58 1459.41 Q1391.58 1450.66 1394.64 1446.07 Q1397.72 1441.47 1403.53 1441.47 Z\" fill=\"#000000\" fill-rule=\"evenodd\" fill-opacity=\"1\" /><path clip-path=\"url(#clip890)\" d=\"M 0 0 M1430.54 1445.17 Q1426.93 1445.17 1425.1 1448.74 Q1423.3 1452.28 1423.3 1459.41 Q1423.3 1466.51 1425.1 1470.08 Q1426.93 1473.62 1430.54 1473.62 Q1434.18 1473.62 1435.98 1470.08 Q1437.81 1466.51 1437.81 1459.41 Q1437.81 1452.28 1435.98 1448.74 Q1434.18 1445.17 1430.54 1445.17 M1430.54 1441.47 Q1436.35 1441.47 1439.41 1446.07 Q1442.49 1450.66 1442.49 1459.41 Q1442.49 1468.13 1439.41 1472.74 Q1436.35 1477.32 1430.54 1477.32 Q1424.73 1477.32 1421.65 1472.74 Q1418.6 1468.13 1418.6 1459.41 Q1418.6 1450.66 1421.65 1446.07 Q1424.73 1441.47 1430.54 1441.47 Z\" fill=\"#000000\" fill-rule=\"evenodd\" fill-opacity=\"1\" /><path clip-path=\"url(#clip890)\" d=\"M 0 0 M1457.55 1445.17 Q1453.94 1445.17 1452.12 1448.74 Q1450.31 1452.28 1450.31 1459.41 Q1450.31 1466.51 1452.12 1470.08 Q1453.94 1473.62 1457.55 1473.62 Q1461.19 1473.62 1462.99 1470.08 Q1464.82 1466.51 1464.82 1459.41 Q1464.82 1452.28 1462.99 1448.74 Q1461.19 1445.17 1457.55 1445.17 M1457.55 1441.47 Q1463.36 1441.47 1466.42 1446.07 Q1469.5 1450.66 1469.5 1459.41 Q1469.5 1468.13 1466.42 1472.74 Q1463.36 1477.32 1457.55 1477.32 Q1451.74 1477.32 1448.67 1472.74 Q1445.61 1468.13 1445.61 1459.41 Q1445.61 1450.66 1448.67 1446.07 Q1451.74 1441.47 1457.55 1441.47 Z\" fill=\"#000000\" fill-rule=\"evenodd\" fill-opacity=\"1\" /><path clip-path=\"url(#clip890)\" d=\"M 0 0 M1947.36 1457.51 Q1944.22 1457.51 1942.36 1459.66 Q1940.53 1461.81 1940.53 1465.56 Q1940.53 1469.29 1942.36 1471.47 Q1944.22 1473.62 1947.36 1473.62 Q1950.51 1473.62 1952.34 1471.47 Q1954.19 1469.29 1954.19 1465.56 Q1954.19 1461.81 1952.34 1459.66 Q1950.51 1457.51 1947.36 1457.51 M1956.65 1442.86 L1956.65 1447.11 Q1954.89 1446.28 1953.08 1445.84 Q1951.3 1445.4 1949.54 1445.4 Q1944.91 1445.4 1942.46 1448.53 Q1940.03 1451.65 1939.68 1457.97 Q1941.04 1455.96 1943.1 1454.89 Q1945.16 1453.8 1947.64 1453.8 Q1952.85 1453.8 1955.86 1456.98 Q1958.89 1460.12 1958.89 1465.56 Q1958.89 1470.89 1955.74 1474.11 Q1952.6 1477.32 1947.36 1477.32 Q1941.37 1477.32 1938.2 1472.74 Q1935.03 1468.13 1935.03 1459.41 Q1935.03 1451.21 1938.91 1446.35 Q1942.8 1441.47 1949.35 1441.47 Q1951.11 1441.47 1952.9 1441.81 Q1954.7 1442.16 1956.65 1442.86 Z\" fill=\"#000000\" fill-rule=\"evenodd\" fill-opacity=\"1\" /><path clip-path=\"url(#clip890)\" d=\"M 0 0 M1973.96 1445.17 Q1970.35 1445.17 1968.52 1448.74 Q1966.72 1452.28 1966.72 1459.41 Q1966.72 1466.51 1968.52 1470.08 Q1970.35 1473.62 1973.96 1473.62 Q1977.59 1473.62 1979.4 1470.08 Q1981.23 1466.51 1981.23 1459.41 Q1981.23 1452.28 1979.4 1448.74 Q1977.59 1445.17 1973.96 1445.17 M1973.96 1441.47 Q1979.77 1441.47 1982.83 1446.07 Q1985.91 1450.66 1985.91 1459.41 Q1985.91 1468.13 1982.83 1472.74 Q1979.77 1477.32 1973.96 1477.32 Q1968.15 1477.32 1965.07 1472.74 Q1962.02 1468.13 1962.02 1459.41 Q1962.02 1450.66 1965.07 1446.07 Q1968.15 1441.47 1973.96 1441.47 Z\" fill=\"#000000\" fill-rule=\"evenodd\" fill-opacity=\"1\" /><path clip-path=\"url(#clip890)\" d=\"M 0 0 M2000.97 1445.17 Q1997.36 1445.17 1995.53 1448.74 Q1993.73 1452.28 1993.73 1459.41 Q1993.73 1466.51 1995.53 1470.08 Q1997.36 1473.62 2000.97 1473.62 Q2004.61 1473.62 2006.41 1470.08 Q2008.24 1466.51 2008.24 1459.41 Q2008.24 1452.28 2006.41 1448.74 Q2004.61 1445.17 2000.97 1445.17 M2000.97 1441.47 Q2006.78 1441.47 2009.84 1446.07 Q2012.92 1450.66 2012.92 1459.41 Q2012.92 1468.13 2009.84 1472.74 Q2006.78 1477.32 2000.97 1477.32 Q1995.16 1477.32 1992.09 1472.74 Q1989.03 1468.13 1989.03 1459.41 Q1989.03 1450.66 1992.09 1446.07 Q1995.16 1441.47 2000.97 1441.47 Z\" fill=\"#000000\" fill-rule=\"evenodd\" fill-opacity=\"1\" /><path clip-path=\"url(#clip890)\" d=\"M 0 0 M2027.99 1445.17 Q2024.38 1445.17 2022.55 1448.74 Q2020.74 1452.28 2020.74 1459.41 Q2020.74 1466.51 2022.55 1470.08 Q2024.38 1473.62 2027.99 1473.62 Q2031.62 1473.62 2033.43 1470.08 Q2035.26 1466.51 2035.26 1459.41 Q2035.26 1452.28 2033.43 1448.74 Q2031.62 1445.17 2027.99 1445.17 M2027.99 1441.47 Q2033.8 1441.47 2036.85 1446.07 Q2039.93 1450.66 2039.93 1459.41 Q2039.93 1468.13 2036.85 1472.74 Q2033.8 1477.32 2027.99 1477.32 Q2022.18 1477.32 2019.1 1472.74 Q2016.04 1468.13 2016.04 1459.41 Q2016.04 1450.66 2019.1 1446.07 Q2022.18 1441.47 2027.99 1441.47 Z\" fill=\"#000000\" fill-rule=\"evenodd\" fill-opacity=\"1\" /><path clip-path=\"url(#clip890)\" d=\"M 0 0 M140.288 1362.13 Q136.677 1362.13 134.848 1365.7 Q133.043 1369.24 133.043 1376.37 Q133.043 1383.48 134.848 1387.04 Q136.677 1390.58 140.288 1390.58 Q143.922 1390.58 145.728 1387.04 Q147.556 1383.48 147.556 1376.37 Q147.556 1369.24 145.728 1365.7 Q143.922 1362.13 140.288 1362.13 M140.288 1358.43 Q146.098 1358.43 149.154 1363.04 Q152.232 1367.62 152.232 1376.37 Q152.232 1385.1 149.154 1389.7 Q146.098 1394.29 140.288 1394.29 Q134.478 1394.29 131.399 1389.7 Q128.343 1385.1 128.343 1376.37 Q128.343 1367.62 131.399 1363.04 Q134.478 1358.43 140.288 1358.43 Z\" fill=\"#000000\" fill-rule=\"evenodd\" fill-opacity=\"1\" /><path clip-path=\"url(#clip890)\" d=\"M 0 0 M157.302 1387.74 L162.186 1387.74 L162.186 1393.62 L157.302 1393.62 L157.302 1387.74 Z\" fill=\"#000000\" fill-rule=\"evenodd\" fill-opacity=\"1\" /><path clip-path=\"url(#clip890)\" d=\"M 0 0 M171.283 1389.68 L187.602 1389.68 L187.602 1393.62 L165.658 1393.62 L165.658 1389.68 Q168.32 1386.93 172.903 1382.3 Q177.51 1377.64 178.69 1376.3 Q180.936 1373.78 181.815 1372.04 Q182.718 1370.28 182.718 1368.59 Q182.718 1365.84 180.774 1364.1 Q178.852 1362.37 175.751 1362.37 Q173.552 1362.37 171.098 1363.13 Q168.667 1363.89 165.89 1365.44 L165.89 1360.72 Q168.714 1359.59 171.167 1359.01 Q173.621 1358.43 175.658 1358.43 Q181.028 1358.43 184.223 1361.12 Q187.417 1363.8 187.417 1368.29 Q187.417 1370.42 186.607 1372.34 Q185.82 1374.24 183.714 1376.83 Q183.135 1377.5 180.033 1380.72 Q176.931 1383.92 171.283 1389.68 Z\" fill=\"#000000\" fill-rule=\"evenodd\" fill-opacity=\"1\" /><path clip-path=\"url(#clip890)\" d=\"M 0 0 M138.205 1072.81 Q134.593 1072.81 132.765 1076.37 Q130.959 1079.91 130.959 1087.04 Q130.959 1094.15 132.765 1097.71 Q134.593 1101.26 138.205 1101.26 Q141.839 1101.26 143.644 1097.71 Q145.473 1094.15 145.473 1087.04 Q145.473 1079.91 143.644 1076.37 Q141.839 1072.81 138.205 1072.81 M138.205 1069.1 Q144.015 1069.1 147.07 1073.71 Q150.149 1078.29 150.149 1087.04 Q150.149 1095.77 147.07 1100.38 Q144.015 1104.96 138.205 1104.96 Q132.394 1104.96 129.316 1100.38 Q126.26 1095.77 126.26 1087.04 Q126.26 1078.29 129.316 1073.71 Q132.394 1069.1 138.205 1069.1 Z\" fill=\"#000000\" fill-rule=\"evenodd\" fill-opacity=\"1\" /><path clip-path=\"url(#clip890)\" d=\"M 0 0 M155.218 1098.41 L160.103 1098.41 L160.103 1104.29 L155.218 1104.29 L155.218 1098.41 Z\" fill=\"#000000\" fill-rule=\"evenodd\" fill-opacity=\"1\" /><path clip-path=\"url(#clip890)\" d=\"M 0 0 M178.019 1073.8 L166.214 1092.25 L178.019 1092.25 L178.019 1073.8 M176.792 1069.73 L182.672 1069.73 L182.672 1092.25 L187.602 1092.25 L187.602 1096.14 L182.672 1096.14 L182.672 1104.29 L178.019 1104.29 L178.019 1096.14 L162.417 1096.14 L162.417 1091.63 L176.792 1069.73 Z\" fill=\"#000000\" fill-rule=\"evenodd\" fill-opacity=\"1\" /><path clip-path=\"url(#clip890)\" d=\"M 0 0 M138.529 783.479 Q134.918 783.479 133.089 787.044 Q131.283 790.585 131.283 797.715 Q131.283 804.821 133.089 808.386 Q134.918 811.928 138.529 811.928 Q142.163 811.928 143.968 808.386 Q145.797 804.821 145.797 797.715 Q145.797 790.585 143.968 787.044 Q142.163 783.479 138.529 783.479 M138.529 779.775 Q144.339 779.775 147.394 784.382 Q150.473 788.965 150.473 797.715 Q150.473 806.442 147.394 811.048 Q144.339 815.631 138.529 815.631 Q132.718 815.631 129.64 811.048 Q126.584 806.442 126.584 797.715 Q126.584 788.965 129.64 784.382 Q132.718 779.775 138.529 779.775 Z\" fill=\"#000000\" fill-rule=\"evenodd\" fill-opacity=\"1\" /><path clip-path=\"url(#clip890)\" d=\"M 0 0 M155.542 809.081 L160.427 809.081 L160.427 814.96 L155.542 814.96 L155.542 809.081 Z\" fill=\"#000000\" fill-rule=\"evenodd\" fill-opacity=\"1\" /><path clip-path=\"url(#clip890)\" d=\"M 0 0 M176.075 795.817 Q172.927 795.817 171.075 797.969 Q169.246 800.122 169.246 803.872 Q169.246 807.599 171.075 809.775 Q172.927 811.928 176.075 811.928 Q179.223 811.928 181.052 809.775 Q182.903 807.599 182.903 803.872 Q182.903 800.122 181.052 797.969 Q179.223 795.817 176.075 795.817 M185.357 781.164 L185.357 785.423 Q183.598 784.59 181.792 784.15 Q180.01 783.71 178.251 783.71 Q173.621 783.71 171.167 786.835 Q168.737 789.96 168.39 796.28 Q169.755 794.266 171.815 793.201 Q173.876 792.113 176.352 792.113 Q181.561 792.113 184.57 795.284 Q187.602 798.432 187.602 803.872 Q187.602 809.196 184.454 812.414 Q181.306 815.631 176.075 815.631 Q170.079 815.631 166.908 811.048 Q163.737 806.442 163.737 797.715 Q163.737 789.52 167.626 784.659 Q171.515 779.775 178.065 779.775 Q179.825 779.775 181.607 780.122 Q183.413 780.47 185.357 781.164 Z\" fill=\"#000000\" fill-rule=\"evenodd\" fill-opacity=\"1\" /><path clip-path=\"url(#clip890)\" d=\"M 0 0 M138.783 494.151 Q135.172 494.151 133.343 497.716 Q131.538 501.257 131.538 508.387 Q131.538 515.494 133.343 519.058 Q135.172 522.6 138.783 522.6 Q142.417 522.6 144.223 519.058 Q146.052 515.494 146.052 508.387 Q146.052 501.257 144.223 497.716 Q142.417 494.151 138.783 494.151 M138.783 490.447 Q144.593 490.447 147.649 495.054 Q150.728 499.637 150.728 508.387 Q150.728 517.114 147.649 521.72 Q144.593 526.304 138.783 526.304 Q132.973 526.304 129.894 521.72 Q126.839 517.114 126.839 508.387 Q126.839 499.637 129.894 495.054 Q132.973 490.447 138.783 490.447 Z\" fill=\"#000000\" fill-rule=\"evenodd\" fill-opacity=\"1\" /><path clip-path=\"url(#clip890)\" d=\"M 0 0 M155.797 519.753 L160.681 519.753 L160.681 525.632 L155.797 525.632 L155.797 519.753 Z\" fill=\"#000000\" fill-rule=\"evenodd\" fill-opacity=\"1\" /><path clip-path=\"url(#clip890)\" d=\"M 0 0 M175.751 509.22 Q172.417 509.22 170.496 511.003 Q168.598 512.785 168.598 515.91 Q168.598 519.035 170.496 520.818 Q172.417 522.6 175.751 522.6 Q179.084 522.6 181.005 520.818 Q182.927 519.012 182.927 515.91 Q182.927 512.785 181.005 511.003 Q179.107 509.22 175.751 509.22 M171.075 507.23 Q168.065 506.489 166.376 504.429 Q164.709 502.369 164.709 499.406 Q164.709 495.262 167.649 492.855 Q170.612 490.447 175.751 490.447 Q180.913 490.447 183.852 492.855 Q186.792 495.262 186.792 499.406 Q186.792 502.369 185.102 504.429 Q183.436 506.489 180.45 507.23 Q183.829 508.017 185.704 510.308 Q187.602 512.6 187.602 515.91 Q187.602 520.933 184.524 523.618 Q181.468 526.304 175.751 526.304 Q170.033 526.304 166.954 523.618 Q163.899 520.933 163.899 515.91 Q163.899 512.6 165.797 510.308 Q167.695 508.017 171.075 507.23 M169.362 499.845 Q169.362 502.531 171.028 504.035 Q172.718 505.54 175.751 505.54 Q178.76 505.54 180.45 504.035 Q182.163 502.531 182.163 499.845 Q182.163 497.16 180.45 495.656 Q178.76 494.151 175.751 494.151 Q172.718 494.151 171.028 495.656 Q169.362 497.16 169.362 499.845 Z\" fill=\"#000000\" fill-rule=\"evenodd\" fill-opacity=\"1\" /><path clip-path=\"url(#clip890)\" d=\"M 0 0 M130.728 232.369 L138.367 232.369 L138.367 206.004 L130.056 207.671 L130.056 203.411 L138.32 201.745 L142.996 201.745 L142.996 232.369 L150.635 232.369 L150.635 236.305 L130.728 236.305 L130.728 232.369 Z\" fill=\"#000000\" fill-rule=\"evenodd\" fill-opacity=\"1\" /><path clip-path=\"url(#clip890)\" d=\"M 0 0 M155.704 230.425 L160.589 230.425 L160.589 236.305 L155.704 236.305 L155.704 230.425 Z\" fill=\"#000000\" fill-rule=\"evenodd\" fill-opacity=\"1\" /><path clip-path=\"url(#clip890)\" d=\"M 0 0 M175.658 204.823 Q172.047 204.823 170.218 208.388 Q168.413 211.93 168.413 219.059 Q168.413 226.166 170.218 229.731 Q172.047 233.272 175.658 233.272 Q179.292 233.272 181.098 229.731 Q182.927 226.166 182.927 219.059 Q182.927 211.93 181.098 208.388 Q179.292 204.823 175.658 204.823 M175.658 201.12 Q181.468 201.12 184.524 205.726 Q187.602 210.309 187.602 219.059 Q187.602 227.786 184.524 232.393 Q181.468 236.976 175.658 236.976 Q169.848 236.976 166.769 232.393 Q163.714 227.786 163.714 219.059 Q163.714 210.309 166.769 205.726 Q169.848 201.12 175.658 201.12 Z\" fill=\"#000000\" fill-rule=\"evenodd\" fill-opacity=\"1\" /><path clip-path=\"url(#clip890)\" d=\"M 0 0 M905.85 12.096 L914.033 12.096 L914.033 37.6572 L941.174 12.096 L951.706 12.096 L921.689 40.2903 L953.853 72.576 L943.078 72.576 L914.033 43.45 L914.033 72.576 L905.85 72.576 L905.85 12.096 Z\" fill=\"#000000\" fill-rule=\"evenodd\" fill-opacity=\"1\" /><path clip-path=\"url(#clip890)\" d=\"M 0 0 M980.832 49.7694 Q971.799 49.7694 968.315 51.8354 Q964.831 53.9013 964.831 58.8839 Q964.831 62.8538 967.424 65.2034 Q970.057 67.5124 974.553 67.5124 Q980.751 67.5124 984.478 63.1374 Q988.246 58.7219 988.246 51.4303 L988.246 49.7694 L980.832 49.7694 M995.699 46.6907 L995.699 72.576 L988.246 72.576 L988.246 65.6895 Q985.693 69.8214 981.886 71.8063 Q978.078 73.7508 972.569 73.7508 Q965.601 73.7508 961.469 69.8619 Q957.378 65.9325 957.378 59.3701 Q957.378 51.7138 962.482 47.825 Q967.626 43.9361 977.794 43.9361 L988.246 43.9361 L988.246 43.2069 Q988.246 38.0623 984.843 35.2672 Q981.481 32.4315 975.364 32.4315 Q971.475 32.4315 967.788 33.3632 Q964.102 34.295 960.699 36.1584 L960.699 29.2718 Q964.791 27.692 968.639 26.9223 Q972.488 26.1121 976.133 26.1121 Q985.977 26.1121 990.838 31.2163 Q995.699 36.3204 995.699 46.6907 Z\" fill=\"#000000\" fill-rule=\"evenodd\" fill-opacity=\"1\" /><path clip-path=\"url(#clip890)\" d=\"M 0 0 M1010.73 65.7705 L1010.73 89.8329 L1003.23 89.8329 L1003.23 27.2059 L1010.73 27.2059 L1010.73 34.0924 Q1013.08 30.0415 1016.64 28.0971 Q1020.25 26.1121 1025.23 26.1121 Q1033.49 26.1121 1038.64 32.6746 Q1043.82 39.2371 1043.82 49.9314 Q1043.82 60.6258 1038.64 67.1883 Q1033.49 73.7508 1025.23 73.7508 Q1020.25 73.7508 1016.64 71.8063 Q1013.08 69.8214 1010.73 65.7705 M1036.09 49.9314 Q1036.09 41.7081 1032.68 37.0496 Q1029.32 32.3505 1023.41 32.3505 Q1017.49 32.3505 1014.09 37.0496 Q1010.73 41.7081 1010.73 49.9314 Q1010.73 58.1548 1014.09 62.8538 Q1017.49 67.5124 1023.41 67.5124 Q1029.32 67.5124 1032.68 62.8538 Q1036.09 58.1548 1036.09 49.9314 Z\" fill=\"#000000\" fill-rule=\"evenodd\" fill-opacity=\"1\" /><path clip-path=\"url(#clip890)\" d=\"M 0 0 M1051.64 9.54393 L1059.1 9.54393 L1059.1 72.576 L1051.64 72.576 L1051.64 9.54393 Z\" fill=\"#000000\" fill-rule=\"evenodd\" fill-opacity=\"1\" /><path clip-path=\"url(#clip890)\" d=\"M 0 0 M1087.53 49.7694 Q1078.5 49.7694 1075.02 51.8354 Q1071.53 53.9013 1071.53 58.8839 Q1071.53 62.8538 1074.12 65.2034 Q1076.76 67.5124 1081.25 67.5124 Q1087.45 67.5124 1091.18 63.1374 Q1094.95 58.7219 1094.95 51.4303 L1094.95 49.7694 L1087.53 49.7694 M1102.4 46.6907 L1102.4 72.576 L1094.95 72.576 L1094.95 65.6895 Q1092.39 69.8214 1088.59 71.8063 Q1084.78 73.7508 1079.27 73.7508 Q1072.3 73.7508 1068.17 69.8619 Q1064.08 65.9325 1064.08 59.3701 Q1064.08 51.7138 1069.18 47.825 Q1074.33 43.9361 1084.5 43.9361 L1094.95 43.9361 L1094.95 43.2069 Q1094.95 38.0623 1091.54 35.2672 Q1088.18 32.4315 1082.06 32.4315 Q1078.18 32.4315 1074.49 33.3632 Q1070.8 34.295 1067.4 36.1584 L1067.4 29.2718 Q1071.49 27.692 1075.34 26.9223 Q1079.19 26.1121 1082.83 26.1121 Q1092.68 26.1121 1097.54 31.2163 Q1102.4 36.3204 1102.4 46.6907 Z\" fill=\"#000000\" fill-rule=\"evenodd\" fill-opacity=\"1\" /><path clip-path=\"url(#clip890)\" d=\"M 0 0 M1147.93 45.1919 L1147.93 72.576 L1140.48 72.576 L1140.48 45.4349 Q1140.48 38.994 1137.97 35.7938 Q1135.46 32.5936 1130.43 32.5936 Q1124.4 32.5936 1120.91 36.4419 Q1117.43 40.2903 1117.43 46.9338 L1117.43 72.576 L1109.93 72.576 L1109.93 27.2059 L1117.43 27.2059 L1117.43 34.2544 Q1120.1 30.163 1123.71 28.1376 Q1127.35 26.1121 1132.09 26.1121 Q1139.91 26.1121 1143.92 30.9732 Q1147.93 35.7938 1147.93 45.1919 Z\" fill=\"#000000\" fill-rule=\"evenodd\" fill-opacity=\"1\" /><path clip-path=\"url(#clip890)\" d=\"M 0 0 M1151.98 46.5287 L1173.82 46.5287 L1173.82 53.1722 L1151.98 53.1722 L1151.98 46.5287 Z\" fill=\"#000000\" fill-rule=\"evenodd\" fill-opacity=\"1\" /><path clip-path=\"url(#clip890)\" d=\"M 0 0 M1181.96 12.096 L1194.15 12.096 L1209.59 53.2532 L1225.1 12.096 L1237.3 12.096 L1237.3 72.576 L1229.31 72.576 L1229.31 19.4686 L1213.72 60.9499 L1205.5 60.9499 L1189.9 19.4686 L1189.9 72.576 L1181.96 72.576 L1181.96 12.096 Z\" fill=\"#000000\" fill-rule=\"evenodd\" fill-opacity=\"1\" /><path clip-path=\"url(#clip890)\" d=\"M 0 0 M1283.92 48.0275 L1283.92 51.6733 L1249.65 51.6733 Q1250.14 59.3701 1254.27 63.421 Q1258.44 67.4314 1265.85 67.4314 Q1270.15 67.4314 1274.16 66.3781 Q1278.21 65.3249 1282.18 63.2184 L1282.18 70.267 Q1278.17 71.9684 1273.96 72.8596 Q1269.74 73.7508 1265.41 73.7508 Q1254.55 73.7508 1248.19 67.4314 Q1241.87 61.1119 1241.87 50.3365 Q1241.87 39.1965 1247.87 32.6746 Q1253.9 26.1121 1264.11 26.1121 Q1273.27 26.1121 1278.57 32.0264 Q1283.92 37.9003 1283.92 48.0275 M1276.47 45.84 Q1276.39 39.7232 1273.02 36.0774 Q1269.7 32.4315 1264.19 32.4315 Q1257.95 32.4315 1254.19 35.9558 Q1250.46 39.4801 1249.89 45.8805 L1276.47 45.84 Z\" fill=\"#000000\" fill-rule=\"evenodd\" fill-opacity=\"1\" /><path clip-path=\"url(#clip890)\" d=\"M 0 0 M1291.74 27.2059 L1299.19 27.2059 L1299.19 72.576 L1291.74 72.576 L1291.74 27.2059 M1291.74 9.54393 L1299.19 9.54393 L1299.19 18.9825 L1291.74 18.9825 L1291.74 9.54393 Z\" fill=\"#000000\" fill-rule=\"evenodd\" fill-opacity=\"1\" /><path clip-path=\"url(#clip890)\" d=\"M 0 0 M1345.82 48.0275 L1345.82 51.6733 L1311.55 51.6733 Q1312.03 59.3701 1316.17 63.421 Q1320.34 67.4314 1327.75 67.4314 Q1332.05 67.4314 1336.06 66.3781 Q1340.11 65.3249 1344.08 63.2184 L1344.08 70.267 Q1340.07 71.9684 1335.85 72.8596 Q1331.64 73.7508 1327.31 73.7508 Q1316.45 73.7508 1310.09 67.4314 Q1303.77 61.1119 1303.77 50.3365 Q1303.77 39.1965 1309.77 32.6746 Q1315.8 26.1121 1326.01 26.1121 Q1335.16 26.1121 1340.47 32.0264 Q1345.82 37.9003 1345.82 48.0275 M1338.37 45.84 Q1338.28 39.7232 1334.92 36.0774 Q1331.6 32.4315 1326.09 32.4315 Q1319.85 32.4315 1316.09 35.9558 Q1312.36 39.4801 1311.79 45.8805 L1338.37 45.84 Z\" fill=\"#000000\" fill-rule=\"evenodd\" fill-opacity=\"1\" /><path clip-path=\"url(#clip890)\" d=\"M 0 0 M1379.93 34.1734 Q1378.67 33.4443 1377.17 33.1202 Q1375.71 32.7556 1373.93 32.7556 Q1367.61 32.7556 1364.21 36.8875 Q1360.85 40.9789 1360.85 48.6757 L1360.85 72.576 L1353.35 72.576 L1353.35 27.2059 L1360.85 27.2059 L1360.85 34.2544 Q1363.2 30.1225 1366.96 28.1376 Q1370.73 26.1121 1376.12 26.1121 Q1376.89 26.1121 1377.82 26.2337 Q1378.75 26.3147 1379.89 26.5172 L1379.93 34.1734 Z\" fill=\"#000000\" fill-rule=\"evenodd\" fill-opacity=\"1\" /><path clip-path=\"url(#clip890)\" d=\"M 0 0 M1459.73 16.7545 L1459.73 25.383 Q1455.6 21.5346 1450.9 19.6307 Q1446.24 17.7268 1440.97 17.7268 Q1430.6 17.7268 1425.1 24.0867 Q1419.59 30.4061 1419.59 42.3968 Q1419.59 54.3469 1425.1 60.7069 Q1430.6 67.0263 1440.97 67.0263 Q1446.24 67.0263 1450.9 65.1223 Q1455.6 63.2184 1459.73 59.3701 L1459.73 67.9175 Q1455.44 70.8341 1450.62 72.2924 Q1445.84 73.7508 1440.49 73.7508 Q1426.76 73.7508 1418.86 65.3654 Q1410.96 56.9395 1410.96 42.3968 Q1410.96 27.8135 1418.86 19.4281 Q1426.76 11.0023 1440.49 11.0023 Q1445.92 11.0023 1450.7 12.4606 Q1455.52 13.8784 1459.73 16.7545 Z\" fill=\"#000000\" fill-rule=\"evenodd\" fill-opacity=\"1\" /><path clip-path=\"url(#clip890)\" d=\"M 0 0 M1466.78 54.671 L1466.78 27.2059 L1474.23 27.2059 L1474.23 54.3874 Q1474.23 60.8284 1476.74 64.0691 Q1479.26 67.2693 1484.28 67.2693 Q1490.31 67.2693 1493.8 63.421 Q1497.32 59.5726 1497.32 52.9291 L1497.32 27.2059 L1504.78 27.2059 L1504.78 72.576 L1497.32 72.576 L1497.32 65.6084 Q1494.61 69.7404 1491 71.7658 Q1487.44 73.7508 1482.7 73.7508 Q1474.88 73.7508 1470.83 68.8897 Q1466.78 64.0286 1466.78 54.671 M1485.53 26.1121 L1485.53 26.1121 Z\" fill=\"#000000\" fill-rule=\"evenodd\" fill-opacity=\"1\" /><path clip-path=\"url(#clip890)\" d=\"M 0 0 M1538.88 34.1734 Q1537.63 33.4443 1536.13 33.1202 Q1534.67 32.7556 1532.89 32.7556 Q1526.57 32.7556 1523.17 36.8875 Q1519.81 40.9789 1519.81 48.6757 L1519.81 72.576 L1512.31 72.576 L1512.31 27.2059 L1519.81 27.2059 L1519.81 34.2544 Q1522.15 30.1225 1525.92 28.1376 Q1529.69 26.1121 1535.08 26.1121 Q1535.85 26.1121 1536.78 26.2337 Q1537.71 26.3147 1538.84 26.5172 L1538.88 34.1734 Z\" fill=\"#000000\" fill-rule=\"evenodd\" fill-opacity=\"1\" /><path clip-path=\"url(#clip890)\" d=\"M 0 0 M1541.36 27.2059 L1549.26 27.2059 L1563.43 65.2844 L1577.61 27.2059 L1585.51 27.2059 L1568.5 72.576 L1558.37 72.576 L1541.36 27.2059 Z\" fill=\"#000000\" fill-rule=\"evenodd\" fill-opacity=\"1\" /><path clip-path=\"url(#clip890)\" d=\"M 0 0 M1632.14 48.0275 L1632.14 51.6733 L1597.87 51.6733 Q1598.35 59.3701 1602.48 63.421 Q1606.66 67.4314 1614.07 67.4314 Q1618.36 67.4314 1622.37 66.3781 Q1626.43 65.3249 1630.39 63.2184 L1630.39 70.267 Q1626.38 71.9684 1622.17 72.8596 Q1617.96 73.7508 1613.62 73.7508 Q1602.77 73.7508 1596.41 67.4314 Q1590.09 61.1119 1590.09 50.3365 Q1590.09 39.1965 1596.08 32.6746 Q1602.12 26.1121 1612.33 26.1121 Q1621.48 26.1121 1626.79 32.0264 Q1632.14 37.9003 1632.14 48.0275 M1624.68 45.84 Q1624.6 39.7232 1621.24 36.0774 Q1617.92 32.4315 1612.41 32.4315 Q1606.17 32.4315 1602.4 35.9558 Q1598.68 39.4801 1598.11 45.8805 L1624.68 45.84 Z\" fill=\"#000000\" fill-rule=\"evenodd\" fill-opacity=\"1\" /><path clip-path=\"url(#clip890)\" d=\"M 0 0 M290.194 140.651 Q290.194 132.428 286.791 127.77 Q283.429 123.071 277.514 123.071 Q271.6 123.071 268.197 127.77 Q264.835 132.428 264.835 140.651 Q264.835 148.875 268.197 153.574 Q271.6 158.232 277.514 158.232 Q283.429 158.232 286.791 153.574 Q290.194 148.875 290.194 140.651 M264.835 124.812 Q267.185 120.762 270.749 118.817 Q274.355 116.832 279.337 116.832 Q287.601 116.832 292.746 123.395 Q297.931 129.957 297.931 140.651 Q297.931 151.346 292.746 157.908 Q287.601 164.471 279.337 164.471 Q274.355 164.471 270.749 162.526 Q267.185 160.541 264.835 156.49 L264.835 163.296 L257.341 163.296 L257.341 100.264 L264.835 100.264 L264.835 124.812 Z\" fill=\"#000000\" fill-rule=\"evenodd\" fill-opacity=\"1\" /><path clip-path=\"url(#clip890)\" d=\"M 0 0 M332.04 124.893 Q330.784 124.164 329.285 123.84 Q327.827 123.476 326.044 123.476 Q319.725 123.476 316.322 127.608 Q312.96 131.699 312.96 139.396 L312.96 163.296 L305.466 163.296 L305.466 117.926 L312.96 117.926 L312.96 124.974 Q315.309 120.843 319.077 118.858 Q322.844 116.832 328.232 116.832 Q329.001 116.832 329.933 116.954 Q330.865 117.035 331.999 117.237 L332.04 124.893 Z\" fill=\"#000000\" fill-rule=\"evenodd\" fill-opacity=\"1\" /><path clip-path=\"url(#clip890)\" d=\"M 0 0 M370.685 119.668 L370.685 126.635 Q367.525 124.893 364.325 124.043 Q361.166 123.152 357.925 123.152 Q350.674 123.152 346.663 127.77 Q342.653 132.347 342.653 140.651 Q342.653 148.956 346.663 153.574 Q350.674 158.151 357.925 158.151 Q361.166 158.151 364.325 157.301 Q367.525 156.409 370.685 154.668 L370.685 161.554 Q367.566 163.012 364.204 163.742 Q360.882 164.471 357.115 164.471 Q346.866 164.471 340.83 158.03 Q334.794 151.589 334.794 140.651 Q334.794 129.552 340.871 123.192 Q346.987 116.832 357.601 116.832 Q361.044 116.832 364.325 117.561 Q367.607 118.25 370.685 119.668 Z\" fill=\"#000000\" fill-rule=\"evenodd\" fill-opacity=\"1\" /><path clip-path=\"url(#clip890)\" d=\"M 0 0 M399.123 140.489 Q390.089 140.489 386.605 142.555 Q383.121 144.621 383.121 149.604 Q383.121 153.574 385.714 155.923 Q388.347 158.232 392.844 158.232 Q399.042 158.232 402.768 153.857 Q406.536 149.442 406.536 142.15 L406.536 140.489 L399.123 140.489 M413.989 137.411 L413.989 163.296 L406.536 163.296 L406.536 156.409 Q403.984 160.541 400.176 162.526 Q396.368 164.471 390.859 164.471 Q383.891 164.471 379.759 160.582 Q375.668 156.653 375.668 150.09 Q375.668 142.434 380.772 138.545 Q385.917 134.656 396.084 134.656 L406.536 134.656 L406.536 133.927 Q406.536 128.782 403.133 125.987 Q399.771 123.152 393.654 123.152 Q389.765 123.152 386.079 124.083 Q382.392 125.015 378.99 126.878 L378.99 119.992 Q383.081 118.412 386.929 117.642 Q390.778 116.832 394.424 116.832 Q404.267 116.832 409.128 121.936 Q413.989 127.04 413.989 137.411 Z\" fill=\"#000000\" fill-rule=\"evenodd\" fill-opacity=\"1\" /><path clip-path=\"url(#clip890)\" d=\"M 0 0 M456.281 177.069 L456.281 182.862 L413.179 182.862 L413.179 177.069 L456.281 177.069 Z\" fill=\"#000000\" fill-rule=\"evenodd\" fill-opacity=\"1\" /><path clip-path=\"url(#clip890)\" d=\"M 0 0 M471.472 105.044 L471.472 117.926 L486.825 117.926 L486.825 123.719 L471.472 123.719 L471.472 148.348 Q471.472 153.898 472.971 155.478 Q474.51 157.058 479.168 157.058 L486.825 157.058 L486.825 163.296 L479.168 163.296 Q470.54 163.296 467.259 160.096 Q463.978 156.855 463.978 148.348 L463.978 123.719 L458.509 123.719 L458.509 117.926 L463.978 117.926 L463.978 105.044 L471.472 105.044 Z\" fill=\"#000000\" fill-rule=\"evenodd\" fill-opacity=\"1\" /><path clip-path=\"url(#clip890)\" d=\"M 0 0 M527.293 119.668 L527.293 126.635 Q524.133 124.893 520.933 124.043 Q517.774 123.152 514.533 123.152 Q507.282 123.152 503.271 127.77 Q499.261 132.347 499.261 140.651 Q499.261 148.956 503.271 153.574 Q507.282 158.151 514.533 158.151 Q517.774 158.151 520.933 157.301 Q524.133 156.409 527.293 154.668 L527.293 161.554 Q524.174 163.012 520.812 163.742 Q517.49 164.471 513.723 164.471 Q503.474 164.471 497.438 158.03 Q491.402 151.589 491.402 140.651 Q491.402 129.552 497.479 123.192 Q503.595 116.832 514.209 116.832 Q517.652 116.832 520.933 117.561 Q524.214 118.25 527.293 119.668 Z\" fill=\"#000000\" fill-rule=\"evenodd\" fill-opacity=\"1\" /><path clip-path=\"url(#clip890)\" d=\"M 0 0 M564.967 140.084 Q564.967 131.983 561.604 127.527 Q558.283 123.071 552.247 123.071 Q546.251 123.071 542.889 127.527 Q539.567 131.983 539.567 140.084 Q539.567 148.146 542.889 152.602 Q546.251 157.058 552.247 157.058 Q558.283 157.058 561.604 152.602 Q564.967 148.146 564.967 140.084 M572.42 157.665 Q572.42 169.251 567.276 174.882 Q562.131 180.553 551.518 180.553 Q547.588 180.553 544.104 179.945 Q540.621 179.378 537.339 178.163 L537.339 170.912 Q540.621 172.694 543.821 173.545 Q547.021 174.395 550.343 174.395 Q557.675 174.395 561.321 170.547 Q564.967 166.739 564.967 159.002 L564.967 155.316 Q562.658 159.326 559.052 161.311 Q555.447 163.296 550.424 163.296 Q542.079 163.296 536.975 156.936 Q531.871 150.576 531.871 140.084 Q531.871 129.552 536.975 123.192 Q542.079 116.832 550.424 116.832 Q555.447 116.832 559.052 118.817 Q562.658 120.802 564.967 124.812 L564.967 117.926 L572.42 117.926 L572.42 157.665 Z\" fill=\"#000000\" fill-rule=\"evenodd\" fill-opacity=\"1\" /><path clip-path=\"url(#clip890)\" d=\"M 0 0 M600.858 140.489 Q591.824 140.489 588.34 142.555 Q584.857 144.621 584.857 149.604 Q584.857 153.574 587.449 155.923 Q590.082 158.232 594.579 158.232 Q600.777 158.232 604.503 153.857 Q608.271 149.442 608.271 142.15 L608.271 140.489 L600.858 140.489 M615.724 137.411 L615.724 163.296 L608.271 163.296 L608.271 156.409 Q605.719 160.541 601.911 162.526 Q598.103 164.471 592.594 164.471 Q585.626 164.471 581.494 160.582 Q577.403 156.653 577.403 150.09 Q577.403 142.434 582.507 138.545 Q587.652 134.656 597.819 134.656 L608.271 134.656 L608.271 133.927 Q608.271 128.782 604.868 125.987 Q601.506 123.152 595.389 123.152 Q591.5 123.152 587.814 124.083 Q584.127 125.015 580.725 126.878 L580.725 119.992 Q584.816 118.412 588.664 117.642 Q592.513 116.832 596.159 116.832 Q606.002 116.832 610.863 121.936 Q615.724 127.04 615.724 137.411 Z\" fill=\"#000000\" fill-rule=\"evenodd\" fill-opacity=\"1\" /><path clip-path=\"url(#clip890)\" d=\"M 0 0 M658.016 177.069 L658.016 182.862 L614.914 182.862 L614.914 177.069 L658.016 177.069 Z\" fill=\"#000000\" fill-rule=\"evenodd\" fill-opacity=\"1\" /><path clip-path=\"url(#clip890)\" d=\"M 0 0 M673.045 156.49 L673.045 180.553 L665.551 180.553 L665.551 117.926 L673.045 117.926 L673.045 124.812 Q675.394 120.762 678.959 118.817 Q682.564 116.832 687.547 116.832 Q695.811 116.832 700.955 123.395 Q706.141 129.957 706.141 140.651 Q706.141 151.346 700.955 157.908 Q695.811 164.471 687.547 164.471 Q682.564 164.471 678.959 162.526 Q675.394 160.541 673.045 156.49 M698.403 140.651 Q698.403 132.428 695.001 127.77 Q691.638 123.071 685.724 123.071 Q679.81 123.071 676.407 127.77 Q673.045 132.428 673.045 140.651 Q673.045 148.875 676.407 153.574 Q679.81 158.232 685.724 158.232 Q691.638 158.232 695.001 153.574 Q698.403 148.875 698.403 140.651 Z\" fill=\"#000000\" fill-rule=\"evenodd\" fill-opacity=\"1\" /><path clip-path=\"url(#clip890)\" d=\"M 0 0 M713.189 145.391 L713.189 117.926 L720.643 117.926 L720.643 145.107 Q720.643 151.548 723.154 154.789 Q725.666 157.989 730.689 157.989 Q736.725 157.989 740.209 154.141 Q743.733 150.293 743.733 143.649 L743.733 117.926 L751.187 117.926 L751.187 163.296 L743.733 163.296 L743.733 156.328 Q741.019 160.46 737.414 162.486 Q733.849 164.471 729.109 164.471 Q721.291 164.471 717.24 159.61 Q713.189 154.749 713.189 145.391 M731.945 116.832 L731.945 116.832 Z\" fill=\"#000000\" fill-rule=\"evenodd\" fill-opacity=\"1\" /><path clip-path=\"url(#clip890)\" d=\"M 0 0 M791.574 140.651 Q791.574 132.428 788.171 127.77 Q784.809 123.071 778.895 123.071 Q772.981 123.071 769.578 127.77 Q766.215 132.428 766.215 140.651 Q766.215 148.875 769.578 153.574 Q772.981 158.232 778.895 158.232 Q784.809 158.232 788.171 153.574 Q791.574 148.875 791.574 140.651 M766.215 124.812 Q768.565 120.762 772.13 118.817 Q775.735 116.832 780.718 116.832 Q788.982 116.832 794.126 123.395 Q799.311 129.957 799.311 140.651 Q799.311 151.346 794.126 157.908 Q788.982 164.471 780.718 164.471 Q775.735 164.471 772.13 162.526 Q768.565 160.541 766.215 156.49 L766.215 163.296 L758.721 163.296 L758.721 100.264 L766.215 100.264 L766.215 124.812 Z\" fill=\"#000000\" fill-rule=\"evenodd\" fill-opacity=\"1\" /><path clip-path=\"url(#clip890)\" d=\"M 0 0 M815.231 156.409 L843.79 156.409 L843.79 163.296 L805.388 163.296 L805.388 156.409 Q810.046 151.589 818.067 143.487 Q826.128 135.345 828.194 132.995 Q832.124 128.58 833.663 125.542 Q835.243 122.463 835.243 119.506 Q835.243 114.685 831.84 111.647 Q828.478 108.609 823.05 108.609 Q819.201 108.609 814.907 109.946 Q810.654 111.282 805.793 113.996 L805.793 105.733 Q810.735 103.748 815.029 102.735 Q819.323 101.722 822.888 101.722 Q832.286 101.722 837.876 106.421 Q843.466 111.12 843.466 118.979 Q843.466 122.706 842.048 126.068 Q840.671 129.39 836.985 133.927 Q835.972 135.102 830.544 140.732 Q825.116 146.323 815.231 156.409 Z\" fill=\"#000000\" fill-rule=\"evenodd\" fill-opacity=\"1\" /><path clip-path=\"url(#clip890)\" d=\"M 0 0 M870.162 108.204 Q863.842 108.204 860.642 114.442 Q857.482 120.64 857.482 133.117 Q857.482 145.553 860.642 151.791 Q863.842 157.989 870.162 157.989 Q876.522 157.989 879.681 151.791 Q882.882 145.553 882.882 133.117 Q882.882 120.64 879.681 114.442 Q876.522 108.204 870.162 108.204 M870.162 101.722 Q880.329 101.722 885.677 109.784 Q891.064 117.804 891.064 133.117 Q891.064 148.389 885.677 156.45 Q880.329 164.471 870.162 164.471 Q859.994 164.471 854.606 156.45 Q849.259 148.389 849.259 133.117 Q849.259 117.804 854.606 109.784 Q859.994 101.722 870.162 101.722 Z\" fill=\"#000000\" fill-rule=\"evenodd\" fill-opacity=\"1\" /><path clip-path=\"url(#clip890)\" d=\"M 0 0 M901.354 156.409 L914.722 156.409 L914.722 110.27 L900.179 113.186 L900.179 105.733 L914.641 102.816 L922.823 102.816 L922.823 156.409 L936.191 156.409 L936.191 163.296 L901.354 163.296 L901.354 156.409 Z\" fill=\"#000000\" fill-rule=\"evenodd\" fill-opacity=\"1\" /><path clip-path=\"url(#clip890)\" d=\"M 0 0 M945.144 102.816 L977.268 102.816 L977.268 109.703 L952.638 109.703 L952.638 124.529 Q954.421 123.921 956.203 123.638 Q957.985 123.314 959.768 123.314 Q969.895 123.314 975.809 128.863 Q981.724 134.413 981.724 143.892 Q981.724 153.655 975.647 159.083 Q969.571 164.471 958.512 164.471 Q954.704 164.471 950.734 163.823 Q946.805 163.174 942.592 161.878 L942.592 153.655 Q946.238 155.64 950.127 156.612 Q954.015 157.584 958.35 157.584 Q965.358 157.584 969.449 153.898 Q973.541 150.212 973.541 143.892 Q973.541 137.573 969.449 133.886 Q965.358 130.2 958.35 130.2 Q955.069 130.2 951.787 130.929 Q948.547 131.658 945.144 133.198 L945.144 102.816 Z\" fill=\"#000000\" fill-rule=\"evenodd\" fill-opacity=\"1\" /><path clip-path=\"url(#clip890)\" d=\"M 0 0 M1024.02 177.069 L1024.02 182.862 L980.913 182.862 L980.913 177.069 L1024.02 177.069 Z\" fill=\"#000000\" fill-rule=\"evenodd\" fill-opacity=\"1\" /><path clip-path=\"url(#clip890)\" d=\"M 0 0 M1058.12 124.893 Q1056.87 124.164 1055.37 123.84 Q1053.91 123.476 1052.13 123.476 Q1045.81 123.476 1042.41 127.608 Q1039.04 131.699 1039.04 139.396 L1039.04 163.296 L1031.55 163.296 L1031.55 117.926 L1039.04 117.926 L1039.04 124.974 Q1041.39 120.843 1045.16 118.858 Q1048.93 116.832 1054.32 116.832 Q1055.09 116.832 1056.02 116.954 Q1056.95 117.035 1058.08 117.237 L1058.12 124.893 Z\" fill=\"#000000\" fill-rule=\"evenodd\" fill-opacity=\"1\" /><path clip-path=\"url(#clip890)\" d=\"M 0 0 M1102.2 135.912 L1102.2 163.296 L1094.74 163.296 L1094.74 136.155 Q1094.74 129.714 1092.23 126.514 Q1089.72 123.314 1084.7 123.314 Q1078.66 123.314 1075.18 127.162 Q1071.69 131.01 1071.69 137.654 L1071.69 163.296 L1064.2 163.296 L1064.2 117.926 L1071.69 117.926 L1071.69 124.974 Q1074.37 120.883 1077.97 118.858 Q1081.62 116.832 1086.36 116.832 Q1094.18 116.832 1098.19 121.693 Q1102.2 126.514 1102.2 135.912 Z\" fill=\"#000000\" fill-rule=\"evenodd\" fill-opacity=\"1\" /><path clip-path=\"url(#clip890)\" d=\"M 0 0 M1130.63 140.489 Q1121.6 140.489 1118.12 142.555 Q1114.63 144.621 1114.63 149.604 Q1114.63 153.574 1117.23 155.923 Q1119.86 158.232 1124.36 158.232 Q1130.55 158.232 1134.28 153.857 Q1138.05 149.442 1138.05 142.15 L1138.05 140.489 L1130.63 140.489 M1145.5 137.411 L1145.5 163.296 L1138.05 163.296 L1138.05 156.409 Q1135.5 160.541 1131.69 162.526 Q1127.88 164.471 1122.37 164.471 Q1115.4 164.471 1111.27 160.582 Q1107.18 156.653 1107.18 150.09 Q1107.18 142.434 1112.28 138.545 Q1117.43 134.656 1127.6 134.656 L1138.05 134.656 L1138.05 133.927 Q1138.05 128.782 1134.65 125.987 Q1131.28 123.152 1125.17 123.152 Q1121.28 123.152 1117.59 124.083 Q1113.9 125.015 1110.5 126.878 L1110.5 119.992 Q1114.59 118.412 1118.44 117.642 Q1122.29 116.832 1125.94 116.832 Q1135.78 116.832 1140.64 121.936 Q1145.5 127.04 1145.5 137.411 Z\" fill=\"#000000\" fill-rule=\"evenodd\" fill-opacity=\"1\" /><path clip-path=\"url(#clip890)\" d=\"M 0 0 M1187.79 177.069 L1187.79 182.862 L1144.69 182.862 L1144.69 177.069 L1187.79 177.069 Z\" fill=\"#000000\" fill-rule=\"evenodd\" fill-opacity=\"1\" /><path clip-path=\"url(#clip890)\" d=\"M 0 0 M1224.53 119.263 L1224.53 126.311 Q1221.38 124.691 1217.97 123.881 Q1214.57 123.071 1210.92 123.071 Q1205.37 123.071 1202.58 124.772 Q1199.82 126.473 1199.82 129.876 Q1199.82 132.469 1201.81 133.967 Q1203.79 135.426 1209.79 136.763 L1212.34 137.33 Q1220.28 139.031 1223.6 142.15 Q1226.97 145.229 1226.97 150.779 Q1226.97 157.098 1221.94 160.784 Q1216.96 164.471 1208.21 164.471 Q1204.56 164.471 1200.59 163.742 Q1196.66 163.053 1192.29 161.635 L1192.29 153.938 Q1196.42 156.085 1200.43 157.179 Q1204.44 158.232 1208.37 158.232 Q1213.64 158.232 1216.47 156.45 Q1219.31 154.627 1219.31 151.346 Q1219.31 148.308 1217.24 146.687 Q1215.22 145.067 1208.29 143.568 L1205.7 142.96 Q1198.77 141.502 1195.69 138.504 Q1192.61 135.466 1192.61 130.2 Q1192.61 123.8 1197.15 120.316 Q1201.69 116.832 1210.03 116.832 Q1214.16 116.832 1217.81 117.44 Q1221.46 118.047 1224.53 119.263 Z\" fill=\"#000000\" fill-rule=\"evenodd\" fill-opacity=\"1\" /><path clip-path=\"url(#clip890)\" d=\"M 0 0 M1273.59 138.748 L1273.59 142.393 L1239.32 142.393 Q1239.81 150.09 1243.94 154.141 Q1248.11 158.151 1255.52 158.151 Q1259.82 158.151 1263.83 157.098 Q1267.88 156.045 1271.85 153.938 L1271.85 160.987 Q1267.84 162.688 1263.63 163.58 Q1259.41 164.471 1255.08 164.471 Q1244.22 164.471 1237.86 158.151 Q1231.54 151.832 1231.54 141.057 Q1231.54 129.917 1237.54 123.395 Q1243.57 116.832 1253.78 116.832 Q1262.94 116.832 1268.24 122.746 Q1273.59 128.62 1273.59 138.748 M1266.14 136.56 Q1266.06 130.443 1262.69 126.797 Q1259.37 123.152 1253.86 123.152 Q1247.62 123.152 1243.86 126.676 Q1240.13 130.2 1239.56 136.601 L1266.14 136.56 Z\" fill=\"#000000\" fill-rule=\"evenodd\" fill-opacity=\"1\" /><path clip-path=\"url(#clip890)\" d=\"M 0 0 M1285.87 140.651 Q1285.87 148.875 1289.23 153.574 Q1292.63 158.232 1298.54 158.232 Q1304.46 158.232 1307.86 153.574 Q1311.26 148.875 1311.26 140.651 Q1311.26 132.428 1307.86 127.77 Q1304.46 123.071 1298.54 123.071 Q1292.63 123.071 1289.23 127.77 Q1285.87 132.428 1285.87 140.651 M1311.26 156.49 Q1308.92 160.541 1305.31 162.526 Q1301.75 164.471 1296.72 164.471 Q1288.5 164.471 1283.31 157.908 Q1278.17 151.346 1278.17 140.651 Q1278.17 129.957 1283.31 123.395 Q1288.5 116.832 1296.72 116.832 Q1301.75 116.832 1305.31 118.817 Q1308.92 120.762 1311.26 124.812 L1311.26 117.926 L1318.72 117.926 L1318.72 180.553 L1311.26 180.553 L1311.26 156.49 Z\" fill=\"#000000\" fill-rule=\"evenodd\" fill-opacity=\"1\" /><path clip-path=\"url(#clip890)\" d=\"M 0 0 M1361.01 177.069 L1361.01 182.862 L1317.91 182.862 L1317.91 177.069 L1361.01 177.069 Z\" fill=\"#000000\" fill-rule=\"evenodd\" fill-opacity=\"1\" /><path clip-path=\"url(#clip890)\" d=\"M 0 0 M1363.48 117.926 L1371.38 117.926 L1385.56 156.004 L1399.74 117.926 L1407.64 117.926 L1390.62 163.296 L1380.49 163.296 L1363.48 117.926 Z\" fill=\"#000000\" fill-rule=\"evenodd\" fill-opacity=\"1\" /><path clip-path=\"url(#clip890)\" d=\"M 0 0 M1423.56 156.409 L1452.11 156.409 L1452.11 163.296 L1413.71 163.296 L1413.71 156.409 Q1418.37 151.589 1426.39 143.487 Q1434.45 135.345 1436.52 132.995 Q1440.45 128.58 1441.99 125.542 Q1443.57 122.463 1443.57 119.506 Q1443.57 114.685 1440.16 111.647 Q1436.8 108.609 1431.37 108.609 Q1427.53 108.609 1423.23 109.946 Q1418.98 111.282 1414.12 113.996 L1414.12 105.733 Q1419.06 103.748 1423.35 102.735 Q1427.65 101.722 1431.21 101.722 Q1440.61 101.722 1446.2 106.421 Q1451.79 111.12 1451.79 118.979 Q1451.79 122.706 1450.37 126.068 Q1449 129.39 1445.31 133.927 Q1444.3 135.102 1438.87 140.732 Q1433.44 146.323 1423.56 156.409 Z\" fill=\"#000000\" fill-rule=\"evenodd\" fill-opacity=\"1\" /><path clip-path=\"url(#clip890)\" d=\"M 0 0 M1494.41 177.069 L1494.41 182.862 L1451.3 182.862 L1451.3 177.069 L1494.41 177.069 Z\" fill=\"#000000\" fill-rule=\"evenodd\" fill-opacity=\"1\" /><path clip-path=\"url(#clip890)\" d=\"M 0 0 M1537.55 126.635 Q1540.34 121.612 1544.23 119.222 Q1548.12 116.832 1553.39 116.832 Q1560.48 116.832 1564.32 121.815 Q1568.17 126.757 1568.17 135.912 L1568.17 163.296 L1560.68 163.296 L1560.68 136.155 Q1560.68 129.633 1558.37 126.473 Q1556.06 123.314 1551.32 123.314 Q1545.53 123.314 1542.17 127.162 Q1538.8 131.01 1538.8 137.654 L1538.8 163.296 L1531.31 163.296 L1531.31 136.155 Q1531.31 129.592 1529 126.473 Q1526.69 123.314 1521.87 123.314 Q1516.16 123.314 1512.8 127.202 Q1509.43 131.051 1509.43 137.654 L1509.43 163.296 L1501.94 163.296 L1501.94 117.926 L1509.43 117.926 L1509.43 124.974 Q1511.99 120.802 1515.55 118.817 Q1519.12 116.832 1524.02 116.832 Q1528.96 116.832 1532.4 119.344 Q1535.89 121.855 1537.55 126.635 Z\" fill=\"#000000\" fill-rule=\"evenodd\" fill-opacity=\"1\" /><path clip-path=\"url(#clip890)\" d=\"M 0 0 M1602.28 124.893 Q1601.03 124.164 1599.53 123.84 Q1598.07 123.476 1596.29 123.476 Q1589.97 123.476 1586.56 127.608 Q1583.2 131.699 1583.2 139.396 L1583.2 163.296 L1575.71 163.296 L1575.71 117.926 L1583.2 117.926 L1583.2 124.974 Q1585.55 120.843 1589.32 118.858 Q1593.09 116.832 1598.47 116.832 Q1599.24 116.832 1600.18 116.954 Q1601.11 117.035 1602.24 117.237 L1602.28 124.893 Z\" fill=\"#000000\" fill-rule=\"evenodd\" fill-opacity=\"1\" /><path clip-path=\"url(#clip890)\" d=\"M 0 0 M1646.36 135.912 L1646.36 163.296 L1638.9 163.296 L1638.9 136.155 Q1638.9 129.714 1636.39 126.514 Q1633.88 123.314 1628.86 123.314 Q1622.82 123.314 1619.34 127.162 Q1615.85 131.01 1615.85 137.654 L1615.85 163.296 L1608.36 163.296 L1608.36 117.926 L1615.85 117.926 L1615.85 124.974 Q1618.53 120.883 1622.13 118.858 Q1625.78 116.832 1630.52 116.832 Q1638.33 116.832 1642.35 121.693 Q1646.36 126.514 1646.36 135.912 Z\" fill=\"#000000\" fill-rule=\"evenodd\" fill-opacity=\"1\" /><path clip-path=\"url(#clip890)\" d=\"M 0 0 M1674.79 140.489 Q1665.76 140.489 1662.28 142.555 Q1658.79 144.621 1658.79 149.604 Q1658.79 153.574 1661.38 155.923 Q1664.02 158.232 1668.51 158.232 Q1674.71 158.232 1678.44 153.857 Q1682.21 149.442 1682.21 142.15 L1682.21 140.489 L1674.79 140.489 M1689.66 137.411 L1689.66 163.296 L1682.21 163.296 L1682.21 156.409 Q1679.65 160.541 1675.85 162.526 Q1672.04 164.471 1666.53 164.471 Q1659.56 164.471 1655.43 160.582 Q1651.34 156.653 1651.34 150.09 Q1651.34 142.434 1656.44 138.545 Q1661.59 134.656 1671.75 134.656 L1682.21 134.656 L1682.21 133.927 Q1682.21 128.782 1678.8 125.987 Q1675.44 123.152 1669.32 123.152 Q1665.44 123.152 1661.75 124.083 Q1658.06 125.015 1654.66 126.878 L1654.66 119.992 Q1658.75 118.412 1662.6 117.642 Q1666.45 116.832 1670.09 116.832 Q1679.94 116.832 1684.8 121.936 Q1689.66 127.04 1689.66 137.411 Z\" fill=\"#000000\" fill-rule=\"evenodd\" fill-opacity=\"1\" /><path clip-path=\"url(#clip890)\" d=\"M 0 0 M1731.95 177.069 L1731.95 182.862 L1688.85 182.862 L1688.85 177.069 L1731.95 177.069 Z\" fill=\"#000000\" fill-rule=\"evenodd\" fill-opacity=\"1\" /><path clip-path=\"url(#clip890)\" d=\"M 0 0 M1775.09 126.635 Q1777.89 121.612 1781.78 119.222 Q1785.67 116.832 1790.93 116.832 Q1798.02 116.832 1801.87 121.815 Q1805.72 126.757 1805.72 135.912 L1805.72 163.296 L1798.22 163.296 L1798.22 136.155 Q1798.22 129.633 1795.91 126.473 Q1793.61 123.314 1788.87 123.314 Q1783.07 123.314 1779.71 127.162 Q1776.35 131.01 1776.35 137.654 L1776.35 163.296 L1768.85 163.296 L1768.85 136.155 Q1768.85 129.592 1766.55 126.473 Q1764.24 123.314 1759.42 123.314 Q1753.7 123.314 1750.34 127.202 Q1746.98 131.051 1746.98 137.654 L1746.98 163.296 L1739.49 163.296 L1739.49 117.926 L1746.98 117.926 L1746.98 124.974 Q1749.53 120.802 1753.1 118.817 Q1756.66 116.832 1761.56 116.832 Q1766.51 116.832 1769.95 119.344 Q1773.43 121.855 1775.09 126.635 Z\" fill=\"#000000\" fill-rule=\"evenodd\" fill-opacity=\"1\" /><path clip-path=\"url(#clip890)\" d=\"M 0 0 M1852.34 138.748 L1852.34 142.393 L1818.07 142.393 Q1818.56 150.09 1822.69 154.141 Q1826.86 158.151 1834.28 158.151 Q1838.57 158.151 1842.58 157.098 Q1846.63 156.045 1850.6 153.938 L1850.6 160.987 Q1846.59 162.688 1842.38 163.58 Q1838.17 164.471 1833.83 164.471 Q1822.97 164.471 1816.61 158.151 Q1810.3 151.832 1810.3 141.057 Q1810.3 129.917 1816.29 123.395 Q1822.33 116.832 1832.54 116.832 Q1841.69 116.832 1847 122.746 Q1852.34 128.62 1852.34 138.748 M1844.89 136.56 Q1844.81 130.443 1841.45 126.797 Q1838.13 123.152 1832.62 123.152 Q1826.38 123.152 1822.61 126.676 Q1818.88 130.2 1818.32 136.601 L1844.89 136.56 Z\" fill=\"#000000\" fill-rule=\"evenodd\" fill-opacity=\"1\" /><path clip-path=\"url(#clip890)\" d=\"M 0 0 M1890.02 124.812 L1890.02 100.264 L1897.47 100.264 L1897.47 163.296 L1890.02 163.296 L1890.02 156.49 Q1887.67 160.541 1884.06 162.526 Q1880.5 164.471 1875.47 164.471 Q1867.25 164.471 1862.07 157.908 Q1856.92 151.346 1856.92 140.651 Q1856.92 129.957 1862.07 123.395 Q1867.25 116.832 1875.47 116.832 Q1880.5 116.832 1884.06 118.817 Q1887.67 120.762 1890.02 124.812 M1864.62 140.651 Q1864.62 148.875 1867.98 153.574 Q1871.38 158.232 1877.3 158.232 Q1883.21 158.232 1886.61 153.574 Q1890.02 148.875 1890.02 140.651 Q1890.02 132.428 1886.61 127.77 Q1883.21 123.071 1877.3 123.071 Q1871.38 123.071 1867.98 127.77 Q1864.62 132.428 1864.62 140.651 Z\" fill=\"#000000\" fill-rule=\"evenodd\" fill-opacity=\"1\" /><path clip-path=\"url(#clip890)\" d=\"M 0 0 M1905.29 117.926 L1912.74 117.926 L1912.74 163.296 L1905.29 163.296 L1905.29 117.926 M1905.29 100.264 L1912.74 100.264 L1912.74 109.703 L1905.29 109.703 L1905.29 100.264 Z\" fill=\"#000000\" fill-rule=\"evenodd\" fill-opacity=\"1\" /><path clip-path=\"url(#clip890)\" d=\"M 0 0 M1941.18 140.489 Q1932.15 140.489 1928.66 142.555 Q1925.18 144.621 1925.18 149.604 Q1925.18 153.574 1927.77 155.923 Q1930.4 158.232 1934.9 158.232 Q1941.1 158.232 1944.83 153.857 Q1948.59 149.442 1948.59 142.15 L1948.59 140.489 L1941.18 140.489 M1956.05 137.411 L1956.05 163.296 L1948.59 163.296 L1948.59 156.409 Q1946.04 160.541 1942.23 162.526 Q1938.43 164.471 1932.92 164.471 Q1925.95 164.471 1921.82 160.582 Q1917.73 156.653 1917.73 150.09 Q1917.73 142.434 1922.83 138.545 Q1927.97 134.656 1938.14 134.656 L1948.59 134.656 L1948.59 133.927 Q1948.59 128.782 1945.19 125.987 Q1941.83 123.152 1935.71 123.152 Q1931.82 123.152 1928.14 124.083 Q1924.45 125.015 1921.05 126.878 L1921.05 119.992 Q1925.14 118.412 1928.99 117.642 Q1932.84 116.832 1936.48 116.832 Q1946.32 116.832 1951.19 121.936 Q1956.05 127.04 1956.05 137.411 Z\" fill=\"#000000\" fill-rule=\"evenodd\" fill-opacity=\"1\" /><path clip-path=\"url(#clip890)\" d=\"M 0 0 M2001.58 135.912 L2001.58 163.296 L1994.13 163.296 L1994.13 136.155 Q1994.13 129.714 1991.61 126.514 Q1989.1 123.314 1984.08 123.314 Q1978.04 123.314 1974.56 127.162 Q1971.08 131.01 1971.08 137.654 L1971.08 163.296 L1963.58 163.296 L1963.58 117.926 L1971.08 117.926 L1971.08 124.974 Q1973.75 120.883 1977.35 118.858 Q1981 116.832 1985.74 116.832 Q1993.56 116.832 1997.57 121.693 Q2001.58 126.514 2001.58 135.912 Z\" fill=\"#000000\" fill-rule=\"evenodd\" fill-opacity=\"1\" /><path clip-path=\"url(#clip890)\" d=\"M 0 0 M2043.87 177.069 L2043.87 182.862 L2000.77 182.862 L2000.77 177.069 L2043.87 177.069 Z\" fill=\"#000000\" fill-rule=\"evenodd\" fill-opacity=\"1\" /><path clip-path=\"url(#clip890)\" d=\"M 0 0 M2048.53 102.816 L2096.05 102.816 L2096.05 109.054 L2057.81 156.409 L2096.98 156.409 L2096.98 163.296 L2047.6 163.296 L2047.6 157.058 L2085.84 109.703 L2048.53 109.703 L2048.53 102.816 Z\" fill=\"#000000\" fill-rule=\"evenodd\" fill-opacity=\"1\" /><path clip-path=\"url(#clip890)\" d=\"M 0 0 M2133.72 119.263 L2133.72 126.311 Q2130.56 124.691 2127.16 123.881 Q2123.75 123.071 2120.11 123.071 Q2114.56 123.071 2111.76 124.772 Q2109.01 126.473 2109.01 129.876 Q2109.01 132.469 2110.99 133.967 Q2112.98 135.426 2118.97 136.763 L2121.53 137.33 Q2129.47 139.031 2132.79 142.15 Q2136.15 145.229 2136.15 150.779 Q2136.15 157.098 2131.13 160.784 Q2126.14 164.471 2117.39 164.471 Q2113.75 164.471 2109.78 163.742 Q2105.85 163.053 2101.47 161.635 L2101.47 153.938 Q2105.61 156.085 2109.62 157.179 Q2113.63 158.232 2117.56 158.232 Q2122.82 158.232 2125.66 156.45 Q2128.49 154.627 2128.49 151.346 Q2128.49 148.308 2126.43 146.687 Q2124.4 145.067 2117.48 143.568 L2114.88 142.96 Q2107.96 141.502 2104.88 138.504 Q2101.8 135.466 2101.8 130.2 Q2101.8 123.8 2106.34 120.316 Q2110.87 116.832 2119.22 116.832 Q2123.35 116.832 2127 117.44 Q2130.64 118.047 2133.72 119.263 Z\" fill=\"#000000\" fill-rule=\"evenodd\" fill-opacity=\"1\" /><path clip-path=\"url(#clip890)\" d=\"M 0 0 M2176.62 119.668 L2176.62 126.635 Q2173.46 124.893 2170.26 124.043 Q2167.1 123.152 2163.86 123.152 Q2156.61 123.152 2152.6 127.77 Q2148.59 132.347 2148.59 140.651 Q2148.59 148.956 2152.6 153.574 Q2156.61 158.151 2163.86 158.151 Q2167.1 158.151 2170.26 157.301 Q2173.46 156.409 2176.62 154.668 L2176.62 161.554 Q2173.5 163.012 2170.14 163.742 Q2166.82 164.471 2163.05 164.471 Q2152.8 164.471 2146.76 158.03 Q2140.73 151.589 2140.73 140.651 Q2140.73 129.552 2146.8 123.192 Q2152.92 116.832 2163.53 116.832 Q2166.98 116.832 2170.26 117.561 Q2173.54 118.25 2176.62 119.668 Z\" fill=\"#000000\" fill-rule=\"evenodd\" fill-opacity=\"1\" /><path clip-path=\"url(#clip890)\" d=\"M 0 0 M2202.02 123.152 Q2196.02 123.152 2192.54 127.851 Q2189.06 132.509 2189.06 140.651 Q2189.06 148.794 2192.5 153.493 Q2195.98 158.151 2202.02 158.151 Q2207.97 158.151 2211.46 153.452 Q2214.94 148.753 2214.94 140.651 Q2214.94 132.59 2211.46 127.891 Q2207.97 123.152 2202.02 123.152 M2202.02 116.832 Q2211.74 116.832 2217.29 123.152 Q2222.84 129.471 2222.84 140.651 Q2222.84 151.791 2217.29 158.151 Q2211.74 164.471 2202.02 164.471 Q2192.26 164.471 2186.71 158.151 Q2181.2 151.791 2181.2 140.651 Q2181.2 129.471 2186.71 123.152 Q2192.26 116.832 2202.02 116.832 Z\" fill=\"#000000\" fill-rule=\"evenodd\" fill-opacity=\"1\" /><path clip-path=\"url(#clip890)\" d=\"M 0 0 M2256.95 124.893 Q2255.69 124.164 2254.19 123.84 Q2252.74 123.476 2250.95 123.476 Q2244.63 123.476 2241.23 127.608 Q2237.87 131.699 2237.87 139.396 L2237.87 163.296 L2230.37 163.296 L2230.37 117.926 L2237.87 117.926 L2237.87 124.974 Q2240.22 120.843 2243.99 118.858 Q2247.75 116.832 2253.14 116.832 Q2253.91 116.832 2254.84 116.954 Q2255.77 117.035 2256.91 117.237 L2256.95 124.893 Z\" fill=\"#000000\" fill-rule=\"evenodd\" fill-opacity=\"1\" /><path clip-path=\"url(#clip890)\" d=\"M 0 0 M2301.75 138.748 L2301.75 142.393 L2267.48 142.393 Q2267.97 150.09 2272.1 154.141 Q2276.27 158.151 2283.68 158.151 Q2287.98 158.151 2291.99 157.098 Q2296.04 156.045 2300.01 153.938 L2300.01 160.987 Q2296 162.688 2291.79 163.58 Q2287.57 164.471 2283.24 164.471 Q2272.38 164.471 2266.02 158.151 Q2259.7 151.832 2259.7 141.057 Q2259.7 129.917 2265.7 123.395 Q2271.73 116.832 2281.94 116.832 Q2291.1 116.832 2296.4 122.746 Q2301.75 128.62 2301.75 138.748 M2294.3 136.56 Q2294.22 130.443 2290.85 126.797 Q2287.53 123.152 2282.02 123.152 Q2275.78 123.152 2272.02 126.676 Q2268.29 130.2 2267.72 136.601 L2294.3 136.56 Z\" fill=\"#000000\" fill-rule=\"evenodd\" fill-opacity=\"1\" /><path clip-path=\"url(#clip890)\" d=\"M 0 0 M2338.49 119.263 L2338.49 126.311 Q2335.33 124.691 2331.93 123.881 Q2328.53 123.071 2324.88 123.071 Q2319.33 123.071 2316.54 124.772 Q2313.78 126.473 2313.78 129.876 Q2313.78 132.469 2315.77 133.967 Q2317.75 135.426 2323.75 136.763 L2326.3 137.33 Q2334.24 139.031 2337.56 142.15 Q2340.92 145.229 2340.92 150.779 Q2340.92 157.098 2335.9 160.784 Q2330.92 164.471 2322.17 164.471 Q2318.52 164.471 2314.55 163.742 Q2310.62 163.053 2306.25 161.635 L2306.25 153.938 Q2310.38 156.085 2314.39 157.179 Q2318.4 158.232 2322.33 158.232 Q2327.6 158.232 2330.43 156.45 Q2333.27 154.627 2333.27 151.346 Q2333.27 148.308 2331.2 146.687 Q2329.18 145.067 2322.25 143.568 L2319.66 142.96 Q2312.73 141.502 2309.65 138.504 Q2306.57 135.466 2306.57 130.2 Q2306.57 123.8 2311.11 120.316 Q2315.65 116.832 2323.99 116.832 Q2328.12 116.832 2331.77 117.44 Q2335.41 118.047 2338.49 119.263 Z\" fill=\"#000000\" fill-rule=\"evenodd\" fill-opacity=\"1\" /><path clip-path=\"url(#clip890)\" d=\"M 0 0 M1098.46 1508.52 L1138.66 1508.52 L1138.66 1513.93 L1121.8 1513.93 L1121.8 1556.04 L1115.33 1556.04 L1115.33 1513.93 L1098.46 1513.93 L1098.46 1508.52 Z\" fill=\"#000000\" fill-rule=\"evenodd\" fill-opacity=\"1\" /><path clip-path=\"url(#clip890)\" d=\"M 0 0 M1142.8 1520.4 L1148.66 1520.4 L1148.66 1556.04 L1142.8 1556.04 L1142.8 1520.4 M1142.8 1506.52 L1148.66 1506.52 L1148.66 1513.93 L1142.8 1513.93 L1142.8 1506.52 Z\" fill=\"#000000\" fill-rule=\"evenodd\" fill-opacity=\"1\" /><path clip-path=\"url(#clip890)\" d=\"M 0 0 M1182.56 1527.24 Q1184.75 1523.29 1187.81 1521.41 Q1190.86 1519.54 1195 1519.54 Q1200.57 1519.54 1203.59 1523.45 Q1206.62 1527.33 1206.62 1534.53 L1206.62 1556.04 L1200.73 1556.04 L1200.73 1534.72 Q1200.73 1529.59 1198.92 1527.11 Q1197.1 1524.63 1193.38 1524.63 Q1188.83 1524.63 1186.18 1527.65 Q1183.54 1530.68 1183.54 1535.9 L1183.54 1556.04 L1177.65 1556.04 L1177.65 1534.72 Q1177.65 1529.56 1175.84 1527.11 Q1174.03 1524.63 1170.24 1524.63 Q1165.75 1524.63 1163.11 1527.68 Q1160.47 1530.71 1160.47 1535.9 L1160.47 1556.04 L1154.58 1556.04 L1154.58 1520.4 L1160.47 1520.4 L1160.47 1525.93 Q1162.47 1522.66 1165.27 1521.1 Q1168.07 1519.54 1171.93 1519.54 Q1175.81 1519.54 1178.51 1521.51 Q1181.25 1523.48 1182.56 1527.24 Z\" fill=\"#000000\" fill-rule=\"evenodd\" fill-opacity=\"1\" /><path clip-path=\"url(#clip890)\" d=\"M 0 0 M1243.25 1536.76 L1243.25 1539.62 L1216.33 1539.62 Q1216.71 1545.67 1219.95 1548.85 Q1223.23 1552 1229.06 1552 Q1232.43 1552 1235.58 1551.17 Q1238.77 1550.35 1241.88 1548.69 L1241.88 1554.23 Q1238.73 1555.57 1235.42 1556.27 Q1232.11 1556.97 1228.71 1556.97 Q1220.18 1556.97 1215.18 1552 Q1210.21 1547.04 1210.21 1538.57 Q1210.21 1529.82 1214.93 1524.69 Q1219.67 1519.54 1227.69 1519.54 Q1234.88 1519.54 1239.05 1524.18 Q1243.25 1528.8 1243.25 1536.76 M1237.4 1535.04 Q1237.33 1530.23 1234.69 1527.37 Q1232.08 1524.5 1227.75 1524.5 Q1222.85 1524.5 1219.89 1527.27 Q1216.96 1530.04 1216.52 1535.07 L1237.4 1535.04 Z\" fill=\"#000000\" fill-rule=\"evenodd\" fill-opacity=\"1\" /><path clip-path=\"url(#clip890)\" d=\"M 0 0 M1284.18 1506.58 Q1279.92 1513.9 1277.85 1521.06 Q1275.78 1528.23 1275.78 1535.58 Q1275.78 1542.93 1277.85 1550.16 Q1279.95 1557.35 1284.18 1564.64 L1279.09 1564.64 Q1274.32 1557.16 1271.93 1549.93 Q1269.58 1542.71 1269.58 1535.58 Q1269.58 1528.48 1271.93 1521.29 Q1274.29 1514.09 1279.09 1506.58 L1284.18 1506.58 Z\" fill=\"#000000\" fill-rule=\"evenodd\" fill-opacity=\"1\" /><path clip-path=\"url(#clip890)\" d=\"M 0 0 M1297.01 1513.81 L1297.01 1550.76 L1304.78 1550.76 Q1314.61 1550.76 1319.16 1546.3 Q1323.75 1541.85 1323.75 1532.24 Q1323.75 1522.69 1319.16 1518.26 Q1314.61 1513.81 1304.78 1513.81 L1297.01 1513.81 M1290.58 1508.52 L1303.79 1508.52 Q1317.6 1508.52 1324.07 1514.28 Q1330.53 1520.01 1330.53 1532.24 Q1330.53 1544.52 1324.03 1550.28 Q1317.54 1556.04 1303.79 1556.04 L1290.58 1556.04 L1290.58 1508.52 Z\" fill=\"#000000\" fill-rule=\"evenodd\" fill-opacity=\"1\" /><path clip-path=\"url(#clip890)\" d=\"M 0 0 M1351.66 1514.86 L1342.94 1538.51 L1360.41 1538.51 L1351.66 1514.86 M1348.03 1508.52 L1355.32 1508.52 L1373.43 1556.04 L1366.75 1556.04 L1362.42 1543.85 L1341 1543.85 L1336.67 1556.04 L1329.89 1556.04 L1348.03 1508.52 Z\" fill=\"#000000\" fill-rule=\"evenodd\" fill-opacity=\"1\" /><path clip-path=\"url(#clip890)\" d=\"M 0 0 M1368.24 1508.52 L1375.15 1508.52 L1388.33 1528.07 L1401.41 1508.52 L1408.32 1508.52 L1391.51 1533.41 L1391.51 1556.04 L1385.05 1556.04 L1385.05 1533.41 L1368.24 1508.52 Z\" fill=\"#000000\" fill-rule=\"evenodd\" fill-opacity=\"1\" /><path clip-path=\"url(#clip890)\" d=\"M 0 0 M1443.2 1510.08 L1443.2 1516.35 Q1439.54 1514.6 1436.29 1513.74 Q1433.05 1512.88 1430.02 1512.88 Q1424.77 1512.88 1421.91 1514.92 Q1419.07 1516.96 1419.07 1520.71 Q1419.07 1523.87 1420.95 1525.49 Q1422.86 1527.08 1428.14 1528.07 L1432.03 1528.86 Q1439.22 1530.23 1442.63 1533.7 Q1446.06 1537.14 1446.06 1542.93 Q1446.06 1549.84 1441.42 1553.4 Q1436.8 1556.97 1427.86 1556.97 Q1424.48 1556.97 1420.67 1556.2 Q1416.88 1555.44 1412.8 1553.94 L1412.8 1547.32 Q1416.72 1549.52 1420.47 1550.63 Q1424.23 1551.75 1427.86 1551.75 Q1433.36 1551.75 1436.36 1549.58 Q1439.35 1547.42 1439.35 1543.41 Q1439.35 1539.91 1437.18 1537.93 Q1435.05 1535.96 1430.15 1534.97 L1426.24 1534.21 Q1419.04 1532.78 1415.83 1529.72 Q1412.61 1526.67 1412.61 1521.22 Q1412.61 1514.92 1417.04 1511.29 Q1421.49 1507.66 1429.29 1507.66 Q1432.63 1507.66 1436.1 1508.27 Q1439.57 1508.87 1443.2 1510.08 Z\" fill=\"#000000\" fill-rule=\"evenodd\" fill-opacity=\"1\" /><path clip-path=\"url(#clip890)\" d=\"M 0 0 M1451.28 1506.58 L1456.38 1506.58 Q1461.15 1514.09 1463.51 1521.29 Q1465.89 1528.48 1465.89 1535.58 Q1465.89 1542.71 1463.51 1549.93 Q1461.15 1557.16 1456.38 1564.64 L1451.28 1564.64 Q1455.52 1557.35 1457.59 1550.16 Q1459.69 1542.93 1459.69 1535.58 Q1459.69 1528.23 1457.59 1521.06 Q1455.52 1513.9 1451.28 1506.58 Z\" fill=\"#000000\" fill-rule=\"evenodd\" fill-opacity=\"1\" /><path clip-path=\"url(#clip890)\" d=\"M 0 0 M42.0438 1145.67 L48.314 1145.67 Q46.5634 1149.34 45.704 1152.58 Q44.8447 1155.83 44.8447 1158.85 Q44.8447 1164.1 46.8817 1166.97 Q48.9187 1169.8 52.6745 1169.8 Q55.8255 1169.8 57.4488 1167.92 Q59.0402 1166.01 60.0269 1160.73 L60.8226 1156.85 Q62.1912 1149.65 65.6605 1146.25 Q69.098 1142.81 74.8908 1142.81 Q81.7976 1142.81 85.3624 1147.46 Q88.9272 1152.07 88.9272 1161.02 Q88.9272 1164.39 88.1633 1168.21 Q87.3994 1172 85.9035 1176.07 L79.2831 1176.07 Q81.4793 1172.16 82.5933 1168.4 Q83.7073 1164.64 83.7073 1161.02 Q83.7073 1155.51 81.543 1152.52 Q79.3786 1149.53 75.3682 1149.53 Q71.8671 1149.53 69.8937 1151.69 Q67.9204 1153.82 66.9337 1158.72 L66.1698 1162.64 Q64.7375 1169.83 61.682 1173.05 Q58.6264 1176.26 53.1837 1176.26 Q46.8817 1176.26 43.2532 1171.84 Q39.6248 1167.38 39.6248 1159.58 Q39.6248 1156.24 40.2295 1152.77 Q40.8343 1149.3 42.0438 1145.67 Z\" fill=\"#000000\" fill-rule=\"evenodd\" fill-opacity=\"1\" /><path clip-path=\"url(#clip890)\" d=\"M 0 0 M73.9359 1137.27 L52.3562 1137.27 L52.3562 1131.42 L73.7131 1131.42 Q78.7739 1131.42 81.3202 1129.44 Q83.8346 1127.47 83.8346 1123.52 Q83.8346 1118.78 80.8109 1116.04 Q77.7872 1113.27 72.5673 1113.27 L52.3562 1113.27 L52.3562 1107.42 L88.0042 1107.42 L88.0042 1113.27 L82.5296 1113.27 Q85.7762 1115.41 87.3676 1118.24 Q88.9272 1121.04 88.9272 1124.76 Q88.9272 1130.91 85.1078 1134.09 Q81.2883 1137.27 73.9359 1137.27 M51.4968 1122.54 L51.4968 1122.54 Z\" fill=\"#000000\" fill-rule=\"evenodd\" fill-opacity=\"1\" /><path clip-path=\"url(#clip890)\" d=\"M 0 0 M57.8307 1080.62 Q57.2578 1081.6 57.0032 1082.78 Q56.7167 1083.93 56.7167 1085.33 Q56.7167 1090.29 59.9632 1092.97 Q63.1779 1095.61 69.2253 1095.61 L88.0042 1095.61 L88.0042 1101.5 L52.3562 1101.5 L52.3562 1095.61 L57.8944 1095.61 Q54.6479 1093.76 53.0883 1090.8 Q51.4968 1087.84 51.4968 1083.61 Q51.4968 1083 51.5923 1082.27 Q51.656 1081.54 51.8151 1080.65 L57.8307 1080.62 Z\" fill=\"#000000\" fill-rule=\"evenodd\" fill-opacity=\"1\" /><path clip-path=\"url(#clip890)\" d=\"M 0 0 M52.3562 1078.68 L52.3562 1072.47 L82.275 1061.33 L52.3562 1050.19 L52.3562 1043.98 L88.0042 1057.35 L88.0042 1065.31 L52.3562 1078.68 Z\" fill=\"#000000\" fill-rule=\"evenodd\" fill-opacity=\"1\" /><path clip-path=\"url(#clip890)\" d=\"M 0 0 M52.3562 1037.84 L52.3562 1031.98 L88.0042 1031.98 L88.0042 1037.84 L52.3562 1037.84 M38.479 1037.84 L38.479 1031.98 L45.895 1031.98 L45.895 1037.84 L38.479 1037.84 Z\" fill=\"#000000\" fill-rule=\"evenodd\" fill-opacity=\"1\" /><path clip-path=\"url(#clip890)\" d=\"M 0 0 M52.3562 1030.04 L52.3562 1023.84 L82.275 1012.7 L52.3562 1001.56 L52.3562 995.349 L88.0042 1008.72 L88.0042 1016.67 L52.3562 1030.04 Z\" fill=\"#000000\" fill-rule=\"evenodd\" fill-opacity=\"1\" /><path clip-path=\"url(#clip890)\" d=\"M 0 0 M70.0847 973.005 Q70.0847 980.103 71.7079 982.84 Q73.3312 985.577 77.2461 985.577 Q80.3653 985.577 82.2114 983.54 Q84.0256 981.472 84.0256 977.939 Q84.0256 973.069 80.5881 970.141 Q77.1188 967.181 71.3897 967.181 L70.0847 967.181 L70.0847 973.005 M67.6657 961.324 L88.0042 961.324 L88.0042 967.181 L82.5933 967.181 Q85.8398 969.186 87.3994 972.178 Q88.9272 975.17 88.9272 979.498 Q88.9272 984.973 85.8716 988.219 Q82.7843 991.434 77.6281 991.434 Q71.6125 991.434 68.5569 987.424 Q65.5014 983.381 65.5014 975.392 L65.5014 967.181 L64.9285 967.181 Q60.8862 967.181 58.6901 969.854 Q56.4621 972.496 56.4621 977.302 Q56.4621 980.358 57.1941 983.254 Q57.9262 986.15 59.3903 988.824 L53.9795 988.824 Q52.7381 985.609 52.1334 982.586 Q51.4968 979.562 51.4968 976.697 Q51.4968 968.963 55.5072 965.144 Q59.5176 961.324 67.6657 961.324 Z\" fill=\"#000000\" fill-rule=\"evenodd\" fill-opacity=\"1\" /><path clip-path=\"url(#clip890)\" d=\"M 0 0 M38.479 955.181 L38.479 949.325 L88.0042 949.325 L88.0042 955.181 L38.479 955.181 Z\" fill=\"#000000\" fill-rule=\"evenodd\" fill-opacity=\"1\" /><path clip-path=\"url(#clip890)\" d=\"M 0 0 M38.5426 908.393 Q45.8632 912.658 53.0246 914.727 Q60.186 916.796 67.5384 916.796 Q74.8908 916.796 82.1159 914.727 Q89.3091 912.626 96.5979 908.393 L96.5979 913.486 Q89.1182 918.26 81.8931 920.647 Q74.668 923.003 67.5384 923.003 Q60.4406 923.003 53.2474 920.647 Q46.0542 918.292 38.5426 913.486 L38.5426 908.393 Z\" fill=\"#000000\" fill-rule=\"evenodd\" fill-opacity=\"1\" /><path clip-path=\"url(#clip890)\" d=\"M 0 0 M44.8447 882.708 Q44.8447 889.71 50.0645 893.848 Q55.2844 897.953 64.2919 897.953 Q73.2675 897.953 78.4874 893.848 Q83.7073 889.71 83.7073 882.708 Q83.7073 875.705 78.4874 871.631 Q73.2675 867.525 64.2919 867.525 Q55.2844 867.525 50.0645 871.631 Q44.8447 875.705 44.8447 882.708 M39.6248 882.708 Q39.6248 872.713 46.3406 866.73 Q53.0246 860.746 64.2919 860.746 Q75.5274 860.746 82.2432 866.73 Q88.9272 872.713 88.9272 882.708 Q88.9272 892.734 82.2432 898.749 Q75.5592 904.733 64.2919 904.733 Q53.0246 904.733 46.3406 898.749 Q39.6248 892.734 39.6248 882.708 Z\" fill=\"#000000\" fill-rule=\"evenodd\" fill-opacity=\"1\" /><path clip-path=\"url(#clip890)\" d=\"M 0 0 M52.3562 858.804 L52.3562 852.598 L82.275 841.458 L52.3562 830.318 L52.3562 824.111 L88.0042 837.479 L88.0042 845.436 L52.3562 858.804 Z\" fill=\"#000000\" fill-rule=\"evenodd\" fill-opacity=\"1\" /><path clip-path=\"url(#clip890)\" d=\"M 0 0 M68.7161 787.477 L71.5806 787.477 L71.5806 814.404 Q77.6281 814.022 80.8109 810.775 Q83.9619 807.497 83.9619 801.672 Q83.9619 798.298 83.1344 795.147 Q82.3069 791.964 80.6518 788.845 L86.1899 788.845 Q87.5267 791.996 88.227 795.306 Q88.9272 798.617 88.9272 802.022 Q88.9272 810.552 83.9619 815.549 Q78.9967 820.515 70.5303 820.515 Q61.7774 820.515 56.6531 815.804 Q51.4968 811.062 51.4968 803.041 Q51.4968 795.848 56.1438 791.678 Q60.7589 787.477 68.7161 787.477 M66.9973 793.333 Q62.1912 793.397 59.3266 796.039 Q56.4621 798.648 56.4621 802.977 Q56.4621 807.879 59.2312 810.839 Q62.0002 813.767 67.0292 814.213 L66.9973 793.333 Z\" fill=\"#000000\" fill-rule=\"evenodd\" fill-opacity=\"1\" /><path clip-path=\"url(#clip890)\" d=\"M 0 0 M57.8307 760.677 Q57.2578 761.664 57.0032 762.841 Q56.7167 763.987 56.7167 765.388 Q56.7167 770.353 59.9632 773.027 Q63.1779 775.668 69.2253 775.668 L88.0042 775.668 L88.0042 781.557 L52.3562 781.557 L52.3562 775.668 L57.8944 775.668 Q54.6479 773.822 53.0883 770.862 Q51.4968 767.902 51.4968 763.669 Q51.4968 763.064 51.5923 762.332 Q51.656 761.6 51.8151 760.709 L57.8307 760.677 Z\" fill=\"#000000\" fill-rule=\"evenodd\" fill-opacity=\"1\" /><path clip-path=\"url(#clip890)\" d=\"M 0 0 M70.0847 738.333 Q70.0847 745.431 71.7079 748.168 Q73.3312 750.906 77.2461 750.906 Q80.3653 750.906 82.2114 748.869 Q84.0256 746.8 84.0256 743.267 Q84.0256 738.397 80.5881 735.469 Q77.1188 732.509 71.3897 732.509 L70.0847 732.509 L70.0847 738.333 M67.6657 726.652 L88.0042 726.652 L88.0042 732.509 L82.5933 732.509 Q85.8398 734.514 87.3994 737.506 Q88.9272 740.498 88.9272 744.826 Q88.9272 750.301 85.8716 753.547 Q82.7843 756.762 77.6281 756.762 Q71.6125 756.762 68.5569 752.752 Q65.5014 748.71 65.5014 740.721 L65.5014 732.509 L64.9285 732.509 Q60.8862 732.509 58.6901 735.182 Q56.4621 737.824 56.4621 742.63 Q56.4621 745.686 57.1941 748.582 Q57.9262 751.479 59.3903 754.152 L53.9795 754.152 Q52.7381 750.938 52.1334 747.914 Q51.4968 744.89 51.4968 742.026 Q51.4968 734.291 55.5072 730.472 Q59.5176 726.652 67.6657 726.652 Z\" fill=\"#000000\" fill-rule=\"evenodd\" fill-opacity=\"1\" /><path clip-path=\"url(#clip890)\" d=\"M 0 0 M38.479 720.509 L38.479 714.653 L88.0042 714.653 L88.0042 720.509 L38.479 720.509 Z\" fill=\"#000000\" fill-rule=\"evenodd\" fill-opacity=\"1\" /><path clip-path=\"url(#clip890)\" d=\"M 0 0 M38.479 708.51 L38.479 702.654 L88.0042 702.654 L88.0042 708.51 L38.479 708.51 Z\" fill=\"#000000\" fill-rule=\"evenodd\" fill-opacity=\"1\" /><path clip-path=\"url(#clip890)\" d=\"M 0 0 M42.0438 647.049 L48.314 647.049 Q46.5634 650.709 45.704 653.956 Q44.8447 657.202 44.8447 660.226 Q44.8447 665.478 46.8817 668.342 Q48.9187 671.175 52.6745 671.175 Q55.8255 671.175 57.4488 669.297 Q59.0402 667.388 60.0269 662.104 L60.8226 658.221 Q62.1912 651.028 65.6605 647.622 Q69.098 644.185 74.8908 644.185 Q81.7976 644.185 85.3624 648.832 Q88.9272 653.447 88.9272 662.391 Q88.9272 665.764 88.1633 669.584 Q87.3994 673.371 85.9035 677.445 L79.2831 677.445 Q81.4793 673.531 82.5933 669.775 Q83.7073 666.019 83.7073 662.391 Q83.7073 656.884 81.543 653.892 Q79.3786 650.9 75.3682 650.9 Q71.8671 650.9 69.8937 653.065 Q67.9204 655.197 66.9337 660.099 L66.1698 664.014 Q64.7375 671.207 61.682 674.422 Q58.6264 677.636 53.1837 677.636 Q46.8817 677.636 43.2532 673.212 Q39.6248 668.756 39.6248 660.958 Q39.6248 657.616 40.2295 654.147 Q40.8343 650.678 42.0438 647.049 Z\" fill=\"#000000\" fill-rule=\"evenodd\" fill-opacity=\"1\" /><path clip-path=\"url(#clip890)\" d=\"M 0 0 M73.9359 638.646 L52.3562 638.646 L52.3562 632.79 L73.7131 632.79 Q78.7739 632.79 81.3202 630.817 Q83.8346 628.843 83.8346 624.897 Q83.8346 620.154 80.8109 617.417 Q77.7872 614.648 72.5673 614.648 L52.3562 614.648 L52.3562 608.791 L88.0042 608.791 L88.0042 614.648 L82.5296 614.648 Q85.7762 616.78 87.3676 619.613 Q88.9272 622.414 88.9272 626.138 Q88.9272 632.281 85.1078 635.464 Q81.2883 638.646 73.9359 638.646 M51.4968 623.91 L51.4968 623.91 Z\" fill=\"#000000\" fill-rule=\"evenodd\" fill-opacity=\"1\" /><path clip-path=\"url(#clip890)\" d=\"M 0 0 M57.8307 581.992 Q57.2578 582.978 57.0032 584.156 Q56.7167 585.302 56.7167 586.702 Q56.7167 591.668 59.9632 594.341 Q63.1779 596.983 69.2253 596.983 L88.0042 596.983 L88.0042 602.871 L52.3562 602.871 L52.3562 596.983 L57.8944 596.983 Q54.6479 595.137 53.0883 592.177 Q51.4968 589.217 51.4968 584.984 Q51.4968 584.379 51.5923 583.647 Q51.656 582.915 51.8151 582.023 L57.8307 581.992 Z\" fill=\"#000000\" fill-rule=\"evenodd\" fill-opacity=\"1\" /><path clip-path=\"url(#clip890)\" d=\"M 0 0 M52.3562 580.05 L52.3562 573.844 L82.275 562.704 L52.3562 551.564 L52.3562 545.357 L88.0042 558.725 L88.0042 566.682 L52.3562 580.05 Z\" fill=\"#000000\" fill-rule=\"evenodd\" fill-opacity=\"1\" /><path clip-path=\"url(#clip890)\" d=\"M 0 0 M52.3562 539.214 L52.3562 533.358 L88.0042 533.358 L88.0042 539.214 L52.3562 539.214 M38.479 539.214 L38.479 533.358 L45.895 533.358 L45.895 539.214 L38.479 539.214 Z\" fill=\"#000000\" fill-rule=\"evenodd\" fill-opacity=\"1\" /><path clip-path=\"url(#clip890)\" d=\"M 0 0 M52.3562 531.416 L52.3562 525.21 L82.275 514.07 L52.3562 502.93 L52.3562 496.723 L88.0042 510.091 L88.0042 518.048 L52.3562 531.416 Z\" fill=\"#000000\" fill-rule=\"evenodd\" fill-opacity=\"1\" /><path clip-path=\"url(#clip890)\" d=\"M 0 0 M70.0847 474.379 Q70.0847 481.477 71.7079 484.214 Q73.3312 486.952 77.2461 486.952 Q80.3653 486.952 82.2114 484.915 Q84.0256 482.846 84.0256 479.313 Q84.0256 474.443 80.5881 471.515 Q77.1188 468.555 71.3897 468.555 L70.0847 468.555 L70.0847 474.379 M67.6657 462.698 L88.0042 462.698 L88.0042 468.555 L82.5933 468.555 Q85.8398 470.56 87.3994 473.552 Q88.9272 476.544 88.9272 480.872 Q88.9272 486.347 85.8716 489.593 Q82.7843 492.808 77.6281 492.808 Q71.6125 492.808 68.5569 488.798 Q65.5014 484.755 65.5014 476.767 L65.5014 468.555 L64.9285 468.555 Q60.8862 468.555 58.6901 471.228 Q56.4621 473.87 56.4621 478.676 Q56.4621 481.732 57.1941 484.628 Q57.9262 487.525 59.3903 490.198 L53.9795 490.198 Q52.7381 486.983 52.1334 483.96 Q51.4968 480.936 51.4968 478.071 Q51.4968 470.337 55.5072 466.518 Q59.5176 462.698 67.6657 462.698 Z\" fill=\"#000000\" fill-rule=\"evenodd\" fill-opacity=\"1\" /><path clip-path=\"url(#clip890)\" d=\"M 0 0 M38.479 456.555 L38.479 450.699 L88.0042 450.699 L88.0042 456.555 L38.479 456.555 Z\" fill=\"#000000\" fill-rule=\"evenodd\" fill-opacity=\"1\" /><path clip-path=\"url(#clip890)\" d=\"M 0 0 M38.5426 445.479 L38.5426 440.387 Q46.0542 435.612 53.2474 433.257 Q60.4406 430.87 67.5384 430.87 Q74.668 430.87 81.8931 433.257 Q89.1182 435.612 96.5979 440.387 L96.5979 445.479 Q89.3091 441.246 82.1159 439.177 Q74.8908 437.076 67.5384 437.076 Q60.186 437.076 53.0246 439.177 Q45.8632 441.246 38.5426 445.479 Z\" fill=\"#000000\" fill-rule=\"evenodd\" fill-opacity=\"1\" /><polyline clip-path=\"url(#clip892)\" style=\"stroke:#009af9; stroke-width:4; stroke-opacity:1; fill:none\" points=\"\n",
       "  272.201,219.025 274.485,219.025 274.485,221.034 274.771,221.034 274.771,223.049 275.342,223.049 275.628,223.049 275.913,223.049 \n",
       "  276.199,223.049 276.77,223.049 277.055,223.049 277.341,223.049 277.912,223.049 \n",
       "  277.912,225.142 278.198,225.142 278.483,225.142 278.769,225.142 278.769,227.267 279.054,227.267 279.054,229.395 279.34,229.395 \n",
       "  279.625,229.395 279.911,229.395 280.196,229.395 280.196,231.542 280.482,231.542 280.768,231.542 \n",
       "  281.053,231.542 281.624,231.542 281.624,233.721 281.91,233.721 282.195,233.721 282.481,233.721 \n",
       "  282.766,233.721 282.766,235.924 283.052,235.924 283.909,235.924 284.194,235.924 285.051,235.924 \n",
       "  286.193,235.924 286.478,235.924 286.764,235.924 287.05,235.924 287.621,235.924 \n",
       "  287.906,235.924 288.192,235.924 288.477,235.924 288.763,235.924 289.048,235.924 \n",
       "  289.619,235.924 289.905,235.924 290.476,235.924 291.618,235.924 292.76,235.924 \n",
       "  293.617,235.924 293.903,235.924 293.903,238.253 294.759,238.253 295.045,238.253 295.616,238.253 \n",
       "  295.901,238.253 296.473,238.253 296.758,238.253 297.329,238.253 297.329,242.987 298.186,242.987 \n",
       "  298.471,242.987 300.185,242.987 300.756,242.987 301.612,242.987 301.898,242.987 \n",
       "  302.183,242.987 302.469,242.987 303.897,242.987 304.182,242.987 304.468,242.987 \n",
       "  304.753,242.987 305.325,242.987 305.896,242.987 306.467,242.987 306.752,242.987 \n",
       "  307.323,242.987 307.323,245.436 307.894,245.436 308.751,245.436 309.322,245.436 309.608,245.436 \n",
       "  309.893,245.436 310.179,245.436 310.464,245.436 311.892,245.436 312.463,245.436 \n",
       "  313.034,245.436 314.176,245.436 314.462,245.436 315.033,245.436 315.604,245.436 \n",
       "  315.89,245.436 316.175,245.436 316.461,245.436 317.032,245.436 317.317,245.436 \n",
       "  319.316,245.436 319.316,247.981 319.887,247.981 320.458,247.981 321.886,247.981 322.172,247.981 \n",
       "  322.457,247.981 322.743,247.981 323.028,247.981 323.314,247.981 323.314,250.592 324.171,250.592 \n",
       "  324.742,250.592 325.027,250.592 325.598,250.592 326.169,250.592 326.455,250.592 \n",
       "  327.026,250.592 327.312,250.592 327.597,250.592 328.168,250.592 328.739,250.592 \n",
       "  329.025,250.592 330.167,250.592 330.738,250.592 331.309,250.592 331.595,250.592 \n",
       "  332.737,250.592 333.594,250.592 334.165,250.592 335.021,250.592 336.164,250.592 \n",
       "  336.449,250.592 336.735,250.592 337.02,250.592 337.591,250.592 337.877,250.592 \n",
       "  338.162,250.592 338.162,253.411 338.448,253.411 339.59,253.411 339.876,253.411 340.161,253.411 \n",
       "  341.303,253.411 341.303,256.264 341.589,256.264 342.446,256.264 342.446,259.123 343.017,259.123 343.302,259.123 \n",
       "  343.588,259.123 343.873,259.123 345.015,259.123 346.158,259.123 346.729,259.123 \n",
       "  347.014,259.123 347.014,262.047 347.3,262.047 347.585,262.047 347.871,262.047 349.584,262.047 \n",
       "  349.87,262.047 350.155,262.047 350.155,265.008 350.441,265.008 350.726,265.008 351.583,265.008 \n",
       "  351.869,265.008 352.154,265.008 352.44,265.008 354.724,265.008 355.295,265.008 \n",
       "  355.866,265.008 356.152,265.008 356.152,268.093 356.723,268.093 357.865,268.093 359.007,268.093 \n",
       "  360.721,268.093 361.006,268.093 361.006,271.213 362.434,271.213 363.29,271.213 364.147,271.213 \n",
       "  364.433,271.213 364.718,271.213 365.289,271.213 365.86,271.213 366.431,271.213 \n",
       "  366.717,271.213 367.003,271.213 367.288,271.213 367.288,274.441 367.859,274.441 368.43,274.441 \n",
       "  368.716,274.441 369.572,274.441 370.429,274.441 370.715,274.441 372.428,274.441 \n",
       "  374.141,274.441 374.712,274.441 375.569,274.441 376.426,274.441 376.997,274.441 \n",
       "  377.568,274.441 377.568,277.801 377.853,277.801 378.424,277.801 378.424,281.17 379.567,281.17 380.138,281.17 \n",
       "  380.423,281.17 380.709,281.17 382.422,281.17 382.708,281.17 386.134,281.17 \n",
       "  386.991,281.17 387.276,281.17 389.561,281.17 391.274,281.17 391.56,281.17 \n",
       "  392.416,281.17 392.987,281.17 394.415,281.17 394.986,281.17 395.843,281.17 \n",
       "  395.843,284.842 396.414,284.842 398.984,284.842 399.555,284.842 400.126,284.842 402.696,284.842 \n",
       "  404.409,284.842 404.695,284.842 404.98,284.842 405.837,284.842 406.408,284.842 \n",
       "  408.121,284.842 410.12,284.842 410.406,284.842 411.548,284.842 412.404,284.842 \n",
       "  412.69,284.842 413.261,284.842 415.545,284.842 415.831,284.842 416.117,284.842 \n",
       "  416.402,284.842 417.259,284.842 417.544,284.842 421.256,284.842 421.542,284.842 \n",
       "  422.113,284.842 422.113,288.799 422.399,288.799 422.684,288.799 423.541,288.799 423.826,288.799 \n",
       "  423.826,292.825 424.112,292.825 427.824,292.825 427.824,296.862 428.681,296.862 429.252,296.862 429.823,296.862 \n",
       "  430.108,296.862 430.394,296.862 430.679,296.862 430.679,300.961 430.965,300.961 431.251,300.961 \n",
       "  431.536,300.961 432.107,300.961 432.393,300.961 433.535,300.961 433.535,305.147 434.677,305.147 \n",
       "  437.247,305.147 437.247,309.359 438.96,309.359 439.531,309.359 439.817,309.359 440.959,309.359 \n",
       "  441.53,309.359 442.101,309.359 442.958,309.359 443.529,309.359 444.1,309.359 \n",
       "  446.956,309.359 447.527,309.359 447.812,309.359 448.954,309.359 448.954,313.777 449.811,313.777 \n",
       "  450.097,313.777 450.097,318.209 451.239,318.209 451.81,318.209 454.951,318.209 455.522,318.209 \n",
       "  456.664,318.209 456.664,322.731 457.806,322.731 458.092,322.731 458.949,322.731 462.09,322.731 \n",
       "  462.661,322.731 463.232,322.731 464.088,322.731 465.802,322.731 466.373,322.731 \n",
       "  467.515,322.731 470.656,322.731 471.798,322.731 474.654,322.731 477.224,322.731 \n",
       "  477.795,322.731 478.08,322.731 480.65,322.731 480.65,327.527 481.221,327.527 483.506,327.527 \n",
       "  484.362,327.527 486.361,327.527 487.218,327.527 487.503,327.527 487.789,327.527 \n",
       "  489.788,327.527 490.073,327.527 491.501,327.527 492.072,327.527 492.072,332.558 492.357,332.558 \n",
       "  494.071,332.558 494.071,337.626 495.213,337.626 496.07,337.626 497.497,337.626 497.497,342.734 498.354,342.734 \n",
       "  498.354,347.842 498.639,347.842 498.639,352.95 500.067,352.95 500.067,358.058 500.353,358.058 500.353,363.186 503.779,363.186 504.35,363.186 \n",
       "  504.636,363.186 505.778,363.186 505.778,368.375 509.776,368.375 509.776,373.564 510.347,373.564 510.918,373.564 \n",
       "  512.346,373.564 513.488,373.564 515.487,373.564 516.914,373.564 518.057,373.564 \n",
       "  518.628,373.564 519.484,373.564 519.77,373.564 519.77,378.97 521.769,378.97 522.054,378.97 \n",
       "  524.339,378.97 525.195,378.97 525.195,384.446 526.338,384.446 526.338,389.921 528.336,389.921 534.333,389.921 \n",
       "  534.333,395.42 534.618,395.42 536.046,395.42 537.188,395.42 537.188,400.967 541.186,400.967 542.899,400.967 \n",
       "  543.47,400.967 544.898,400.967 547.182,400.967 550.323,400.967 550.323,406.663 551.751,406.663 \n",
       "  552.037,406.663 552.322,406.663 554.607,406.663 554.892,406.663 556.034,406.663 \n",
       "  560.032,406.663 560.889,406.663 561.46,406.663 563.744,406.663 564.03,406.663 \n",
       "  565.743,406.663 565.743,412.687 568.884,412.687 568.884,418.711 569.455,418.711 569.455,424.735 580.306,424.735 582.59,424.735 \n",
       "  583.161,424.735 584.018,424.735 589.158,424.735 593.155,424.735 594.012,424.735 \n",
       "  594.298,424.735 595.154,424.735 595.44,424.735 596.011,424.735 596.011,431.132 597.439,431.132 \n",
       "  599.152,431.132 602.007,431.132 602.007,437.595 602.293,437.595 602.578,437.595 603.721,437.595 \n",
       "  604.292,437.595 604.577,437.595 606.005,437.595 606.291,437.595 607.718,437.595 \n",
       "  607.718,444.306 608.86,444.306 609.146,444.306 611.145,444.306 614.286,444.306 615.714,444.306 \n",
       "  617.712,444.306 619.426,444.306 621.425,444.306 621.71,444.306 621.996,444.306 \n",
       "  623.709,444.306 630.276,444.306 630.848,444.306 636.844,444.306 637.13,444.306 \n",
       "  641.413,444.306 641.413,451.708 643.983,451.708 645.125,451.708 646.553,451.708 646.553,459.295 646.838,459.295 \n",
       "  647.98,459.295 648.266,459.295 648.837,459.295 651.407,459.295 652.549,459.295 \n",
       "  652.835,459.295 653.977,459.295 656.547,459.295 656.547,467.285 656.832,467.285 659.402,467.285 \n",
       "  659.688,467.285 660.259,467.285 662.258,467.285 662.829,467.285 663.4,467.285 \n",
       "  663.971,467.285 663.971,475.665 666.541,475.665 670.539,475.665 670.539,484.105 672.252,484.105 675.393,484.105 \n",
       "  676.535,484.105 681.96,484.105 684.53,484.105 685.958,484.105 691.954,484.105 \n",
       "  692.24,484.105 693.097,484.105 694.239,484.105 697.094,484.105 697.094,493.264 698.237,493.264 \n",
       "  700.235,493.264 704.804,493.264 704.804,502.569 707.945,502.569 714.513,502.569 716.226,502.569 \n",
       "  718.51,502.569 718.51,512.102 719.367,512.102 719.938,512.102 720.509,512.102 720.509,521.796 723.079,521.796 \n",
       "  732.502,521.796 735.643,521.796 736.785,521.796 737.642,521.796 739.07,521.796 \n",
       "  740.497,521.796 742.782,521.796 743.067,521.796 743.067,532.29 747.636,532.29 751.919,532.29 \n",
       "  751.919,542.982 755.631,542.982 757.345,542.982 757.345,553.777 757.916,553.777 757.916,564.573 764.483,564.573 768.767,564.573 \n",
       "  769.052,564.573 772.764,564.573 773.906,564.573 774.763,564.573 776.476,564.573 \n",
       "  776.476,576.042 782.758,576.042 782.758,587.512 791.61,587.512 791.61,598.982 795.893,598.982 808.172,598.982 811.313,598.982 \n",
       "  811.884,598.982 815.596,598.982 817.595,598.982 821.878,598.982 822.449,598.982 \n",
       "  822.449,611.68 831.016,611.68 842.723,611.68 843.294,611.68 843.294,624.692 844.722,624.692 847.863,624.692 \n",
       "  847.863,637.869 860.427,637.869 866.423,637.869 868.708,637.869 881.557,637.869 881.557,651.758 885.555,651.758 \n",
       "  896.406,651.758 896.977,651.758 908.399,651.758 908.399,666.243 913.253,666.243 923.247,666.243 \n",
       "  923.247,680.94 930.386,680.94 930.386,695.637 935.811,695.637 939.809,695.637 945.805,695.637 949.517,695.637 \n",
       "  957.513,695.637 964.366,695.637 964.366,711.804 986.639,711.804 991.207,711.804 991.778,711.804 \n",
       "  993.777,711.804 993.777,728.838 997.775,728.838 997.775,745.871 1002.63,745.871 1002.63,762.904 1008.91,762.904 1008.91,779.937 1051.17,779.937 \n",
       "  1059.45,779.937 1063.16,779.937 1073.16,779.937 1073.16,798.013 1082.3,798.013 1082.3,816.089 1095.43,816.089 \n",
       "  1095.72,816.089 1117.99,816.089 1120.85,816.089 1120.85,854.706 1121.7,854.706 1125.7,854.706 \n",
       "  1136.84,854.706 1155.97,854.706 1166.82,854.706 1166.82,876.047 1174.53,876.047 1223.36,876.047 \n",
       "  1225.07,876.047 1225.93,876.047 1230.78,876.047 1233.35,876.047 1237.63,876.047 \n",
       "  1237.63,901.519 1247.63,901.519 1247.63,926.99 1250.2,926.99 1250.2,952.462 1262.48,952.462 1262.48,977.933 1262.76,977.933 1262.76,1003.4 1265.62,1003.4 \n",
       "  1265.62,1028.88 1341,1028.88 1341,1054.35 1364.99,1054.35 1366.99,1054.35 1369.56,1054.35 1369.56,1082.13 1379.84,1082.13 \n",
       "  1391.54,1082.13 1399.54,1082.13 1399.54,1112.85 1400.68,1112.85 1400.68,1145.37 1404.68,1145.37 1404.68,1177.88 1441.51,1177.88 \n",
       "  1492.63,1177.88 1492.63,1212.73 1546.6,1212.73 1546.6,1247.57 1573.44,1247.57 1641.4,1247.57 1656.25,1247.57 \n",
       "  1681.66,1247.57 1776.46,1247.57 1811.3,1247.57 1815.01,1247.57 1961.49,1247.57 \n",
       "  1961.49,1331.19 2111.69,1331.19 2192.79,1331.19 2214.77,1331.19 2292.16,1331.19 \n",
       "  \"/>\n",
       "<polyline clip-path=\"url(#clip892)\" style=\"stroke:#e26f46; stroke-width:4; stroke-opacity:1; fill:none\" points=\"\n",
       "  274.771,219.025 277.626,219.025 283.052,219.025 292.475,219.025 308.18,219.025 309.037,219.025 \n",
       "  329.31,219.025 334.165,219.025 337.306,219.025 348.156,219.025 352.44,219.025 \n",
       "  355.581,219.025 374.712,219.025 381.565,219.025 384.992,219.025 387.562,219.025 \n",
       "  393.558,219.025 402.125,219.025 413.261,219.025 432.393,219.025 438.96,219.025 \n",
       "  489.502,219.025 489.502,281.922 534.618,281.922 534.618,344.819 548.039,344.819 548.039,407.717 557.177,407.717 557.177,470.614 600.294,470.614 \n",
       "  600.294,533.511 608.289,533.511 609.432,533.511 609.432,600.108 611.145,600.108 638.843,600.108 641.984,600.108 \n",
       "  714.513,600.108 714.513,682.074 756.202,682.074 756.202,764.04 759.343,764.04 759.343,846.006 813.312,846.006 824.448,846.006 \n",
       "  824.448,937.079 835.299,937.079 872.991,937.079 872.991,1041.16 900.118,1041.16 900.118,1145.25 904.401,1145.25 904.401,1249.33 1022.05,1249.33 \n",
       "  1048.6,1249.33 1048.6,1388.11 1061.74,1388.11 1915.81,1388.11 \n",
       "  \"/>\n",
       "<path clip-path=\"url(#clip890)\" d=\"\n",
       "M1432.46 406.7 L2281.38 406.7 L2281.38 225.26 L1432.46 225.26  Z\n",
       "  \" fill=\"#ffffff\" fill-rule=\"evenodd\" fill-opacity=\"1\"/>\n",
       "<polyline clip-path=\"url(#clip890)\" style=\"stroke:#000000; stroke-width:4; stroke-opacity:1; fill:none\" points=\"\n",
       "  1432.46,406.7 2281.38,406.7 2281.38,225.26 1432.46,225.26 1432.46,406.7 \n",
       "  \"/>\n",
       "<polyline clip-path=\"url(#clip890)\" style=\"stroke:#009af9; stroke-width:4; stroke-opacity:1; fill:none\" points=\"\n",
       "  1456.25,285.74 1599,285.74 \n",
       "  \"/>\n",
       "<path clip-path=\"url(#clip890)\" d=\"M 0 0 M1638.62 273.066 L1632.28 290.265 L1644.99 290.265 L1638.62 273.066 M1635.98 268.46 L1641.28 268.46 L1654.45 303.02 L1649.59 303.02 L1646.44 294.154 L1630.87 294.154 L1627.72 303.02 L1622.79 303.02 L1635.98 268.46 Z\" fill=\"#000000\" fill-rule=\"evenodd\" fill-opacity=\"1\" /><path clip-path=\"url(#clip890)\" d=\"M 0 0 M1658.92 267.001 L1663.18 267.001 L1663.18 303.02 L1658.92 303.02 L1658.92 267.001 Z\" fill=\"#000000\" fill-rule=\"evenodd\" fill-opacity=\"1\" /><path clip-path=\"url(#clip890)\" d=\"M 0 0 M1667.65 267.001 L1671.91 267.001 L1671.91 303.02 L1667.65 303.02 L1667.65 267.001 Z\" fill=\"#000000\" fill-rule=\"evenodd\" fill-opacity=\"1\" /><path clip-path=\"url(#clip890)\" d=\"M 0 0 M1708.02 286.816 Q1709.52 287.325 1710.94 288.992 Q1712.37 290.659 1713.81 293.575 L1718.55 303.02 L1713.53 303.02 L1709.11 294.154 Q1707.39 290.682 1705.77 289.548 Q1704.18 288.413 1701.4 288.413 L1696.31 288.413 L1696.31 303.02 L1691.63 303.02 L1691.63 268.46 L1702.19 268.46 Q1708.11 268.46 1711.03 270.937 Q1713.94 273.413 1713.94 278.413 Q1713.94 281.677 1712.42 283.83 Q1710.91 285.983 1708.02 286.816 M1696.31 272.302 L1696.31 284.571 L1702.19 284.571 Q1705.57 284.571 1707.28 283.02 Q1709.01 281.446 1709.01 278.413 Q1709.01 275.381 1707.28 273.853 Q1705.57 272.302 1702.19 272.302 L1696.31 272.302 Z\" fill=\"#000000\" fill-rule=\"evenodd\" fill-opacity=\"1\" /><path clip-path=\"url(#clip890)\" d=\"M 0 0 M1743.06 288.992 L1743.06 291.075 L1723.48 291.075 Q1723.76 295.473 1726.12 297.788 Q1728.5 300.08 1732.74 300.08 Q1735.19 300.08 1737.49 299.478 Q1739.8 298.876 1742.07 297.673 L1742.07 301.7 Q1739.78 302.672 1737.37 303.182 Q1734.96 303.691 1732.49 303.691 Q1726.28 303.691 1722.65 300.08 Q1719.04 296.469 1719.04 290.311 Q1719.04 283.946 1722.46 280.219 Q1725.91 276.469 1731.75 276.469 Q1736.98 276.469 1740.01 279.849 Q1743.06 283.205 1743.06 288.992 M1738.81 287.742 Q1738.76 284.247 1736.84 282.163 Q1734.94 280.08 1731.79 280.08 Q1728.23 280.08 1726.07 282.094 Q1723.94 284.108 1723.62 287.765 L1738.81 287.742 Z\" fill=\"#000000\" fill-rule=\"evenodd\" fill-opacity=\"1\" /><path clip-path=\"url(#clip890)\" d=\"M 0 0 M1767.72 282.071 Q1769.31 279.2 1771.54 277.835 Q1773.76 276.469 1776.77 276.469 Q1780.82 276.469 1783.02 279.316 Q1785.22 282.14 1785.22 287.372 L1785.22 303.02 L1780.93 303.02 L1780.93 287.511 Q1780.93 283.784 1779.62 281.978 Q1778.3 280.173 1775.59 280.173 Q1772.28 280.173 1770.36 282.372 Q1768.44 284.571 1768.44 288.367 L1768.44 303.02 L1764.15 303.02 L1764.15 287.511 Q1764.15 283.761 1762.83 281.978 Q1761.51 280.173 1758.76 280.173 Q1755.5 280.173 1753.57 282.395 Q1751.65 284.594 1751.65 288.367 L1751.65 303.02 L1747.37 303.02 L1747.37 277.094 L1751.65 277.094 L1751.65 281.122 Q1753.11 278.737 1755.15 277.603 Q1757.19 276.469 1759.99 276.469 Q1762.81 276.469 1764.78 277.904 Q1766.77 279.339 1767.72 282.071 Z\" fill=\"#000000\" fill-rule=\"evenodd\" fill-opacity=\"1\" /><path clip-path=\"url(#clip890)\" d=\"M 0 0 M1801.47 289.987 Q1796.31 289.987 1794.31 291.168 Q1792.32 292.348 1792.32 295.196 Q1792.32 297.464 1793.81 298.807 Q1795.31 300.126 1797.88 300.126 Q1801.42 300.126 1803.55 297.626 Q1805.7 295.103 1805.7 290.936 L1805.7 289.987 L1801.47 289.987 M1809.96 288.228 L1809.96 303.02 L1805.7 303.02 L1805.7 299.085 Q1804.25 301.446 1802.07 302.58 Q1799.89 303.691 1796.75 303.691 Q1792.76 303.691 1790.4 301.469 Q1788.06 299.223 1788.06 295.473 Q1788.06 291.098 1790.98 288.876 Q1793.92 286.654 1799.73 286.654 L1805.7 286.654 L1805.7 286.237 Q1805.7 283.298 1803.76 281.7 Q1801.84 280.08 1798.34 280.08 Q1796.12 280.08 1794.01 280.612 Q1791.91 281.145 1789.96 282.21 L1789.96 278.274 Q1792.3 277.372 1794.5 276.932 Q1796.7 276.469 1798.78 276.469 Q1804.41 276.469 1807.18 279.386 Q1809.96 282.302 1809.96 288.228 Z\" fill=\"#000000\" fill-rule=\"evenodd\" fill-opacity=\"1\" /><path clip-path=\"url(#clip890)\" d=\"M 0 0 M1814.43 277.094 L1818.69 277.094 L1818.69 303.02 L1814.43 303.02 L1814.43 277.094 M1814.43 267.001 L1818.69 267.001 L1818.69 272.395 L1814.43 272.395 L1814.43 267.001 Z\" fill=\"#000000\" fill-rule=\"evenodd\" fill-opacity=\"1\" /><path clip-path=\"url(#clip890)\" d=\"M 0 0 M1844.71 287.372 L1844.71 303.02 L1840.45 303.02 L1840.45 287.511 Q1840.45 283.83 1839.01 282.001 Q1837.58 280.173 1834.71 280.173 Q1831.26 280.173 1829.27 282.372 Q1827.28 284.571 1827.28 288.367 L1827.28 303.02 L1822.99 303.02 L1822.99 277.094 L1827.28 277.094 L1827.28 281.122 Q1828.81 278.784 1830.87 277.626 Q1832.95 276.469 1835.66 276.469 Q1840.12 276.469 1842.42 279.247 Q1844.71 282.001 1844.71 287.372 Z\" fill=\"#000000\" fill-rule=\"evenodd\" fill-opacity=\"1\" /><path clip-path=\"url(#clip890)\" d=\"M 0 0 M1849.18 277.094 L1853.43 277.094 L1853.43 303.02 L1849.18 303.02 L1849.18 277.094 M1849.18 267.001 L1853.43 267.001 L1853.43 272.395 L1849.18 272.395 L1849.18 267.001 Z\" fill=\"#000000\" fill-rule=\"evenodd\" fill-opacity=\"1\" /><path clip-path=\"url(#clip890)\" d=\"M 0 0 M1879.45 287.372 L1879.45 303.02 L1875.19 303.02 L1875.19 287.511 Q1875.19 283.83 1873.76 282.001 Q1872.32 280.173 1869.45 280.173 Q1866 280.173 1864.01 282.372 Q1862.02 284.571 1862.02 288.367 L1862.02 303.02 L1857.74 303.02 L1857.74 277.094 L1862.02 277.094 L1862.02 281.122 Q1863.55 278.784 1865.61 277.626 Q1867.69 276.469 1870.4 276.469 Q1874.87 276.469 1877.16 279.247 Q1879.45 282.001 1879.45 287.372 Z\" fill=\"#000000\" fill-rule=\"evenodd\" fill-opacity=\"1\" /><path clip-path=\"url(#clip890)\" d=\"M 0 0 M1900.98 289.756 Q1900.98 285.126 1899.06 282.58 Q1897.16 280.034 1893.71 280.034 Q1890.29 280.034 1888.36 282.58 Q1886.47 285.126 1886.47 289.756 Q1886.47 294.362 1888.36 296.909 Q1890.29 299.455 1893.71 299.455 Q1897.16 299.455 1899.06 296.909 Q1900.98 294.362 1900.98 289.756 M1905.24 299.802 Q1905.24 306.422 1902.3 309.64 Q1899.36 312.881 1893.3 312.881 Q1891.05 312.881 1889.06 312.534 Q1887.07 312.209 1885.19 311.515 L1885.19 307.372 Q1887.07 308.39 1888.9 308.876 Q1890.73 309.362 1892.62 309.362 Q1896.81 309.362 1898.9 307.163 Q1900.98 304.987 1900.98 300.566 L1900.98 298.46 Q1899.66 300.751 1897.6 301.885 Q1895.54 303.02 1892.67 303.02 Q1887.9 303.02 1884.99 299.385 Q1882.07 295.751 1882.07 289.756 Q1882.07 283.737 1884.99 280.103 Q1887.9 276.469 1892.67 276.469 Q1895.54 276.469 1897.6 277.603 Q1899.66 278.737 1900.98 281.029 L1900.98 277.094 L1905.24 277.094 L1905.24 299.802 Z\" fill=\"#000000\" fill-rule=\"evenodd\" fill-opacity=\"1\" /><path clip-path=\"url(#clip890)\" d=\"M 0 0 M1950.84 271.122 L1950.84 276.052 Q1948.48 273.853 1945.8 272.765 Q1943.13 271.677 1940.12 271.677 Q1934.2 271.677 1931.05 275.312 Q1927.9 278.923 1927.9 285.774 Q1927.9 292.603 1931.05 296.237 Q1934.2 299.848 1940.12 299.848 Q1943.13 299.848 1945.8 298.76 Q1948.48 297.673 1950.84 295.473 L1950.84 300.358 Q1948.39 302.024 1945.63 302.858 Q1942.9 303.691 1939.85 303.691 Q1932 303.691 1927.49 298.899 Q1922.97 294.085 1922.97 285.774 Q1922.97 277.441 1927.49 272.65 Q1932 267.835 1939.85 267.835 Q1942.95 267.835 1945.68 268.668 Q1948.43 269.478 1950.84 271.122 Z\" fill=\"#000000\" fill-rule=\"evenodd\" fill-opacity=\"1\" /><path clip-path=\"url(#clip890)\" d=\"M 0 0 M1967.09 289.987 Q1961.93 289.987 1959.94 291.168 Q1957.95 292.348 1957.95 295.196 Q1957.95 297.464 1959.43 298.807 Q1960.93 300.126 1963.5 300.126 Q1967.05 300.126 1969.17 297.626 Q1971.33 295.103 1971.33 290.936 L1971.33 289.987 L1967.09 289.987 M1975.59 288.228 L1975.59 303.02 L1971.33 303.02 L1971.33 299.085 Q1969.87 301.446 1967.69 302.58 Q1965.52 303.691 1962.37 303.691 Q1958.39 303.691 1956.03 301.469 Q1953.69 299.223 1953.69 295.473 Q1953.69 291.098 1956.61 288.876 Q1959.55 286.654 1965.36 286.654 L1971.33 286.654 L1971.33 286.237 Q1971.33 283.298 1969.38 281.7 Q1967.46 280.08 1963.97 280.08 Q1961.74 280.08 1959.64 280.612 Q1957.53 281.145 1955.59 282.21 L1955.59 278.274 Q1957.92 277.372 1960.12 276.932 Q1962.32 276.469 1964.41 276.469 Q1970.03 276.469 1972.81 279.386 Q1975.59 282.302 1975.59 288.228 Z\" fill=\"#000000\" fill-rule=\"evenodd\" fill-opacity=\"1\" /><path clip-path=\"url(#clip890)\" d=\"M 0 0 M1996.58 277.858 L1996.58 281.886 Q1994.78 280.96 1992.83 280.497 Q1990.89 280.034 1988.8 280.034 Q1985.63 280.034 1984.04 281.006 Q1982.46 281.978 1982.46 283.923 Q1982.46 285.404 1983.6 286.261 Q1984.73 287.094 1988.16 287.858 L1989.61 288.182 Q1994.15 289.154 1996.05 290.936 Q1997.97 292.696 1997.97 295.867 Q1997.97 299.478 1995.1 301.585 Q1992.25 303.691 1987.25 303.691 Q1985.17 303.691 1982.9 303.274 Q1980.66 302.881 1978.16 302.071 L1978.16 297.673 Q1980.52 298.899 1982.81 299.524 Q1985.1 300.126 1987.35 300.126 Q1990.36 300.126 1991.98 299.108 Q1993.6 298.066 1993.6 296.191 Q1993.6 294.455 1992.42 293.529 Q1991.26 292.603 1987.3 291.747 L1985.82 291.399 Q1981.86 290.566 1980.1 288.853 Q1978.34 287.117 1978.34 284.108 Q1978.34 280.45 1980.93 278.46 Q1983.53 276.469 1988.29 276.469 Q1990.66 276.469 1992.74 276.816 Q1994.82 277.163 1996.58 277.858 Z\" fill=\"#000000\" fill-rule=\"evenodd\" fill-opacity=\"1\" /><path clip-path=\"url(#clip890)\" d=\"M 0 0 M2024.61 288.992 L2024.61 291.075 L2005.03 291.075 Q2005.31 295.473 2007.67 297.788 Q2010.05 300.08 2014.29 300.08 Q2016.74 300.08 2019.04 299.478 Q2021.35 298.876 2023.62 297.673 L2023.62 301.7 Q2021.33 302.672 2018.92 303.182 Q2016.51 303.691 2014.04 303.691 Q2007.83 303.691 2004.2 300.08 Q2000.59 296.469 2000.59 290.311 Q2000.59 283.946 2004.01 280.219 Q2007.46 276.469 2013.29 276.469 Q2018.53 276.469 2021.56 279.849 Q2024.61 283.205 2024.61 288.992 M2020.36 287.742 Q2020.31 284.247 2018.39 282.163 Q2016.49 280.08 2013.34 280.08 Q2009.78 280.08 2007.62 282.094 Q2005.49 284.108 2005.17 287.765 L2020.36 287.742 Z\" fill=\"#000000\" fill-rule=\"evenodd\" fill-opacity=\"1\" /><path clip-path=\"url(#clip890)\" d=\"M 0 0 M2045.61 277.858 L2045.61 281.886 Q2043.8 280.96 2041.86 280.497 Q2039.92 280.034 2037.83 280.034 Q2034.66 280.034 2033.06 281.006 Q2031.49 281.978 2031.49 283.923 Q2031.49 285.404 2032.62 286.261 Q2033.76 287.094 2037.18 287.858 L2038.64 288.182 Q2043.18 289.154 2045.08 290.936 Q2047 292.696 2047 295.867 Q2047 299.478 2044.13 301.585 Q2041.28 303.691 2036.28 303.691 Q2034.2 303.691 2031.93 303.274 Q2029.68 302.881 2027.18 302.071 L2027.18 297.673 Q2029.54 298.899 2031.84 299.524 Q2034.13 300.126 2036.37 300.126 Q2039.38 300.126 2041 299.108 Q2042.62 298.066 2042.62 296.191 Q2042.62 294.455 2041.44 293.529 Q2040.29 292.603 2036.33 291.747 L2034.85 291.399 Q2030.89 290.566 2029.13 288.853 Q2027.37 287.117 2027.37 284.108 Q2027.37 280.45 2029.96 278.46 Q2032.55 276.469 2037.32 276.469 Q2039.68 276.469 2041.77 276.816 Q2043.85 277.163 2045.61 277.858 Z\" fill=\"#000000\" fill-rule=\"evenodd\" fill-opacity=\"1\" /><polyline clip-path=\"url(#clip890)\" style=\"stroke:#e26f46; stroke-width:4; stroke-opacity:1; fill:none\" points=\"\n",
       "  1456.25,346.22 1599,346.22 \n",
       "  \"/>\n",
       "<path clip-path=\"url(#clip890)\" d=\"M 0 0 M1627.46 332.782 L1627.46 345.768 L1633.34 345.768 Q1636.61 345.768 1638.39 344.079 Q1640.17 342.389 1640.17 339.264 Q1640.17 336.162 1638.39 334.472 Q1636.61 332.782 1633.34 332.782 L1627.46 332.782 M1622.79 328.94 L1633.34 328.94 Q1639.15 328.94 1642.12 331.579 Q1645.1 334.194 1645.1 339.264 Q1645.1 344.379 1642.12 346.995 Q1639.15 349.611 1633.34 349.611 L1627.46 349.611 L1627.46 363.5 L1622.79 363.5 L1622.79 328.94 Z\" fill=\"#000000\" fill-rule=\"evenodd\" fill-opacity=\"1\" /><path clip-path=\"url(#clip890)\" d=\"M 0 0 M1644.96 328.94 L1674.2 328.94 L1674.2 332.875 L1661.93 332.875 L1661.93 363.5 L1657.23 363.5 L1657.23 332.875 L1644.96 332.875 L1644.96 328.94 Z\" fill=\"#000000\" fill-rule=\"evenodd\" fill-opacity=\"1\" /><path clip-path=\"url(#clip890)\" d=\"M 0 0 M1678.85 328.94 L1700.7 328.94 L1700.7 332.875 L1683.53 332.875 L1683.53 343.106 L1699.99 343.106 L1699.99 347.041 L1683.53 347.041 L1683.53 359.565 L1701.12 359.565 L1701.12 363.5 L1678.85 363.5 L1678.85 328.94 Z\" fill=\"#000000\" fill-rule=\"evenodd\" fill-opacity=\"1\" /><path clip-path=\"url(#clip890)\" d=\"M 0 0 M1705.77 328.94 L1712.07 328.94 L1727.39 357.852 L1727.39 328.94 L1731.93 328.94 L1731.93 363.5 L1725.63 363.5 L1710.31 334.588 L1710.31 363.5 L1705.77 363.5 L1705.77 328.94 Z\" fill=\"#000000\" fill-rule=\"evenodd\" fill-opacity=\"1\" /><path clip-path=\"url(#clip890)\" d=\"M 0 0 M1737.49 357.62 L1742.37 357.62 L1742.37 363.5 L1737.49 363.5 L1737.49 357.62 M1737.49 338.986 L1742.37 338.986 L1742.37 344.866 L1737.49 344.866 L1737.49 338.986 Z\" fill=\"#000000\" fill-rule=\"evenodd\" fill-opacity=\"1\" /><path clip-path=\"url(#clip890)\" d=\"M 0 0 M1745.03 328.94 L1772.19 328.94 L1772.19 332.505 L1750.33 359.565 L1772.72 359.565 L1772.72 363.5 L1744.5 363.5 L1744.5 359.935 L1766.35 332.875 L1745.03 332.875 L1745.03 328.94 Z\" fill=\"#000000\" fill-rule=\"evenodd\" fill-opacity=\"1\" /><path clip-path=\"url(#clip890)\" d=\"M 0 0 M1777.74 339.981 L1777.74 335.907 L1807.42 344.403 L1807.42 348.338 L1777.74 356.856 L1777.74 352.736 L1799.99 346.393 L1777.74 339.981 M1807.42 359.565 L1807.42 363.5 L1777.74 363.5 L1777.74 359.565 L1807.42 359.565 Z\" fill=\"#000000\" fill-rule=\"evenodd\" fill-opacity=\"1\" /><path clip-path=\"url(#clip890)\" d=\"M 0 0 M1822.49 332.018 Q1818.87 332.018 1817.05 335.583 Q1815.24 339.125 1815.24 346.254 Q1815.24 353.361 1817.05 356.926 Q1818.87 360.467 1822.49 360.467 Q1826.12 360.467 1827.93 356.926 Q1829.75 353.361 1829.75 346.254 Q1829.75 339.125 1827.93 335.583 Q1826.12 332.018 1822.49 332.018 M1822.49 328.315 Q1828.3 328.315 1831.35 332.921 Q1834.43 337.504 1834.43 346.254 Q1834.43 354.981 1831.35 359.588 Q1828.3 364.171 1822.49 364.171 Q1816.68 364.171 1813.6 359.588 Q1810.54 354.981 1810.54 346.254 Q1810.54 337.504 1813.6 332.921 Q1816.68 328.315 1822.49 328.315 Z\" fill=\"#000000\" fill-rule=\"evenodd\" fill-opacity=\"1\" /><path clip-path=\"url(#clip890)\" d=\"M 0 0 M1839.5 357.62 L1844.38 357.62 L1844.38 363.5 L1839.5 363.5 L1839.5 357.62 Z\" fill=\"#000000\" fill-rule=\"evenodd\" fill-opacity=\"1\" /><path clip-path=\"url(#clip890)\" d=\"M 0 0 M1853.48 359.565 L1869.8 359.565 L1869.8 363.5 L1847.86 363.5 L1847.86 359.565 Q1850.52 356.81 1855.1 352.18 Q1859.71 347.528 1860.89 346.185 Q1863.13 343.662 1864.01 341.926 Q1864.92 340.167 1864.92 338.477 Q1864.92 335.722 1862.97 333.986 Q1861.05 332.25 1857.95 332.25 Q1855.75 332.25 1853.3 333.014 Q1850.87 333.778 1848.09 335.329 L1848.09 330.606 Q1850.91 329.472 1853.37 328.893 Q1855.82 328.315 1857.86 328.315 Q1863.23 328.315 1866.42 331 Q1869.62 333.685 1869.62 338.176 Q1869.62 340.305 1868.8 342.227 Q1868.02 344.125 1865.91 346.717 Q1865.33 347.389 1862.23 350.606 Q1859.13 353.801 1853.48 359.565 Z\" fill=\"#000000\" fill-rule=\"evenodd\" fill-opacity=\"1\" /><path clip-path=\"url(#clip890)\" d=\"M 0 0 M1874.92 328.94 L1893.27 328.94 L1893.27 332.875 L1879.2 332.875 L1879.2 341.347 Q1880.22 341 1881.24 340.838 Q1882.25 340.653 1883.27 340.653 Q1889.06 340.653 1892.44 343.824 Q1895.82 346.995 1895.82 352.412 Q1895.82 357.99 1892.35 361.092 Q1888.87 364.171 1882.55 364.171 Q1880.38 364.171 1878.11 363.801 Q1875.87 363.43 1873.46 362.69 L1873.46 357.99 Q1875.54 359.125 1877.76 359.68 Q1879.99 360.236 1882.46 360.236 Q1886.47 360.236 1888.8 358.129 Q1891.14 356.023 1891.14 352.412 Q1891.14 348.801 1888.8 346.694 Q1886.47 344.588 1882.46 344.588 Q1880.59 344.588 1878.71 345.004 Q1876.86 345.421 1874.92 346.301 L1874.92 328.94 Z\" fill=\"#000000\" fill-rule=\"evenodd\" fill-opacity=\"1\" /><path clip-path=\"url(#clip890)\" d=\"M 0 0 M1922.42 344.912 Q1920.31 346.787 1919.31 348.662 Q1918.34 350.514 1918.34 352.551 Q1918.34 355.93 1920.8 358.176 Q1923.25 360.421 1926.95 360.421 Q1929.15 360.421 1931.07 359.703 Q1932.99 358.963 1934.68 357.481 L1922.42 344.912 M1925.68 342.319 L1937.44 354.356 Q1938.8 352.296 1939.57 349.958 Q1940.33 347.597 1940.47 344.958 L1944.78 344.958 Q1944.5 348.014 1943.3 351 Q1942.09 353.986 1939.94 356.903 L1946.4 363.5 L1940.56 363.5 L1937.25 360.097 Q1934.85 362.157 1932.21 363.176 Q1929.57 364.171 1926.54 364.171 Q1920.96 364.171 1917.42 361 Q1913.87 357.805 1913.87 352.828 Q1913.87 349.866 1915.43 347.273 Q1916.98 344.657 1920.08 342.366 Q1918.97 340.907 1918.39 339.472 Q1917.81 338.014 1917.81 336.625 Q1917.81 332.875 1920.38 330.606 Q1922.95 328.315 1927.21 328.315 Q1929.13 328.315 1931.03 328.731 Q1932.95 329.148 1934.92 329.981 L1934.92 334.194 Q1932.9 333.106 1931.07 332.551 Q1929.24 331.972 1927.67 331.972 Q1925.24 331.972 1923.71 333.268 Q1922.21 334.542 1922.21 336.579 Q1922.21 337.759 1922.88 338.963 Q1923.57 340.143 1925.68 342.319 Z\" fill=\"#000000\" fill-rule=\"evenodd\" fill-opacity=\"1\" /><path clip-path=\"url(#clip890)\" d=\"M 0 0 M1961.33 328.94 L1990.56 328.94 L1990.56 332.875 L1978.3 332.875 L1978.3 363.5 L1973.6 363.5 L1973.6 332.875 L1961.33 332.875 L1961.33 328.94 Z\" fill=\"#000000\" fill-rule=\"evenodd\" fill-opacity=\"1\" /><path clip-path=\"url(#clip890)\" d=\"M 0 0 M1999.89 332.782 L1999.89 345.768 L2005.77 345.768 Q2009.04 345.768 2010.82 344.079 Q2012.6 342.389 2012.6 339.264 Q2012.6 336.162 2010.82 334.472 Q2009.04 332.782 2005.77 332.782 L1999.89 332.782 M1995.22 328.94 L2005.77 328.94 Q2011.58 328.94 2014.54 331.579 Q2017.53 334.194 2017.53 339.264 Q2017.53 344.379 2014.54 346.995 Q2011.58 349.611 2005.77 349.611 L1999.89 349.611 L1999.89 363.5 L1995.22 363.5 L1995.22 328.94 Z\" fill=\"#000000\" fill-rule=\"evenodd\" fill-opacity=\"1\" /><path clip-path=\"url(#clip890)\" d=\"M 0 0 M2022.65 328.94 L2041 328.94 L2041 332.875 L2026.93 332.875 L2026.93 341.347 Q2027.95 341 2028.97 340.838 Q2029.98 340.653 2031 340.653 Q2036.79 340.653 2040.17 343.824 Q2043.55 346.995 2043.55 352.412 Q2043.55 357.99 2040.08 361.092 Q2036.6 364.171 2030.29 364.171 Q2028.11 364.171 2025.84 363.801 Q2023.6 363.43 2021.19 362.69 L2021.19 357.99 Q2023.27 359.125 2025.49 359.68 Q2027.72 360.236 2030.19 360.236 Q2034.2 360.236 2036.54 358.129 Q2038.87 356.023 2038.87 352.412 Q2038.87 348.801 2036.54 346.694 Q2034.2 344.588 2030.19 344.588 Q2028.32 344.588 2026.44 345.004 Q2024.59 345.421 2022.65 346.301 L2022.65 328.94 Z\" fill=\"#000000\" fill-rule=\"evenodd\" fill-opacity=\"1\" /><path clip-path=\"url(#clip890)\" d=\"M 0 0 M2062.79 344.866 Q2066.14 345.583 2068.02 347.852 Q2069.91 350.12 2069.91 353.453 Q2069.91 358.569 2066.4 361.37 Q2062.88 364.171 2056.4 364.171 Q2054.22 364.171 2051.91 363.731 Q2049.61 363.315 2047.16 362.458 L2047.16 357.944 Q2049.1 359.078 2051.42 359.657 Q2053.73 360.236 2056.26 360.236 Q2060.66 360.236 2062.95 358.5 Q2065.26 356.764 2065.26 353.453 Q2065.26 350.398 2063.11 348.685 Q2060.98 346.949 2057.16 346.949 L2053.13 346.949 L2053.13 343.106 L2057.35 343.106 Q2060.79 343.106 2062.62 341.741 Q2064.45 340.352 2064.45 337.759 Q2064.45 335.097 2062.55 333.685 Q2060.68 332.25 2057.16 332.25 Q2055.24 332.25 2053.04 332.667 Q2050.84 333.083 2048.2 333.963 L2048.2 329.796 Q2050.86 329.055 2053.18 328.685 Q2055.52 328.315 2057.58 328.315 Q2062.9 328.315 2066 330.745 Q2069.1 333.153 2069.1 337.273 Q2069.1 340.143 2067.46 342.134 Q2065.82 344.102 2062.79 344.866 Z\" fill=\"#000000\" fill-rule=\"evenodd\" fill-opacity=\"1\" /><path clip-path=\"url(#clip890)\" d=\"M 0 0 M2075.47 357.62 L2080.35 357.62 L2080.35 363.5 L2075.47 363.5 L2075.47 357.62 M2075.47 338.986 L2080.35 338.986 L2080.35 344.866 L2075.47 344.866 L2075.47 338.986 Z\" fill=\"#000000\" fill-rule=\"evenodd\" fill-opacity=\"1\" /><path clip-path=\"url(#clip890)\" d=\"M 0 0 M2083.02 328.94 L2110.17 328.94 L2110.17 332.505 L2088.32 359.565 L2110.7 359.565 L2110.7 363.5 L2082.48 363.5 L2082.48 359.935 L2104.34 332.875 L2083.02 332.875 L2083.02 328.94 Z\" fill=\"#000000\" fill-rule=\"evenodd\" fill-opacity=\"1\" /><path clip-path=\"url(#clip890)\" d=\"M 0 0 M2115.72 339.981 L2115.72 335.907 L2145.4 344.403 L2145.4 348.338 L2115.72 356.856 L2115.72 352.736 L2137.97 346.393 L2115.72 339.981 M2145.4 359.565 L2145.4 363.5 L2115.72 363.5 L2115.72 359.565 L2145.4 359.565 Z\" fill=\"#000000\" fill-rule=\"evenodd\" fill-opacity=\"1\" /><path clip-path=\"url(#clip890)\" d=\"M 0 0 M2160.47 332.018 Q2156.86 332.018 2155.03 335.583 Q2153.22 339.125 2153.22 346.254 Q2153.22 353.361 2155.03 356.926 Q2156.86 360.467 2160.47 360.467 Q2164.1 360.467 2165.91 356.926 Q2167.74 353.361 2167.74 346.254 Q2167.74 339.125 2165.91 335.583 Q2164.1 332.018 2160.47 332.018 M2160.47 328.315 Q2166.28 328.315 2169.34 332.921 Q2172.41 337.504 2172.41 346.254 Q2172.41 354.981 2169.34 359.588 Q2166.28 364.171 2160.47 364.171 Q2154.66 364.171 2151.58 359.588 Q2148.53 354.981 2148.53 346.254 Q2148.53 337.504 2151.58 332.921 Q2154.66 328.315 2160.47 328.315 Z\" fill=\"#000000\" fill-rule=\"evenodd\" fill-opacity=\"1\" /><path clip-path=\"url(#clip890)\" d=\"M 0 0 M2177.48 357.62 L2182.37 357.62 L2182.37 363.5 L2177.48 363.5 L2177.48 357.62 Z\" fill=\"#000000\" fill-rule=\"evenodd\" fill-opacity=\"1\" /><path clip-path=\"url(#clip890)\" d=\"M 0 0 M2191.47 359.565 L2207.78 359.565 L2207.78 363.5 L2185.84 363.5 L2185.84 359.565 Q2188.5 356.81 2193.09 352.18 Q2197.69 347.528 2198.87 346.185 Q2201.12 343.662 2202 341.926 Q2202.9 340.167 2202.9 338.477 Q2202.9 335.722 2200.96 333.986 Q2199.03 332.25 2195.93 332.25 Q2193.73 332.25 2191.28 333.014 Q2188.85 333.778 2186.07 335.329 L2186.07 330.606 Q2188.9 329.472 2191.35 328.893 Q2193.8 328.315 2195.84 328.315 Q2201.21 328.315 2204.4 331 Q2207.6 333.685 2207.6 338.176 Q2207.6 340.305 2206.79 342.227 Q2206 344.125 2203.9 346.717 Q2203.32 347.389 2200.22 350.606 Q2197.11 353.801 2191.47 359.565 Z\" fill=\"#000000\" fill-rule=\"evenodd\" fill-opacity=\"1\" /><path clip-path=\"url(#clip890)\" d=\"M 0 0 M2212.9 328.94 L2231.26 328.94 L2231.26 332.875 L2217.18 332.875 L2217.18 341.347 Q2218.2 341 2219.22 340.838 Q2220.24 340.653 2221.26 340.653 Q2227.04 340.653 2230.42 343.824 Q2233.8 346.995 2233.8 352.412 Q2233.8 357.99 2230.33 361.092 Q2226.86 364.171 2220.54 364.171 Q2218.36 364.171 2216.09 363.801 Q2213.85 363.43 2211.44 362.69 L2211.44 357.99 Q2213.53 359.125 2215.75 359.68 Q2217.97 360.236 2220.45 360.236 Q2224.45 360.236 2226.79 358.129 Q2229.13 356.023 2229.13 352.412 Q2229.13 348.801 2226.79 346.694 Q2224.45 344.588 2220.45 344.588 Q2218.57 344.588 2216.7 345.004 Q2214.84 345.421 2212.9 346.301 L2212.9 328.94 Z\" fill=\"#000000\" fill-rule=\"evenodd\" fill-opacity=\"1\" /></svg>\n"
      ]
     },
     "execution_count": 80,
     "metadata": {},
     "output_type": "execute_result"
    }
   ],
   "source": [
    "interactive_perform_survival(config_json)"
   ]
  },
  {
   "cell_type": "code",
   "execution_count": 81,
   "metadata": {},
   "outputs": [
    {
     "data": {
      "text/plain": [
       "\"{ \\n    \\\"study_id\\\": \\\"brca_tcga_pub2015\\\", \\n    \\\"molecular_profile_id\\\": \\\"brca_tcga_pub2015_rna_seq_v2_mrna_median_Zscores\\\",\\n    \\\"genes\\\": [\\n        { \\\"hugo\\\": \\\"BRCA1\\\",\\n          \\\"entrez\\\": 672,\\n          \\\"side\\\": \\\"above\\\",\\n          \\\"zscore\\\": 1.5 },\\n        { \\\"hugo\\\": \\\"BRCA2\\\",\\n          \\\"entrez\\\": 675,\\n          \\\"side\\\": \\\"above\\\",\\n          \\\"zscore\\\": 1.5 }\\n    ]\\n}\\n\""
      ]
     },
     "execution_count": 81,
     "metadata": {},
     "output_type": "execute_result"
    }
   ],
   "source": [
    "config_json = \"\"\"\n",
    "{ \n",
    "    \"study_id\": \"brca_tcga_pub2015\", \n",
    "    \"molecular_profile_id\": \"brca_tcga_pub2015_rna_seq_v2_mrna_median_Zscores\",\n",
    "    \"genes\": [\n",
    "        { \"hugo\": \"BRCA1\",\n",
    "          \"entrez\": 672,\n",
    "          \"side\": \"above\",\n",
    "          \"zscore\": 1.5 },\n",
    "        { \"hugo\": \"BRCA2\",\n",
    "          \"entrez\": 675,\n",
    "          \"side\": \"above\",\n",
    "          \"zscore\": 1.5 }\n",
    "    ]\n",
    "}\n",
    "\"\"\""
   ]
  },
  {
   "cell_type": "code",
   "execution_count": 82,
   "metadata": {},
   "outputs": [
    {
     "name": "stdout",
     "output_type": "stream",
     "text": [
      "Dict(\"p_value\" => [0.019521131570211573],\"estimate\" => [0.9175591079036169])\n"
     ]
    },
    {
     "data": {
      "image/svg+xml": [
       "<?xml version=\"1.0\" encoding=\"utf-8\"?>\n",
       "<svg xmlns=\"http://www.w3.org/2000/svg\" xmlns:xlink=\"http://www.w3.org/1999/xlink\" width=\"600\" height=\"400\" viewBox=\"0 0 2400 1600\">\n",
       "<defs>\n",
       "  <clipPath id=\"clip930\">\n",
       "    <rect x=\"0\" y=\"0\" width=\"2400\" height=\"1600\"/>\n",
       "  </clipPath>\n",
       "</defs>\n",
       "<path clip-path=\"url(#clip930)\" d=\"\n",
       "M0 1600 L2400 1600 L2400 0 L0 0  Z\n",
       "  \" fill=\"#ffffff\" fill-rule=\"evenodd\" fill-opacity=\"1\"/>\n",
       "<defs>\n",
       "  <clipPath id=\"clip931\">\n",
       "    <rect x=\"480\" y=\"0\" width=\"1681\" height=\"1600\"/>\n",
       "  </clipPath>\n",
       "</defs>\n",
       "<path clip-path=\"url(#clip930)\" d=\"\n",
       "M211.602 1423.18 L2352.76 1423.18 L2352.76 183.952 L211.602 183.952  Z\n",
       "  \" fill=\"#ffffff\" fill-rule=\"evenodd\" fill-opacity=\"1\"/>\n",
       "<defs>\n",
       "  <clipPath id=\"clip932\">\n",
       "    <rect x=\"211\" y=\"183\" width=\"2142\" height=\"1240\"/>\n",
       "  </clipPath>\n",
       "</defs>\n",
       "<polyline clip-path=\"url(#clip932)\" style=\"stroke:#000000; stroke-width:2; stroke-opacity:0.1; fill:none\" points=\"\n",
       "  274.2,1423.18 274.2,183.952 \n",
       "  \"/>\n",
       "<polyline clip-path=\"url(#clip932)\" style=\"stroke:#000000; stroke-width:2; stroke-opacity:0.1; fill:none\" points=\"\n",
       "  845.293,1423.18 845.293,183.952 \n",
       "  \"/>\n",
       "<polyline clip-path=\"url(#clip932)\" style=\"stroke:#000000; stroke-width:2; stroke-opacity:0.1; fill:none\" points=\"\n",
       "  1416.39,1423.18 1416.39,183.952 \n",
       "  \"/>\n",
       "<polyline clip-path=\"url(#clip932)\" style=\"stroke:#000000; stroke-width:2; stroke-opacity:0.1; fill:none\" points=\"\n",
       "  1987.48,1423.18 1987.48,183.952 \n",
       "  \"/>\n",
       "<polyline clip-path=\"url(#clip932)\" style=\"stroke:#000000; stroke-width:2; stroke-opacity:0.1; fill:none\" points=\"\n",
       "  211.602,1376.59 2352.76,1376.59 \n",
       "  \"/>\n",
       "<polyline clip-path=\"url(#clip932)\" style=\"stroke:#000000; stroke-width:2; stroke-opacity:0.1; fill:none\" points=\"\n",
       "  211.602,1087.2 2352.76,1087.2 \n",
       "  \"/>\n",
       "<polyline clip-path=\"url(#clip932)\" style=\"stroke:#000000; stroke-width:2; stroke-opacity:0.1; fill:none\" points=\"\n",
       "  211.602,797.806 2352.76,797.806 \n",
       "  \"/>\n",
       "<polyline clip-path=\"url(#clip932)\" style=\"stroke:#000000; stroke-width:2; stroke-opacity:0.1; fill:none\" points=\"\n",
       "  211.602,508.415 2352.76,508.415 \n",
       "  \"/>\n",
       "<polyline clip-path=\"url(#clip932)\" style=\"stroke:#000000; stroke-width:2; stroke-opacity:0.1; fill:none\" points=\"\n",
       "  211.602,219.025 2352.76,219.025 \n",
       "  \"/>\n",
       "<polyline clip-path=\"url(#clip930)\" style=\"stroke:#000000; stroke-width:4; stroke-opacity:1; fill:none\" points=\"\n",
       "  211.602,1423.18 2352.76,1423.18 \n",
       "  \"/>\n",
       "<polyline clip-path=\"url(#clip930)\" style=\"stroke:#000000; stroke-width:4; stroke-opacity:1; fill:none\" points=\"\n",
       "  211.602,1423.18 211.602,183.952 \n",
       "  \"/>\n",
       "<polyline clip-path=\"url(#clip930)\" style=\"stroke:#000000; stroke-width:4; stroke-opacity:1; fill:none\" points=\"\n",
       "  274.2,1423.18 274.2,1408.31 \n",
       "  \"/>\n",
       "<polyline clip-path=\"url(#clip930)\" style=\"stroke:#000000; stroke-width:4; stroke-opacity:1; fill:none\" points=\"\n",
       "  845.293,1423.18 845.293,1408.31 \n",
       "  \"/>\n",
       "<polyline clip-path=\"url(#clip930)\" style=\"stroke:#000000; stroke-width:4; stroke-opacity:1; fill:none\" points=\"\n",
       "  1416.39,1423.18 1416.39,1408.31 \n",
       "  \"/>\n",
       "<polyline clip-path=\"url(#clip930)\" style=\"stroke:#000000; stroke-width:4; stroke-opacity:1; fill:none\" points=\"\n",
       "  1987.48,1423.18 1987.48,1408.31 \n",
       "  \"/>\n",
       "<polyline clip-path=\"url(#clip930)\" style=\"stroke:#000000; stroke-width:4; stroke-opacity:1; fill:none\" points=\"\n",
       "  211.602,1376.59 237.296,1376.59 \n",
       "  \"/>\n",
       "<polyline clip-path=\"url(#clip930)\" style=\"stroke:#000000; stroke-width:4; stroke-opacity:1; fill:none\" points=\"\n",
       "  211.602,1087.2 237.296,1087.2 \n",
       "  \"/>\n",
       "<polyline clip-path=\"url(#clip930)\" style=\"stroke:#000000; stroke-width:4; stroke-opacity:1; fill:none\" points=\"\n",
       "  211.602,797.806 237.296,797.806 \n",
       "  \"/>\n",
       "<polyline clip-path=\"url(#clip930)\" style=\"stroke:#000000; stroke-width:4; stroke-opacity:1; fill:none\" points=\"\n",
       "  211.602,508.415 237.296,508.415 \n",
       "  \"/>\n",
       "<polyline clip-path=\"url(#clip930)\" style=\"stroke:#000000; stroke-width:4; stroke-opacity:1; fill:none\" points=\"\n",
       "  211.602,219.025 237.296,219.025 \n",
       "  \"/>\n",
       "<path clip-path=\"url(#clip930)\" d=\"M 0 0 M274.2 1445.17 Q270.589 1445.17 268.76 1448.74 Q266.955 1452.28 266.955 1459.41 Q266.955 1466.51 268.76 1470.08 Q270.589 1473.62 274.2 1473.62 Q277.834 1473.62 279.64 1470.08 Q281.468 1466.51 281.468 1459.41 Q281.468 1452.28 279.64 1448.74 Q277.834 1445.17 274.2 1445.17 M274.2 1441.47 Q280.01 1441.47 283.066 1446.07 Q286.144 1450.66 286.144 1459.41 Q286.144 1468.13 283.066 1472.74 Q280.01 1477.32 274.2 1477.32 Q268.39 1477.32 265.311 1472.74 Q262.256 1468.13 262.256 1459.41 Q262.256 1450.66 265.311 1446.07 Q268.39 1441.47 274.2 1441.47 Z\" fill=\"#000000\" fill-rule=\"evenodd\" fill-opacity=\"1\" /><path clip-path=\"url(#clip930)\" d=\"M 0 0 M799.425 1472.72 L815.745 1472.72 L815.745 1476.65 L793.8 1476.65 L793.8 1472.72 Q796.462 1469.96 801.046 1465.33 Q805.652 1460.68 806.833 1459.34 Q809.078 1456.81 809.958 1455.08 Q810.86 1453.32 810.86 1451.63 Q810.86 1448.87 808.916 1447.14 Q806.995 1445.4 803.893 1445.4 Q801.694 1445.4 799.24 1446.17 Q796.809 1446.93 794.032 1448.48 L794.032 1443.76 Q796.856 1442.62 799.309 1442.05 Q801.763 1441.47 803.8 1441.47 Q809.17 1441.47 812.365 1444.15 Q815.559 1446.84 815.559 1451.33 Q815.559 1453.46 814.749 1455.38 Q813.962 1457.28 811.856 1459.87 Q811.277 1460.54 808.175 1463.76 Q805.073 1466.95 799.425 1472.72 Z\" fill=\"#000000\" fill-rule=\"evenodd\" fill-opacity=\"1\" /><path clip-path=\"url(#clip930)\" d=\"M 0 0 M830.814 1445.17 Q827.203 1445.17 825.374 1448.74 Q823.569 1452.28 823.569 1459.41 Q823.569 1466.51 825.374 1470.08 Q827.203 1473.62 830.814 1473.62 Q834.448 1473.62 836.254 1470.08 Q838.082 1466.51 838.082 1459.41 Q838.082 1452.28 836.254 1448.74 Q834.448 1445.17 830.814 1445.17 M830.814 1441.47 Q836.624 1441.47 839.68 1446.07 Q842.758 1450.66 842.758 1459.41 Q842.758 1468.13 839.68 1472.74 Q836.624 1477.32 830.814 1477.32 Q825.004 1477.32 821.925 1472.74 Q818.87 1468.13 818.87 1459.41 Q818.87 1450.66 821.925 1446.07 Q825.004 1441.47 830.814 1441.47 Z\" fill=\"#000000\" fill-rule=\"evenodd\" fill-opacity=\"1\" /><path clip-path=\"url(#clip930)\" d=\"M 0 0 M857.828 1445.17 Q854.217 1445.17 852.388 1448.74 Q850.582 1452.28 850.582 1459.41 Q850.582 1466.51 852.388 1470.08 Q854.217 1473.62 857.828 1473.62 Q861.462 1473.62 863.267 1470.08 Q865.096 1466.51 865.096 1459.41 Q865.096 1452.28 863.267 1448.74 Q861.462 1445.17 857.828 1445.17 M857.828 1441.47 Q863.638 1441.47 866.693 1446.07 Q869.772 1450.66 869.772 1459.41 Q869.772 1468.13 866.693 1472.74 Q863.638 1477.32 857.828 1477.32 Q852.017 1477.32 848.939 1472.74 Q845.883 1468.13 845.883 1459.41 Q845.883 1450.66 848.939 1446.07 Q852.017 1441.47 857.828 1441.47 Z\" fill=\"#000000\" fill-rule=\"evenodd\" fill-opacity=\"1\" /><path clip-path=\"url(#clip930)\" d=\"M 0 0 M884.841 1445.17 Q881.23 1445.17 879.402 1448.74 Q877.596 1452.28 877.596 1459.41 Q877.596 1466.51 879.402 1470.08 Q881.23 1473.62 884.841 1473.62 Q888.476 1473.62 890.281 1470.08 Q892.11 1466.51 892.11 1459.41 Q892.11 1452.28 890.281 1448.74 Q888.476 1445.17 884.841 1445.17 M884.841 1441.47 Q890.652 1441.47 893.707 1446.07 Q896.786 1450.66 896.786 1459.41 Q896.786 1468.13 893.707 1472.74 Q890.652 1477.32 884.841 1477.32 Q879.031 1477.32 875.953 1472.74 Q872.897 1468.13 872.897 1459.41 Q872.897 1450.66 875.953 1446.07 Q879.031 1441.47 884.841 1441.47 Z\" fill=\"#000000\" fill-rule=\"evenodd\" fill-opacity=\"1\" /><path clip-path=\"url(#clip930)\" d=\"M 0 0 M1378.87 1446.17 L1367.07 1464.61 L1378.87 1464.61 L1378.87 1446.17 M1377.65 1442.09 L1383.53 1442.09 L1383.53 1464.61 L1388.46 1464.61 L1388.46 1468.5 L1383.53 1468.5 L1383.53 1476.65 L1378.87 1476.65 L1378.87 1468.5 L1363.27 1468.5 L1363.27 1463.99 L1377.65 1442.09 Z\" fill=\"#000000\" fill-rule=\"evenodd\" fill-opacity=\"1\" /><path clip-path=\"url(#clip930)\" d=\"M 0 0 M1403.53 1445.17 Q1399.92 1445.17 1398.09 1448.74 Q1396.28 1452.28 1396.28 1459.41 Q1396.28 1466.51 1398.09 1470.08 Q1399.92 1473.62 1403.53 1473.62 Q1407.16 1473.62 1408.97 1470.08 Q1410.8 1466.51 1410.8 1459.41 Q1410.8 1452.28 1408.97 1448.74 Q1407.16 1445.17 1403.53 1445.17 M1403.53 1441.47 Q1409.34 1441.47 1412.39 1446.07 Q1415.47 1450.66 1415.47 1459.41 Q1415.47 1468.13 1412.39 1472.74 Q1409.34 1477.32 1403.53 1477.32 Q1397.72 1477.32 1394.64 1472.74 Q1391.58 1468.13 1391.58 1459.41 Q1391.58 1450.66 1394.64 1446.07 Q1397.72 1441.47 1403.53 1441.47 Z\" fill=\"#000000\" fill-rule=\"evenodd\" fill-opacity=\"1\" /><path clip-path=\"url(#clip930)\" d=\"M 0 0 M1430.54 1445.17 Q1426.93 1445.17 1425.1 1448.74 Q1423.3 1452.28 1423.3 1459.41 Q1423.3 1466.51 1425.1 1470.08 Q1426.93 1473.62 1430.54 1473.62 Q1434.18 1473.62 1435.98 1470.08 Q1437.81 1466.51 1437.81 1459.41 Q1437.81 1452.28 1435.98 1448.74 Q1434.18 1445.17 1430.54 1445.17 M1430.54 1441.47 Q1436.35 1441.47 1439.41 1446.07 Q1442.49 1450.66 1442.49 1459.41 Q1442.49 1468.13 1439.41 1472.74 Q1436.35 1477.32 1430.54 1477.32 Q1424.73 1477.32 1421.65 1472.74 Q1418.6 1468.13 1418.6 1459.41 Q1418.6 1450.66 1421.65 1446.07 Q1424.73 1441.47 1430.54 1441.47 Z\" fill=\"#000000\" fill-rule=\"evenodd\" fill-opacity=\"1\" /><path clip-path=\"url(#clip930)\" d=\"M 0 0 M1457.55 1445.17 Q1453.94 1445.17 1452.12 1448.74 Q1450.31 1452.28 1450.31 1459.41 Q1450.31 1466.51 1452.12 1470.08 Q1453.94 1473.62 1457.55 1473.62 Q1461.19 1473.62 1462.99 1470.08 Q1464.82 1466.51 1464.82 1459.41 Q1464.82 1452.28 1462.99 1448.74 Q1461.19 1445.17 1457.55 1445.17 M1457.55 1441.47 Q1463.36 1441.47 1466.42 1446.07 Q1469.5 1450.66 1469.5 1459.41 Q1469.5 1468.13 1466.42 1472.74 Q1463.36 1477.32 1457.55 1477.32 Q1451.74 1477.32 1448.67 1472.74 Q1445.61 1468.13 1445.61 1459.41 Q1445.61 1450.66 1448.67 1446.07 Q1451.74 1441.47 1457.55 1441.47 Z\" fill=\"#000000\" fill-rule=\"evenodd\" fill-opacity=\"1\" /><path clip-path=\"url(#clip930)\" d=\"M 0 0 M1947.36 1457.51 Q1944.22 1457.51 1942.36 1459.66 Q1940.53 1461.81 1940.53 1465.56 Q1940.53 1469.29 1942.36 1471.47 Q1944.22 1473.62 1947.36 1473.62 Q1950.51 1473.62 1952.34 1471.47 Q1954.19 1469.29 1954.19 1465.56 Q1954.19 1461.81 1952.34 1459.66 Q1950.51 1457.51 1947.36 1457.51 M1956.65 1442.86 L1956.65 1447.11 Q1954.89 1446.28 1953.08 1445.84 Q1951.3 1445.4 1949.54 1445.4 Q1944.91 1445.4 1942.46 1448.53 Q1940.03 1451.65 1939.68 1457.97 Q1941.04 1455.96 1943.1 1454.89 Q1945.16 1453.8 1947.64 1453.8 Q1952.85 1453.8 1955.86 1456.98 Q1958.89 1460.12 1958.89 1465.56 Q1958.89 1470.89 1955.74 1474.11 Q1952.6 1477.32 1947.36 1477.32 Q1941.37 1477.32 1938.2 1472.74 Q1935.03 1468.13 1935.03 1459.41 Q1935.03 1451.21 1938.91 1446.35 Q1942.8 1441.47 1949.35 1441.47 Q1951.11 1441.47 1952.9 1441.81 Q1954.7 1442.16 1956.65 1442.86 Z\" fill=\"#000000\" fill-rule=\"evenodd\" fill-opacity=\"1\" /><path clip-path=\"url(#clip930)\" d=\"M 0 0 M1973.96 1445.17 Q1970.35 1445.17 1968.52 1448.74 Q1966.72 1452.28 1966.72 1459.41 Q1966.72 1466.51 1968.52 1470.08 Q1970.35 1473.62 1973.96 1473.62 Q1977.59 1473.62 1979.4 1470.08 Q1981.23 1466.51 1981.23 1459.41 Q1981.23 1452.28 1979.4 1448.74 Q1977.59 1445.17 1973.96 1445.17 M1973.96 1441.47 Q1979.77 1441.47 1982.83 1446.07 Q1985.91 1450.66 1985.91 1459.41 Q1985.91 1468.13 1982.83 1472.74 Q1979.77 1477.32 1973.96 1477.32 Q1968.15 1477.32 1965.07 1472.74 Q1962.02 1468.13 1962.02 1459.41 Q1962.02 1450.66 1965.07 1446.07 Q1968.15 1441.47 1973.96 1441.47 Z\" fill=\"#000000\" fill-rule=\"evenodd\" fill-opacity=\"1\" /><path clip-path=\"url(#clip930)\" d=\"M 0 0 M2000.97 1445.17 Q1997.36 1445.17 1995.53 1448.74 Q1993.73 1452.28 1993.73 1459.41 Q1993.73 1466.51 1995.53 1470.08 Q1997.36 1473.62 2000.97 1473.62 Q2004.61 1473.62 2006.41 1470.08 Q2008.24 1466.51 2008.24 1459.41 Q2008.24 1452.28 2006.41 1448.74 Q2004.61 1445.17 2000.97 1445.17 M2000.97 1441.47 Q2006.78 1441.47 2009.84 1446.07 Q2012.92 1450.66 2012.92 1459.41 Q2012.92 1468.13 2009.84 1472.74 Q2006.78 1477.32 2000.97 1477.32 Q1995.16 1477.32 1992.09 1472.74 Q1989.03 1468.13 1989.03 1459.41 Q1989.03 1450.66 1992.09 1446.07 Q1995.16 1441.47 2000.97 1441.47 Z\" fill=\"#000000\" fill-rule=\"evenodd\" fill-opacity=\"1\" /><path clip-path=\"url(#clip930)\" d=\"M 0 0 M2027.99 1445.17 Q2024.38 1445.17 2022.55 1448.74 Q2020.74 1452.28 2020.74 1459.41 Q2020.74 1466.51 2022.55 1470.08 Q2024.38 1473.62 2027.99 1473.62 Q2031.62 1473.62 2033.43 1470.08 Q2035.26 1466.51 2035.26 1459.41 Q2035.26 1452.28 2033.43 1448.74 Q2031.62 1445.17 2027.99 1445.17 M2027.99 1441.47 Q2033.8 1441.47 2036.85 1446.07 Q2039.93 1450.66 2039.93 1459.41 Q2039.93 1468.13 2036.85 1472.74 Q2033.8 1477.32 2027.99 1477.32 Q2022.18 1477.32 2019.1 1472.74 Q2016.04 1468.13 2016.04 1459.41 Q2016.04 1450.66 2019.1 1446.07 Q2022.18 1441.47 2027.99 1441.47 Z\" fill=\"#000000\" fill-rule=\"evenodd\" fill-opacity=\"1\" /><path clip-path=\"url(#clip930)\" d=\"M 0 0 M140.288 1362.39 Q136.677 1362.39 134.848 1365.95 Q133.043 1369.49 133.043 1376.62 Q133.043 1383.73 134.848 1387.29 Q136.677 1390.84 140.288 1390.84 Q143.922 1390.84 145.728 1387.29 Q147.556 1383.73 147.556 1376.62 Q147.556 1369.49 145.728 1365.95 Q143.922 1362.39 140.288 1362.39 M140.288 1358.68 Q146.098 1358.68 149.154 1363.29 Q152.232 1367.87 152.232 1376.62 Q152.232 1385.35 149.154 1389.96 Q146.098 1394.54 140.288 1394.54 Q134.478 1394.54 131.399 1389.96 Q128.343 1385.35 128.343 1376.62 Q128.343 1367.87 131.399 1363.29 Q134.478 1358.68 140.288 1358.68 Z\" fill=\"#000000\" fill-rule=\"evenodd\" fill-opacity=\"1\" /><path clip-path=\"url(#clip930)\" d=\"M 0 0 M157.302 1387.99 L162.186 1387.99 L162.186 1393.87 L157.302 1393.87 L157.302 1387.99 Z\" fill=\"#000000\" fill-rule=\"evenodd\" fill-opacity=\"1\" /><path clip-path=\"url(#clip930)\" d=\"M 0 0 M171.283 1389.93 L187.602 1389.93 L187.602 1393.87 L165.658 1393.87 L165.658 1389.93 Q168.32 1387.18 172.903 1382.55 Q177.51 1377.9 178.69 1376.55 Q180.936 1374.03 181.815 1372.29 Q182.718 1370.53 182.718 1368.84 Q182.718 1366.09 180.774 1364.35 Q178.852 1362.62 175.751 1362.62 Q173.552 1362.62 171.098 1363.38 Q168.667 1364.15 165.89 1365.7 L165.89 1360.97 Q168.714 1359.84 171.167 1359.26 Q173.621 1358.68 175.658 1358.68 Q181.028 1358.68 184.223 1361.37 Q187.417 1364.05 187.417 1368.54 Q187.417 1370.67 186.607 1372.59 Q185.82 1374.49 183.714 1377.09 Q183.135 1377.76 180.033 1380.97 Q176.931 1384.17 171.283 1389.93 Z\" fill=\"#000000\" fill-rule=\"evenodd\" fill-opacity=\"1\" /><path clip-path=\"url(#clip930)\" d=\"M 0 0 M138.205 1073 Q134.593 1073 132.765 1076.56 Q130.959 1080.1 130.959 1087.23 Q130.959 1094.34 132.765 1097.9 Q134.593 1101.44 138.205 1101.44 Q141.839 1101.44 143.644 1097.9 Q145.473 1094.34 145.473 1087.23 Q145.473 1080.1 143.644 1076.56 Q141.839 1073 138.205 1073 M138.205 1069.29 Q144.015 1069.29 147.07 1073.9 Q150.149 1078.48 150.149 1087.23 Q150.149 1095.96 147.07 1100.56 Q144.015 1105.15 138.205 1105.15 Q132.394 1105.15 129.316 1100.56 Q126.26 1095.96 126.26 1087.23 Q126.26 1078.48 129.316 1073.9 Q132.394 1069.29 138.205 1069.29 Z\" fill=\"#000000\" fill-rule=\"evenodd\" fill-opacity=\"1\" /><path clip-path=\"url(#clip930)\" d=\"M 0 0 M155.218 1098.6 L160.103 1098.6 L160.103 1104.48 L155.218 1104.48 L155.218 1098.6 Z\" fill=\"#000000\" fill-rule=\"evenodd\" fill-opacity=\"1\" /><path clip-path=\"url(#clip930)\" d=\"M 0 0 M178.019 1073.99 L166.214 1092.44 L178.019 1092.44 L178.019 1073.99 M176.792 1069.92 L182.672 1069.92 L182.672 1092.44 L187.602 1092.44 L187.602 1096.33 L182.672 1096.33 L182.672 1104.48 L178.019 1104.48 L178.019 1096.33 L162.417 1096.33 L162.417 1091.81 L176.792 1069.92 Z\" fill=\"#000000\" fill-rule=\"evenodd\" fill-opacity=\"1\" /><path clip-path=\"url(#clip930)\" d=\"M 0 0 M138.529 783.605 Q134.918 783.605 133.089 787.17 Q131.283 790.711 131.283 797.841 Q131.283 804.947 133.089 808.512 Q134.918 812.054 138.529 812.054 Q142.163 812.054 143.968 808.512 Q145.797 804.947 145.797 797.841 Q145.797 790.711 143.968 787.17 Q142.163 783.605 138.529 783.605 M138.529 779.901 Q144.339 779.901 147.394 784.508 Q150.473 789.091 150.473 797.841 Q150.473 806.568 147.394 811.174 Q144.339 815.757 138.529 815.757 Q132.718 815.757 129.64 811.174 Q126.584 806.568 126.584 797.841 Q126.584 789.091 129.64 784.508 Q132.718 779.901 138.529 779.901 Z\" fill=\"#000000\" fill-rule=\"evenodd\" fill-opacity=\"1\" /><path clip-path=\"url(#clip930)\" d=\"M 0 0 M155.542 809.206 L160.427 809.206 L160.427 815.086 L155.542 815.086 L155.542 809.206 Z\" fill=\"#000000\" fill-rule=\"evenodd\" fill-opacity=\"1\" /><path clip-path=\"url(#clip930)\" d=\"M 0 0 M176.075 795.943 Q172.927 795.943 171.075 798.095 Q169.246 800.248 169.246 803.998 Q169.246 807.725 171.075 809.901 Q172.927 812.054 176.075 812.054 Q179.223 812.054 181.052 809.901 Q182.903 807.725 182.903 803.998 Q182.903 800.248 181.052 798.095 Q179.223 795.943 176.075 795.943 M185.357 781.29 L185.357 785.549 Q183.598 784.716 181.792 784.276 Q180.01 783.836 178.251 783.836 Q173.621 783.836 171.167 786.961 Q168.737 790.086 168.39 796.406 Q169.755 794.392 171.815 793.327 Q173.876 792.239 176.352 792.239 Q181.561 792.239 184.57 795.41 Q187.602 798.558 187.602 803.998 Q187.602 809.322 184.454 812.54 Q181.306 815.757 176.075 815.757 Q170.079 815.757 166.908 811.174 Q163.737 806.568 163.737 797.841 Q163.737 789.646 167.626 784.785 Q171.515 779.901 178.065 779.901 Q179.825 779.901 181.607 780.248 Q183.413 780.596 185.357 781.29 Z\" fill=\"#000000\" fill-rule=\"evenodd\" fill-opacity=\"1\" /><path clip-path=\"url(#clip930)\" d=\"M 0 0 M138.783 494.214 Q135.172 494.214 133.343 497.779 Q131.538 501.32 131.538 508.45 Q131.538 515.557 133.343 519.121 Q135.172 522.663 138.783 522.663 Q142.417 522.663 144.223 519.121 Q146.052 515.557 146.052 508.45 Q146.052 501.32 144.223 497.779 Q142.417 494.214 138.783 494.214 M138.783 490.51 Q144.593 490.51 147.649 495.117 Q150.728 499.7 150.728 508.45 Q150.728 517.177 147.649 521.783 Q144.593 526.367 138.783 526.367 Q132.973 526.367 129.894 521.783 Q126.839 517.177 126.839 508.45 Q126.839 499.7 129.894 495.117 Q132.973 490.51 138.783 490.51 Z\" fill=\"#000000\" fill-rule=\"evenodd\" fill-opacity=\"1\" /><path clip-path=\"url(#clip930)\" d=\"M 0 0 M155.797 519.816 L160.681 519.816 L160.681 525.695 L155.797 525.695 L155.797 519.816 Z\" fill=\"#000000\" fill-rule=\"evenodd\" fill-opacity=\"1\" /><path clip-path=\"url(#clip930)\" d=\"M 0 0 M175.751 509.283 Q172.417 509.283 170.496 511.066 Q168.598 512.848 168.598 515.973 Q168.598 519.098 170.496 520.881 Q172.417 522.663 175.751 522.663 Q179.084 522.663 181.005 520.881 Q182.927 519.075 182.927 515.973 Q182.927 512.848 181.005 511.066 Q179.107 509.283 175.751 509.283 M171.075 507.293 Q168.065 506.552 166.376 504.492 Q164.709 502.432 164.709 499.469 Q164.709 495.325 167.649 492.918 Q170.612 490.51 175.751 490.51 Q180.913 490.51 183.852 492.918 Q186.792 495.325 186.792 499.469 Q186.792 502.432 185.102 504.492 Q183.436 506.552 180.45 507.293 Q183.829 508.08 185.704 510.371 Q187.602 512.663 187.602 515.973 Q187.602 520.996 184.524 523.681 Q181.468 526.367 175.751 526.367 Q170.033 526.367 166.954 523.681 Q163.899 520.996 163.899 515.973 Q163.899 512.663 165.797 510.371 Q167.695 508.08 171.075 507.293 M169.362 499.908 Q169.362 502.594 171.028 504.098 Q172.718 505.603 175.751 505.603 Q178.76 505.603 180.45 504.098 Q182.163 502.594 182.163 499.908 Q182.163 497.223 180.45 495.719 Q178.76 494.214 175.751 494.214 Q172.718 494.214 171.028 495.719 Q169.362 497.223 169.362 499.908 Z\" fill=\"#000000\" fill-rule=\"evenodd\" fill-opacity=\"1\" /><path clip-path=\"url(#clip930)\" d=\"M 0 0 M130.728 232.369 L138.367 232.369 L138.367 206.004 L130.056 207.671 L130.056 203.411 L138.32 201.745 L142.996 201.745 L142.996 232.369 L150.635 232.369 L150.635 236.305 L130.728 236.305 L130.728 232.369 Z\" fill=\"#000000\" fill-rule=\"evenodd\" fill-opacity=\"1\" /><path clip-path=\"url(#clip930)\" d=\"M 0 0 M155.704 230.425 L160.589 230.425 L160.589 236.305 L155.704 236.305 L155.704 230.425 Z\" fill=\"#000000\" fill-rule=\"evenodd\" fill-opacity=\"1\" /><path clip-path=\"url(#clip930)\" d=\"M 0 0 M175.658 204.823 Q172.047 204.823 170.218 208.388 Q168.413 211.93 168.413 219.059 Q168.413 226.166 170.218 229.731 Q172.047 233.272 175.658 233.272 Q179.292 233.272 181.098 229.731 Q182.927 226.166 182.927 219.059 Q182.927 211.93 181.098 208.388 Q179.292 204.823 175.658 204.823 M175.658 201.12 Q181.468 201.12 184.524 205.726 Q187.602 210.309 187.602 219.059 Q187.602 227.786 184.524 232.393 Q181.468 236.976 175.658 236.976 Q169.848 236.976 166.769 232.393 Q163.714 227.786 163.714 219.059 Q163.714 210.309 166.769 205.726 Q169.848 201.12 175.658 201.12 Z\" fill=\"#000000\" fill-rule=\"evenodd\" fill-opacity=\"1\" /><path clip-path=\"url(#clip930)\" d=\"M 0 0 M905.85 12.096 L914.033 12.096 L914.033 37.6572 L941.174 12.096 L951.706 12.096 L921.689 40.2903 L953.853 72.576 L943.078 72.576 L914.033 43.45 L914.033 72.576 L905.85 72.576 L905.85 12.096 Z\" fill=\"#000000\" fill-rule=\"evenodd\" fill-opacity=\"1\" /><path clip-path=\"url(#clip930)\" d=\"M 0 0 M980.832 49.7694 Q971.799 49.7694 968.315 51.8354 Q964.831 53.9013 964.831 58.8839 Q964.831 62.8538 967.424 65.2034 Q970.057 67.5124 974.553 67.5124 Q980.751 67.5124 984.478 63.1374 Q988.246 58.7219 988.246 51.4303 L988.246 49.7694 L980.832 49.7694 M995.699 46.6907 L995.699 72.576 L988.246 72.576 L988.246 65.6895 Q985.693 69.8214 981.886 71.8063 Q978.078 73.7508 972.569 73.7508 Q965.601 73.7508 961.469 69.8619 Q957.378 65.9325 957.378 59.3701 Q957.378 51.7138 962.482 47.825 Q967.626 43.9361 977.794 43.9361 L988.246 43.9361 L988.246 43.2069 Q988.246 38.0623 984.843 35.2672 Q981.481 32.4315 975.364 32.4315 Q971.475 32.4315 967.788 33.3632 Q964.102 34.295 960.699 36.1584 L960.699 29.2718 Q964.791 27.692 968.639 26.9223 Q972.488 26.1121 976.133 26.1121 Q985.977 26.1121 990.838 31.2163 Q995.699 36.3204 995.699 46.6907 Z\" fill=\"#000000\" fill-rule=\"evenodd\" fill-opacity=\"1\" /><path clip-path=\"url(#clip930)\" d=\"M 0 0 M1010.73 65.7705 L1010.73 89.8329 L1003.23 89.8329 L1003.23 27.2059 L1010.73 27.2059 L1010.73 34.0924 Q1013.08 30.0415 1016.64 28.0971 Q1020.25 26.1121 1025.23 26.1121 Q1033.49 26.1121 1038.64 32.6746 Q1043.82 39.2371 1043.82 49.9314 Q1043.82 60.6258 1038.64 67.1883 Q1033.49 73.7508 1025.23 73.7508 Q1020.25 73.7508 1016.64 71.8063 Q1013.08 69.8214 1010.73 65.7705 M1036.09 49.9314 Q1036.09 41.7081 1032.68 37.0496 Q1029.32 32.3505 1023.41 32.3505 Q1017.49 32.3505 1014.09 37.0496 Q1010.73 41.7081 1010.73 49.9314 Q1010.73 58.1548 1014.09 62.8538 Q1017.49 67.5124 1023.41 67.5124 Q1029.32 67.5124 1032.68 62.8538 Q1036.09 58.1548 1036.09 49.9314 Z\" fill=\"#000000\" fill-rule=\"evenodd\" fill-opacity=\"1\" /><path clip-path=\"url(#clip930)\" d=\"M 0 0 M1051.64 9.54393 L1059.1 9.54393 L1059.1 72.576 L1051.64 72.576 L1051.64 9.54393 Z\" fill=\"#000000\" fill-rule=\"evenodd\" fill-opacity=\"1\" /><path clip-path=\"url(#clip930)\" d=\"M 0 0 M1087.53 49.7694 Q1078.5 49.7694 1075.02 51.8354 Q1071.53 53.9013 1071.53 58.8839 Q1071.53 62.8538 1074.12 65.2034 Q1076.76 67.5124 1081.25 67.5124 Q1087.45 67.5124 1091.18 63.1374 Q1094.95 58.7219 1094.95 51.4303 L1094.95 49.7694 L1087.53 49.7694 M1102.4 46.6907 L1102.4 72.576 L1094.95 72.576 L1094.95 65.6895 Q1092.39 69.8214 1088.59 71.8063 Q1084.78 73.7508 1079.27 73.7508 Q1072.3 73.7508 1068.17 69.8619 Q1064.08 65.9325 1064.08 59.3701 Q1064.08 51.7138 1069.18 47.825 Q1074.33 43.9361 1084.5 43.9361 L1094.95 43.9361 L1094.95 43.2069 Q1094.95 38.0623 1091.54 35.2672 Q1088.18 32.4315 1082.06 32.4315 Q1078.18 32.4315 1074.49 33.3632 Q1070.8 34.295 1067.4 36.1584 L1067.4 29.2718 Q1071.49 27.692 1075.34 26.9223 Q1079.19 26.1121 1082.83 26.1121 Q1092.68 26.1121 1097.54 31.2163 Q1102.4 36.3204 1102.4 46.6907 Z\" fill=\"#000000\" fill-rule=\"evenodd\" fill-opacity=\"1\" /><path clip-path=\"url(#clip930)\" d=\"M 0 0 M1147.93 45.1919 L1147.93 72.576 L1140.48 72.576 L1140.48 45.4349 Q1140.48 38.994 1137.97 35.7938 Q1135.46 32.5936 1130.43 32.5936 Q1124.4 32.5936 1120.91 36.4419 Q1117.43 40.2903 1117.43 46.9338 L1117.43 72.576 L1109.93 72.576 L1109.93 27.2059 L1117.43 27.2059 L1117.43 34.2544 Q1120.1 30.163 1123.71 28.1376 Q1127.35 26.1121 1132.09 26.1121 Q1139.91 26.1121 1143.92 30.9732 Q1147.93 35.7938 1147.93 45.1919 Z\" fill=\"#000000\" fill-rule=\"evenodd\" fill-opacity=\"1\" /><path clip-path=\"url(#clip930)\" d=\"M 0 0 M1151.98 46.5287 L1173.82 46.5287 L1173.82 53.1722 L1151.98 53.1722 L1151.98 46.5287 Z\" fill=\"#000000\" fill-rule=\"evenodd\" fill-opacity=\"1\" /><path clip-path=\"url(#clip930)\" d=\"M 0 0 M1181.96 12.096 L1194.15 12.096 L1209.59 53.2532 L1225.1 12.096 L1237.3 12.096 L1237.3 72.576 L1229.31 72.576 L1229.31 19.4686 L1213.72 60.9499 L1205.5 60.9499 L1189.9 19.4686 L1189.9 72.576 L1181.96 72.576 L1181.96 12.096 Z\" fill=\"#000000\" fill-rule=\"evenodd\" fill-opacity=\"1\" /><path clip-path=\"url(#clip930)\" d=\"M 0 0 M1283.92 48.0275 L1283.92 51.6733 L1249.65 51.6733 Q1250.14 59.3701 1254.27 63.421 Q1258.44 67.4314 1265.85 67.4314 Q1270.15 67.4314 1274.16 66.3781 Q1278.21 65.3249 1282.18 63.2184 L1282.18 70.267 Q1278.17 71.9684 1273.96 72.8596 Q1269.74 73.7508 1265.41 73.7508 Q1254.55 73.7508 1248.19 67.4314 Q1241.87 61.1119 1241.87 50.3365 Q1241.87 39.1965 1247.87 32.6746 Q1253.9 26.1121 1264.11 26.1121 Q1273.27 26.1121 1278.57 32.0264 Q1283.92 37.9003 1283.92 48.0275 M1276.47 45.84 Q1276.39 39.7232 1273.02 36.0774 Q1269.7 32.4315 1264.19 32.4315 Q1257.95 32.4315 1254.19 35.9558 Q1250.46 39.4801 1249.89 45.8805 L1276.47 45.84 Z\" fill=\"#000000\" fill-rule=\"evenodd\" fill-opacity=\"1\" /><path clip-path=\"url(#clip930)\" d=\"M 0 0 M1291.74 27.2059 L1299.19 27.2059 L1299.19 72.576 L1291.74 72.576 L1291.74 27.2059 M1291.74 9.54393 L1299.19 9.54393 L1299.19 18.9825 L1291.74 18.9825 L1291.74 9.54393 Z\" fill=\"#000000\" fill-rule=\"evenodd\" fill-opacity=\"1\" /><path clip-path=\"url(#clip930)\" d=\"M 0 0 M1345.82 48.0275 L1345.82 51.6733 L1311.55 51.6733 Q1312.03 59.3701 1316.17 63.421 Q1320.34 67.4314 1327.75 67.4314 Q1332.05 67.4314 1336.06 66.3781 Q1340.11 65.3249 1344.08 63.2184 L1344.08 70.267 Q1340.07 71.9684 1335.85 72.8596 Q1331.64 73.7508 1327.31 73.7508 Q1316.45 73.7508 1310.09 67.4314 Q1303.77 61.1119 1303.77 50.3365 Q1303.77 39.1965 1309.77 32.6746 Q1315.8 26.1121 1326.01 26.1121 Q1335.16 26.1121 1340.47 32.0264 Q1345.82 37.9003 1345.82 48.0275 M1338.37 45.84 Q1338.28 39.7232 1334.92 36.0774 Q1331.6 32.4315 1326.09 32.4315 Q1319.85 32.4315 1316.09 35.9558 Q1312.36 39.4801 1311.79 45.8805 L1338.37 45.84 Z\" fill=\"#000000\" fill-rule=\"evenodd\" fill-opacity=\"1\" /><path clip-path=\"url(#clip930)\" d=\"M 0 0 M1379.93 34.1734 Q1378.67 33.4443 1377.17 33.1202 Q1375.71 32.7556 1373.93 32.7556 Q1367.61 32.7556 1364.21 36.8875 Q1360.85 40.9789 1360.85 48.6757 L1360.85 72.576 L1353.35 72.576 L1353.35 27.2059 L1360.85 27.2059 L1360.85 34.2544 Q1363.2 30.1225 1366.96 28.1376 Q1370.73 26.1121 1376.12 26.1121 Q1376.89 26.1121 1377.82 26.2337 Q1378.75 26.3147 1379.89 26.5172 L1379.93 34.1734 Z\" fill=\"#000000\" fill-rule=\"evenodd\" fill-opacity=\"1\" /><path clip-path=\"url(#clip930)\" d=\"M 0 0 M1459.73 16.7545 L1459.73 25.383 Q1455.6 21.5346 1450.9 19.6307 Q1446.24 17.7268 1440.97 17.7268 Q1430.6 17.7268 1425.1 24.0867 Q1419.59 30.4061 1419.59 42.3968 Q1419.59 54.3469 1425.1 60.7069 Q1430.6 67.0263 1440.97 67.0263 Q1446.24 67.0263 1450.9 65.1223 Q1455.6 63.2184 1459.73 59.3701 L1459.73 67.9175 Q1455.44 70.8341 1450.62 72.2924 Q1445.84 73.7508 1440.49 73.7508 Q1426.76 73.7508 1418.86 65.3654 Q1410.96 56.9395 1410.96 42.3968 Q1410.96 27.8135 1418.86 19.4281 Q1426.76 11.0023 1440.49 11.0023 Q1445.92 11.0023 1450.7 12.4606 Q1455.52 13.8784 1459.73 16.7545 Z\" fill=\"#000000\" fill-rule=\"evenodd\" fill-opacity=\"1\" /><path clip-path=\"url(#clip930)\" d=\"M 0 0 M1466.78 54.671 L1466.78 27.2059 L1474.23 27.2059 L1474.23 54.3874 Q1474.23 60.8284 1476.74 64.0691 Q1479.26 67.2693 1484.28 67.2693 Q1490.31 67.2693 1493.8 63.421 Q1497.32 59.5726 1497.32 52.9291 L1497.32 27.2059 L1504.78 27.2059 L1504.78 72.576 L1497.32 72.576 L1497.32 65.6084 Q1494.61 69.7404 1491 71.7658 Q1487.44 73.7508 1482.7 73.7508 Q1474.88 73.7508 1470.83 68.8897 Q1466.78 64.0286 1466.78 54.671 M1485.53 26.1121 L1485.53 26.1121 Z\" fill=\"#000000\" fill-rule=\"evenodd\" fill-opacity=\"1\" /><path clip-path=\"url(#clip930)\" d=\"M 0 0 M1538.88 34.1734 Q1537.63 33.4443 1536.13 33.1202 Q1534.67 32.7556 1532.89 32.7556 Q1526.57 32.7556 1523.17 36.8875 Q1519.81 40.9789 1519.81 48.6757 L1519.81 72.576 L1512.31 72.576 L1512.31 27.2059 L1519.81 27.2059 L1519.81 34.2544 Q1522.15 30.1225 1525.92 28.1376 Q1529.69 26.1121 1535.08 26.1121 Q1535.85 26.1121 1536.78 26.2337 Q1537.71 26.3147 1538.84 26.5172 L1538.88 34.1734 Z\" fill=\"#000000\" fill-rule=\"evenodd\" fill-opacity=\"1\" /><path clip-path=\"url(#clip930)\" d=\"M 0 0 M1541.36 27.2059 L1549.26 27.2059 L1563.43 65.2844 L1577.61 27.2059 L1585.51 27.2059 L1568.5 72.576 L1558.37 72.576 L1541.36 27.2059 Z\" fill=\"#000000\" fill-rule=\"evenodd\" fill-opacity=\"1\" /><path clip-path=\"url(#clip930)\" d=\"M 0 0 M1632.14 48.0275 L1632.14 51.6733 L1597.87 51.6733 Q1598.35 59.3701 1602.48 63.421 Q1606.66 67.4314 1614.07 67.4314 Q1618.36 67.4314 1622.37 66.3781 Q1626.43 65.3249 1630.39 63.2184 L1630.39 70.267 Q1626.38 71.9684 1622.17 72.8596 Q1617.96 73.7508 1613.62 73.7508 Q1602.77 73.7508 1596.41 67.4314 Q1590.09 61.1119 1590.09 50.3365 Q1590.09 39.1965 1596.08 32.6746 Q1602.12 26.1121 1612.33 26.1121 Q1621.48 26.1121 1626.79 32.0264 Q1632.14 37.9003 1632.14 48.0275 M1624.68 45.84 Q1624.6 39.7232 1621.24 36.0774 Q1617.92 32.4315 1612.41 32.4315 Q1606.17 32.4315 1602.4 35.9558 Q1598.68 39.4801 1598.11 45.8805 L1624.68 45.84 Z\" fill=\"#000000\" fill-rule=\"evenodd\" fill-opacity=\"1\" /><path clip-path=\"url(#clip930)\" d=\"M 0 0 M290.194 140.651 Q290.194 132.428 286.791 127.77 Q283.429 123.071 277.514 123.071 Q271.6 123.071 268.197 127.77 Q264.835 132.428 264.835 140.651 Q264.835 148.875 268.197 153.574 Q271.6 158.232 277.514 158.232 Q283.429 158.232 286.791 153.574 Q290.194 148.875 290.194 140.651 M264.835 124.812 Q267.185 120.762 270.749 118.817 Q274.355 116.832 279.337 116.832 Q287.601 116.832 292.746 123.395 Q297.931 129.957 297.931 140.651 Q297.931 151.346 292.746 157.908 Q287.601 164.471 279.337 164.471 Q274.355 164.471 270.749 162.526 Q267.185 160.541 264.835 156.49 L264.835 163.296 L257.341 163.296 L257.341 100.264 L264.835 100.264 L264.835 124.812 Z\" fill=\"#000000\" fill-rule=\"evenodd\" fill-opacity=\"1\" /><path clip-path=\"url(#clip930)\" d=\"M 0 0 M332.04 124.893 Q330.784 124.164 329.285 123.84 Q327.827 123.476 326.044 123.476 Q319.725 123.476 316.322 127.608 Q312.96 131.699 312.96 139.396 L312.96 163.296 L305.466 163.296 L305.466 117.926 L312.96 117.926 L312.96 124.974 Q315.309 120.843 319.077 118.858 Q322.844 116.832 328.232 116.832 Q329.001 116.832 329.933 116.954 Q330.865 117.035 331.999 117.237 L332.04 124.893 Z\" fill=\"#000000\" fill-rule=\"evenodd\" fill-opacity=\"1\" /><path clip-path=\"url(#clip930)\" d=\"M 0 0 M370.685 119.668 L370.685 126.635 Q367.525 124.893 364.325 124.043 Q361.166 123.152 357.925 123.152 Q350.674 123.152 346.663 127.77 Q342.653 132.347 342.653 140.651 Q342.653 148.956 346.663 153.574 Q350.674 158.151 357.925 158.151 Q361.166 158.151 364.325 157.301 Q367.525 156.409 370.685 154.668 L370.685 161.554 Q367.566 163.012 364.204 163.742 Q360.882 164.471 357.115 164.471 Q346.866 164.471 340.83 158.03 Q334.794 151.589 334.794 140.651 Q334.794 129.552 340.871 123.192 Q346.987 116.832 357.601 116.832 Q361.044 116.832 364.325 117.561 Q367.607 118.25 370.685 119.668 Z\" fill=\"#000000\" fill-rule=\"evenodd\" fill-opacity=\"1\" /><path clip-path=\"url(#clip930)\" d=\"M 0 0 M399.123 140.489 Q390.089 140.489 386.605 142.555 Q383.121 144.621 383.121 149.604 Q383.121 153.574 385.714 155.923 Q388.347 158.232 392.844 158.232 Q399.042 158.232 402.768 153.857 Q406.536 149.442 406.536 142.15 L406.536 140.489 L399.123 140.489 M413.989 137.411 L413.989 163.296 L406.536 163.296 L406.536 156.409 Q403.984 160.541 400.176 162.526 Q396.368 164.471 390.859 164.471 Q383.891 164.471 379.759 160.582 Q375.668 156.653 375.668 150.09 Q375.668 142.434 380.772 138.545 Q385.917 134.656 396.084 134.656 L406.536 134.656 L406.536 133.927 Q406.536 128.782 403.133 125.987 Q399.771 123.152 393.654 123.152 Q389.765 123.152 386.079 124.083 Q382.392 125.015 378.99 126.878 L378.99 119.992 Q383.081 118.412 386.929 117.642 Q390.778 116.832 394.424 116.832 Q404.267 116.832 409.128 121.936 Q413.989 127.04 413.989 137.411 Z\" fill=\"#000000\" fill-rule=\"evenodd\" fill-opacity=\"1\" /><path clip-path=\"url(#clip930)\" d=\"M 0 0 M456.281 177.069 L456.281 182.862 L413.179 182.862 L413.179 177.069 L456.281 177.069 Z\" fill=\"#000000\" fill-rule=\"evenodd\" fill-opacity=\"1\" /><path clip-path=\"url(#clip930)\" d=\"M 0 0 M471.472 105.044 L471.472 117.926 L486.825 117.926 L486.825 123.719 L471.472 123.719 L471.472 148.348 Q471.472 153.898 472.971 155.478 Q474.51 157.058 479.168 157.058 L486.825 157.058 L486.825 163.296 L479.168 163.296 Q470.54 163.296 467.259 160.096 Q463.978 156.855 463.978 148.348 L463.978 123.719 L458.509 123.719 L458.509 117.926 L463.978 117.926 L463.978 105.044 L471.472 105.044 Z\" fill=\"#000000\" fill-rule=\"evenodd\" fill-opacity=\"1\" /><path clip-path=\"url(#clip930)\" d=\"M 0 0 M527.293 119.668 L527.293 126.635 Q524.133 124.893 520.933 124.043 Q517.774 123.152 514.533 123.152 Q507.282 123.152 503.271 127.77 Q499.261 132.347 499.261 140.651 Q499.261 148.956 503.271 153.574 Q507.282 158.151 514.533 158.151 Q517.774 158.151 520.933 157.301 Q524.133 156.409 527.293 154.668 L527.293 161.554 Q524.174 163.012 520.812 163.742 Q517.49 164.471 513.723 164.471 Q503.474 164.471 497.438 158.03 Q491.402 151.589 491.402 140.651 Q491.402 129.552 497.479 123.192 Q503.595 116.832 514.209 116.832 Q517.652 116.832 520.933 117.561 Q524.214 118.25 527.293 119.668 Z\" fill=\"#000000\" fill-rule=\"evenodd\" fill-opacity=\"1\" /><path clip-path=\"url(#clip930)\" d=\"M 0 0 M564.967 140.084 Q564.967 131.983 561.604 127.527 Q558.283 123.071 552.247 123.071 Q546.251 123.071 542.889 127.527 Q539.567 131.983 539.567 140.084 Q539.567 148.146 542.889 152.602 Q546.251 157.058 552.247 157.058 Q558.283 157.058 561.604 152.602 Q564.967 148.146 564.967 140.084 M572.42 157.665 Q572.42 169.251 567.276 174.882 Q562.131 180.553 551.518 180.553 Q547.588 180.553 544.104 179.945 Q540.621 179.378 537.339 178.163 L537.339 170.912 Q540.621 172.694 543.821 173.545 Q547.021 174.395 550.343 174.395 Q557.675 174.395 561.321 170.547 Q564.967 166.739 564.967 159.002 L564.967 155.316 Q562.658 159.326 559.052 161.311 Q555.447 163.296 550.424 163.296 Q542.079 163.296 536.975 156.936 Q531.871 150.576 531.871 140.084 Q531.871 129.552 536.975 123.192 Q542.079 116.832 550.424 116.832 Q555.447 116.832 559.052 118.817 Q562.658 120.802 564.967 124.812 L564.967 117.926 L572.42 117.926 L572.42 157.665 Z\" fill=\"#000000\" fill-rule=\"evenodd\" fill-opacity=\"1\" /><path clip-path=\"url(#clip930)\" d=\"M 0 0 M600.858 140.489 Q591.824 140.489 588.34 142.555 Q584.857 144.621 584.857 149.604 Q584.857 153.574 587.449 155.923 Q590.082 158.232 594.579 158.232 Q600.777 158.232 604.503 153.857 Q608.271 149.442 608.271 142.15 L608.271 140.489 L600.858 140.489 M615.724 137.411 L615.724 163.296 L608.271 163.296 L608.271 156.409 Q605.719 160.541 601.911 162.526 Q598.103 164.471 592.594 164.471 Q585.626 164.471 581.494 160.582 Q577.403 156.653 577.403 150.09 Q577.403 142.434 582.507 138.545 Q587.652 134.656 597.819 134.656 L608.271 134.656 L608.271 133.927 Q608.271 128.782 604.868 125.987 Q601.506 123.152 595.389 123.152 Q591.5 123.152 587.814 124.083 Q584.127 125.015 580.725 126.878 L580.725 119.992 Q584.816 118.412 588.664 117.642 Q592.513 116.832 596.159 116.832 Q606.002 116.832 610.863 121.936 Q615.724 127.04 615.724 137.411 Z\" fill=\"#000000\" fill-rule=\"evenodd\" fill-opacity=\"1\" /><path clip-path=\"url(#clip930)\" d=\"M 0 0 M658.016 177.069 L658.016 182.862 L614.914 182.862 L614.914 177.069 L658.016 177.069 Z\" fill=\"#000000\" fill-rule=\"evenodd\" fill-opacity=\"1\" /><path clip-path=\"url(#clip930)\" d=\"M 0 0 M673.045 156.49 L673.045 180.553 L665.551 180.553 L665.551 117.926 L673.045 117.926 L673.045 124.812 Q675.394 120.762 678.959 118.817 Q682.564 116.832 687.547 116.832 Q695.811 116.832 700.955 123.395 Q706.141 129.957 706.141 140.651 Q706.141 151.346 700.955 157.908 Q695.811 164.471 687.547 164.471 Q682.564 164.471 678.959 162.526 Q675.394 160.541 673.045 156.49 M698.403 140.651 Q698.403 132.428 695.001 127.77 Q691.638 123.071 685.724 123.071 Q679.81 123.071 676.407 127.77 Q673.045 132.428 673.045 140.651 Q673.045 148.875 676.407 153.574 Q679.81 158.232 685.724 158.232 Q691.638 158.232 695.001 153.574 Q698.403 148.875 698.403 140.651 Z\" fill=\"#000000\" fill-rule=\"evenodd\" fill-opacity=\"1\" /><path clip-path=\"url(#clip930)\" d=\"M 0 0 M713.189 145.391 L713.189 117.926 L720.643 117.926 L720.643 145.107 Q720.643 151.548 723.154 154.789 Q725.666 157.989 730.689 157.989 Q736.725 157.989 740.209 154.141 Q743.733 150.293 743.733 143.649 L743.733 117.926 L751.187 117.926 L751.187 163.296 L743.733 163.296 L743.733 156.328 Q741.019 160.46 737.414 162.486 Q733.849 164.471 729.109 164.471 Q721.291 164.471 717.24 159.61 Q713.189 154.749 713.189 145.391 M731.945 116.832 L731.945 116.832 Z\" fill=\"#000000\" fill-rule=\"evenodd\" fill-opacity=\"1\" /><path clip-path=\"url(#clip930)\" d=\"M 0 0 M791.574 140.651 Q791.574 132.428 788.171 127.77 Q784.809 123.071 778.895 123.071 Q772.981 123.071 769.578 127.77 Q766.215 132.428 766.215 140.651 Q766.215 148.875 769.578 153.574 Q772.981 158.232 778.895 158.232 Q784.809 158.232 788.171 153.574 Q791.574 148.875 791.574 140.651 M766.215 124.812 Q768.565 120.762 772.13 118.817 Q775.735 116.832 780.718 116.832 Q788.982 116.832 794.126 123.395 Q799.311 129.957 799.311 140.651 Q799.311 151.346 794.126 157.908 Q788.982 164.471 780.718 164.471 Q775.735 164.471 772.13 162.526 Q768.565 160.541 766.215 156.49 L766.215 163.296 L758.721 163.296 L758.721 100.264 L766.215 100.264 L766.215 124.812 Z\" fill=\"#000000\" fill-rule=\"evenodd\" fill-opacity=\"1\" /><path clip-path=\"url(#clip930)\" d=\"M 0 0 M815.231 156.409 L843.79 156.409 L843.79 163.296 L805.388 163.296 L805.388 156.409 Q810.046 151.589 818.067 143.487 Q826.128 135.345 828.194 132.995 Q832.124 128.58 833.663 125.542 Q835.243 122.463 835.243 119.506 Q835.243 114.685 831.84 111.647 Q828.478 108.609 823.05 108.609 Q819.201 108.609 814.907 109.946 Q810.654 111.282 805.793 113.996 L805.793 105.733 Q810.735 103.748 815.029 102.735 Q819.323 101.722 822.888 101.722 Q832.286 101.722 837.876 106.421 Q843.466 111.12 843.466 118.979 Q843.466 122.706 842.048 126.068 Q840.671 129.39 836.985 133.927 Q835.972 135.102 830.544 140.732 Q825.116 146.323 815.231 156.409 Z\" fill=\"#000000\" fill-rule=\"evenodd\" fill-opacity=\"1\" /><path clip-path=\"url(#clip930)\" d=\"M 0 0 M870.162 108.204 Q863.842 108.204 860.642 114.442 Q857.482 120.64 857.482 133.117 Q857.482 145.553 860.642 151.791 Q863.842 157.989 870.162 157.989 Q876.522 157.989 879.681 151.791 Q882.882 145.553 882.882 133.117 Q882.882 120.64 879.681 114.442 Q876.522 108.204 870.162 108.204 M870.162 101.722 Q880.329 101.722 885.677 109.784 Q891.064 117.804 891.064 133.117 Q891.064 148.389 885.677 156.45 Q880.329 164.471 870.162 164.471 Q859.994 164.471 854.606 156.45 Q849.259 148.389 849.259 133.117 Q849.259 117.804 854.606 109.784 Q859.994 101.722 870.162 101.722 Z\" fill=\"#000000\" fill-rule=\"evenodd\" fill-opacity=\"1\" /><path clip-path=\"url(#clip930)\" d=\"M 0 0 M901.354 156.409 L914.722 156.409 L914.722 110.27 L900.179 113.186 L900.179 105.733 L914.641 102.816 L922.823 102.816 L922.823 156.409 L936.191 156.409 L936.191 163.296 L901.354 163.296 L901.354 156.409 Z\" fill=\"#000000\" fill-rule=\"evenodd\" fill-opacity=\"1\" /><path clip-path=\"url(#clip930)\" d=\"M 0 0 M945.144 102.816 L977.268 102.816 L977.268 109.703 L952.638 109.703 L952.638 124.529 Q954.421 123.921 956.203 123.638 Q957.985 123.314 959.768 123.314 Q969.895 123.314 975.809 128.863 Q981.724 134.413 981.724 143.892 Q981.724 153.655 975.647 159.083 Q969.571 164.471 958.512 164.471 Q954.704 164.471 950.734 163.823 Q946.805 163.174 942.592 161.878 L942.592 153.655 Q946.238 155.64 950.127 156.612 Q954.015 157.584 958.35 157.584 Q965.358 157.584 969.449 153.898 Q973.541 150.212 973.541 143.892 Q973.541 137.573 969.449 133.886 Q965.358 130.2 958.35 130.2 Q955.069 130.2 951.787 130.929 Q948.547 131.658 945.144 133.198 L945.144 102.816 Z\" fill=\"#000000\" fill-rule=\"evenodd\" fill-opacity=\"1\" /><path clip-path=\"url(#clip930)\" d=\"M 0 0 M1024.02 177.069 L1024.02 182.862 L980.913 182.862 L980.913 177.069 L1024.02 177.069 Z\" fill=\"#000000\" fill-rule=\"evenodd\" fill-opacity=\"1\" /><path clip-path=\"url(#clip930)\" d=\"M 0 0 M1058.12 124.893 Q1056.87 124.164 1055.37 123.84 Q1053.91 123.476 1052.13 123.476 Q1045.81 123.476 1042.41 127.608 Q1039.04 131.699 1039.04 139.396 L1039.04 163.296 L1031.55 163.296 L1031.55 117.926 L1039.04 117.926 L1039.04 124.974 Q1041.39 120.843 1045.16 118.858 Q1048.93 116.832 1054.32 116.832 Q1055.09 116.832 1056.02 116.954 Q1056.95 117.035 1058.08 117.237 L1058.12 124.893 Z\" fill=\"#000000\" fill-rule=\"evenodd\" fill-opacity=\"1\" /><path clip-path=\"url(#clip930)\" d=\"M 0 0 M1102.2 135.912 L1102.2 163.296 L1094.74 163.296 L1094.74 136.155 Q1094.74 129.714 1092.23 126.514 Q1089.72 123.314 1084.7 123.314 Q1078.66 123.314 1075.18 127.162 Q1071.69 131.01 1071.69 137.654 L1071.69 163.296 L1064.2 163.296 L1064.2 117.926 L1071.69 117.926 L1071.69 124.974 Q1074.37 120.883 1077.97 118.858 Q1081.62 116.832 1086.36 116.832 Q1094.18 116.832 1098.19 121.693 Q1102.2 126.514 1102.2 135.912 Z\" fill=\"#000000\" fill-rule=\"evenodd\" fill-opacity=\"1\" /><path clip-path=\"url(#clip930)\" d=\"M 0 0 M1130.63 140.489 Q1121.6 140.489 1118.12 142.555 Q1114.63 144.621 1114.63 149.604 Q1114.63 153.574 1117.23 155.923 Q1119.86 158.232 1124.36 158.232 Q1130.55 158.232 1134.28 153.857 Q1138.05 149.442 1138.05 142.15 L1138.05 140.489 L1130.63 140.489 M1145.5 137.411 L1145.5 163.296 L1138.05 163.296 L1138.05 156.409 Q1135.5 160.541 1131.69 162.526 Q1127.88 164.471 1122.37 164.471 Q1115.4 164.471 1111.27 160.582 Q1107.18 156.653 1107.18 150.09 Q1107.18 142.434 1112.28 138.545 Q1117.43 134.656 1127.6 134.656 L1138.05 134.656 L1138.05 133.927 Q1138.05 128.782 1134.65 125.987 Q1131.28 123.152 1125.17 123.152 Q1121.28 123.152 1117.59 124.083 Q1113.9 125.015 1110.5 126.878 L1110.5 119.992 Q1114.59 118.412 1118.44 117.642 Q1122.29 116.832 1125.94 116.832 Q1135.78 116.832 1140.64 121.936 Q1145.5 127.04 1145.5 137.411 Z\" fill=\"#000000\" fill-rule=\"evenodd\" fill-opacity=\"1\" /><path clip-path=\"url(#clip930)\" d=\"M 0 0 M1187.79 177.069 L1187.79 182.862 L1144.69 182.862 L1144.69 177.069 L1187.79 177.069 Z\" fill=\"#000000\" fill-rule=\"evenodd\" fill-opacity=\"1\" /><path clip-path=\"url(#clip930)\" d=\"M 0 0 M1224.53 119.263 L1224.53 126.311 Q1221.38 124.691 1217.97 123.881 Q1214.57 123.071 1210.92 123.071 Q1205.37 123.071 1202.58 124.772 Q1199.82 126.473 1199.82 129.876 Q1199.82 132.469 1201.81 133.967 Q1203.79 135.426 1209.79 136.763 L1212.34 137.33 Q1220.28 139.031 1223.6 142.15 Q1226.97 145.229 1226.97 150.779 Q1226.97 157.098 1221.94 160.784 Q1216.96 164.471 1208.21 164.471 Q1204.56 164.471 1200.59 163.742 Q1196.66 163.053 1192.29 161.635 L1192.29 153.938 Q1196.42 156.085 1200.43 157.179 Q1204.44 158.232 1208.37 158.232 Q1213.64 158.232 1216.47 156.45 Q1219.31 154.627 1219.31 151.346 Q1219.31 148.308 1217.24 146.687 Q1215.22 145.067 1208.29 143.568 L1205.7 142.96 Q1198.77 141.502 1195.69 138.504 Q1192.61 135.466 1192.61 130.2 Q1192.61 123.8 1197.15 120.316 Q1201.69 116.832 1210.03 116.832 Q1214.16 116.832 1217.81 117.44 Q1221.46 118.047 1224.53 119.263 Z\" fill=\"#000000\" fill-rule=\"evenodd\" fill-opacity=\"1\" /><path clip-path=\"url(#clip930)\" d=\"M 0 0 M1273.59 138.748 L1273.59 142.393 L1239.32 142.393 Q1239.81 150.09 1243.94 154.141 Q1248.11 158.151 1255.52 158.151 Q1259.82 158.151 1263.83 157.098 Q1267.88 156.045 1271.85 153.938 L1271.85 160.987 Q1267.84 162.688 1263.63 163.58 Q1259.41 164.471 1255.08 164.471 Q1244.22 164.471 1237.86 158.151 Q1231.54 151.832 1231.54 141.057 Q1231.54 129.917 1237.54 123.395 Q1243.57 116.832 1253.78 116.832 Q1262.94 116.832 1268.24 122.746 Q1273.59 128.62 1273.59 138.748 M1266.14 136.56 Q1266.06 130.443 1262.69 126.797 Q1259.37 123.152 1253.86 123.152 Q1247.62 123.152 1243.86 126.676 Q1240.13 130.2 1239.56 136.601 L1266.14 136.56 Z\" fill=\"#000000\" fill-rule=\"evenodd\" fill-opacity=\"1\" /><path clip-path=\"url(#clip930)\" d=\"M 0 0 M1285.87 140.651 Q1285.87 148.875 1289.23 153.574 Q1292.63 158.232 1298.54 158.232 Q1304.46 158.232 1307.86 153.574 Q1311.26 148.875 1311.26 140.651 Q1311.26 132.428 1307.86 127.77 Q1304.46 123.071 1298.54 123.071 Q1292.63 123.071 1289.23 127.77 Q1285.87 132.428 1285.87 140.651 M1311.26 156.49 Q1308.92 160.541 1305.31 162.526 Q1301.75 164.471 1296.72 164.471 Q1288.5 164.471 1283.31 157.908 Q1278.17 151.346 1278.17 140.651 Q1278.17 129.957 1283.31 123.395 Q1288.5 116.832 1296.72 116.832 Q1301.75 116.832 1305.31 118.817 Q1308.92 120.762 1311.26 124.812 L1311.26 117.926 L1318.72 117.926 L1318.72 180.553 L1311.26 180.553 L1311.26 156.49 Z\" fill=\"#000000\" fill-rule=\"evenodd\" fill-opacity=\"1\" /><path clip-path=\"url(#clip930)\" d=\"M 0 0 M1361.01 177.069 L1361.01 182.862 L1317.91 182.862 L1317.91 177.069 L1361.01 177.069 Z\" fill=\"#000000\" fill-rule=\"evenodd\" fill-opacity=\"1\" /><path clip-path=\"url(#clip930)\" d=\"M 0 0 M1363.48 117.926 L1371.38 117.926 L1385.56 156.004 L1399.74 117.926 L1407.64 117.926 L1390.62 163.296 L1380.49 163.296 L1363.48 117.926 Z\" fill=\"#000000\" fill-rule=\"evenodd\" fill-opacity=\"1\" /><path clip-path=\"url(#clip930)\" d=\"M 0 0 M1423.56 156.409 L1452.11 156.409 L1452.11 163.296 L1413.71 163.296 L1413.71 156.409 Q1418.37 151.589 1426.39 143.487 Q1434.45 135.345 1436.52 132.995 Q1440.45 128.58 1441.99 125.542 Q1443.57 122.463 1443.57 119.506 Q1443.57 114.685 1440.16 111.647 Q1436.8 108.609 1431.37 108.609 Q1427.53 108.609 1423.23 109.946 Q1418.98 111.282 1414.12 113.996 L1414.12 105.733 Q1419.06 103.748 1423.35 102.735 Q1427.65 101.722 1431.21 101.722 Q1440.61 101.722 1446.2 106.421 Q1451.79 111.12 1451.79 118.979 Q1451.79 122.706 1450.37 126.068 Q1449 129.39 1445.31 133.927 Q1444.3 135.102 1438.87 140.732 Q1433.44 146.323 1423.56 156.409 Z\" fill=\"#000000\" fill-rule=\"evenodd\" fill-opacity=\"1\" /><path clip-path=\"url(#clip930)\" d=\"M 0 0 M1494.41 177.069 L1494.41 182.862 L1451.3 182.862 L1451.3 177.069 L1494.41 177.069 Z\" fill=\"#000000\" fill-rule=\"evenodd\" fill-opacity=\"1\" /><path clip-path=\"url(#clip930)\" d=\"M 0 0 M1537.55 126.635 Q1540.34 121.612 1544.23 119.222 Q1548.12 116.832 1553.39 116.832 Q1560.48 116.832 1564.32 121.815 Q1568.17 126.757 1568.17 135.912 L1568.17 163.296 L1560.68 163.296 L1560.68 136.155 Q1560.68 129.633 1558.37 126.473 Q1556.06 123.314 1551.32 123.314 Q1545.53 123.314 1542.17 127.162 Q1538.8 131.01 1538.8 137.654 L1538.8 163.296 L1531.31 163.296 L1531.31 136.155 Q1531.31 129.592 1529 126.473 Q1526.69 123.314 1521.87 123.314 Q1516.16 123.314 1512.8 127.202 Q1509.43 131.051 1509.43 137.654 L1509.43 163.296 L1501.94 163.296 L1501.94 117.926 L1509.43 117.926 L1509.43 124.974 Q1511.99 120.802 1515.55 118.817 Q1519.12 116.832 1524.02 116.832 Q1528.96 116.832 1532.4 119.344 Q1535.89 121.855 1537.55 126.635 Z\" fill=\"#000000\" fill-rule=\"evenodd\" fill-opacity=\"1\" /><path clip-path=\"url(#clip930)\" d=\"M 0 0 M1602.28 124.893 Q1601.03 124.164 1599.53 123.84 Q1598.07 123.476 1596.29 123.476 Q1589.97 123.476 1586.56 127.608 Q1583.2 131.699 1583.2 139.396 L1583.2 163.296 L1575.71 163.296 L1575.71 117.926 L1583.2 117.926 L1583.2 124.974 Q1585.55 120.843 1589.32 118.858 Q1593.09 116.832 1598.47 116.832 Q1599.24 116.832 1600.18 116.954 Q1601.11 117.035 1602.24 117.237 L1602.28 124.893 Z\" fill=\"#000000\" fill-rule=\"evenodd\" fill-opacity=\"1\" /><path clip-path=\"url(#clip930)\" d=\"M 0 0 M1646.36 135.912 L1646.36 163.296 L1638.9 163.296 L1638.9 136.155 Q1638.9 129.714 1636.39 126.514 Q1633.88 123.314 1628.86 123.314 Q1622.82 123.314 1619.34 127.162 Q1615.85 131.01 1615.85 137.654 L1615.85 163.296 L1608.36 163.296 L1608.36 117.926 L1615.85 117.926 L1615.85 124.974 Q1618.53 120.883 1622.13 118.858 Q1625.78 116.832 1630.52 116.832 Q1638.33 116.832 1642.35 121.693 Q1646.36 126.514 1646.36 135.912 Z\" fill=\"#000000\" fill-rule=\"evenodd\" fill-opacity=\"1\" /><path clip-path=\"url(#clip930)\" d=\"M 0 0 M1674.79 140.489 Q1665.76 140.489 1662.28 142.555 Q1658.79 144.621 1658.79 149.604 Q1658.79 153.574 1661.38 155.923 Q1664.02 158.232 1668.51 158.232 Q1674.71 158.232 1678.44 153.857 Q1682.21 149.442 1682.21 142.15 L1682.21 140.489 L1674.79 140.489 M1689.66 137.411 L1689.66 163.296 L1682.21 163.296 L1682.21 156.409 Q1679.65 160.541 1675.85 162.526 Q1672.04 164.471 1666.53 164.471 Q1659.56 164.471 1655.43 160.582 Q1651.34 156.653 1651.34 150.09 Q1651.34 142.434 1656.44 138.545 Q1661.59 134.656 1671.75 134.656 L1682.21 134.656 L1682.21 133.927 Q1682.21 128.782 1678.8 125.987 Q1675.44 123.152 1669.32 123.152 Q1665.44 123.152 1661.75 124.083 Q1658.06 125.015 1654.66 126.878 L1654.66 119.992 Q1658.75 118.412 1662.6 117.642 Q1666.45 116.832 1670.09 116.832 Q1679.94 116.832 1684.8 121.936 Q1689.66 127.04 1689.66 137.411 Z\" fill=\"#000000\" fill-rule=\"evenodd\" fill-opacity=\"1\" /><path clip-path=\"url(#clip930)\" d=\"M 0 0 M1731.95 177.069 L1731.95 182.862 L1688.85 182.862 L1688.85 177.069 L1731.95 177.069 Z\" fill=\"#000000\" fill-rule=\"evenodd\" fill-opacity=\"1\" /><path clip-path=\"url(#clip930)\" d=\"M 0 0 M1775.09 126.635 Q1777.89 121.612 1781.78 119.222 Q1785.67 116.832 1790.93 116.832 Q1798.02 116.832 1801.87 121.815 Q1805.72 126.757 1805.72 135.912 L1805.72 163.296 L1798.22 163.296 L1798.22 136.155 Q1798.22 129.633 1795.91 126.473 Q1793.61 123.314 1788.87 123.314 Q1783.07 123.314 1779.71 127.162 Q1776.35 131.01 1776.35 137.654 L1776.35 163.296 L1768.85 163.296 L1768.85 136.155 Q1768.85 129.592 1766.55 126.473 Q1764.24 123.314 1759.42 123.314 Q1753.7 123.314 1750.34 127.202 Q1746.98 131.051 1746.98 137.654 L1746.98 163.296 L1739.49 163.296 L1739.49 117.926 L1746.98 117.926 L1746.98 124.974 Q1749.53 120.802 1753.1 118.817 Q1756.66 116.832 1761.56 116.832 Q1766.51 116.832 1769.95 119.344 Q1773.43 121.855 1775.09 126.635 Z\" fill=\"#000000\" fill-rule=\"evenodd\" fill-opacity=\"1\" /><path clip-path=\"url(#clip930)\" d=\"M 0 0 M1852.34 138.748 L1852.34 142.393 L1818.07 142.393 Q1818.56 150.09 1822.69 154.141 Q1826.86 158.151 1834.28 158.151 Q1838.57 158.151 1842.58 157.098 Q1846.63 156.045 1850.6 153.938 L1850.6 160.987 Q1846.59 162.688 1842.38 163.58 Q1838.17 164.471 1833.83 164.471 Q1822.97 164.471 1816.61 158.151 Q1810.3 151.832 1810.3 141.057 Q1810.3 129.917 1816.29 123.395 Q1822.33 116.832 1832.54 116.832 Q1841.69 116.832 1847 122.746 Q1852.34 128.62 1852.34 138.748 M1844.89 136.56 Q1844.81 130.443 1841.45 126.797 Q1838.13 123.152 1832.62 123.152 Q1826.38 123.152 1822.61 126.676 Q1818.88 130.2 1818.32 136.601 L1844.89 136.56 Z\" fill=\"#000000\" fill-rule=\"evenodd\" fill-opacity=\"1\" /><path clip-path=\"url(#clip930)\" d=\"M 0 0 M1890.02 124.812 L1890.02 100.264 L1897.47 100.264 L1897.47 163.296 L1890.02 163.296 L1890.02 156.49 Q1887.67 160.541 1884.06 162.526 Q1880.5 164.471 1875.47 164.471 Q1867.25 164.471 1862.07 157.908 Q1856.92 151.346 1856.92 140.651 Q1856.92 129.957 1862.07 123.395 Q1867.25 116.832 1875.47 116.832 Q1880.5 116.832 1884.06 118.817 Q1887.67 120.762 1890.02 124.812 M1864.62 140.651 Q1864.62 148.875 1867.98 153.574 Q1871.38 158.232 1877.3 158.232 Q1883.21 158.232 1886.61 153.574 Q1890.02 148.875 1890.02 140.651 Q1890.02 132.428 1886.61 127.77 Q1883.21 123.071 1877.3 123.071 Q1871.38 123.071 1867.98 127.77 Q1864.62 132.428 1864.62 140.651 Z\" fill=\"#000000\" fill-rule=\"evenodd\" fill-opacity=\"1\" /><path clip-path=\"url(#clip930)\" d=\"M 0 0 M1905.29 117.926 L1912.74 117.926 L1912.74 163.296 L1905.29 163.296 L1905.29 117.926 M1905.29 100.264 L1912.74 100.264 L1912.74 109.703 L1905.29 109.703 L1905.29 100.264 Z\" fill=\"#000000\" fill-rule=\"evenodd\" fill-opacity=\"1\" /><path clip-path=\"url(#clip930)\" d=\"M 0 0 M1941.18 140.489 Q1932.15 140.489 1928.66 142.555 Q1925.18 144.621 1925.18 149.604 Q1925.18 153.574 1927.77 155.923 Q1930.4 158.232 1934.9 158.232 Q1941.1 158.232 1944.83 153.857 Q1948.59 149.442 1948.59 142.15 L1948.59 140.489 L1941.18 140.489 M1956.05 137.411 L1956.05 163.296 L1948.59 163.296 L1948.59 156.409 Q1946.04 160.541 1942.23 162.526 Q1938.43 164.471 1932.92 164.471 Q1925.95 164.471 1921.82 160.582 Q1917.73 156.653 1917.73 150.09 Q1917.73 142.434 1922.83 138.545 Q1927.97 134.656 1938.14 134.656 L1948.59 134.656 L1948.59 133.927 Q1948.59 128.782 1945.19 125.987 Q1941.83 123.152 1935.71 123.152 Q1931.82 123.152 1928.14 124.083 Q1924.45 125.015 1921.05 126.878 L1921.05 119.992 Q1925.14 118.412 1928.99 117.642 Q1932.84 116.832 1936.48 116.832 Q1946.32 116.832 1951.19 121.936 Q1956.05 127.04 1956.05 137.411 Z\" fill=\"#000000\" fill-rule=\"evenodd\" fill-opacity=\"1\" /><path clip-path=\"url(#clip930)\" d=\"M 0 0 M2001.58 135.912 L2001.58 163.296 L1994.13 163.296 L1994.13 136.155 Q1994.13 129.714 1991.61 126.514 Q1989.1 123.314 1984.08 123.314 Q1978.04 123.314 1974.56 127.162 Q1971.08 131.01 1971.08 137.654 L1971.08 163.296 L1963.58 163.296 L1963.58 117.926 L1971.08 117.926 L1971.08 124.974 Q1973.75 120.883 1977.35 118.858 Q1981 116.832 1985.74 116.832 Q1993.56 116.832 1997.57 121.693 Q2001.58 126.514 2001.58 135.912 Z\" fill=\"#000000\" fill-rule=\"evenodd\" fill-opacity=\"1\" /><path clip-path=\"url(#clip930)\" d=\"M 0 0 M2043.87 177.069 L2043.87 182.862 L2000.77 182.862 L2000.77 177.069 L2043.87 177.069 Z\" fill=\"#000000\" fill-rule=\"evenodd\" fill-opacity=\"1\" /><path clip-path=\"url(#clip930)\" d=\"M 0 0 M2048.53 102.816 L2096.05 102.816 L2096.05 109.054 L2057.81 156.409 L2096.98 156.409 L2096.98 163.296 L2047.6 163.296 L2047.6 157.058 L2085.84 109.703 L2048.53 109.703 L2048.53 102.816 Z\" fill=\"#000000\" fill-rule=\"evenodd\" fill-opacity=\"1\" /><path clip-path=\"url(#clip930)\" d=\"M 0 0 M2133.72 119.263 L2133.72 126.311 Q2130.56 124.691 2127.16 123.881 Q2123.75 123.071 2120.11 123.071 Q2114.56 123.071 2111.76 124.772 Q2109.01 126.473 2109.01 129.876 Q2109.01 132.469 2110.99 133.967 Q2112.98 135.426 2118.97 136.763 L2121.53 137.33 Q2129.47 139.031 2132.79 142.15 Q2136.15 145.229 2136.15 150.779 Q2136.15 157.098 2131.13 160.784 Q2126.14 164.471 2117.39 164.471 Q2113.75 164.471 2109.78 163.742 Q2105.85 163.053 2101.47 161.635 L2101.47 153.938 Q2105.61 156.085 2109.62 157.179 Q2113.63 158.232 2117.56 158.232 Q2122.82 158.232 2125.66 156.45 Q2128.49 154.627 2128.49 151.346 Q2128.49 148.308 2126.43 146.687 Q2124.4 145.067 2117.48 143.568 L2114.88 142.96 Q2107.96 141.502 2104.88 138.504 Q2101.8 135.466 2101.8 130.2 Q2101.8 123.8 2106.34 120.316 Q2110.87 116.832 2119.22 116.832 Q2123.35 116.832 2127 117.44 Q2130.64 118.047 2133.72 119.263 Z\" fill=\"#000000\" fill-rule=\"evenodd\" fill-opacity=\"1\" /><path clip-path=\"url(#clip930)\" d=\"M 0 0 M2176.62 119.668 L2176.62 126.635 Q2173.46 124.893 2170.26 124.043 Q2167.1 123.152 2163.86 123.152 Q2156.61 123.152 2152.6 127.77 Q2148.59 132.347 2148.59 140.651 Q2148.59 148.956 2152.6 153.574 Q2156.61 158.151 2163.86 158.151 Q2167.1 158.151 2170.26 157.301 Q2173.46 156.409 2176.62 154.668 L2176.62 161.554 Q2173.5 163.012 2170.14 163.742 Q2166.82 164.471 2163.05 164.471 Q2152.8 164.471 2146.76 158.03 Q2140.73 151.589 2140.73 140.651 Q2140.73 129.552 2146.8 123.192 Q2152.92 116.832 2163.53 116.832 Q2166.98 116.832 2170.26 117.561 Q2173.54 118.25 2176.62 119.668 Z\" fill=\"#000000\" fill-rule=\"evenodd\" fill-opacity=\"1\" /><path clip-path=\"url(#clip930)\" d=\"M 0 0 M2202.02 123.152 Q2196.02 123.152 2192.54 127.851 Q2189.06 132.509 2189.06 140.651 Q2189.06 148.794 2192.5 153.493 Q2195.98 158.151 2202.02 158.151 Q2207.97 158.151 2211.46 153.452 Q2214.94 148.753 2214.94 140.651 Q2214.94 132.59 2211.46 127.891 Q2207.97 123.152 2202.02 123.152 M2202.02 116.832 Q2211.74 116.832 2217.29 123.152 Q2222.84 129.471 2222.84 140.651 Q2222.84 151.791 2217.29 158.151 Q2211.74 164.471 2202.02 164.471 Q2192.26 164.471 2186.71 158.151 Q2181.2 151.791 2181.2 140.651 Q2181.2 129.471 2186.71 123.152 Q2192.26 116.832 2202.02 116.832 Z\" fill=\"#000000\" fill-rule=\"evenodd\" fill-opacity=\"1\" /><path clip-path=\"url(#clip930)\" d=\"M 0 0 M2256.95 124.893 Q2255.69 124.164 2254.19 123.84 Q2252.74 123.476 2250.95 123.476 Q2244.63 123.476 2241.23 127.608 Q2237.87 131.699 2237.87 139.396 L2237.87 163.296 L2230.37 163.296 L2230.37 117.926 L2237.87 117.926 L2237.87 124.974 Q2240.22 120.843 2243.99 118.858 Q2247.75 116.832 2253.14 116.832 Q2253.91 116.832 2254.84 116.954 Q2255.77 117.035 2256.91 117.237 L2256.95 124.893 Z\" fill=\"#000000\" fill-rule=\"evenodd\" fill-opacity=\"1\" /><path clip-path=\"url(#clip930)\" d=\"M 0 0 M2301.75 138.748 L2301.75 142.393 L2267.48 142.393 Q2267.97 150.09 2272.1 154.141 Q2276.27 158.151 2283.68 158.151 Q2287.98 158.151 2291.99 157.098 Q2296.04 156.045 2300.01 153.938 L2300.01 160.987 Q2296 162.688 2291.79 163.58 Q2287.57 164.471 2283.24 164.471 Q2272.38 164.471 2266.02 158.151 Q2259.7 151.832 2259.7 141.057 Q2259.7 129.917 2265.7 123.395 Q2271.73 116.832 2281.94 116.832 Q2291.1 116.832 2296.4 122.746 Q2301.75 128.62 2301.75 138.748 M2294.3 136.56 Q2294.22 130.443 2290.85 126.797 Q2287.53 123.152 2282.02 123.152 Q2275.78 123.152 2272.02 126.676 Q2268.29 130.2 2267.72 136.601 L2294.3 136.56 Z\" fill=\"#000000\" fill-rule=\"evenodd\" fill-opacity=\"1\" /><path clip-path=\"url(#clip930)\" d=\"M 0 0 M2338.49 119.263 L2338.49 126.311 Q2335.33 124.691 2331.93 123.881 Q2328.53 123.071 2324.88 123.071 Q2319.33 123.071 2316.54 124.772 Q2313.78 126.473 2313.78 129.876 Q2313.78 132.469 2315.77 133.967 Q2317.75 135.426 2323.75 136.763 L2326.3 137.33 Q2334.24 139.031 2337.56 142.15 Q2340.92 145.229 2340.92 150.779 Q2340.92 157.098 2335.9 160.784 Q2330.92 164.471 2322.17 164.471 Q2318.52 164.471 2314.55 163.742 Q2310.62 163.053 2306.25 161.635 L2306.25 153.938 Q2310.38 156.085 2314.39 157.179 Q2318.4 158.232 2322.33 158.232 Q2327.6 158.232 2330.43 156.45 Q2333.27 154.627 2333.27 151.346 Q2333.27 148.308 2331.2 146.687 Q2329.18 145.067 2322.25 143.568 L2319.66 142.96 Q2312.73 141.502 2309.65 138.504 Q2306.57 135.466 2306.57 130.2 Q2306.57 123.8 2311.11 120.316 Q2315.65 116.832 2323.99 116.832 Q2328.12 116.832 2331.77 117.44 Q2335.41 118.047 2338.49 119.263 Z\" fill=\"#000000\" fill-rule=\"evenodd\" fill-opacity=\"1\" /><path clip-path=\"url(#clip930)\" d=\"M 0 0 M1098.46 1508.52 L1138.66 1508.52 L1138.66 1513.93 L1121.8 1513.93 L1121.8 1556.04 L1115.33 1556.04 L1115.33 1513.93 L1098.46 1513.93 L1098.46 1508.52 Z\" fill=\"#000000\" fill-rule=\"evenodd\" fill-opacity=\"1\" /><path clip-path=\"url(#clip930)\" d=\"M 0 0 M1142.8 1520.4 L1148.66 1520.4 L1148.66 1556.04 L1142.8 1556.04 L1142.8 1520.4 M1142.8 1506.52 L1148.66 1506.52 L1148.66 1513.93 L1142.8 1513.93 L1142.8 1506.52 Z\" fill=\"#000000\" fill-rule=\"evenodd\" fill-opacity=\"1\" /><path clip-path=\"url(#clip930)\" d=\"M 0 0 M1182.56 1527.24 Q1184.75 1523.29 1187.81 1521.41 Q1190.86 1519.54 1195 1519.54 Q1200.57 1519.54 1203.59 1523.45 Q1206.62 1527.33 1206.62 1534.53 L1206.62 1556.04 L1200.73 1556.04 L1200.73 1534.72 Q1200.73 1529.59 1198.92 1527.11 Q1197.1 1524.63 1193.38 1524.63 Q1188.83 1524.63 1186.18 1527.65 Q1183.54 1530.68 1183.54 1535.9 L1183.54 1556.04 L1177.65 1556.04 L1177.65 1534.72 Q1177.65 1529.56 1175.84 1527.11 Q1174.03 1524.63 1170.24 1524.63 Q1165.75 1524.63 1163.11 1527.68 Q1160.47 1530.71 1160.47 1535.9 L1160.47 1556.04 L1154.58 1556.04 L1154.58 1520.4 L1160.47 1520.4 L1160.47 1525.93 Q1162.47 1522.66 1165.27 1521.1 Q1168.07 1519.54 1171.93 1519.54 Q1175.81 1519.54 1178.51 1521.51 Q1181.25 1523.48 1182.56 1527.24 Z\" fill=\"#000000\" fill-rule=\"evenodd\" fill-opacity=\"1\" /><path clip-path=\"url(#clip930)\" d=\"M 0 0 M1243.25 1536.76 L1243.25 1539.62 L1216.33 1539.62 Q1216.71 1545.67 1219.95 1548.85 Q1223.23 1552 1229.06 1552 Q1232.43 1552 1235.58 1551.17 Q1238.77 1550.35 1241.88 1548.69 L1241.88 1554.23 Q1238.73 1555.57 1235.42 1556.27 Q1232.11 1556.97 1228.71 1556.97 Q1220.18 1556.97 1215.18 1552 Q1210.21 1547.04 1210.21 1538.57 Q1210.21 1529.82 1214.93 1524.69 Q1219.67 1519.54 1227.69 1519.54 Q1234.88 1519.54 1239.05 1524.18 Q1243.25 1528.8 1243.25 1536.76 M1237.4 1535.04 Q1237.33 1530.23 1234.69 1527.37 Q1232.08 1524.5 1227.75 1524.5 Q1222.85 1524.5 1219.89 1527.27 Q1216.96 1530.04 1216.52 1535.07 L1237.4 1535.04 Z\" fill=\"#000000\" fill-rule=\"evenodd\" fill-opacity=\"1\" /><path clip-path=\"url(#clip930)\" d=\"M 0 0 M1284.18 1506.58 Q1279.92 1513.9 1277.85 1521.06 Q1275.78 1528.23 1275.78 1535.58 Q1275.78 1542.93 1277.85 1550.16 Q1279.95 1557.35 1284.18 1564.64 L1279.09 1564.64 Q1274.32 1557.16 1271.93 1549.93 Q1269.58 1542.71 1269.58 1535.58 Q1269.58 1528.48 1271.93 1521.29 Q1274.29 1514.09 1279.09 1506.58 L1284.18 1506.58 Z\" fill=\"#000000\" fill-rule=\"evenodd\" fill-opacity=\"1\" /><path clip-path=\"url(#clip930)\" d=\"M 0 0 M1297.01 1513.81 L1297.01 1550.76 L1304.78 1550.76 Q1314.61 1550.76 1319.16 1546.3 Q1323.75 1541.85 1323.75 1532.24 Q1323.75 1522.69 1319.16 1518.26 Q1314.61 1513.81 1304.78 1513.81 L1297.01 1513.81 M1290.58 1508.52 L1303.79 1508.52 Q1317.6 1508.52 1324.07 1514.28 Q1330.53 1520.01 1330.53 1532.24 Q1330.53 1544.52 1324.03 1550.28 Q1317.54 1556.04 1303.79 1556.04 L1290.58 1556.04 L1290.58 1508.52 Z\" fill=\"#000000\" fill-rule=\"evenodd\" fill-opacity=\"1\" /><path clip-path=\"url(#clip930)\" d=\"M 0 0 M1351.66 1514.86 L1342.94 1538.51 L1360.41 1538.51 L1351.66 1514.86 M1348.03 1508.52 L1355.32 1508.52 L1373.43 1556.04 L1366.75 1556.04 L1362.42 1543.85 L1341 1543.85 L1336.67 1556.04 L1329.89 1556.04 L1348.03 1508.52 Z\" fill=\"#000000\" fill-rule=\"evenodd\" fill-opacity=\"1\" /><path clip-path=\"url(#clip930)\" d=\"M 0 0 M1368.24 1508.52 L1375.15 1508.52 L1388.33 1528.07 L1401.41 1508.52 L1408.32 1508.52 L1391.51 1533.41 L1391.51 1556.04 L1385.05 1556.04 L1385.05 1533.41 L1368.24 1508.52 Z\" fill=\"#000000\" fill-rule=\"evenodd\" fill-opacity=\"1\" /><path clip-path=\"url(#clip930)\" d=\"M 0 0 M1443.2 1510.08 L1443.2 1516.35 Q1439.54 1514.6 1436.29 1513.74 Q1433.05 1512.88 1430.02 1512.88 Q1424.77 1512.88 1421.91 1514.92 Q1419.07 1516.96 1419.07 1520.71 Q1419.07 1523.87 1420.95 1525.49 Q1422.86 1527.08 1428.14 1528.07 L1432.03 1528.86 Q1439.22 1530.23 1442.63 1533.7 Q1446.06 1537.14 1446.06 1542.93 Q1446.06 1549.84 1441.42 1553.4 Q1436.8 1556.97 1427.86 1556.97 Q1424.48 1556.97 1420.67 1556.2 Q1416.88 1555.44 1412.8 1553.94 L1412.8 1547.32 Q1416.72 1549.52 1420.47 1550.63 Q1424.23 1551.75 1427.86 1551.75 Q1433.36 1551.75 1436.36 1549.58 Q1439.35 1547.42 1439.35 1543.41 Q1439.35 1539.91 1437.18 1537.93 Q1435.05 1535.96 1430.15 1534.97 L1426.24 1534.21 Q1419.04 1532.78 1415.83 1529.72 Q1412.61 1526.67 1412.61 1521.22 Q1412.61 1514.92 1417.04 1511.29 Q1421.49 1507.66 1429.29 1507.66 Q1432.63 1507.66 1436.1 1508.27 Q1439.57 1508.87 1443.2 1510.08 Z\" fill=\"#000000\" fill-rule=\"evenodd\" fill-opacity=\"1\" /><path clip-path=\"url(#clip930)\" d=\"M 0 0 M1451.28 1506.58 L1456.38 1506.58 Q1461.15 1514.09 1463.51 1521.29 Q1465.89 1528.48 1465.89 1535.58 Q1465.89 1542.71 1463.51 1549.93 Q1461.15 1557.16 1456.38 1564.64 L1451.28 1564.64 Q1455.52 1557.35 1457.59 1550.16 Q1459.69 1542.93 1459.69 1535.58 Q1459.69 1528.23 1457.59 1521.06 Q1455.52 1513.9 1451.28 1506.58 Z\" fill=\"#000000\" fill-rule=\"evenodd\" fill-opacity=\"1\" /><path clip-path=\"url(#clip930)\" d=\"M 0 0 M42.0438 1145.67 L48.314 1145.67 Q46.5634 1149.34 45.704 1152.58 Q44.8447 1155.83 44.8447 1158.85 Q44.8447 1164.1 46.8817 1166.97 Q48.9187 1169.8 52.6745 1169.8 Q55.8255 1169.8 57.4488 1167.92 Q59.0402 1166.01 60.0269 1160.73 L60.8226 1156.85 Q62.1912 1149.65 65.6605 1146.25 Q69.098 1142.81 74.8908 1142.81 Q81.7976 1142.81 85.3624 1147.46 Q88.9272 1152.07 88.9272 1161.02 Q88.9272 1164.39 88.1633 1168.21 Q87.3994 1172 85.9035 1176.07 L79.2831 1176.07 Q81.4793 1172.16 82.5933 1168.4 Q83.7073 1164.64 83.7073 1161.02 Q83.7073 1155.51 81.543 1152.52 Q79.3786 1149.53 75.3682 1149.53 Q71.8671 1149.53 69.8937 1151.69 Q67.9204 1153.82 66.9337 1158.72 L66.1698 1162.64 Q64.7375 1169.83 61.682 1173.05 Q58.6264 1176.26 53.1837 1176.26 Q46.8817 1176.26 43.2532 1171.84 Q39.6248 1167.38 39.6248 1159.58 Q39.6248 1156.24 40.2295 1152.77 Q40.8343 1149.3 42.0438 1145.67 Z\" fill=\"#000000\" fill-rule=\"evenodd\" fill-opacity=\"1\" /><path clip-path=\"url(#clip930)\" d=\"M 0 0 M73.9359 1137.27 L52.3562 1137.27 L52.3562 1131.42 L73.7131 1131.42 Q78.7739 1131.42 81.3202 1129.44 Q83.8346 1127.47 83.8346 1123.52 Q83.8346 1118.78 80.8109 1116.04 Q77.7872 1113.27 72.5673 1113.27 L52.3562 1113.27 L52.3562 1107.42 L88.0042 1107.42 L88.0042 1113.27 L82.5296 1113.27 Q85.7762 1115.41 87.3676 1118.24 Q88.9272 1121.04 88.9272 1124.76 Q88.9272 1130.91 85.1078 1134.09 Q81.2883 1137.27 73.9359 1137.27 M51.4968 1122.54 L51.4968 1122.54 Z\" fill=\"#000000\" fill-rule=\"evenodd\" fill-opacity=\"1\" /><path clip-path=\"url(#clip930)\" d=\"M 0 0 M57.8307 1080.62 Q57.2578 1081.6 57.0032 1082.78 Q56.7167 1083.93 56.7167 1085.33 Q56.7167 1090.29 59.9632 1092.97 Q63.1779 1095.61 69.2253 1095.61 L88.0042 1095.61 L88.0042 1101.5 L52.3562 1101.5 L52.3562 1095.61 L57.8944 1095.61 Q54.6479 1093.76 53.0883 1090.8 Q51.4968 1087.84 51.4968 1083.61 Q51.4968 1083 51.5923 1082.27 Q51.656 1081.54 51.8151 1080.65 L57.8307 1080.62 Z\" fill=\"#000000\" fill-rule=\"evenodd\" fill-opacity=\"1\" /><path clip-path=\"url(#clip930)\" d=\"M 0 0 M52.3562 1078.68 L52.3562 1072.47 L82.275 1061.33 L52.3562 1050.19 L52.3562 1043.98 L88.0042 1057.35 L88.0042 1065.31 L52.3562 1078.68 Z\" fill=\"#000000\" fill-rule=\"evenodd\" fill-opacity=\"1\" /><path clip-path=\"url(#clip930)\" d=\"M 0 0 M52.3562 1037.84 L52.3562 1031.98 L88.0042 1031.98 L88.0042 1037.84 L52.3562 1037.84 M38.479 1037.84 L38.479 1031.98 L45.895 1031.98 L45.895 1037.84 L38.479 1037.84 Z\" fill=\"#000000\" fill-rule=\"evenodd\" fill-opacity=\"1\" /><path clip-path=\"url(#clip930)\" d=\"M 0 0 M52.3562 1030.04 L52.3562 1023.84 L82.275 1012.7 L52.3562 1001.56 L52.3562 995.349 L88.0042 1008.72 L88.0042 1016.67 L52.3562 1030.04 Z\" fill=\"#000000\" fill-rule=\"evenodd\" fill-opacity=\"1\" /><path clip-path=\"url(#clip930)\" d=\"M 0 0 M70.0847 973.005 Q70.0847 980.103 71.7079 982.84 Q73.3312 985.577 77.2461 985.577 Q80.3653 985.577 82.2114 983.54 Q84.0256 981.472 84.0256 977.939 Q84.0256 973.069 80.5881 970.141 Q77.1188 967.181 71.3897 967.181 L70.0847 967.181 L70.0847 973.005 M67.6657 961.324 L88.0042 961.324 L88.0042 967.181 L82.5933 967.181 Q85.8398 969.186 87.3994 972.178 Q88.9272 975.17 88.9272 979.498 Q88.9272 984.973 85.8716 988.219 Q82.7843 991.434 77.6281 991.434 Q71.6125 991.434 68.5569 987.424 Q65.5014 983.381 65.5014 975.392 L65.5014 967.181 L64.9285 967.181 Q60.8862 967.181 58.6901 969.854 Q56.4621 972.496 56.4621 977.302 Q56.4621 980.358 57.1941 983.254 Q57.9262 986.15 59.3903 988.824 L53.9795 988.824 Q52.7381 985.609 52.1334 982.586 Q51.4968 979.562 51.4968 976.697 Q51.4968 968.963 55.5072 965.144 Q59.5176 961.324 67.6657 961.324 Z\" fill=\"#000000\" fill-rule=\"evenodd\" fill-opacity=\"1\" /><path clip-path=\"url(#clip930)\" d=\"M 0 0 M38.479 955.181 L38.479 949.325 L88.0042 949.325 L88.0042 955.181 L38.479 955.181 Z\" fill=\"#000000\" fill-rule=\"evenodd\" fill-opacity=\"1\" /><path clip-path=\"url(#clip930)\" d=\"M 0 0 M38.5426 908.393 Q45.8632 912.658 53.0246 914.727 Q60.186 916.796 67.5384 916.796 Q74.8908 916.796 82.1159 914.727 Q89.3091 912.626 96.5979 908.393 L96.5979 913.486 Q89.1182 918.26 81.8931 920.647 Q74.668 923.003 67.5384 923.003 Q60.4406 923.003 53.2474 920.647 Q46.0542 918.292 38.5426 913.486 L38.5426 908.393 Z\" fill=\"#000000\" fill-rule=\"evenodd\" fill-opacity=\"1\" /><path clip-path=\"url(#clip930)\" d=\"M 0 0 M44.8447 882.708 Q44.8447 889.71 50.0645 893.848 Q55.2844 897.953 64.2919 897.953 Q73.2675 897.953 78.4874 893.848 Q83.7073 889.71 83.7073 882.708 Q83.7073 875.705 78.4874 871.631 Q73.2675 867.525 64.2919 867.525 Q55.2844 867.525 50.0645 871.631 Q44.8447 875.705 44.8447 882.708 M39.6248 882.708 Q39.6248 872.713 46.3406 866.73 Q53.0246 860.746 64.2919 860.746 Q75.5274 860.746 82.2432 866.73 Q88.9272 872.713 88.9272 882.708 Q88.9272 892.734 82.2432 898.749 Q75.5592 904.733 64.2919 904.733 Q53.0246 904.733 46.3406 898.749 Q39.6248 892.734 39.6248 882.708 Z\" fill=\"#000000\" fill-rule=\"evenodd\" fill-opacity=\"1\" /><path clip-path=\"url(#clip930)\" d=\"M 0 0 M52.3562 858.804 L52.3562 852.598 L82.275 841.458 L52.3562 830.318 L52.3562 824.111 L88.0042 837.479 L88.0042 845.436 L52.3562 858.804 Z\" fill=\"#000000\" fill-rule=\"evenodd\" fill-opacity=\"1\" /><path clip-path=\"url(#clip930)\" d=\"M 0 0 M68.7161 787.477 L71.5806 787.477 L71.5806 814.404 Q77.6281 814.022 80.8109 810.775 Q83.9619 807.497 83.9619 801.672 Q83.9619 798.298 83.1344 795.147 Q82.3069 791.964 80.6518 788.845 L86.1899 788.845 Q87.5267 791.996 88.227 795.306 Q88.9272 798.617 88.9272 802.022 Q88.9272 810.552 83.9619 815.549 Q78.9967 820.515 70.5303 820.515 Q61.7774 820.515 56.6531 815.804 Q51.4968 811.062 51.4968 803.041 Q51.4968 795.848 56.1438 791.678 Q60.7589 787.477 68.7161 787.477 M66.9973 793.333 Q62.1912 793.397 59.3266 796.039 Q56.4621 798.648 56.4621 802.977 Q56.4621 807.879 59.2312 810.839 Q62.0002 813.767 67.0292 814.213 L66.9973 793.333 Z\" fill=\"#000000\" fill-rule=\"evenodd\" fill-opacity=\"1\" /><path clip-path=\"url(#clip930)\" d=\"M 0 0 M57.8307 760.677 Q57.2578 761.664 57.0032 762.841 Q56.7167 763.987 56.7167 765.388 Q56.7167 770.353 59.9632 773.027 Q63.1779 775.668 69.2253 775.668 L88.0042 775.668 L88.0042 781.557 L52.3562 781.557 L52.3562 775.668 L57.8944 775.668 Q54.6479 773.822 53.0883 770.862 Q51.4968 767.902 51.4968 763.669 Q51.4968 763.064 51.5923 762.332 Q51.656 761.6 51.8151 760.709 L57.8307 760.677 Z\" fill=\"#000000\" fill-rule=\"evenodd\" fill-opacity=\"1\" /><path clip-path=\"url(#clip930)\" d=\"M 0 0 M70.0847 738.333 Q70.0847 745.431 71.7079 748.168 Q73.3312 750.906 77.2461 750.906 Q80.3653 750.906 82.2114 748.869 Q84.0256 746.8 84.0256 743.267 Q84.0256 738.397 80.5881 735.469 Q77.1188 732.509 71.3897 732.509 L70.0847 732.509 L70.0847 738.333 M67.6657 726.652 L88.0042 726.652 L88.0042 732.509 L82.5933 732.509 Q85.8398 734.514 87.3994 737.506 Q88.9272 740.498 88.9272 744.826 Q88.9272 750.301 85.8716 753.547 Q82.7843 756.762 77.6281 756.762 Q71.6125 756.762 68.5569 752.752 Q65.5014 748.71 65.5014 740.721 L65.5014 732.509 L64.9285 732.509 Q60.8862 732.509 58.6901 735.182 Q56.4621 737.824 56.4621 742.63 Q56.4621 745.686 57.1941 748.582 Q57.9262 751.479 59.3903 754.152 L53.9795 754.152 Q52.7381 750.938 52.1334 747.914 Q51.4968 744.89 51.4968 742.026 Q51.4968 734.291 55.5072 730.472 Q59.5176 726.652 67.6657 726.652 Z\" fill=\"#000000\" fill-rule=\"evenodd\" fill-opacity=\"1\" /><path clip-path=\"url(#clip930)\" d=\"M 0 0 M38.479 720.509 L38.479 714.653 L88.0042 714.653 L88.0042 720.509 L38.479 720.509 Z\" fill=\"#000000\" fill-rule=\"evenodd\" fill-opacity=\"1\" /><path clip-path=\"url(#clip930)\" d=\"M 0 0 M38.479 708.51 L38.479 702.654 L88.0042 702.654 L88.0042 708.51 L38.479 708.51 Z\" fill=\"#000000\" fill-rule=\"evenodd\" fill-opacity=\"1\" /><path clip-path=\"url(#clip930)\" d=\"M 0 0 M42.0438 647.049 L48.314 647.049 Q46.5634 650.709 45.704 653.956 Q44.8447 657.202 44.8447 660.226 Q44.8447 665.478 46.8817 668.342 Q48.9187 671.175 52.6745 671.175 Q55.8255 671.175 57.4488 669.297 Q59.0402 667.388 60.0269 662.104 L60.8226 658.221 Q62.1912 651.028 65.6605 647.622 Q69.098 644.185 74.8908 644.185 Q81.7976 644.185 85.3624 648.832 Q88.9272 653.447 88.9272 662.391 Q88.9272 665.764 88.1633 669.584 Q87.3994 673.371 85.9035 677.445 L79.2831 677.445 Q81.4793 673.531 82.5933 669.775 Q83.7073 666.019 83.7073 662.391 Q83.7073 656.884 81.543 653.892 Q79.3786 650.9 75.3682 650.9 Q71.8671 650.9 69.8937 653.065 Q67.9204 655.197 66.9337 660.099 L66.1698 664.014 Q64.7375 671.207 61.682 674.422 Q58.6264 677.636 53.1837 677.636 Q46.8817 677.636 43.2532 673.212 Q39.6248 668.756 39.6248 660.958 Q39.6248 657.616 40.2295 654.147 Q40.8343 650.678 42.0438 647.049 Z\" fill=\"#000000\" fill-rule=\"evenodd\" fill-opacity=\"1\" /><path clip-path=\"url(#clip930)\" d=\"M 0 0 M73.9359 638.646 L52.3562 638.646 L52.3562 632.79 L73.7131 632.79 Q78.7739 632.79 81.3202 630.817 Q83.8346 628.843 83.8346 624.897 Q83.8346 620.154 80.8109 617.417 Q77.7872 614.648 72.5673 614.648 L52.3562 614.648 L52.3562 608.791 L88.0042 608.791 L88.0042 614.648 L82.5296 614.648 Q85.7762 616.78 87.3676 619.613 Q88.9272 622.414 88.9272 626.138 Q88.9272 632.281 85.1078 635.464 Q81.2883 638.646 73.9359 638.646 M51.4968 623.91 L51.4968 623.91 Z\" fill=\"#000000\" fill-rule=\"evenodd\" fill-opacity=\"1\" /><path clip-path=\"url(#clip930)\" d=\"M 0 0 M57.8307 581.992 Q57.2578 582.978 57.0032 584.156 Q56.7167 585.302 56.7167 586.702 Q56.7167 591.668 59.9632 594.341 Q63.1779 596.983 69.2253 596.983 L88.0042 596.983 L88.0042 602.871 L52.3562 602.871 L52.3562 596.983 L57.8944 596.983 Q54.6479 595.137 53.0883 592.177 Q51.4968 589.217 51.4968 584.984 Q51.4968 584.379 51.5923 583.647 Q51.656 582.915 51.8151 582.023 L57.8307 581.992 Z\" fill=\"#000000\" fill-rule=\"evenodd\" fill-opacity=\"1\" /><path clip-path=\"url(#clip930)\" d=\"M 0 0 M52.3562 580.05 L52.3562 573.844 L82.275 562.704 L52.3562 551.564 L52.3562 545.357 L88.0042 558.725 L88.0042 566.682 L52.3562 580.05 Z\" fill=\"#000000\" fill-rule=\"evenodd\" fill-opacity=\"1\" /><path clip-path=\"url(#clip930)\" d=\"M 0 0 M52.3562 539.214 L52.3562 533.358 L88.0042 533.358 L88.0042 539.214 L52.3562 539.214 M38.479 539.214 L38.479 533.358 L45.895 533.358 L45.895 539.214 L38.479 539.214 Z\" fill=\"#000000\" fill-rule=\"evenodd\" fill-opacity=\"1\" /><path clip-path=\"url(#clip930)\" d=\"M 0 0 M52.3562 531.416 L52.3562 525.21 L82.275 514.07 L52.3562 502.93 L52.3562 496.723 L88.0042 510.091 L88.0042 518.048 L52.3562 531.416 Z\" fill=\"#000000\" fill-rule=\"evenodd\" fill-opacity=\"1\" /><path clip-path=\"url(#clip930)\" d=\"M 0 0 M70.0847 474.379 Q70.0847 481.477 71.7079 484.214 Q73.3312 486.952 77.2461 486.952 Q80.3653 486.952 82.2114 484.915 Q84.0256 482.846 84.0256 479.313 Q84.0256 474.443 80.5881 471.515 Q77.1188 468.555 71.3897 468.555 L70.0847 468.555 L70.0847 474.379 M67.6657 462.698 L88.0042 462.698 L88.0042 468.555 L82.5933 468.555 Q85.8398 470.56 87.3994 473.552 Q88.9272 476.544 88.9272 480.872 Q88.9272 486.347 85.8716 489.593 Q82.7843 492.808 77.6281 492.808 Q71.6125 492.808 68.5569 488.798 Q65.5014 484.755 65.5014 476.767 L65.5014 468.555 L64.9285 468.555 Q60.8862 468.555 58.6901 471.228 Q56.4621 473.87 56.4621 478.676 Q56.4621 481.732 57.1941 484.628 Q57.9262 487.525 59.3903 490.198 L53.9795 490.198 Q52.7381 486.983 52.1334 483.96 Q51.4968 480.936 51.4968 478.071 Q51.4968 470.337 55.5072 466.518 Q59.5176 462.698 67.6657 462.698 Z\" fill=\"#000000\" fill-rule=\"evenodd\" fill-opacity=\"1\" /><path clip-path=\"url(#clip930)\" d=\"M 0 0 M38.479 456.555 L38.479 450.699 L88.0042 450.699 L88.0042 456.555 L38.479 456.555 Z\" fill=\"#000000\" fill-rule=\"evenodd\" fill-opacity=\"1\" /><path clip-path=\"url(#clip930)\" d=\"M 0 0 M38.5426 445.479 L38.5426 440.387 Q46.0542 435.612 53.2474 433.257 Q60.4406 430.87 67.5384 430.87 Q74.668 430.87 81.8931 433.257 Q89.1182 435.612 96.5979 440.387 L96.5979 445.479 Q89.3091 441.246 82.1159 439.177 Q74.8908 437.076 67.5384 437.076 Q60.186 437.076 53.0246 439.177 Q45.8632 441.246 38.5426 445.479 Z\" fill=\"#000000\" fill-rule=\"evenodd\" fill-opacity=\"1\" /><polyline clip-path=\"url(#clip932)\" style=\"stroke:#009af9; stroke-width:4; stroke-opacity:1; fill:none\" points=\"\n",
       "  272.201,219.025 274.485,219.025 274.485,220.967 274.771,220.967 274.771,222.914 275.342,222.914 275.628,222.914 275.913,222.914 \n",
       "  276.199,222.914 276.77,222.914 277.055,222.914 277.341,222.914 277.626,222.914 \n",
       "  277.912,222.914 277.912,224.938 278.198,224.938 278.483,224.938 278.769,224.938 278.769,226.988 279.054,226.988 \n",
       "  279.054,229.038 279.34,229.038 279.625,229.038 279.911,229.038 280.196,229.038 280.196,231.105 280.482,231.105 \n",
       "  280.768,231.105 281.053,231.105 281.624,231.105 281.624,233.2 281.91,233.2 282.195,233.2 \n",
       "  282.481,233.2 282.766,233.2 282.766,235.317 283.052,235.317 283.909,235.317 284.194,235.317 \n",
       "  285.051,235.317 286.193,235.317 286.478,235.317 286.764,235.317 287.05,235.317 \n",
       "  287.621,235.317 287.906,235.317 288.192,235.317 288.477,235.317 288.763,235.317 \n",
       "  289.048,235.317 289.619,235.317 289.905,235.317 290.476,235.317 291.618,235.317 \n",
       "  292.475,235.317 292.76,235.317 293.617,235.317 293.903,235.317 293.903,237.552 294.759,237.552 \n",
       "  295.045,237.552 295.616,237.552 295.901,237.552 296.473,237.552 296.758,237.552 \n",
       "  297.329,237.552 297.329,242.094 298.186,242.094 298.471,242.094 300.185,242.094 300.756,242.094 \n",
       "  301.612,242.094 301.898,242.094 302.183,242.094 302.469,242.094 303.897,242.094 \n",
       "  304.182,242.094 304.468,242.094 304.753,242.094 305.325,242.094 305.896,242.094 \n",
       "  306.467,242.094 306.752,242.094 307.323,242.094 307.323,244.436 307.894,244.436 308.18,244.436 \n",
       "  308.751,244.436 309.037,244.436 309.322,244.436 309.608,244.436 309.893,244.436 \n",
       "  310.179,244.436 310.464,244.436 311.892,244.436 312.463,244.436 313.034,244.436 \n",
       "  314.176,244.436 314.462,244.436 315.033,244.436 315.604,244.436 315.89,244.436 \n",
       "  316.175,244.436 316.461,244.436 317.032,244.436 317.317,244.436 319.316,244.436 \n",
       "  319.316,246.874 319.887,246.874 320.458,246.874 321.886,246.874 322.172,246.874 322.457,246.874 \n",
       "  322.743,246.874 323.028,246.874 323.314,246.874 323.314,249.372 324.171,249.372 324.742,249.372 \n",
       "  325.027,249.372 325.598,249.372 326.169,249.372 326.455,249.372 327.026,249.372 \n",
       "  327.312,249.372 327.597,249.372 328.168,249.372 328.739,249.372 329.025,249.372 \n",
       "  329.31,249.372 330.167,249.372 330.738,249.372 331.309,249.372 331.595,249.372 \n",
       "  332.737,249.372 333.594,249.372 334.165,249.372 335.021,249.372 336.164,249.372 \n",
       "  336.449,249.372 336.735,249.372 337.02,249.372 337.306,249.372 337.591,249.372 \n",
       "  337.877,249.372 338.162,249.372 338.448,249.372 339.59,249.372 339.876,249.372 \n",
       "  340.161,249.372 341.303,249.372 341.303,252.102 341.589,252.102 342.446,252.102 342.446,254.837 343.017,254.837 \n",
       "  343.302,254.837 343.588,254.837 343.873,254.837 345.015,254.837 346.158,254.837 \n",
       "  346.729,254.837 347.014,254.837 347.014,257.626 347.3,257.626 347.585,257.626 347.871,257.626 \n",
       "  348.156,257.626 349.584,257.626 349.87,257.626 350.155,257.626 350.155,260.454 350.441,260.454 \n",
       "  350.726,260.454 351.583,260.454 351.869,260.454 352.154,260.454 352.44,260.454 \n",
       "  354.724,260.454 355.295,260.454 355.581,260.454 355.866,260.454 356.152,260.454 \n",
       "  356.152,263.406 356.723,263.406 357.865,263.406 359.007,263.406 360.721,263.406 361.006,263.406 \n",
       "  361.006,266.391 362.434,266.391 363.29,266.391 364.147,266.391 364.433,266.391 364.718,266.391 \n",
       "  365.289,266.391 365.86,266.391 366.431,266.391 366.717,266.391 367.003,266.391 \n",
       "  367.288,266.391 367.288,269.473 367.859,269.473 368.43,269.473 368.716,269.473 369.572,269.473 \n",
       "  370.429,269.473 370.715,269.473 372.428,269.473 374.141,269.473 374.712,269.473 \n",
       "  376.426,269.473 376.997,269.473 377.568,269.473 377.568,272.684 377.853,272.684 378.424,272.684 \n",
       "  378.424,275.901 379.567,275.901 380.138,275.901 380.423,275.901 380.709,275.901 381.565,275.901 \n",
       "  382.422,275.901 382.708,275.901 384.992,275.901 386.134,275.901 386.991,275.901 \n",
       "  387.276,275.901 387.562,275.901 389.561,275.901 391.274,275.901 391.56,275.901 \n",
       "  392.416,275.901 392.987,275.901 393.558,275.901 394.415,275.901 394.986,275.901 \n",
       "  395.843,275.901 395.843,279.421 396.414,279.421 398.984,279.421 399.555,279.421 400.126,279.421 \n",
       "  402.125,279.421 402.696,279.421 404.409,279.421 404.695,279.421 404.98,279.421 \n",
       "  405.837,279.421 406.408,279.421 408.121,279.421 410.12,279.421 410.406,279.421 \n",
       "  411.548,279.421 412.404,279.421 412.69,279.421 413.261,279.421 415.545,279.421 \n",
       "  415.831,279.421 416.117,279.421 416.402,279.421 417.259,279.421 417.544,279.421 \n",
       "  421.256,279.421 421.542,279.421 422.113,279.421 422.113,283.219 422.399,283.219 422.684,283.219 \n",
       "  423.541,283.219 424.112,283.219 427.824,283.219 427.824,287.093 428.681,287.093 429.252,287.093 \n",
       "  429.823,287.093 430.108,287.093 430.394,287.093 430.679,287.093 430.679,291.021 430.965,291.021 \n",
       "  431.251,291.021 431.536,291.021 432.107,291.021 432.393,291.021 433.535,291.021 \n",
       "  433.535,295.042 434.677,295.042 437.247,295.042 437.247,299.086 438.96,299.086 439.531,299.086 439.817,299.086 \n",
       "  440.959,299.086 441.53,299.086 442.101,299.086 442.958,299.086 443.529,299.086 \n",
       "  444.1,299.086 446.956,299.086 447.527,299.086 447.812,299.086 448.954,299.086 \n",
       "  448.954,303.331 449.811,303.331 450.097,303.331 450.097,307.589 451.239,307.589 451.81,307.589 454.951,307.589 \n",
       "  455.522,307.589 456.664,307.589 456.664,311.929 457.806,311.929 458.092,311.929 458.949,311.929 \n",
       "  462.09,311.929 462.661,311.929 463.232,311.929 464.088,311.929 465.802,311.929 \n",
       "  466.373,311.929 467.515,311.929 470.656,311.929 471.798,311.929 474.654,311.929 \n",
       "  477.224,311.929 477.795,311.929 478.08,311.929 480.65,311.929 480.65,316.519 481.221,316.519 \n",
       "  483.506,316.519 484.362,316.519 486.361,316.519 487.218,316.519 487.503,316.519 \n",
       "  487.789,316.519 489.502,316.519 489.502,321.254 489.788,321.254 490.073,321.254 491.501,321.254 \n",
       "  492.072,321.254 492.072,326.056 492.357,326.056 494.071,326.056 494.071,330.894 495.213,330.894 496.07,330.894 \n",
       "  497.497,330.894 497.497,335.766 498.354,335.766 498.354,340.639 498.639,340.639 498.639,345.511 500.067,345.511 500.067,350.384 500.353,350.384 \n",
       "  500.353,355.275 503.779,355.275 504.35,355.275 504.636,355.275 505.778,355.275 505.778,360.221 509.776,360.221 \n",
       "  509.776,365.167 510.347,365.167 510.918,365.167 512.346,365.167 513.488,365.167 515.487,365.167 \n",
       "  516.914,365.167 518.057,365.167 518.628,365.167 519.484,365.167 519.77,365.167 \n",
       "  519.77,370.308 521.769,370.308 522.054,370.308 524.339,370.308 525.195,370.308 525.195,375.512 526.338,375.512 \n",
       "  526.338,380.715 528.336,380.715 534.333,380.715 534.333,385.94 534.618,385.94 534.618,391.164 536.046,391.164 537.188,391.164 \n",
       "  537.188,396.432 541.186,396.432 542.899,396.432 543.47,396.432 544.898,396.432 547.182,396.432 \n",
       "  548.039,396.432 548.039,401.835 551.751,401.835 552.037,401.835 552.322,401.835 554.607,401.835 \n",
       "  554.892,401.835 556.034,401.835 557.177,401.835 557.177,407.404 560.032,407.404 560.889,407.404 \n",
       "  561.46,407.404 563.744,407.404 564.03,407.404 565.743,407.404 565.743,413.098 568.884,413.098 \n",
       "  568.884,418.793 569.455,418.793 569.455,424.488 580.306,424.488 582.59,424.488 583.161,424.488 584.018,424.488 \n",
       "  589.158,424.488 593.155,424.488 594.012,424.488 594.298,424.488 595.154,424.488 \n",
       "  595.44,424.488 596.011,424.488 596.011,430.515 597.439,430.515 599.152,430.515 600.294,430.515 \n",
       "  600.294,436.601 602.007,436.601 602.007,442.687 602.293,442.687 602.578,442.687 603.721,442.687 604.292,442.687 \n",
       "  604.577,442.687 606.005,442.687 606.291,442.687 607.718,442.687 607.718,448.993 608.289,448.993 \n",
       "  608.86,448.993 609.146,448.993 609.432,448.993 609.432,455.466 611.145,455.466 614.286,455.466 \n",
       "  615.714,455.466 617.712,455.466 619.426,455.466 621.425,455.466 621.71,455.466 \n",
       "  621.996,455.466 623.709,455.466 630.276,455.466 630.848,455.466 636.844,455.466 \n",
       "  637.13,455.466 638.843,455.466 641.413,455.466 641.413,462.504 641.984,462.504 643.983,462.504 \n",
       "  645.125,462.504 646.553,462.504 646.553,469.754 646.838,469.754 647.98,469.754 648.266,469.754 \n",
       "  648.837,469.754 651.407,469.754 652.549,469.754 652.835,469.754 653.977,469.754 \n",
       "  656.547,469.754 656.547,477.373 656.832,477.373 659.402,477.373 659.688,477.373 660.259,477.373 \n",
       "  662.258,477.373 662.829,477.373 663.4,477.373 663.971,477.373 663.971,485.35 666.541,485.35 \n",
       "  670.539,485.35 670.539,493.382 675.393,493.382 676.535,493.382 681.96,493.382 684.53,493.382 \n",
       "  685.958,493.382 691.954,493.382 692.24,493.382 693.097,493.382 694.239,493.382 \n",
       "  697.094,493.382 697.094,502.004 698.237,502.004 700.235,502.004 704.804,502.004 704.804,510.755 707.945,510.755 \n",
       "  714.513,510.755 714.513,519.574 716.226,519.574 719.367,519.574 719.938,519.574 723.079,519.574 \n",
       "  732.502,519.574 735.643,519.574 736.785,519.574 737.642,519.574 739.07,519.574 \n",
       "  740.497,519.574 742.782,519.574 743.067,519.574 743.067,529.372 747.636,529.372 751.919,529.372 \n",
       "  751.919,539.342 755.631,539.342 756.202,539.342 756.202,549.402 757.345,549.402 757.345,559.461 757.916,559.461 757.916,569.52 759.343,569.52 \n",
       "  759.343,579.579 764.483,579.579 768.767,579.579 769.052,579.579 772.764,579.579 773.906,579.579 \n",
       "  774.763,579.579 776.476,579.579 776.476,590.23 782.758,590.23 782.758,600.881 791.61,600.881 791.61,611.532 795.893,611.532 \n",
       "  808.172,611.532 811.313,611.532 811.884,611.532 813.312,611.532 815.596,611.532 \n",
       "  817.595,611.532 821.878,611.532 822.449,611.532 822.449,623.38 824.448,623.38 824.448,635.228 831.016,635.228 \n",
       "  842.723,635.228 843.294,635.228 843.294,647.354 844.722,647.354 847.863,647.354 847.863,659.627 860.427,659.627 \n",
       "  868.708,659.627 872.991,659.627 872.991,672.365 881.557,672.365 881.557,685.104 885.555,685.104 896.406,685.104 \n",
       "  896.977,685.104 900.118,685.104 900.118,698.359 904.401,698.359 904.401,711.614 908.399,711.614 908.399,724.869 913.253,724.869 \n",
       "  923.247,724.869 923.247,738.314 930.386,738.314 930.386,751.758 935.811,751.758 939.809,751.758 945.805,751.758 \n",
       "  949.517,751.758 957.513,751.758 964.366,751.758 964.366,766.503 986.639,766.503 991.207,766.503 \n",
       "  991.778,766.503 993.777,766.503 993.777,782.012 1008.91,782.012 1008.91,797.52 1022.05,797.52 1048.6,797.52 \n",
       "  1048.6,813.31 1051.17,813.31 1059.45,813.31 1061.74,813.31 1063.16,813.31 1073.16,813.31 \n",
       "  1073.16,830.363 1082.3,830.363 1082.3,847.417 1095.43,847.417 1095.72,847.417 1117.99,847.417 1120.85,847.417 \n",
       "  1120.85,883.797 1121.7,883.797 1125.7,883.797 1136.84,883.797 1155.97,883.797 1166.82,883.797 \n",
       "  1166.82,903.853 1174.53,903.853 1223.36,903.853 1225.07,903.853 1225.93,903.853 1230.78,903.853 \n",
       "  1233.35,903.853 1237.63,903.853 1237.63,927.67 1247.63,927.67 1247.63,951.486 1250.2,951.486 1250.2,975.302 1262.48,975.302 \n",
       "  1262.48,999.119 1262.76,999.119 1262.76,1022.94 1265.62,1022.94 1265.62,1046.75 1341,1046.75 1341,1070.57 1364.99,1070.57 1366.99,1070.57 \n",
       "  1369.56,1070.57 1369.56,1096.46 1379.84,1096.46 1391.54,1096.46 1399.54,1096.46 1399.54,1124.93 1400.68,1124.93 \n",
       "  1400.68,1154.99 1404.68,1154.99 1404.68,1185.05 1441.51,1185.05 1492.63,1185.05 1492.63,1217.11 1546.6,1217.11 1546.6,1249.17 1573.44,1249.17 \n",
       "  1641.4,1249.17 1656.25,1249.17 1681.66,1249.17 1776.46,1249.17 1811.3,1249.17 \n",
       "  1815.01,1249.17 1915.81,1249.17 1915.81,1318.64 1961.49,1318.64 1961.49,1388.11 2111.69,1388.11 2192.79,1388.11 \n",
       "  2214.77,1388.11 2292.16,1388.11 \n",
       "  \"/>\n",
       "<polyline clip-path=\"url(#clip932)\" style=\"stroke:#e26f46; stroke-width:4; stroke-opacity:1; fill:none\" points=\"\n",
       "  275.913,219.025 278.198,219.025 278.769,219.025 280.482,219.025 282.766,219.025 301.898,219.025 \n",
       "  326.169,219.025 338.162,219.025 338.162,330.329 346.158,330.329 375.569,330.329 380.138,330.329 \n",
       "  423.826,330.329 423.826,478.734 550.323,478.734 550.323,627.14 672.252,627.14 718.51,627.14 718.51,800.279 720.509,800.279 \n",
       "  720.509,973.419 835.299,973.419 866.423,973.419 997.775,973.419 997.775,1319.7 1002.63,1319.7 \n",
       "  \"/>\n",
       "<path clip-path=\"url(#clip930)\" d=\"\n",
       "M1414.89 406.7 L2281.38 406.7 L2281.38 225.26 L1414.89 225.26  Z\n",
       "  \" fill=\"#ffffff\" fill-rule=\"evenodd\" fill-opacity=\"1\"/>\n",
       "<polyline clip-path=\"url(#clip930)\" style=\"stroke:#000000; stroke-width:4; stroke-opacity:1; fill:none\" points=\"\n",
       "  1414.89,406.7 2281.38,406.7 2281.38,225.26 1414.89,225.26 1414.89,406.7 \n",
       "  \"/>\n",
       "<polyline clip-path=\"url(#clip930)\" style=\"stroke:#009af9; stroke-width:4; stroke-opacity:1; fill:none\" points=\"\n",
       "  1438.68,285.74 1581.43,285.74 \n",
       "  \"/>\n",
       "<path clip-path=\"url(#clip930)\" d=\"M 0 0 M1621.05 273.066 L1614.71 290.265 L1627.42 290.265 L1621.05 273.066 M1618.41 268.46 L1623.71 268.46 L1636.88 303.02 L1632.02 303.02 L1628.88 294.154 L1613.3 294.154 L1610.15 303.02 L1605.22 303.02 L1618.41 268.46 Z\" fill=\"#000000\" fill-rule=\"evenodd\" fill-opacity=\"1\" /><path clip-path=\"url(#clip930)\" d=\"M 0 0 M1641.35 267.001 L1645.61 267.001 L1645.61 303.02 L1641.35 303.02 L1641.35 267.001 Z\" fill=\"#000000\" fill-rule=\"evenodd\" fill-opacity=\"1\" /><path clip-path=\"url(#clip930)\" d=\"M 0 0 M1650.08 267.001 L1654.34 267.001 L1654.34 303.02 L1650.08 303.02 L1650.08 267.001 Z\" fill=\"#000000\" fill-rule=\"evenodd\" fill-opacity=\"1\" /><path clip-path=\"url(#clip930)\" d=\"M 0 0 M1690.45 286.816 Q1691.95 287.325 1693.37 288.992 Q1694.8 290.659 1696.24 293.575 L1700.98 303.02 L1695.96 303.02 L1691.54 294.154 Q1689.82 290.682 1688.2 289.548 Q1686.61 288.413 1683.83 288.413 L1678.74 288.413 L1678.74 303.02 L1674.06 303.02 L1674.06 268.46 L1684.62 268.46 Q1690.54 268.46 1693.46 270.937 Q1696.38 273.413 1696.38 278.413 Q1696.38 281.677 1694.85 283.83 Q1693.34 285.983 1690.45 286.816 M1678.74 272.302 L1678.74 284.571 L1684.62 284.571 Q1688 284.571 1689.71 283.02 Q1691.44 281.446 1691.44 278.413 Q1691.44 275.381 1689.71 273.853 Q1688 272.302 1684.62 272.302 L1678.74 272.302 Z\" fill=\"#000000\" fill-rule=\"evenodd\" fill-opacity=\"1\" /><path clip-path=\"url(#clip930)\" d=\"M 0 0 M1725.5 288.992 L1725.5 291.075 L1705.91 291.075 Q1706.19 295.473 1708.55 297.788 Q1710.94 300.08 1715.17 300.08 Q1717.63 300.08 1719.92 299.478 Q1722.23 298.876 1724.5 297.673 L1724.5 301.7 Q1722.21 302.672 1719.8 303.182 Q1717.39 303.691 1714.92 303.691 Q1708.71 303.691 1705.08 300.08 Q1701.47 296.469 1701.47 290.311 Q1701.47 283.946 1704.89 280.219 Q1708.34 276.469 1714.18 276.469 Q1719.41 276.469 1722.44 279.849 Q1725.5 283.205 1725.5 288.992 M1721.24 287.742 Q1721.19 284.247 1719.27 282.163 Q1717.37 280.08 1714.22 280.08 Q1710.66 280.08 1708.5 282.094 Q1706.38 284.108 1706.05 287.765 L1721.24 287.742 Z\" fill=\"#000000\" fill-rule=\"evenodd\" fill-opacity=\"1\" /><path clip-path=\"url(#clip930)\" d=\"M 0 0 M1750.15 282.071 Q1751.75 279.2 1753.97 277.835 Q1756.19 276.469 1759.2 276.469 Q1763.25 276.469 1765.45 279.316 Q1767.65 282.14 1767.65 287.372 L1767.65 303.02 L1763.37 303.02 L1763.37 287.511 Q1763.37 283.784 1762.05 281.978 Q1760.73 280.173 1758.02 280.173 Q1754.71 280.173 1752.79 282.372 Q1750.87 284.571 1750.87 288.367 L1750.87 303.02 L1746.58 303.02 L1746.58 287.511 Q1746.58 283.761 1745.26 281.978 Q1743.94 280.173 1741.19 280.173 Q1737.93 280.173 1736 282.395 Q1734.08 284.594 1734.08 288.367 L1734.08 303.02 L1729.8 303.02 L1729.8 277.094 L1734.08 277.094 L1734.08 281.122 Q1735.54 278.737 1737.58 277.603 Q1739.62 276.469 1742.42 276.469 Q1745.24 276.469 1747.21 277.904 Q1749.2 279.339 1750.15 282.071 Z\" fill=\"#000000\" fill-rule=\"evenodd\" fill-opacity=\"1\" /><path clip-path=\"url(#clip930)\" d=\"M 0 0 M1783.9 289.987 Q1778.74 289.987 1776.75 291.168 Q1774.75 292.348 1774.75 295.196 Q1774.75 297.464 1776.24 298.807 Q1777.74 300.126 1780.31 300.126 Q1783.85 300.126 1785.98 297.626 Q1788.13 295.103 1788.13 290.936 L1788.13 289.987 L1783.9 289.987 M1792.39 288.228 L1792.39 303.02 L1788.13 303.02 L1788.13 299.085 Q1786.68 301.446 1784.5 302.58 Q1782.32 303.691 1779.18 303.691 Q1775.19 303.691 1772.83 301.469 Q1770.5 299.223 1770.5 295.473 Q1770.5 291.098 1773.41 288.876 Q1776.35 286.654 1782.16 286.654 L1788.13 286.654 L1788.13 286.237 Q1788.13 283.298 1786.19 281.7 Q1784.27 280.08 1780.77 280.08 Q1778.55 280.08 1776.44 280.612 Q1774.34 281.145 1772.39 282.21 L1772.39 278.274 Q1774.73 277.372 1776.93 276.932 Q1779.13 276.469 1781.21 276.469 Q1786.84 276.469 1789.62 279.386 Q1792.39 282.302 1792.39 288.228 Z\" fill=\"#000000\" fill-rule=\"evenodd\" fill-opacity=\"1\" /><path clip-path=\"url(#clip930)\" d=\"M 0 0 M1796.86 277.094 L1801.12 277.094 L1801.12 303.02 L1796.86 303.02 L1796.86 277.094 M1796.86 267.001 L1801.12 267.001 L1801.12 272.395 L1796.86 272.395 L1796.86 267.001 Z\" fill=\"#000000\" fill-rule=\"evenodd\" fill-opacity=\"1\" /><path clip-path=\"url(#clip930)\" d=\"M 0 0 M1827.14 287.372 L1827.14 303.02 L1822.88 303.02 L1822.88 287.511 Q1822.88 283.83 1821.44 282.001 Q1820.01 280.173 1817.14 280.173 Q1813.69 280.173 1811.7 282.372 Q1809.71 284.571 1809.71 288.367 L1809.71 303.02 L1805.43 303.02 L1805.43 277.094 L1809.71 277.094 L1809.71 281.122 Q1811.24 278.784 1813.3 277.626 Q1815.38 276.469 1818.09 276.469 Q1822.56 276.469 1824.85 279.247 Q1827.14 282.001 1827.14 287.372 Z\" fill=\"#000000\" fill-rule=\"evenodd\" fill-opacity=\"1\" /><path clip-path=\"url(#clip930)\" d=\"M 0 0 M1831.61 277.094 L1835.87 277.094 L1835.87 303.02 L1831.61 303.02 L1831.61 277.094 M1831.61 267.001 L1835.87 267.001 L1835.87 272.395 L1831.61 272.395 L1831.61 267.001 Z\" fill=\"#000000\" fill-rule=\"evenodd\" fill-opacity=\"1\" /><path clip-path=\"url(#clip930)\" d=\"M 0 0 M1861.88 287.372 L1861.88 303.02 L1857.62 303.02 L1857.62 287.511 Q1857.62 283.83 1856.19 282.001 Q1854.75 280.173 1851.88 280.173 Q1848.43 280.173 1846.44 282.372 Q1844.45 284.571 1844.45 288.367 L1844.45 303.02 L1840.17 303.02 L1840.17 277.094 L1844.45 277.094 L1844.45 281.122 Q1845.98 278.784 1848.04 277.626 Q1850.12 276.469 1852.83 276.469 Q1857.3 276.469 1859.59 279.247 Q1861.88 282.001 1861.88 287.372 Z\" fill=\"#000000\" fill-rule=\"evenodd\" fill-opacity=\"1\" /><path clip-path=\"url(#clip930)\" d=\"M 0 0 M1883.41 289.756 Q1883.41 285.126 1881.49 282.58 Q1879.59 280.034 1876.14 280.034 Q1872.72 280.034 1870.8 282.58 Q1868.9 285.126 1868.9 289.756 Q1868.9 294.362 1870.8 296.909 Q1872.72 299.455 1876.14 299.455 Q1879.59 299.455 1881.49 296.909 Q1883.41 294.362 1883.41 289.756 M1887.67 299.802 Q1887.67 306.422 1884.73 309.64 Q1881.79 312.881 1875.73 312.881 Q1873.48 312.881 1871.49 312.534 Q1869.5 312.209 1867.62 311.515 L1867.62 307.372 Q1869.5 308.39 1871.33 308.876 Q1873.16 309.362 1875.05 309.362 Q1879.24 309.362 1881.33 307.163 Q1883.41 304.987 1883.41 300.566 L1883.41 298.46 Q1882.09 300.751 1880.03 301.885 Q1877.97 303.02 1875.1 303.02 Q1870.33 303.02 1867.42 299.385 Q1864.5 295.751 1864.5 289.756 Q1864.5 283.737 1867.42 280.103 Q1870.33 276.469 1875.1 276.469 Q1877.97 276.469 1880.03 277.603 Q1882.09 278.737 1883.41 281.029 L1883.41 277.094 L1887.67 277.094 L1887.67 299.802 Z\" fill=\"#000000\" fill-rule=\"evenodd\" fill-opacity=\"1\" /><path clip-path=\"url(#clip930)\" d=\"M 0 0 M1933.27 271.122 L1933.27 276.052 Q1930.91 273.853 1928.23 272.765 Q1925.56 271.677 1922.55 271.677 Q1916.63 271.677 1913.48 275.312 Q1910.33 278.923 1910.33 285.774 Q1910.33 292.603 1913.48 296.237 Q1916.63 299.848 1922.55 299.848 Q1925.56 299.848 1928.23 298.76 Q1930.91 297.673 1933.27 295.473 L1933.27 300.358 Q1930.82 302.024 1928.06 302.858 Q1925.33 303.691 1922.28 303.691 Q1914.43 303.691 1909.92 298.899 Q1905.4 294.085 1905.4 285.774 Q1905.4 277.441 1909.92 272.65 Q1914.43 267.835 1922.28 267.835 Q1925.38 267.835 1928.11 268.668 Q1930.86 269.478 1933.27 271.122 Z\" fill=\"#000000\" fill-rule=\"evenodd\" fill-opacity=\"1\" /><path clip-path=\"url(#clip930)\" d=\"M 0 0 M1949.52 289.987 Q1944.36 289.987 1942.37 291.168 Q1940.38 292.348 1940.38 295.196 Q1940.38 297.464 1941.86 298.807 Q1943.36 300.126 1945.93 300.126 Q1949.48 300.126 1951.61 297.626 Q1953.76 295.103 1953.76 290.936 L1953.76 289.987 L1949.52 289.987 M1958.02 288.228 L1958.02 303.02 L1953.76 303.02 L1953.76 299.085 Q1952.3 301.446 1950.12 302.58 Q1947.95 303.691 1944.8 303.691 Q1940.82 303.691 1938.46 301.469 Q1936.12 299.223 1936.12 295.473 Q1936.12 291.098 1939.04 288.876 Q1941.98 286.654 1947.79 286.654 L1953.76 286.654 L1953.76 286.237 Q1953.76 283.298 1951.81 281.7 Q1949.89 280.08 1946.4 280.08 Q1944.17 280.08 1942.07 280.612 Q1939.96 281.145 1938.02 282.21 L1938.02 278.274 Q1940.36 277.372 1942.55 276.932 Q1944.75 276.469 1946.84 276.469 Q1952.46 276.469 1955.24 279.386 Q1958.02 282.302 1958.02 288.228 Z\" fill=\"#000000\" fill-rule=\"evenodd\" fill-opacity=\"1\" /><path clip-path=\"url(#clip930)\" d=\"M 0 0 M1979.01 277.858 L1979.01 281.886 Q1977.21 280.96 1975.26 280.497 Q1973.32 280.034 1971.23 280.034 Q1968.06 280.034 1966.47 281.006 Q1964.89 281.978 1964.89 283.923 Q1964.89 285.404 1966.03 286.261 Q1967.16 287.094 1970.59 287.858 L1972.05 288.182 Q1976.58 289.154 1978.48 290.936 Q1980.4 292.696 1980.4 295.867 Q1980.4 299.478 1977.53 301.585 Q1974.68 303.691 1969.68 303.691 Q1967.6 303.691 1965.33 303.274 Q1963.09 302.881 1960.59 302.071 L1960.59 297.673 Q1962.95 298.899 1965.24 299.524 Q1967.53 300.126 1969.78 300.126 Q1972.79 300.126 1974.41 299.108 Q1976.03 298.066 1976.03 296.191 Q1976.03 294.455 1974.85 293.529 Q1973.69 292.603 1969.73 291.747 L1968.25 291.399 Q1964.29 290.566 1962.53 288.853 Q1960.77 287.117 1960.77 284.108 Q1960.77 280.45 1963.36 278.46 Q1965.96 276.469 1970.73 276.469 Q1973.09 276.469 1975.17 276.816 Q1977.25 277.163 1979.01 277.858 Z\" fill=\"#000000\" fill-rule=\"evenodd\" fill-opacity=\"1\" /><path clip-path=\"url(#clip930)\" d=\"M 0 0 M2007.04 288.992 L2007.04 291.075 L1987.46 291.075 Q1987.74 295.473 1990.1 297.788 Q1992.48 300.08 1996.72 300.08 Q1999.17 300.08 2001.47 299.478 Q2003.78 298.876 2006.05 297.673 L2006.05 301.7 Q2003.76 302.672 2001.35 303.182 Q1998.94 303.691 1996.47 303.691 Q1990.26 303.691 1986.63 300.08 Q1983.02 296.469 1983.02 290.311 Q1983.02 283.946 1986.44 280.219 Q1989.89 276.469 1995.73 276.469 Q2000.96 276.469 2003.99 279.849 Q2007.04 283.205 2007.04 288.992 M2002.79 287.742 Q2002.74 284.247 2000.82 282.163 Q1998.92 280.08 1995.77 280.08 Q1992.21 280.08 1990.05 282.094 Q1987.92 284.108 1987.6 287.765 L2002.79 287.742 Z\" fill=\"#000000\" fill-rule=\"evenodd\" fill-opacity=\"1\" /><path clip-path=\"url(#clip930)\" d=\"M 0 0 M2028.04 277.858 L2028.04 281.886 Q2026.23 280.96 2024.29 280.497 Q2022.35 280.034 2020.26 280.034 Q2017.09 280.034 2015.49 281.006 Q2013.92 281.978 2013.92 283.923 Q2013.92 285.404 2015.05 286.261 Q2016.19 287.094 2019.61 287.858 L2021.07 288.182 Q2025.61 289.154 2027.51 290.936 Q2029.43 292.696 2029.43 295.867 Q2029.43 299.478 2026.56 301.585 Q2023.71 303.691 2018.71 303.691 Q2016.63 303.691 2014.36 303.274 Q2012.11 302.881 2009.61 302.071 L2009.61 297.673 Q2011.98 298.899 2014.27 299.524 Q2016.56 300.126 2018.8 300.126 Q2021.81 300.126 2023.43 299.108 Q2025.05 298.066 2025.05 296.191 Q2025.05 294.455 2023.87 293.529 Q2022.72 292.603 2018.76 291.747 L2017.28 291.399 Q2013.32 290.566 2011.56 288.853 Q2009.8 287.117 2009.8 284.108 Q2009.8 280.45 2012.39 278.46 Q2014.98 276.469 2019.75 276.469 Q2022.11 276.469 2024.2 276.816 Q2026.28 277.163 2028.04 277.858 Z\" fill=\"#000000\" fill-rule=\"evenodd\" fill-opacity=\"1\" /><polyline clip-path=\"url(#clip930)\" style=\"stroke:#e26f46; stroke-width:4; stroke-opacity:1; fill:none\" points=\"\n",
       "  1438.68,346.22 1581.43,346.22 \n",
       "  \"/>\n",
       "<path clip-path=\"url(#clip930)\" d=\"M 0 0 M1609.89 346.995 L1609.89 359.657 L1617.39 359.657 Q1621.17 359.657 1622.97 358.106 Q1624.8 356.532 1624.8 353.315 Q1624.8 350.074 1622.97 348.546 Q1621.17 346.995 1617.39 346.995 L1609.89 346.995 M1609.89 332.782 L1609.89 343.199 L1616.82 343.199 Q1620.24 343.199 1621.91 341.926 Q1623.6 340.629 1623.6 337.991 Q1623.6 335.375 1621.91 334.079 Q1620.24 332.782 1616.82 332.782 L1609.89 332.782 M1605.22 328.94 L1617.16 328.94 Q1622.51 328.94 1625.4 331.162 Q1628.3 333.384 1628.3 337.481 Q1628.3 340.653 1626.82 342.528 Q1625.33 344.403 1622.46 344.866 Q1625.91 345.606 1627.81 347.967 Q1629.73 350.305 1629.73 353.824 Q1629.73 358.453 1626.58 360.977 Q1623.44 363.5 1617.63 363.5 L1605.22 363.5 L1605.22 328.94 Z\" fill=\"#000000\" fill-rule=\"evenodd\" fill-opacity=\"1\" /><path clip-path=\"url(#clip930)\" d=\"M 0 0 M1650.77 347.296 Q1652.28 347.805 1653.69 349.472 Q1655.13 351.139 1656.56 354.055 L1661.31 363.5 L1656.28 363.5 L1651.86 354.634 Q1650.15 351.162 1648.53 350.028 Q1646.93 348.893 1644.15 348.893 L1639.06 348.893 L1639.06 363.5 L1634.38 363.5 L1634.38 328.94 L1644.94 328.94 Q1650.87 328.94 1653.78 331.417 Q1656.7 333.893 1656.7 338.893 Q1656.7 342.157 1655.17 344.31 Q1653.67 346.463 1650.77 347.296 M1639.06 332.782 L1639.06 345.051 L1644.94 345.051 Q1648.32 345.051 1650.03 343.5 Q1651.77 341.926 1651.77 338.893 Q1651.77 335.861 1650.03 334.333 Q1648.32 332.782 1644.94 332.782 L1639.06 332.782 Z\" fill=\"#000000\" fill-rule=\"evenodd\" fill-opacity=\"1\" /><path clip-path=\"url(#clip930)\" d=\"M 0 0 M1689.48 331.602 L1689.48 336.532 Q1687.12 334.333 1684.43 333.245 Q1681.77 332.157 1678.76 332.157 Q1672.83 332.157 1669.69 335.792 Q1666.54 339.403 1666.54 346.254 Q1666.54 353.083 1669.69 356.717 Q1672.83 360.328 1678.76 360.328 Q1681.77 360.328 1684.43 359.24 Q1687.12 358.153 1689.48 355.953 L1689.48 360.838 Q1687.02 362.504 1684.27 363.338 Q1681.54 364.171 1678.48 364.171 Q1670.63 364.171 1666.12 359.379 Q1661.61 354.565 1661.61 346.254 Q1661.61 337.921 1666.12 333.13 Q1670.63 328.315 1678.48 328.315 Q1681.58 328.315 1684.32 329.148 Q1687.07 329.958 1689.48 331.602 Z\" fill=\"#000000\" fill-rule=\"evenodd\" fill-opacity=\"1\" /><path clip-path=\"url(#clip930)\" d=\"M 0 0 M1705.68 333.546 L1699.34 350.745 L1712.05 350.745 L1705.68 333.546 M1703.04 328.94 L1708.34 328.94 L1721.51 363.5 L1716.65 363.5 L1713.5 354.634 L1697.93 354.634 L1694.78 363.5 L1689.85 363.5 L1703.04 328.94 Z\" fill=\"#000000\" fill-rule=\"evenodd\" fill-opacity=\"1\" /><path clip-path=\"url(#clip930)\" d=\"M 0 0 M1727.39 359.565 L1735.03 359.565 L1735.03 333.199 L1726.72 334.866 L1726.72 330.606 L1734.99 328.94 L1739.66 328.94 L1739.66 359.565 L1747.3 359.565 L1747.3 363.5 L1727.39 363.5 L1727.39 359.565 Z\" fill=\"#000000\" fill-rule=\"evenodd\" fill-opacity=\"1\" /><path clip-path=\"url(#clip930)\" d=\"M 0 0 M1752.86 357.62 L1757.74 357.62 L1757.74 363.5 L1752.86 363.5 L1752.86 357.62 M1752.86 338.986 L1757.74 338.986 L1757.74 344.866 L1752.86 344.866 L1752.86 338.986 Z\" fill=\"#000000\" fill-rule=\"evenodd\" fill-opacity=\"1\" /><path clip-path=\"url(#clip930)\" d=\"M 0 0 M1760.4 328.94 L1787.56 328.94 L1787.56 332.505 L1765.7 359.565 L1788.09 359.565 L1788.09 363.5 L1759.87 363.5 L1759.87 359.935 L1781.72 332.875 L1760.4 332.875 L1760.4 328.94 Z\" fill=\"#000000\" fill-rule=\"evenodd\" fill-opacity=\"1\" /><path clip-path=\"url(#clip930)\" d=\"M 0 0 M1793.11 339.981 L1793.11 335.907 L1822.79 344.403 L1822.79 348.338 L1793.11 356.856 L1793.11 352.736 L1815.36 346.393 L1793.11 339.981 M1822.79 359.565 L1822.79 363.5 L1793.11 363.5 L1793.11 359.565 L1822.79 359.565 Z\" fill=\"#000000\" fill-rule=\"evenodd\" fill-opacity=\"1\" /><path clip-path=\"url(#clip930)\" d=\"M 0 0 M1828.67 359.565 L1836.31 359.565 L1836.31 333.199 L1827.99 334.866 L1827.99 330.606 L1836.26 328.94 L1840.93 328.94 L1840.93 359.565 L1848.57 359.565 L1848.57 363.5 L1828.67 363.5 L1828.67 359.565 Z\" fill=\"#000000\" fill-rule=\"evenodd\" fill-opacity=\"1\" /><path clip-path=\"url(#clip930)\" d=\"M 0 0 M1853.64 357.62 L1858.53 357.62 L1858.53 363.5 L1853.64 363.5 L1853.64 357.62 Z\" fill=\"#000000\" fill-rule=\"evenodd\" fill-opacity=\"1\" /><path clip-path=\"url(#clip930)\" d=\"M 0 0 M1863.64 328.94 L1882 328.94 L1882 332.875 L1867.93 332.875 L1867.93 341.347 Q1868.94 341 1869.96 340.838 Q1870.98 340.653 1872 340.653 Q1877.79 340.653 1881.17 343.824 Q1884.55 346.995 1884.55 352.412 Q1884.55 357.99 1881.07 361.092 Q1877.6 364.171 1871.28 364.171 Q1869.11 364.171 1866.84 363.801 Q1864.59 363.43 1862.18 362.69 L1862.18 357.99 Q1864.27 359.125 1866.49 359.68 Q1868.71 360.236 1871.19 360.236 Q1875.19 360.236 1877.53 358.129 Q1879.87 356.023 1879.87 352.412 Q1879.87 348.801 1877.53 346.694 Q1875.19 344.588 1871.19 344.588 Q1869.31 344.588 1867.44 345.004 Q1865.59 345.421 1863.64 346.301 L1863.64 328.94 Z\" fill=\"#000000\" fill-rule=\"evenodd\" fill-opacity=\"1\" /><path clip-path=\"url(#clip930)\" d=\"M 0 0 M1911.14 344.912 Q1909.04 346.787 1908.04 348.662 Q1907.07 350.514 1907.07 352.551 Q1907.07 355.93 1909.52 358.176 Q1911.98 360.421 1915.68 360.421 Q1917.88 360.421 1919.8 359.703 Q1921.72 358.963 1923.41 357.481 L1911.14 344.912 M1914.41 342.319 L1926.17 354.356 Q1927.53 352.296 1928.3 349.958 Q1929.06 347.597 1929.2 344.958 L1933.5 344.958 Q1933.23 348.014 1932.02 351 Q1930.82 353.986 1928.67 356.903 L1935.12 363.5 L1929.29 363.5 L1925.98 360.097 Q1923.57 362.157 1920.93 363.176 Q1918.3 364.171 1915.26 364.171 Q1909.68 364.171 1906.14 361 Q1902.6 357.805 1902.6 352.828 Q1902.6 349.866 1904.15 347.273 Q1905.7 344.657 1908.8 342.366 Q1907.69 340.907 1907.11 339.472 Q1906.54 338.014 1906.54 336.625 Q1906.54 332.875 1909.11 330.606 Q1911.68 328.315 1915.93 328.315 Q1917.86 328.315 1919.75 328.731 Q1921.67 329.148 1923.64 329.981 L1923.64 334.194 Q1921.63 333.106 1919.8 332.551 Q1917.97 331.972 1916.4 331.972 Q1913.97 331.972 1912.44 333.268 Q1910.93 334.542 1910.93 336.579 Q1910.93 337.759 1911.61 338.963 Q1912.3 340.143 1914.41 342.319 Z\" fill=\"#000000\" fill-rule=\"evenodd\" fill-opacity=\"1\" /><path clip-path=\"url(#clip930)\" d=\"M 0 0 M1959.52 346.995 L1959.52 359.657 L1967.02 359.657 Q1970.8 359.657 1972.6 358.106 Q1974.43 356.532 1974.43 353.315 Q1974.43 350.074 1972.6 348.546 Q1970.8 346.995 1967.02 346.995 L1959.52 346.995 M1959.52 332.782 L1959.52 343.199 L1966.44 343.199 Q1969.87 343.199 1971.54 341.926 Q1973.23 340.629 1973.23 337.991 Q1973.23 335.375 1971.54 334.079 Q1969.87 332.782 1966.44 332.782 L1959.52 332.782 M1954.85 328.94 L1966.79 328.94 Q1972.14 328.94 1975.03 331.162 Q1977.92 333.384 1977.92 337.481 Q1977.92 340.653 1976.44 342.528 Q1974.96 344.403 1972.09 344.866 Q1975.54 345.606 1977.44 347.967 Q1979.36 350.305 1979.36 353.824 Q1979.36 358.453 1976.21 360.977 Q1973.06 363.5 1967.25 363.5 L1954.85 363.5 L1954.85 328.94 Z\" fill=\"#000000\" fill-rule=\"evenodd\" fill-opacity=\"1\" /><path clip-path=\"url(#clip930)\" d=\"M 0 0 M2000.4 347.296 Q2001.91 347.805 2003.32 349.472 Q2004.75 351.139 2006.19 354.055 L2010.93 363.5 L2005.91 363.5 L2001.49 354.634 Q1999.78 351.162 1998.16 350.028 Q1996.56 348.893 1993.78 348.893 L1988.69 348.893 L1988.69 363.5 L1984.01 363.5 L1984.01 328.94 L1994.57 328.94 Q2000.49 328.94 2003.41 331.417 Q2006.33 333.893 2006.33 338.893 Q2006.33 342.157 2004.8 344.31 Q2003.29 346.463 2000.4 347.296 M1988.69 332.782 L1988.69 345.051 L1994.57 345.051 Q1997.95 345.051 1999.66 343.5 Q2001.4 341.926 2001.4 338.893 Q2001.4 335.861 1999.66 334.333 Q1997.95 332.782 1994.57 332.782 L1988.69 332.782 Z\" fill=\"#000000\" fill-rule=\"evenodd\" fill-opacity=\"1\" /><path clip-path=\"url(#clip930)\" d=\"M 0 0 M2039.1 331.602 L2039.1 336.532 Q2036.74 334.333 2034.06 333.245 Q2031.4 332.157 2028.39 332.157 Q2022.46 332.157 2019.31 335.792 Q2016.17 339.403 2016.17 346.254 Q2016.17 353.083 2019.31 356.717 Q2022.46 360.328 2028.39 360.328 Q2031.4 360.328 2034.06 359.24 Q2036.74 358.153 2039.1 355.953 L2039.1 360.838 Q2036.65 362.504 2033.9 363.338 Q2031.17 364.171 2028.11 364.171 Q2020.26 364.171 2015.75 359.379 Q2011.23 354.565 2011.23 346.254 Q2011.23 337.921 2015.75 333.13 Q2020.26 328.315 2028.11 328.315 Q2031.21 328.315 2033.94 329.148 Q2036.7 329.958 2039.1 331.602 Z\" fill=\"#000000\" fill-rule=\"evenodd\" fill-opacity=\"1\" /><path clip-path=\"url(#clip930)\" d=\"M 0 0 M2055.31 333.546 L2048.97 350.745 L2061.67 350.745 L2055.31 333.546 M2052.67 328.94 L2057.97 328.94 L2071.14 363.5 L2066.28 363.5 L2063.13 354.634 L2047.55 354.634 L2044.41 363.5 L2039.48 363.5 L2052.67 328.94 Z\" fill=\"#000000\" fill-rule=\"evenodd\" fill-opacity=\"1\" /><path clip-path=\"url(#clip930)\" d=\"M 0 0 M2080.24 359.565 L2096.56 359.565 L2096.56 363.5 L2074.61 363.5 L2074.61 359.565 Q2077.28 356.81 2081.86 352.18 Q2086.47 347.528 2087.65 346.185 Q2089.89 343.662 2090.77 341.926 Q2091.67 340.167 2091.67 338.477 Q2091.67 335.722 2089.73 333.986 Q2087.81 332.25 2084.71 332.25 Q2082.51 332.25 2080.05 333.014 Q2077.62 333.778 2074.85 335.329 L2074.85 330.606 Q2077.67 329.472 2080.12 328.893 Q2082.58 328.315 2084.61 328.315 Q2089.98 328.315 2093.18 331 Q2096.37 333.685 2096.37 338.176 Q2096.37 340.305 2095.56 342.227 Q2094.78 344.125 2092.67 346.717 Q2092.09 347.389 2088.99 350.606 Q2085.89 353.801 2080.24 359.565 Z\" fill=\"#000000\" fill-rule=\"evenodd\" fill-opacity=\"1\" /><path clip-path=\"url(#clip930)\" d=\"M 0 0 M2102.11 357.62 L2107 357.62 L2107 363.5 L2102.11 363.5 L2102.11 357.62 M2102.11 338.986 L2107 338.986 L2107 344.866 L2102.11 344.866 L2102.11 338.986 Z\" fill=\"#000000\" fill-rule=\"evenodd\" fill-opacity=\"1\" /><path clip-path=\"url(#clip930)\" d=\"M 0 0 M2109.66 328.94 L2136.81 328.94 L2136.81 332.505 L2114.96 359.565 L2137.35 359.565 L2137.35 363.5 L2109.13 363.5 L2109.13 359.935 L2130.98 332.875 L2109.66 332.875 L2109.66 328.94 Z\" fill=\"#000000\" fill-rule=\"evenodd\" fill-opacity=\"1\" /><path clip-path=\"url(#clip930)\" d=\"M 0 0 M2142.37 339.981 L2142.37 335.907 L2172.04 344.403 L2172.04 348.338 L2142.37 356.856 L2142.37 352.736 L2164.61 346.393 L2142.37 339.981 M2172.04 359.565 L2172.04 363.5 L2142.37 363.5 L2142.37 359.565 L2172.04 359.565 Z\" fill=\"#000000\" fill-rule=\"evenodd\" fill-opacity=\"1\" /><path clip-path=\"url(#clip930)\" d=\"M 0 0 M2177.92 359.565 L2185.56 359.565 L2185.56 333.199 L2177.25 334.866 L2177.25 330.606 L2185.52 328.94 L2190.19 328.94 L2190.19 359.565 L2197.83 359.565 L2197.83 363.5 L2177.92 363.5 L2177.92 359.565 Z\" fill=\"#000000\" fill-rule=\"evenodd\" fill-opacity=\"1\" /><path clip-path=\"url(#clip930)\" d=\"M 0 0 M2202.9 357.62 L2207.78 357.62 L2207.78 363.5 L2202.9 363.5 L2202.9 357.62 Z\" fill=\"#000000\" fill-rule=\"evenodd\" fill-opacity=\"1\" /><path clip-path=\"url(#clip930)\" d=\"M 0 0 M2212.9 328.94 L2231.26 328.94 L2231.26 332.875 L2217.18 332.875 L2217.18 341.347 Q2218.2 341 2219.22 340.838 Q2220.24 340.653 2221.26 340.653 Q2227.04 340.653 2230.42 343.824 Q2233.8 346.995 2233.8 352.412 Q2233.8 357.99 2230.33 361.092 Q2226.86 364.171 2220.54 364.171 Q2218.36 364.171 2216.09 363.801 Q2213.85 363.43 2211.44 362.69 L2211.44 357.99 Q2213.53 359.125 2215.75 359.68 Q2217.97 360.236 2220.45 360.236 Q2224.45 360.236 2226.79 358.129 Q2229.13 356.023 2229.13 352.412 Q2229.13 348.801 2226.79 346.694 Q2224.45 344.588 2220.45 344.588 Q2218.57 344.588 2216.7 345.004 Q2214.84 345.421 2212.9 346.301 L2212.9 328.94 Z\" fill=\"#000000\" fill-rule=\"evenodd\" fill-opacity=\"1\" /></svg>\n"
      ]
     },
     "execution_count": 82,
     "metadata": {},
     "output_type": "execute_result"
    }
   ],
   "source": [
    "interactive_perform_survival(config_json)"
   ]
  },
  {
   "cell_type": "code",
   "execution_count": 83,
   "metadata": {},
   "outputs": [
    {
     "data": {
      "text/plain": [
       "\"{ \\n    \\\"study_id\\\": \\\"brca_tcga_pub2015\\\", \\n    \\\"molecular_profile_id\\\": \\\"brca_tcga_pub2015_rna_seq_v2_mrna_median_Zscores\\\",\\n    \\\"genes\\\": [\\n        { \\\"hugo\\\": \\\"PTEN\\\",\\n          \\\"entrez\\\": 5728,\\n          \\\"side\\\": \\\"above\\\",\\n          \\\"zscore\\\": 0.25 },\\n        { \\\"hugo\\\": \\\"TP53\\\",\\n          \\\"entrez\\\": 7157,\\n          \\\"side\\\": \\\"above\\\",\\n          \\\"zscore\\\": 0.25 }\\n    ]\\n}\\n\""
      ]
     },
     "execution_count": 83,
     "metadata": {},
     "output_type": "execute_result"
    }
   ],
   "source": [
    "config_json = \"\"\"\n",
    "{ \n",
    "    \"study_id\": \"brca_tcga_pub2015\", \n",
    "    \"molecular_profile_id\": \"brca_tcga_pub2015_rna_seq_v2_mrna_median_Zscores\",\n",
    "    \"genes\": [\n",
    "        { \"hugo\": \"PTEN\",\n",
    "          \"entrez\": 5728,\n",
    "          \"side\": \"above\",\n",
    "          \"zscore\": 0.25 },\n",
    "        { \"hugo\": \"TP53\",\n",
    "          \"entrez\": 7157,\n",
    "          \"side\": \"above\",\n",
    "          \"zscore\": 0.25 }\n",
    "    ]\n",
    "}\n",
    "\"\"\""
   ]
  },
  {
   "cell_type": "code",
   "execution_count": 84,
   "metadata": {},
   "outputs": [
    {
     "name": "stdout",
     "output_type": "stream",
     "text": [
      "Dict(\"p_value\" => [0.023221356411472185],\"estimate\" => [0.6302145034233457])\n"
     ]
    },
    {
     "data": {
      "image/svg+xml": [
       "<?xml version=\"1.0\" encoding=\"utf-8\"?>\n",
       "<svg xmlns=\"http://www.w3.org/2000/svg\" xmlns:xlink=\"http://www.w3.org/1999/xlink\" width=\"600\" height=\"400\" viewBox=\"0 0 2400 1600\">\n",
       "<defs>\n",
       "  <clipPath id=\"clip970\">\n",
       "    <rect x=\"0\" y=\"0\" width=\"2400\" height=\"1600\"/>\n",
       "  </clipPath>\n",
       "</defs>\n",
       "<path clip-path=\"url(#clip970)\" d=\"\n",
       "M0 1600 L2400 1600 L2400 0 L0 0  Z\n",
       "  \" fill=\"#ffffff\" fill-rule=\"evenodd\" fill-opacity=\"1\"/>\n",
       "<defs>\n",
       "  <clipPath id=\"clip971\">\n",
       "    <rect x=\"480\" y=\"0\" width=\"1681\" height=\"1600\"/>\n",
       "  </clipPath>\n",
       "</defs>\n",
       "<path clip-path=\"url(#clip970)\" d=\"\n",
       "M211.602 1423.18 L2352.76 1423.18 L2352.76 183.952 L211.602 183.952  Z\n",
       "  \" fill=\"#ffffff\" fill-rule=\"evenodd\" fill-opacity=\"1\"/>\n",
       "<defs>\n",
       "  <clipPath id=\"clip972\">\n",
       "    <rect x=\"211\" y=\"183\" width=\"2142\" height=\"1240\"/>\n",
       "  </clipPath>\n",
       "</defs>\n",
       "<polyline clip-path=\"url(#clip972)\" style=\"stroke:#000000; stroke-width:2; stroke-opacity:0.1; fill:none\" points=\"\n",
       "  274.2,1423.18 274.2,183.952 \n",
       "  \"/>\n",
       "<polyline clip-path=\"url(#clip972)\" style=\"stroke:#000000; stroke-width:2; stroke-opacity:0.1; fill:none\" points=\"\n",
       "  845.293,1423.18 845.293,183.952 \n",
       "  \"/>\n",
       "<polyline clip-path=\"url(#clip972)\" style=\"stroke:#000000; stroke-width:2; stroke-opacity:0.1; fill:none\" points=\"\n",
       "  1416.39,1423.18 1416.39,183.952 \n",
       "  \"/>\n",
       "<polyline clip-path=\"url(#clip972)\" style=\"stroke:#000000; stroke-width:2; stroke-opacity:0.1; fill:none\" points=\"\n",
       "  1987.48,1423.18 1987.48,183.952 \n",
       "  \"/>\n",
       "<polyline clip-path=\"url(#clip972)\" style=\"stroke:#000000; stroke-width:2; stroke-opacity:0.1; fill:none\" points=\"\n",
       "  211.602,1376.34 2352.76,1376.34 \n",
       "  \"/>\n",
       "<polyline clip-path=\"url(#clip972)\" style=\"stroke:#000000; stroke-width:2; stroke-opacity:0.1; fill:none\" points=\"\n",
       "  211.602,1087.01 2352.76,1087.01 \n",
       "  \"/>\n",
       "<polyline clip-path=\"url(#clip972)\" style=\"stroke:#000000; stroke-width:2; stroke-opacity:0.1; fill:none\" points=\"\n",
       "  211.602,797.68 2352.76,797.68 \n",
       "  \"/>\n",
       "<polyline clip-path=\"url(#clip972)\" style=\"stroke:#000000; stroke-width:2; stroke-opacity:0.1; fill:none\" points=\"\n",
       "  211.602,508.352 2352.76,508.352 \n",
       "  \"/>\n",
       "<polyline clip-path=\"url(#clip972)\" style=\"stroke:#000000; stroke-width:2; stroke-opacity:0.1; fill:none\" points=\"\n",
       "  211.602,219.025 2352.76,219.025 \n",
       "  \"/>\n",
       "<polyline clip-path=\"url(#clip970)\" style=\"stroke:#000000; stroke-width:4; stroke-opacity:1; fill:none\" points=\"\n",
       "  211.602,1423.18 2352.76,1423.18 \n",
       "  \"/>\n",
       "<polyline clip-path=\"url(#clip970)\" style=\"stroke:#000000; stroke-width:4; stroke-opacity:1; fill:none\" points=\"\n",
       "  211.602,1423.18 211.602,183.952 \n",
       "  \"/>\n",
       "<polyline clip-path=\"url(#clip970)\" style=\"stroke:#000000; stroke-width:4; stroke-opacity:1; fill:none\" points=\"\n",
       "  274.2,1423.18 274.2,1408.31 \n",
       "  \"/>\n",
       "<polyline clip-path=\"url(#clip970)\" style=\"stroke:#000000; stroke-width:4; stroke-opacity:1; fill:none\" points=\"\n",
       "  845.293,1423.18 845.293,1408.31 \n",
       "  \"/>\n",
       "<polyline clip-path=\"url(#clip970)\" style=\"stroke:#000000; stroke-width:4; stroke-opacity:1; fill:none\" points=\"\n",
       "  1416.39,1423.18 1416.39,1408.31 \n",
       "  \"/>\n",
       "<polyline clip-path=\"url(#clip970)\" style=\"stroke:#000000; stroke-width:4; stroke-opacity:1; fill:none\" points=\"\n",
       "  1987.48,1423.18 1987.48,1408.31 \n",
       "  \"/>\n",
       "<polyline clip-path=\"url(#clip970)\" style=\"stroke:#000000; stroke-width:4; stroke-opacity:1; fill:none\" points=\"\n",
       "  211.602,1376.34 237.296,1376.34 \n",
       "  \"/>\n",
       "<polyline clip-path=\"url(#clip970)\" style=\"stroke:#000000; stroke-width:4; stroke-opacity:1; fill:none\" points=\"\n",
       "  211.602,1087.01 237.296,1087.01 \n",
       "  \"/>\n",
       "<polyline clip-path=\"url(#clip970)\" style=\"stroke:#000000; stroke-width:4; stroke-opacity:1; fill:none\" points=\"\n",
       "  211.602,797.68 237.296,797.68 \n",
       "  \"/>\n",
       "<polyline clip-path=\"url(#clip970)\" style=\"stroke:#000000; stroke-width:4; stroke-opacity:1; fill:none\" points=\"\n",
       "  211.602,508.352 237.296,508.352 \n",
       "  \"/>\n",
       "<polyline clip-path=\"url(#clip970)\" style=\"stroke:#000000; stroke-width:4; stroke-opacity:1; fill:none\" points=\"\n",
       "  211.602,219.025 237.296,219.025 \n",
       "  \"/>\n",
       "<path clip-path=\"url(#clip970)\" d=\"M 0 0 M274.2 1445.17 Q270.589 1445.17 268.76 1448.74 Q266.955 1452.28 266.955 1459.41 Q266.955 1466.51 268.76 1470.08 Q270.589 1473.62 274.2 1473.62 Q277.834 1473.62 279.64 1470.08 Q281.468 1466.51 281.468 1459.41 Q281.468 1452.28 279.64 1448.74 Q277.834 1445.17 274.2 1445.17 M274.2 1441.47 Q280.01 1441.47 283.066 1446.07 Q286.144 1450.66 286.144 1459.41 Q286.144 1468.13 283.066 1472.74 Q280.01 1477.32 274.2 1477.32 Q268.39 1477.32 265.311 1472.74 Q262.256 1468.13 262.256 1459.41 Q262.256 1450.66 265.311 1446.07 Q268.39 1441.47 274.2 1441.47 Z\" fill=\"#000000\" fill-rule=\"evenodd\" fill-opacity=\"1\" /><path clip-path=\"url(#clip970)\" d=\"M 0 0 M799.425 1472.72 L815.745 1472.72 L815.745 1476.65 L793.8 1476.65 L793.8 1472.72 Q796.462 1469.96 801.046 1465.33 Q805.652 1460.68 806.833 1459.34 Q809.078 1456.81 809.958 1455.08 Q810.86 1453.32 810.86 1451.63 Q810.86 1448.87 808.916 1447.14 Q806.995 1445.4 803.893 1445.4 Q801.694 1445.4 799.24 1446.17 Q796.809 1446.93 794.032 1448.48 L794.032 1443.76 Q796.856 1442.62 799.309 1442.05 Q801.763 1441.47 803.8 1441.47 Q809.17 1441.47 812.365 1444.15 Q815.559 1446.84 815.559 1451.33 Q815.559 1453.46 814.749 1455.38 Q813.962 1457.28 811.856 1459.87 Q811.277 1460.54 808.175 1463.76 Q805.073 1466.95 799.425 1472.72 Z\" fill=\"#000000\" fill-rule=\"evenodd\" fill-opacity=\"1\" /><path clip-path=\"url(#clip970)\" d=\"M 0 0 M830.814 1445.17 Q827.203 1445.17 825.374 1448.74 Q823.569 1452.28 823.569 1459.41 Q823.569 1466.51 825.374 1470.08 Q827.203 1473.62 830.814 1473.62 Q834.448 1473.62 836.254 1470.08 Q838.082 1466.51 838.082 1459.41 Q838.082 1452.28 836.254 1448.74 Q834.448 1445.17 830.814 1445.17 M830.814 1441.47 Q836.624 1441.47 839.68 1446.07 Q842.758 1450.66 842.758 1459.41 Q842.758 1468.13 839.68 1472.74 Q836.624 1477.32 830.814 1477.32 Q825.004 1477.32 821.925 1472.74 Q818.87 1468.13 818.87 1459.41 Q818.87 1450.66 821.925 1446.07 Q825.004 1441.47 830.814 1441.47 Z\" fill=\"#000000\" fill-rule=\"evenodd\" fill-opacity=\"1\" /><path clip-path=\"url(#clip970)\" d=\"M 0 0 M857.828 1445.17 Q854.217 1445.17 852.388 1448.74 Q850.582 1452.28 850.582 1459.41 Q850.582 1466.51 852.388 1470.08 Q854.217 1473.62 857.828 1473.62 Q861.462 1473.62 863.267 1470.08 Q865.096 1466.51 865.096 1459.41 Q865.096 1452.28 863.267 1448.74 Q861.462 1445.17 857.828 1445.17 M857.828 1441.47 Q863.638 1441.47 866.693 1446.07 Q869.772 1450.66 869.772 1459.41 Q869.772 1468.13 866.693 1472.74 Q863.638 1477.32 857.828 1477.32 Q852.017 1477.32 848.939 1472.74 Q845.883 1468.13 845.883 1459.41 Q845.883 1450.66 848.939 1446.07 Q852.017 1441.47 857.828 1441.47 Z\" fill=\"#000000\" fill-rule=\"evenodd\" fill-opacity=\"1\" /><path clip-path=\"url(#clip970)\" d=\"M 0 0 M884.841 1445.17 Q881.23 1445.17 879.402 1448.74 Q877.596 1452.28 877.596 1459.41 Q877.596 1466.51 879.402 1470.08 Q881.23 1473.62 884.841 1473.62 Q888.476 1473.62 890.281 1470.08 Q892.11 1466.51 892.11 1459.41 Q892.11 1452.28 890.281 1448.74 Q888.476 1445.17 884.841 1445.17 M884.841 1441.47 Q890.652 1441.47 893.707 1446.07 Q896.786 1450.66 896.786 1459.41 Q896.786 1468.13 893.707 1472.74 Q890.652 1477.32 884.841 1477.32 Q879.031 1477.32 875.953 1472.74 Q872.897 1468.13 872.897 1459.41 Q872.897 1450.66 875.953 1446.07 Q879.031 1441.47 884.841 1441.47 Z\" fill=\"#000000\" fill-rule=\"evenodd\" fill-opacity=\"1\" /><path clip-path=\"url(#clip970)\" d=\"M 0 0 M1378.87 1446.17 L1367.07 1464.61 L1378.87 1464.61 L1378.87 1446.17 M1377.65 1442.09 L1383.53 1442.09 L1383.53 1464.61 L1388.46 1464.61 L1388.46 1468.5 L1383.53 1468.5 L1383.53 1476.65 L1378.87 1476.65 L1378.87 1468.5 L1363.27 1468.5 L1363.27 1463.99 L1377.65 1442.09 Z\" fill=\"#000000\" fill-rule=\"evenodd\" fill-opacity=\"1\" /><path clip-path=\"url(#clip970)\" d=\"M 0 0 M1403.53 1445.17 Q1399.92 1445.17 1398.09 1448.74 Q1396.28 1452.28 1396.28 1459.41 Q1396.28 1466.51 1398.09 1470.08 Q1399.92 1473.62 1403.53 1473.62 Q1407.16 1473.62 1408.97 1470.08 Q1410.8 1466.51 1410.8 1459.41 Q1410.8 1452.28 1408.97 1448.74 Q1407.16 1445.17 1403.53 1445.17 M1403.53 1441.47 Q1409.34 1441.47 1412.39 1446.07 Q1415.47 1450.66 1415.47 1459.41 Q1415.47 1468.13 1412.39 1472.74 Q1409.34 1477.32 1403.53 1477.32 Q1397.72 1477.32 1394.64 1472.74 Q1391.58 1468.13 1391.58 1459.41 Q1391.58 1450.66 1394.64 1446.07 Q1397.72 1441.47 1403.53 1441.47 Z\" fill=\"#000000\" fill-rule=\"evenodd\" fill-opacity=\"1\" /><path clip-path=\"url(#clip970)\" d=\"M 0 0 M1430.54 1445.17 Q1426.93 1445.17 1425.1 1448.74 Q1423.3 1452.28 1423.3 1459.41 Q1423.3 1466.51 1425.1 1470.08 Q1426.93 1473.62 1430.54 1473.62 Q1434.18 1473.62 1435.98 1470.08 Q1437.81 1466.51 1437.81 1459.41 Q1437.81 1452.28 1435.98 1448.74 Q1434.18 1445.17 1430.54 1445.17 M1430.54 1441.47 Q1436.35 1441.47 1439.41 1446.07 Q1442.49 1450.66 1442.49 1459.41 Q1442.49 1468.13 1439.41 1472.74 Q1436.35 1477.32 1430.54 1477.32 Q1424.73 1477.32 1421.65 1472.74 Q1418.6 1468.13 1418.6 1459.41 Q1418.6 1450.66 1421.65 1446.07 Q1424.73 1441.47 1430.54 1441.47 Z\" fill=\"#000000\" fill-rule=\"evenodd\" fill-opacity=\"1\" /><path clip-path=\"url(#clip970)\" d=\"M 0 0 M1457.55 1445.17 Q1453.94 1445.17 1452.12 1448.74 Q1450.31 1452.28 1450.31 1459.41 Q1450.31 1466.51 1452.12 1470.08 Q1453.94 1473.62 1457.55 1473.62 Q1461.19 1473.62 1462.99 1470.08 Q1464.82 1466.51 1464.82 1459.41 Q1464.82 1452.28 1462.99 1448.74 Q1461.19 1445.17 1457.55 1445.17 M1457.55 1441.47 Q1463.36 1441.47 1466.42 1446.07 Q1469.5 1450.66 1469.5 1459.41 Q1469.5 1468.13 1466.42 1472.74 Q1463.36 1477.32 1457.55 1477.32 Q1451.74 1477.32 1448.67 1472.74 Q1445.61 1468.13 1445.61 1459.41 Q1445.61 1450.66 1448.67 1446.07 Q1451.74 1441.47 1457.55 1441.47 Z\" fill=\"#000000\" fill-rule=\"evenodd\" fill-opacity=\"1\" /><path clip-path=\"url(#clip970)\" d=\"M 0 0 M1947.36 1457.51 Q1944.22 1457.51 1942.36 1459.66 Q1940.53 1461.81 1940.53 1465.56 Q1940.53 1469.29 1942.36 1471.47 Q1944.22 1473.62 1947.36 1473.62 Q1950.51 1473.62 1952.34 1471.47 Q1954.19 1469.29 1954.19 1465.56 Q1954.19 1461.81 1952.34 1459.66 Q1950.51 1457.51 1947.36 1457.51 M1956.65 1442.86 L1956.65 1447.11 Q1954.89 1446.28 1953.08 1445.84 Q1951.3 1445.4 1949.54 1445.4 Q1944.91 1445.4 1942.46 1448.53 Q1940.03 1451.65 1939.68 1457.97 Q1941.04 1455.96 1943.1 1454.89 Q1945.16 1453.8 1947.64 1453.8 Q1952.85 1453.8 1955.86 1456.98 Q1958.89 1460.12 1958.89 1465.56 Q1958.89 1470.89 1955.74 1474.11 Q1952.6 1477.32 1947.36 1477.32 Q1941.37 1477.32 1938.2 1472.74 Q1935.03 1468.13 1935.03 1459.41 Q1935.03 1451.21 1938.91 1446.35 Q1942.8 1441.47 1949.35 1441.47 Q1951.11 1441.47 1952.9 1441.81 Q1954.7 1442.16 1956.65 1442.86 Z\" fill=\"#000000\" fill-rule=\"evenodd\" fill-opacity=\"1\" /><path clip-path=\"url(#clip970)\" d=\"M 0 0 M1973.96 1445.17 Q1970.35 1445.17 1968.52 1448.74 Q1966.72 1452.28 1966.72 1459.41 Q1966.72 1466.51 1968.52 1470.08 Q1970.35 1473.62 1973.96 1473.62 Q1977.59 1473.62 1979.4 1470.08 Q1981.23 1466.51 1981.23 1459.41 Q1981.23 1452.28 1979.4 1448.74 Q1977.59 1445.17 1973.96 1445.17 M1973.96 1441.47 Q1979.77 1441.47 1982.83 1446.07 Q1985.91 1450.66 1985.91 1459.41 Q1985.91 1468.13 1982.83 1472.74 Q1979.77 1477.32 1973.96 1477.32 Q1968.15 1477.32 1965.07 1472.74 Q1962.02 1468.13 1962.02 1459.41 Q1962.02 1450.66 1965.07 1446.07 Q1968.15 1441.47 1973.96 1441.47 Z\" fill=\"#000000\" fill-rule=\"evenodd\" fill-opacity=\"1\" /><path clip-path=\"url(#clip970)\" d=\"M 0 0 M2000.97 1445.17 Q1997.36 1445.17 1995.53 1448.74 Q1993.73 1452.28 1993.73 1459.41 Q1993.73 1466.51 1995.53 1470.08 Q1997.36 1473.62 2000.97 1473.62 Q2004.61 1473.62 2006.41 1470.08 Q2008.24 1466.51 2008.24 1459.41 Q2008.24 1452.28 2006.41 1448.74 Q2004.61 1445.17 2000.97 1445.17 M2000.97 1441.47 Q2006.78 1441.47 2009.84 1446.07 Q2012.92 1450.66 2012.92 1459.41 Q2012.92 1468.13 2009.84 1472.74 Q2006.78 1477.32 2000.97 1477.32 Q1995.16 1477.32 1992.09 1472.74 Q1989.03 1468.13 1989.03 1459.41 Q1989.03 1450.66 1992.09 1446.07 Q1995.16 1441.47 2000.97 1441.47 Z\" fill=\"#000000\" fill-rule=\"evenodd\" fill-opacity=\"1\" /><path clip-path=\"url(#clip970)\" d=\"M 0 0 M2027.99 1445.17 Q2024.38 1445.17 2022.55 1448.74 Q2020.74 1452.28 2020.74 1459.41 Q2020.74 1466.51 2022.55 1470.08 Q2024.38 1473.62 2027.99 1473.62 Q2031.62 1473.62 2033.43 1470.08 Q2035.26 1466.51 2035.26 1459.41 Q2035.26 1452.28 2033.43 1448.74 Q2031.62 1445.17 2027.99 1445.17 M2027.99 1441.47 Q2033.8 1441.47 2036.85 1446.07 Q2039.93 1450.66 2039.93 1459.41 Q2039.93 1468.13 2036.85 1472.74 Q2033.8 1477.32 2027.99 1477.32 Q2022.18 1477.32 2019.1 1472.74 Q2016.04 1468.13 2016.04 1459.41 Q2016.04 1450.66 2019.1 1446.07 Q2022.18 1441.47 2027.99 1441.47 Z\" fill=\"#000000\" fill-rule=\"evenodd\" fill-opacity=\"1\" /><path clip-path=\"url(#clip970)\" d=\"M 0 0 M140.288 1362.13 Q136.677 1362.13 134.848 1365.7 Q133.043 1369.24 133.043 1376.37 Q133.043 1383.48 134.848 1387.04 Q136.677 1390.58 140.288 1390.58 Q143.922 1390.58 145.728 1387.04 Q147.556 1383.48 147.556 1376.37 Q147.556 1369.24 145.728 1365.7 Q143.922 1362.13 140.288 1362.13 M140.288 1358.43 Q146.098 1358.43 149.154 1363.04 Q152.232 1367.62 152.232 1376.37 Q152.232 1385.1 149.154 1389.7 Q146.098 1394.29 140.288 1394.29 Q134.478 1394.29 131.399 1389.7 Q128.343 1385.1 128.343 1376.37 Q128.343 1367.62 131.399 1363.04 Q134.478 1358.43 140.288 1358.43 Z\" fill=\"#000000\" fill-rule=\"evenodd\" fill-opacity=\"1\" /><path clip-path=\"url(#clip970)\" d=\"M 0 0 M157.302 1387.74 L162.186 1387.74 L162.186 1393.62 L157.302 1393.62 L157.302 1387.74 Z\" fill=\"#000000\" fill-rule=\"evenodd\" fill-opacity=\"1\" /><path clip-path=\"url(#clip970)\" d=\"M 0 0 M171.283 1389.68 L187.602 1389.68 L187.602 1393.62 L165.658 1393.62 L165.658 1389.68 Q168.32 1386.93 172.903 1382.3 Q177.51 1377.64 178.69 1376.3 Q180.936 1373.78 181.815 1372.04 Q182.718 1370.28 182.718 1368.59 Q182.718 1365.84 180.774 1364.1 Q178.852 1362.37 175.751 1362.37 Q173.552 1362.37 171.098 1363.13 Q168.667 1363.89 165.89 1365.44 L165.89 1360.72 Q168.714 1359.59 171.167 1359.01 Q173.621 1358.43 175.658 1358.43 Q181.028 1358.43 184.223 1361.12 Q187.417 1363.8 187.417 1368.29 Q187.417 1370.42 186.607 1372.34 Q185.82 1374.24 183.714 1376.83 Q183.135 1377.5 180.033 1380.72 Q176.931 1383.92 171.283 1389.68 Z\" fill=\"#000000\" fill-rule=\"evenodd\" fill-opacity=\"1\" /><path clip-path=\"url(#clip970)\" d=\"M 0 0 M138.205 1072.81 Q134.593 1072.81 132.765 1076.37 Q130.959 1079.91 130.959 1087.04 Q130.959 1094.15 132.765 1097.71 Q134.593 1101.26 138.205 1101.26 Q141.839 1101.26 143.644 1097.71 Q145.473 1094.15 145.473 1087.04 Q145.473 1079.91 143.644 1076.37 Q141.839 1072.81 138.205 1072.81 M138.205 1069.1 Q144.015 1069.1 147.07 1073.71 Q150.149 1078.29 150.149 1087.04 Q150.149 1095.77 147.07 1100.38 Q144.015 1104.96 138.205 1104.96 Q132.394 1104.96 129.316 1100.38 Q126.26 1095.77 126.26 1087.04 Q126.26 1078.29 129.316 1073.71 Q132.394 1069.1 138.205 1069.1 Z\" fill=\"#000000\" fill-rule=\"evenodd\" fill-opacity=\"1\" /><path clip-path=\"url(#clip970)\" d=\"M 0 0 M155.218 1098.41 L160.103 1098.41 L160.103 1104.29 L155.218 1104.29 L155.218 1098.41 Z\" fill=\"#000000\" fill-rule=\"evenodd\" fill-opacity=\"1\" /><path clip-path=\"url(#clip970)\" d=\"M 0 0 M178.019 1073.8 L166.214 1092.25 L178.019 1092.25 L178.019 1073.8 M176.792 1069.73 L182.672 1069.73 L182.672 1092.25 L187.602 1092.25 L187.602 1096.14 L182.672 1096.14 L182.672 1104.29 L178.019 1104.29 L178.019 1096.14 L162.417 1096.14 L162.417 1091.63 L176.792 1069.73 Z\" fill=\"#000000\" fill-rule=\"evenodd\" fill-opacity=\"1\" /><path clip-path=\"url(#clip970)\" d=\"M 0 0 M138.529 783.479 Q134.918 783.479 133.089 787.044 Q131.283 790.585 131.283 797.715 Q131.283 804.821 133.089 808.386 Q134.918 811.928 138.529 811.928 Q142.163 811.928 143.968 808.386 Q145.797 804.821 145.797 797.715 Q145.797 790.585 143.968 787.044 Q142.163 783.479 138.529 783.479 M138.529 779.775 Q144.339 779.775 147.394 784.382 Q150.473 788.965 150.473 797.715 Q150.473 806.442 147.394 811.048 Q144.339 815.631 138.529 815.631 Q132.718 815.631 129.64 811.048 Q126.584 806.442 126.584 797.715 Q126.584 788.965 129.64 784.382 Q132.718 779.775 138.529 779.775 Z\" fill=\"#000000\" fill-rule=\"evenodd\" fill-opacity=\"1\" /><path clip-path=\"url(#clip970)\" d=\"M 0 0 M155.542 809.081 L160.427 809.081 L160.427 814.96 L155.542 814.96 L155.542 809.081 Z\" fill=\"#000000\" fill-rule=\"evenodd\" fill-opacity=\"1\" /><path clip-path=\"url(#clip970)\" d=\"M 0 0 M176.075 795.817 Q172.927 795.817 171.075 797.969 Q169.246 800.122 169.246 803.872 Q169.246 807.599 171.075 809.775 Q172.927 811.928 176.075 811.928 Q179.223 811.928 181.052 809.775 Q182.903 807.599 182.903 803.872 Q182.903 800.122 181.052 797.969 Q179.223 795.817 176.075 795.817 M185.357 781.164 L185.357 785.423 Q183.598 784.59 181.792 784.15 Q180.01 783.71 178.251 783.71 Q173.621 783.71 171.167 786.835 Q168.737 789.96 168.39 796.28 Q169.755 794.266 171.815 793.201 Q173.876 792.113 176.352 792.113 Q181.561 792.113 184.57 795.284 Q187.602 798.432 187.602 803.872 Q187.602 809.196 184.454 812.414 Q181.306 815.631 176.075 815.631 Q170.079 815.631 166.908 811.048 Q163.737 806.442 163.737 797.715 Q163.737 789.52 167.626 784.659 Q171.515 779.775 178.065 779.775 Q179.825 779.775 181.607 780.122 Q183.413 780.47 185.357 781.164 Z\" fill=\"#000000\" fill-rule=\"evenodd\" fill-opacity=\"1\" /><path clip-path=\"url(#clip970)\" d=\"M 0 0 M138.783 494.151 Q135.172 494.151 133.343 497.716 Q131.538 501.257 131.538 508.387 Q131.538 515.494 133.343 519.058 Q135.172 522.6 138.783 522.6 Q142.417 522.6 144.223 519.058 Q146.052 515.494 146.052 508.387 Q146.052 501.257 144.223 497.716 Q142.417 494.151 138.783 494.151 M138.783 490.447 Q144.593 490.447 147.649 495.054 Q150.728 499.637 150.728 508.387 Q150.728 517.114 147.649 521.72 Q144.593 526.304 138.783 526.304 Q132.973 526.304 129.894 521.72 Q126.839 517.114 126.839 508.387 Q126.839 499.637 129.894 495.054 Q132.973 490.447 138.783 490.447 Z\" fill=\"#000000\" fill-rule=\"evenodd\" fill-opacity=\"1\" /><path clip-path=\"url(#clip970)\" d=\"M 0 0 M155.797 519.753 L160.681 519.753 L160.681 525.632 L155.797 525.632 L155.797 519.753 Z\" fill=\"#000000\" fill-rule=\"evenodd\" fill-opacity=\"1\" /><path clip-path=\"url(#clip970)\" d=\"M 0 0 M175.751 509.22 Q172.417 509.22 170.496 511.003 Q168.598 512.785 168.598 515.91 Q168.598 519.035 170.496 520.818 Q172.417 522.6 175.751 522.6 Q179.084 522.6 181.005 520.818 Q182.927 519.012 182.927 515.91 Q182.927 512.785 181.005 511.003 Q179.107 509.22 175.751 509.22 M171.075 507.23 Q168.065 506.489 166.376 504.429 Q164.709 502.369 164.709 499.406 Q164.709 495.262 167.649 492.855 Q170.612 490.447 175.751 490.447 Q180.913 490.447 183.852 492.855 Q186.792 495.262 186.792 499.406 Q186.792 502.369 185.102 504.429 Q183.436 506.489 180.45 507.23 Q183.829 508.017 185.704 510.308 Q187.602 512.6 187.602 515.91 Q187.602 520.933 184.524 523.618 Q181.468 526.304 175.751 526.304 Q170.033 526.304 166.954 523.618 Q163.899 520.933 163.899 515.91 Q163.899 512.6 165.797 510.308 Q167.695 508.017 171.075 507.23 M169.362 499.845 Q169.362 502.531 171.028 504.035 Q172.718 505.54 175.751 505.54 Q178.76 505.54 180.45 504.035 Q182.163 502.531 182.163 499.845 Q182.163 497.16 180.45 495.656 Q178.76 494.151 175.751 494.151 Q172.718 494.151 171.028 495.656 Q169.362 497.16 169.362 499.845 Z\" fill=\"#000000\" fill-rule=\"evenodd\" fill-opacity=\"1\" /><path clip-path=\"url(#clip970)\" d=\"M 0 0 M130.728 232.369 L138.367 232.369 L138.367 206.004 L130.056 207.671 L130.056 203.411 L138.32 201.745 L142.996 201.745 L142.996 232.369 L150.635 232.369 L150.635 236.305 L130.728 236.305 L130.728 232.369 Z\" fill=\"#000000\" fill-rule=\"evenodd\" fill-opacity=\"1\" /><path clip-path=\"url(#clip970)\" d=\"M 0 0 M155.704 230.425 L160.589 230.425 L160.589 236.305 L155.704 236.305 L155.704 230.425 Z\" fill=\"#000000\" fill-rule=\"evenodd\" fill-opacity=\"1\" /><path clip-path=\"url(#clip970)\" d=\"M 0 0 M175.658 204.823 Q172.047 204.823 170.218 208.388 Q168.413 211.93 168.413 219.059 Q168.413 226.166 170.218 229.731 Q172.047 233.272 175.658 233.272 Q179.292 233.272 181.098 229.731 Q182.927 226.166 182.927 219.059 Q182.927 211.93 181.098 208.388 Q179.292 204.823 175.658 204.823 M175.658 201.12 Q181.468 201.12 184.524 205.726 Q187.602 210.309 187.602 219.059 Q187.602 227.786 184.524 232.393 Q181.468 236.976 175.658 236.976 Q169.848 236.976 166.769 232.393 Q163.714 227.786 163.714 219.059 Q163.714 210.309 166.769 205.726 Q169.848 201.12 175.658 201.12 Z\" fill=\"#000000\" fill-rule=\"evenodd\" fill-opacity=\"1\" /><path clip-path=\"url(#clip970)\" d=\"M 0 0 M905.85 12.096 L914.033 12.096 L914.033 37.6572 L941.174 12.096 L951.706 12.096 L921.689 40.2903 L953.853 72.576 L943.078 72.576 L914.033 43.45 L914.033 72.576 L905.85 72.576 L905.85 12.096 Z\" fill=\"#000000\" fill-rule=\"evenodd\" fill-opacity=\"1\" /><path clip-path=\"url(#clip970)\" d=\"M 0 0 M980.832 49.7694 Q971.799 49.7694 968.315 51.8354 Q964.831 53.9013 964.831 58.8839 Q964.831 62.8538 967.424 65.2034 Q970.057 67.5124 974.553 67.5124 Q980.751 67.5124 984.478 63.1374 Q988.246 58.7219 988.246 51.4303 L988.246 49.7694 L980.832 49.7694 M995.699 46.6907 L995.699 72.576 L988.246 72.576 L988.246 65.6895 Q985.693 69.8214 981.886 71.8063 Q978.078 73.7508 972.569 73.7508 Q965.601 73.7508 961.469 69.8619 Q957.378 65.9325 957.378 59.3701 Q957.378 51.7138 962.482 47.825 Q967.626 43.9361 977.794 43.9361 L988.246 43.9361 L988.246 43.2069 Q988.246 38.0623 984.843 35.2672 Q981.481 32.4315 975.364 32.4315 Q971.475 32.4315 967.788 33.3632 Q964.102 34.295 960.699 36.1584 L960.699 29.2718 Q964.791 27.692 968.639 26.9223 Q972.488 26.1121 976.133 26.1121 Q985.977 26.1121 990.838 31.2163 Q995.699 36.3204 995.699 46.6907 Z\" fill=\"#000000\" fill-rule=\"evenodd\" fill-opacity=\"1\" /><path clip-path=\"url(#clip970)\" d=\"M 0 0 M1010.73 65.7705 L1010.73 89.8329 L1003.23 89.8329 L1003.23 27.2059 L1010.73 27.2059 L1010.73 34.0924 Q1013.08 30.0415 1016.64 28.0971 Q1020.25 26.1121 1025.23 26.1121 Q1033.49 26.1121 1038.64 32.6746 Q1043.82 39.2371 1043.82 49.9314 Q1043.82 60.6258 1038.64 67.1883 Q1033.49 73.7508 1025.23 73.7508 Q1020.25 73.7508 1016.64 71.8063 Q1013.08 69.8214 1010.73 65.7705 M1036.09 49.9314 Q1036.09 41.7081 1032.68 37.0496 Q1029.32 32.3505 1023.41 32.3505 Q1017.49 32.3505 1014.09 37.0496 Q1010.73 41.7081 1010.73 49.9314 Q1010.73 58.1548 1014.09 62.8538 Q1017.49 67.5124 1023.41 67.5124 Q1029.32 67.5124 1032.68 62.8538 Q1036.09 58.1548 1036.09 49.9314 Z\" fill=\"#000000\" fill-rule=\"evenodd\" fill-opacity=\"1\" /><path clip-path=\"url(#clip970)\" d=\"M 0 0 M1051.64 9.54393 L1059.1 9.54393 L1059.1 72.576 L1051.64 72.576 L1051.64 9.54393 Z\" fill=\"#000000\" fill-rule=\"evenodd\" fill-opacity=\"1\" /><path clip-path=\"url(#clip970)\" d=\"M 0 0 M1087.53 49.7694 Q1078.5 49.7694 1075.02 51.8354 Q1071.53 53.9013 1071.53 58.8839 Q1071.53 62.8538 1074.12 65.2034 Q1076.76 67.5124 1081.25 67.5124 Q1087.45 67.5124 1091.18 63.1374 Q1094.95 58.7219 1094.95 51.4303 L1094.95 49.7694 L1087.53 49.7694 M1102.4 46.6907 L1102.4 72.576 L1094.95 72.576 L1094.95 65.6895 Q1092.39 69.8214 1088.59 71.8063 Q1084.78 73.7508 1079.27 73.7508 Q1072.3 73.7508 1068.17 69.8619 Q1064.08 65.9325 1064.08 59.3701 Q1064.08 51.7138 1069.18 47.825 Q1074.33 43.9361 1084.5 43.9361 L1094.95 43.9361 L1094.95 43.2069 Q1094.95 38.0623 1091.54 35.2672 Q1088.18 32.4315 1082.06 32.4315 Q1078.18 32.4315 1074.49 33.3632 Q1070.8 34.295 1067.4 36.1584 L1067.4 29.2718 Q1071.49 27.692 1075.34 26.9223 Q1079.19 26.1121 1082.83 26.1121 Q1092.68 26.1121 1097.54 31.2163 Q1102.4 36.3204 1102.4 46.6907 Z\" fill=\"#000000\" fill-rule=\"evenodd\" fill-opacity=\"1\" /><path clip-path=\"url(#clip970)\" d=\"M 0 0 M1147.93 45.1919 L1147.93 72.576 L1140.48 72.576 L1140.48 45.4349 Q1140.48 38.994 1137.97 35.7938 Q1135.46 32.5936 1130.43 32.5936 Q1124.4 32.5936 1120.91 36.4419 Q1117.43 40.2903 1117.43 46.9338 L1117.43 72.576 L1109.93 72.576 L1109.93 27.2059 L1117.43 27.2059 L1117.43 34.2544 Q1120.1 30.163 1123.71 28.1376 Q1127.35 26.1121 1132.09 26.1121 Q1139.91 26.1121 1143.92 30.9732 Q1147.93 35.7938 1147.93 45.1919 Z\" fill=\"#000000\" fill-rule=\"evenodd\" fill-opacity=\"1\" /><path clip-path=\"url(#clip970)\" d=\"M 0 0 M1151.98 46.5287 L1173.82 46.5287 L1173.82 53.1722 L1151.98 53.1722 L1151.98 46.5287 Z\" fill=\"#000000\" fill-rule=\"evenodd\" fill-opacity=\"1\" /><path clip-path=\"url(#clip970)\" d=\"M 0 0 M1181.96 12.096 L1194.15 12.096 L1209.59 53.2532 L1225.1 12.096 L1237.3 12.096 L1237.3 72.576 L1229.31 72.576 L1229.31 19.4686 L1213.72 60.9499 L1205.5 60.9499 L1189.9 19.4686 L1189.9 72.576 L1181.96 72.576 L1181.96 12.096 Z\" fill=\"#000000\" fill-rule=\"evenodd\" fill-opacity=\"1\" /><path clip-path=\"url(#clip970)\" d=\"M 0 0 M1283.92 48.0275 L1283.92 51.6733 L1249.65 51.6733 Q1250.14 59.3701 1254.27 63.421 Q1258.44 67.4314 1265.85 67.4314 Q1270.15 67.4314 1274.16 66.3781 Q1278.21 65.3249 1282.18 63.2184 L1282.18 70.267 Q1278.17 71.9684 1273.96 72.8596 Q1269.74 73.7508 1265.41 73.7508 Q1254.55 73.7508 1248.19 67.4314 Q1241.87 61.1119 1241.87 50.3365 Q1241.87 39.1965 1247.87 32.6746 Q1253.9 26.1121 1264.11 26.1121 Q1273.27 26.1121 1278.57 32.0264 Q1283.92 37.9003 1283.92 48.0275 M1276.47 45.84 Q1276.39 39.7232 1273.02 36.0774 Q1269.7 32.4315 1264.19 32.4315 Q1257.95 32.4315 1254.19 35.9558 Q1250.46 39.4801 1249.89 45.8805 L1276.47 45.84 Z\" fill=\"#000000\" fill-rule=\"evenodd\" fill-opacity=\"1\" /><path clip-path=\"url(#clip970)\" d=\"M 0 0 M1291.74 27.2059 L1299.19 27.2059 L1299.19 72.576 L1291.74 72.576 L1291.74 27.2059 M1291.74 9.54393 L1299.19 9.54393 L1299.19 18.9825 L1291.74 18.9825 L1291.74 9.54393 Z\" fill=\"#000000\" fill-rule=\"evenodd\" fill-opacity=\"1\" /><path clip-path=\"url(#clip970)\" d=\"M 0 0 M1345.82 48.0275 L1345.82 51.6733 L1311.55 51.6733 Q1312.03 59.3701 1316.17 63.421 Q1320.34 67.4314 1327.75 67.4314 Q1332.05 67.4314 1336.06 66.3781 Q1340.11 65.3249 1344.08 63.2184 L1344.08 70.267 Q1340.07 71.9684 1335.85 72.8596 Q1331.64 73.7508 1327.31 73.7508 Q1316.45 73.7508 1310.09 67.4314 Q1303.77 61.1119 1303.77 50.3365 Q1303.77 39.1965 1309.77 32.6746 Q1315.8 26.1121 1326.01 26.1121 Q1335.16 26.1121 1340.47 32.0264 Q1345.82 37.9003 1345.82 48.0275 M1338.37 45.84 Q1338.28 39.7232 1334.92 36.0774 Q1331.6 32.4315 1326.09 32.4315 Q1319.85 32.4315 1316.09 35.9558 Q1312.36 39.4801 1311.79 45.8805 L1338.37 45.84 Z\" fill=\"#000000\" fill-rule=\"evenodd\" fill-opacity=\"1\" /><path clip-path=\"url(#clip970)\" d=\"M 0 0 M1379.93 34.1734 Q1378.67 33.4443 1377.17 33.1202 Q1375.71 32.7556 1373.93 32.7556 Q1367.61 32.7556 1364.21 36.8875 Q1360.85 40.9789 1360.85 48.6757 L1360.85 72.576 L1353.35 72.576 L1353.35 27.2059 L1360.85 27.2059 L1360.85 34.2544 Q1363.2 30.1225 1366.96 28.1376 Q1370.73 26.1121 1376.12 26.1121 Q1376.89 26.1121 1377.82 26.2337 Q1378.75 26.3147 1379.89 26.5172 L1379.93 34.1734 Z\" fill=\"#000000\" fill-rule=\"evenodd\" fill-opacity=\"1\" /><path clip-path=\"url(#clip970)\" d=\"M 0 0 M1459.73 16.7545 L1459.73 25.383 Q1455.6 21.5346 1450.9 19.6307 Q1446.24 17.7268 1440.97 17.7268 Q1430.6 17.7268 1425.1 24.0867 Q1419.59 30.4061 1419.59 42.3968 Q1419.59 54.3469 1425.1 60.7069 Q1430.6 67.0263 1440.97 67.0263 Q1446.24 67.0263 1450.9 65.1223 Q1455.6 63.2184 1459.73 59.3701 L1459.73 67.9175 Q1455.44 70.8341 1450.62 72.2924 Q1445.84 73.7508 1440.49 73.7508 Q1426.76 73.7508 1418.86 65.3654 Q1410.96 56.9395 1410.96 42.3968 Q1410.96 27.8135 1418.86 19.4281 Q1426.76 11.0023 1440.49 11.0023 Q1445.92 11.0023 1450.7 12.4606 Q1455.52 13.8784 1459.73 16.7545 Z\" fill=\"#000000\" fill-rule=\"evenodd\" fill-opacity=\"1\" /><path clip-path=\"url(#clip970)\" d=\"M 0 0 M1466.78 54.671 L1466.78 27.2059 L1474.23 27.2059 L1474.23 54.3874 Q1474.23 60.8284 1476.74 64.0691 Q1479.26 67.2693 1484.28 67.2693 Q1490.31 67.2693 1493.8 63.421 Q1497.32 59.5726 1497.32 52.9291 L1497.32 27.2059 L1504.78 27.2059 L1504.78 72.576 L1497.32 72.576 L1497.32 65.6084 Q1494.61 69.7404 1491 71.7658 Q1487.44 73.7508 1482.7 73.7508 Q1474.88 73.7508 1470.83 68.8897 Q1466.78 64.0286 1466.78 54.671 M1485.53 26.1121 L1485.53 26.1121 Z\" fill=\"#000000\" fill-rule=\"evenodd\" fill-opacity=\"1\" /><path clip-path=\"url(#clip970)\" d=\"M 0 0 M1538.88 34.1734 Q1537.63 33.4443 1536.13 33.1202 Q1534.67 32.7556 1532.89 32.7556 Q1526.57 32.7556 1523.17 36.8875 Q1519.81 40.9789 1519.81 48.6757 L1519.81 72.576 L1512.31 72.576 L1512.31 27.2059 L1519.81 27.2059 L1519.81 34.2544 Q1522.15 30.1225 1525.92 28.1376 Q1529.69 26.1121 1535.08 26.1121 Q1535.85 26.1121 1536.78 26.2337 Q1537.71 26.3147 1538.84 26.5172 L1538.88 34.1734 Z\" fill=\"#000000\" fill-rule=\"evenodd\" fill-opacity=\"1\" /><path clip-path=\"url(#clip970)\" d=\"M 0 0 M1541.36 27.2059 L1549.26 27.2059 L1563.43 65.2844 L1577.61 27.2059 L1585.51 27.2059 L1568.5 72.576 L1558.37 72.576 L1541.36 27.2059 Z\" fill=\"#000000\" fill-rule=\"evenodd\" fill-opacity=\"1\" /><path clip-path=\"url(#clip970)\" d=\"M 0 0 M1632.14 48.0275 L1632.14 51.6733 L1597.87 51.6733 Q1598.35 59.3701 1602.48 63.421 Q1606.66 67.4314 1614.07 67.4314 Q1618.36 67.4314 1622.37 66.3781 Q1626.43 65.3249 1630.39 63.2184 L1630.39 70.267 Q1626.38 71.9684 1622.17 72.8596 Q1617.96 73.7508 1613.62 73.7508 Q1602.77 73.7508 1596.41 67.4314 Q1590.09 61.1119 1590.09 50.3365 Q1590.09 39.1965 1596.08 32.6746 Q1602.12 26.1121 1612.33 26.1121 Q1621.48 26.1121 1626.79 32.0264 Q1632.14 37.9003 1632.14 48.0275 M1624.68 45.84 Q1624.6 39.7232 1621.24 36.0774 Q1617.92 32.4315 1612.41 32.4315 Q1606.17 32.4315 1602.4 35.9558 Q1598.68 39.4801 1598.11 45.8805 L1624.68 45.84 Z\" fill=\"#000000\" fill-rule=\"evenodd\" fill-opacity=\"1\" /><path clip-path=\"url(#clip970)\" d=\"M 0 0 M290.194 140.651 Q290.194 132.428 286.791 127.77 Q283.429 123.071 277.514 123.071 Q271.6 123.071 268.197 127.77 Q264.835 132.428 264.835 140.651 Q264.835 148.875 268.197 153.574 Q271.6 158.232 277.514 158.232 Q283.429 158.232 286.791 153.574 Q290.194 148.875 290.194 140.651 M264.835 124.812 Q267.185 120.762 270.749 118.817 Q274.355 116.832 279.337 116.832 Q287.601 116.832 292.746 123.395 Q297.931 129.957 297.931 140.651 Q297.931 151.346 292.746 157.908 Q287.601 164.471 279.337 164.471 Q274.355 164.471 270.749 162.526 Q267.185 160.541 264.835 156.49 L264.835 163.296 L257.341 163.296 L257.341 100.264 L264.835 100.264 L264.835 124.812 Z\" fill=\"#000000\" fill-rule=\"evenodd\" fill-opacity=\"1\" /><path clip-path=\"url(#clip970)\" d=\"M 0 0 M332.04 124.893 Q330.784 124.164 329.285 123.84 Q327.827 123.476 326.044 123.476 Q319.725 123.476 316.322 127.608 Q312.96 131.699 312.96 139.396 L312.96 163.296 L305.466 163.296 L305.466 117.926 L312.96 117.926 L312.96 124.974 Q315.309 120.843 319.077 118.858 Q322.844 116.832 328.232 116.832 Q329.001 116.832 329.933 116.954 Q330.865 117.035 331.999 117.237 L332.04 124.893 Z\" fill=\"#000000\" fill-rule=\"evenodd\" fill-opacity=\"1\" /><path clip-path=\"url(#clip970)\" d=\"M 0 0 M370.685 119.668 L370.685 126.635 Q367.525 124.893 364.325 124.043 Q361.166 123.152 357.925 123.152 Q350.674 123.152 346.663 127.77 Q342.653 132.347 342.653 140.651 Q342.653 148.956 346.663 153.574 Q350.674 158.151 357.925 158.151 Q361.166 158.151 364.325 157.301 Q367.525 156.409 370.685 154.668 L370.685 161.554 Q367.566 163.012 364.204 163.742 Q360.882 164.471 357.115 164.471 Q346.866 164.471 340.83 158.03 Q334.794 151.589 334.794 140.651 Q334.794 129.552 340.871 123.192 Q346.987 116.832 357.601 116.832 Q361.044 116.832 364.325 117.561 Q367.607 118.25 370.685 119.668 Z\" fill=\"#000000\" fill-rule=\"evenodd\" fill-opacity=\"1\" /><path clip-path=\"url(#clip970)\" d=\"M 0 0 M399.123 140.489 Q390.089 140.489 386.605 142.555 Q383.121 144.621 383.121 149.604 Q383.121 153.574 385.714 155.923 Q388.347 158.232 392.844 158.232 Q399.042 158.232 402.768 153.857 Q406.536 149.442 406.536 142.15 L406.536 140.489 L399.123 140.489 M413.989 137.411 L413.989 163.296 L406.536 163.296 L406.536 156.409 Q403.984 160.541 400.176 162.526 Q396.368 164.471 390.859 164.471 Q383.891 164.471 379.759 160.582 Q375.668 156.653 375.668 150.09 Q375.668 142.434 380.772 138.545 Q385.917 134.656 396.084 134.656 L406.536 134.656 L406.536 133.927 Q406.536 128.782 403.133 125.987 Q399.771 123.152 393.654 123.152 Q389.765 123.152 386.079 124.083 Q382.392 125.015 378.99 126.878 L378.99 119.992 Q383.081 118.412 386.929 117.642 Q390.778 116.832 394.424 116.832 Q404.267 116.832 409.128 121.936 Q413.989 127.04 413.989 137.411 Z\" fill=\"#000000\" fill-rule=\"evenodd\" fill-opacity=\"1\" /><path clip-path=\"url(#clip970)\" d=\"M 0 0 M456.281 177.069 L456.281 182.862 L413.179 182.862 L413.179 177.069 L456.281 177.069 Z\" fill=\"#000000\" fill-rule=\"evenodd\" fill-opacity=\"1\" /><path clip-path=\"url(#clip970)\" d=\"M 0 0 M471.472 105.044 L471.472 117.926 L486.825 117.926 L486.825 123.719 L471.472 123.719 L471.472 148.348 Q471.472 153.898 472.971 155.478 Q474.51 157.058 479.168 157.058 L486.825 157.058 L486.825 163.296 L479.168 163.296 Q470.54 163.296 467.259 160.096 Q463.978 156.855 463.978 148.348 L463.978 123.719 L458.509 123.719 L458.509 117.926 L463.978 117.926 L463.978 105.044 L471.472 105.044 Z\" fill=\"#000000\" fill-rule=\"evenodd\" fill-opacity=\"1\" /><path clip-path=\"url(#clip970)\" d=\"M 0 0 M527.293 119.668 L527.293 126.635 Q524.133 124.893 520.933 124.043 Q517.774 123.152 514.533 123.152 Q507.282 123.152 503.271 127.77 Q499.261 132.347 499.261 140.651 Q499.261 148.956 503.271 153.574 Q507.282 158.151 514.533 158.151 Q517.774 158.151 520.933 157.301 Q524.133 156.409 527.293 154.668 L527.293 161.554 Q524.174 163.012 520.812 163.742 Q517.49 164.471 513.723 164.471 Q503.474 164.471 497.438 158.03 Q491.402 151.589 491.402 140.651 Q491.402 129.552 497.479 123.192 Q503.595 116.832 514.209 116.832 Q517.652 116.832 520.933 117.561 Q524.214 118.25 527.293 119.668 Z\" fill=\"#000000\" fill-rule=\"evenodd\" fill-opacity=\"1\" /><path clip-path=\"url(#clip970)\" d=\"M 0 0 M564.967 140.084 Q564.967 131.983 561.604 127.527 Q558.283 123.071 552.247 123.071 Q546.251 123.071 542.889 127.527 Q539.567 131.983 539.567 140.084 Q539.567 148.146 542.889 152.602 Q546.251 157.058 552.247 157.058 Q558.283 157.058 561.604 152.602 Q564.967 148.146 564.967 140.084 M572.42 157.665 Q572.42 169.251 567.276 174.882 Q562.131 180.553 551.518 180.553 Q547.588 180.553 544.104 179.945 Q540.621 179.378 537.339 178.163 L537.339 170.912 Q540.621 172.694 543.821 173.545 Q547.021 174.395 550.343 174.395 Q557.675 174.395 561.321 170.547 Q564.967 166.739 564.967 159.002 L564.967 155.316 Q562.658 159.326 559.052 161.311 Q555.447 163.296 550.424 163.296 Q542.079 163.296 536.975 156.936 Q531.871 150.576 531.871 140.084 Q531.871 129.552 536.975 123.192 Q542.079 116.832 550.424 116.832 Q555.447 116.832 559.052 118.817 Q562.658 120.802 564.967 124.812 L564.967 117.926 L572.42 117.926 L572.42 157.665 Z\" fill=\"#000000\" fill-rule=\"evenodd\" fill-opacity=\"1\" /><path clip-path=\"url(#clip970)\" d=\"M 0 0 M600.858 140.489 Q591.824 140.489 588.34 142.555 Q584.857 144.621 584.857 149.604 Q584.857 153.574 587.449 155.923 Q590.082 158.232 594.579 158.232 Q600.777 158.232 604.503 153.857 Q608.271 149.442 608.271 142.15 L608.271 140.489 L600.858 140.489 M615.724 137.411 L615.724 163.296 L608.271 163.296 L608.271 156.409 Q605.719 160.541 601.911 162.526 Q598.103 164.471 592.594 164.471 Q585.626 164.471 581.494 160.582 Q577.403 156.653 577.403 150.09 Q577.403 142.434 582.507 138.545 Q587.652 134.656 597.819 134.656 L608.271 134.656 L608.271 133.927 Q608.271 128.782 604.868 125.987 Q601.506 123.152 595.389 123.152 Q591.5 123.152 587.814 124.083 Q584.127 125.015 580.725 126.878 L580.725 119.992 Q584.816 118.412 588.664 117.642 Q592.513 116.832 596.159 116.832 Q606.002 116.832 610.863 121.936 Q615.724 127.04 615.724 137.411 Z\" fill=\"#000000\" fill-rule=\"evenodd\" fill-opacity=\"1\" /><path clip-path=\"url(#clip970)\" d=\"M 0 0 M658.016 177.069 L658.016 182.862 L614.914 182.862 L614.914 177.069 L658.016 177.069 Z\" fill=\"#000000\" fill-rule=\"evenodd\" fill-opacity=\"1\" /><path clip-path=\"url(#clip970)\" d=\"M 0 0 M673.045 156.49 L673.045 180.553 L665.551 180.553 L665.551 117.926 L673.045 117.926 L673.045 124.812 Q675.394 120.762 678.959 118.817 Q682.564 116.832 687.547 116.832 Q695.811 116.832 700.955 123.395 Q706.141 129.957 706.141 140.651 Q706.141 151.346 700.955 157.908 Q695.811 164.471 687.547 164.471 Q682.564 164.471 678.959 162.526 Q675.394 160.541 673.045 156.49 M698.403 140.651 Q698.403 132.428 695.001 127.77 Q691.638 123.071 685.724 123.071 Q679.81 123.071 676.407 127.77 Q673.045 132.428 673.045 140.651 Q673.045 148.875 676.407 153.574 Q679.81 158.232 685.724 158.232 Q691.638 158.232 695.001 153.574 Q698.403 148.875 698.403 140.651 Z\" fill=\"#000000\" fill-rule=\"evenodd\" fill-opacity=\"1\" /><path clip-path=\"url(#clip970)\" d=\"M 0 0 M713.189 145.391 L713.189 117.926 L720.643 117.926 L720.643 145.107 Q720.643 151.548 723.154 154.789 Q725.666 157.989 730.689 157.989 Q736.725 157.989 740.209 154.141 Q743.733 150.293 743.733 143.649 L743.733 117.926 L751.187 117.926 L751.187 163.296 L743.733 163.296 L743.733 156.328 Q741.019 160.46 737.414 162.486 Q733.849 164.471 729.109 164.471 Q721.291 164.471 717.24 159.61 Q713.189 154.749 713.189 145.391 M731.945 116.832 L731.945 116.832 Z\" fill=\"#000000\" fill-rule=\"evenodd\" fill-opacity=\"1\" /><path clip-path=\"url(#clip970)\" d=\"M 0 0 M791.574 140.651 Q791.574 132.428 788.171 127.77 Q784.809 123.071 778.895 123.071 Q772.981 123.071 769.578 127.77 Q766.215 132.428 766.215 140.651 Q766.215 148.875 769.578 153.574 Q772.981 158.232 778.895 158.232 Q784.809 158.232 788.171 153.574 Q791.574 148.875 791.574 140.651 M766.215 124.812 Q768.565 120.762 772.13 118.817 Q775.735 116.832 780.718 116.832 Q788.982 116.832 794.126 123.395 Q799.311 129.957 799.311 140.651 Q799.311 151.346 794.126 157.908 Q788.982 164.471 780.718 164.471 Q775.735 164.471 772.13 162.526 Q768.565 160.541 766.215 156.49 L766.215 163.296 L758.721 163.296 L758.721 100.264 L766.215 100.264 L766.215 124.812 Z\" fill=\"#000000\" fill-rule=\"evenodd\" fill-opacity=\"1\" /><path clip-path=\"url(#clip970)\" d=\"M 0 0 M815.231 156.409 L843.79 156.409 L843.79 163.296 L805.388 163.296 L805.388 156.409 Q810.046 151.589 818.067 143.487 Q826.128 135.345 828.194 132.995 Q832.124 128.58 833.663 125.542 Q835.243 122.463 835.243 119.506 Q835.243 114.685 831.84 111.647 Q828.478 108.609 823.05 108.609 Q819.201 108.609 814.907 109.946 Q810.654 111.282 805.793 113.996 L805.793 105.733 Q810.735 103.748 815.029 102.735 Q819.323 101.722 822.888 101.722 Q832.286 101.722 837.876 106.421 Q843.466 111.12 843.466 118.979 Q843.466 122.706 842.048 126.068 Q840.671 129.39 836.985 133.927 Q835.972 135.102 830.544 140.732 Q825.116 146.323 815.231 156.409 Z\" fill=\"#000000\" fill-rule=\"evenodd\" fill-opacity=\"1\" /><path clip-path=\"url(#clip970)\" d=\"M 0 0 M870.162 108.204 Q863.842 108.204 860.642 114.442 Q857.482 120.64 857.482 133.117 Q857.482 145.553 860.642 151.791 Q863.842 157.989 870.162 157.989 Q876.522 157.989 879.681 151.791 Q882.882 145.553 882.882 133.117 Q882.882 120.64 879.681 114.442 Q876.522 108.204 870.162 108.204 M870.162 101.722 Q880.329 101.722 885.677 109.784 Q891.064 117.804 891.064 133.117 Q891.064 148.389 885.677 156.45 Q880.329 164.471 870.162 164.471 Q859.994 164.471 854.606 156.45 Q849.259 148.389 849.259 133.117 Q849.259 117.804 854.606 109.784 Q859.994 101.722 870.162 101.722 Z\" fill=\"#000000\" fill-rule=\"evenodd\" fill-opacity=\"1\" /><path clip-path=\"url(#clip970)\" d=\"M 0 0 M901.354 156.409 L914.722 156.409 L914.722 110.27 L900.179 113.186 L900.179 105.733 L914.641 102.816 L922.823 102.816 L922.823 156.409 L936.191 156.409 L936.191 163.296 L901.354 163.296 L901.354 156.409 Z\" fill=\"#000000\" fill-rule=\"evenodd\" fill-opacity=\"1\" /><path clip-path=\"url(#clip970)\" d=\"M 0 0 M945.144 102.816 L977.268 102.816 L977.268 109.703 L952.638 109.703 L952.638 124.529 Q954.421 123.921 956.203 123.638 Q957.985 123.314 959.768 123.314 Q969.895 123.314 975.809 128.863 Q981.724 134.413 981.724 143.892 Q981.724 153.655 975.647 159.083 Q969.571 164.471 958.512 164.471 Q954.704 164.471 950.734 163.823 Q946.805 163.174 942.592 161.878 L942.592 153.655 Q946.238 155.64 950.127 156.612 Q954.015 157.584 958.35 157.584 Q965.358 157.584 969.449 153.898 Q973.541 150.212 973.541 143.892 Q973.541 137.573 969.449 133.886 Q965.358 130.2 958.35 130.2 Q955.069 130.2 951.787 130.929 Q948.547 131.658 945.144 133.198 L945.144 102.816 Z\" fill=\"#000000\" fill-rule=\"evenodd\" fill-opacity=\"1\" /><path clip-path=\"url(#clip970)\" d=\"M 0 0 M1024.02 177.069 L1024.02 182.862 L980.913 182.862 L980.913 177.069 L1024.02 177.069 Z\" fill=\"#000000\" fill-rule=\"evenodd\" fill-opacity=\"1\" /><path clip-path=\"url(#clip970)\" d=\"M 0 0 M1058.12 124.893 Q1056.87 124.164 1055.37 123.84 Q1053.91 123.476 1052.13 123.476 Q1045.81 123.476 1042.41 127.608 Q1039.04 131.699 1039.04 139.396 L1039.04 163.296 L1031.55 163.296 L1031.55 117.926 L1039.04 117.926 L1039.04 124.974 Q1041.39 120.843 1045.16 118.858 Q1048.93 116.832 1054.32 116.832 Q1055.09 116.832 1056.02 116.954 Q1056.95 117.035 1058.08 117.237 L1058.12 124.893 Z\" fill=\"#000000\" fill-rule=\"evenodd\" fill-opacity=\"1\" /><path clip-path=\"url(#clip970)\" d=\"M 0 0 M1102.2 135.912 L1102.2 163.296 L1094.74 163.296 L1094.74 136.155 Q1094.74 129.714 1092.23 126.514 Q1089.72 123.314 1084.7 123.314 Q1078.66 123.314 1075.18 127.162 Q1071.69 131.01 1071.69 137.654 L1071.69 163.296 L1064.2 163.296 L1064.2 117.926 L1071.69 117.926 L1071.69 124.974 Q1074.37 120.883 1077.97 118.858 Q1081.62 116.832 1086.36 116.832 Q1094.18 116.832 1098.19 121.693 Q1102.2 126.514 1102.2 135.912 Z\" fill=\"#000000\" fill-rule=\"evenodd\" fill-opacity=\"1\" /><path clip-path=\"url(#clip970)\" d=\"M 0 0 M1130.63 140.489 Q1121.6 140.489 1118.12 142.555 Q1114.63 144.621 1114.63 149.604 Q1114.63 153.574 1117.23 155.923 Q1119.86 158.232 1124.36 158.232 Q1130.55 158.232 1134.28 153.857 Q1138.05 149.442 1138.05 142.15 L1138.05 140.489 L1130.63 140.489 M1145.5 137.411 L1145.5 163.296 L1138.05 163.296 L1138.05 156.409 Q1135.5 160.541 1131.69 162.526 Q1127.88 164.471 1122.37 164.471 Q1115.4 164.471 1111.27 160.582 Q1107.18 156.653 1107.18 150.09 Q1107.18 142.434 1112.28 138.545 Q1117.43 134.656 1127.6 134.656 L1138.05 134.656 L1138.05 133.927 Q1138.05 128.782 1134.65 125.987 Q1131.28 123.152 1125.17 123.152 Q1121.28 123.152 1117.59 124.083 Q1113.9 125.015 1110.5 126.878 L1110.5 119.992 Q1114.59 118.412 1118.44 117.642 Q1122.29 116.832 1125.94 116.832 Q1135.78 116.832 1140.64 121.936 Q1145.5 127.04 1145.5 137.411 Z\" fill=\"#000000\" fill-rule=\"evenodd\" fill-opacity=\"1\" /><path clip-path=\"url(#clip970)\" d=\"M 0 0 M1187.79 177.069 L1187.79 182.862 L1144.69 182.862 L1144.69 177.069 L1187.79 177.069 Z\" fill=\"#000000\" fill-rule=\"evenodd\" fill-opacity=\"1\" /><path clip-path=\"url(#clip970)\" d=\"M 0 0 M1224.53 119.263 L1224.53 126.311 Q1221.38 124.691 1217.97 123.881 Q1214.57 123.071 1210.92 123.071 Q1205.37 123.071 1202.58 124.772 Q1199.82 126.473 1199.82 129.876 Q1199.82 132.469 1201.81 133.967 Q1203.79 135.426 1209.79 136.763 L1212.34 137.33 Q1220.28 139.031 1223.6 142.15 Q1226.97 145.229 1226.97 150.779 Q1226.97 157.098 1221.94 160.784 Q1216.96 164.471 1208.21 164.471 Q1204.56 164.471 1200.59 163.742 Q1196.66 163.053 1192.29 161.635 L1192.29 153.938 Q1196.42 156.085 1200.43 157.179 Q1204.44 158.232 1208.37 158.232 Q1213.64 158.232 1216.47 156.45 Q1219.31 154.627 1219.31 151.346 Q1219.31 148.308 1217.24 146.687 Q1215.22 145.067 1208.29 143.568 L1205.7 142.96 Q1198.77 141.502 1195.69 138.504 Q1192.61 135.466 1192.61 130.2 Q1192.61 123.8 1197.15 120.316 Q1201.69 116.832 1210.03 116.832 Q1214.16 116.832 1217.81 117.44 Q1221.46 118.047 1224.53 119.263 Z\" fill=\"#000000\" fill-rule=\"evenodd\" fill-opacity=\"1\" /><path clip-path=\"url(#clip970)\" d=\"M 0 0 M1273.59 138.748 L1273.59 142.393 L1239.32 142.393 Q1239.81 150.09 1243.94 154.141 Q1248.11 158.151 1255.52 158.151 Q1259.82 158.151 1263.83 157.098 Q1267.88 156.045 1271.85 153.938 L1271.85 160.987 Q1267.84 162.688 1263.63 163.58 Q1259.41 164.471 1255.08 164.471 Q1244.22 164.471 1237.86 158.151 Q1231.54 151.832 1231.54 141.057 Q1231.54 129.917 1237.54 123.395 Q1243.57 116.832 1253.78 116.832 Q1262.94 116.832 1268.24 122.746 Q1273.59 128.62 1273.59 138.748 M1266.14 136.56 Q1266.06 130.443 1262.69 126.797 Q1259.37 123.152 1253.86 123.152 Q1247.62 123.152 1243.86 126.676 Q1240.13 130.2 1239.56 136.601 L1266.14 136.56 Z\" fill=\"#000000\" fill-rule=\"evenodd\" fill-opacity=\"1\" /><path clip-path=\"url(#clip970)\" d=\"M 0 0 M1285.87 140.651 Q1285.87 148.875 1289.23 153.574 Q1292.63 158.232 1298.54 158.232 Q1304.46 158.232 1307.86 153.574 Q1311.26 148.875 1311.26 140.651 Q1311.26 132.428 1307.86 127.77 Q1304.46 123.071 1298.54 123.071 Q1292.63 123.071 1289.23 127.77 Q1285.87 132.428 1285.87 140.651 M1311.26 156.49 Q1308.92 160.541 1305.31 162.526 Q1301.75 164.471 1296.72 164.471 Q1288.5 164.471 1283.31 157.908 Q1278.17 151.346 1278.17 140.651 Q1278.17 129.957 1283.31 123.395 Q1288.5 116.832 1296.72 116.832 Q1301.75 116.832 1305.31 118.817 Q1308.92 120.762 1311.26 124.812 L1311.26 117.926 L1318.72 117.926 L1318.72 180.553 L1311.26 180.553 L1311.26 156.49 Z\" fill=\"#000000\" fill-rule=\"evenodd\" fill-opacity=\"1\" /><path clip-path=\"url(#clip970)\" d=\"M 0 0 M1361.01 177.069 L1361.01 182.862 L1317.91 182.862 L1317.91 177.069 L1361.01 177.069 Z\" fill=\"#000000\" fill-rule=\"evenodd\" fill-opacity=\"1\" /><path clip-path=\"url(#clip970)\" d=\"M 0 0 M1363.48 117.926 L1371.38 117.926 L1385.56 156.004 L1399.74 117.926 L1407.64 117.926 L1390.62 163.296 L1380.49 163.296 L1363.48 117.926 Z\" fill=\"#000000\" fill-rule=\"evenodd\" fill-opacity=\"1\" /><path clip-path=\"url(#clip970)\" d=\"M 0 0 M1423.56 156.409 L1452.11 156.409 L1452.11 163.296 L1413.71 163.296 L1413.71 156.409 Q1418.37 151.589 1426.39 143.487 Q1434.45 135.345 1436.52 132.995 Q1440.45 128.58 1441.99 125.542 Q1443.57 122.463 1443.57 119.506 Q1443.57 114.685 1440.16 111.647 Q1436.8 108.609 1431.37 108.609 Q1427.53 108.609 1423.23 109.946 Q1418.98 111.282 1414.12 113.996 L1414.12 105.733 Q1419.06 103.748 1423.35 102.735 Q1427.65 101.722 1431.21 101.722 Q1440.61 101.722 1446.2 106.421 Q1451.79 111.12 1451.79 118.979 Q1451.79 122.706 1450.37 126.068 Q1449 129.39 1445.31 133.927 Q1444.3 135.102 1438.87 140.732 Q1433.44 146.323 1423.56 156.409 Z\" fill=\"#000000\" fill-rule=\"evenodd\" fill-opacity=\"1\" /><path clip-path=\"url(#clip970)\" d=\"M 0 0 M1494.41 177.069 L1494.41 182.862 L1451.3 182.862 L1451.3 177.069 L1494.41 177.069 Z\" fill=\"#000000\" fill-rule=\"evenodd\" fill-opacity=\"1\" /><path clip-path=\"url(#clip970)\" d=\"M 0 0 M1537.55 126.635 Q1540.34 121.612 1544.23 119.222 Q1548.12 116.832 1553.39 116.832 Q1560.48 116.832 1564.32 121.815 Q1568.17 126.757 1568.17 135.912 L1568.17 163.296 L1560.68 163.296 L1560.68 136.155 Q1560.68 129.633 1558.37 126.473 Q1556.06 123.314 1551.32 123.314 Q1545.53 123.314 1542.17 127.162 Q1538.8 131.01 1538.8 137.654 L1538.8 163.296 L1531.31 163.296 L1531.31 136.155 Q1531.31 129.592 1529 126.473 Q1526.69 123.314 1521.87 123.314 Q1516.16 123.314 1512.8 127.202 Q1509.43 131.051 1509.43 137.654 L1509.43 163.296 L1501.94 163.296 L1501.94 117.926 L1509.43 117.926 L1509.43 124.974 Q1511.99 120.802 1515.55 118.817 Q1519.12 116.832 1524.02 116.832 Q1528.96 116.832 1532.4 119.344 Q1535.89 121.855 1537.55 126.635 Z\" fill=\"#000000\" fill-rule=\"evenodd\" fill-opacity=\"1\" /><path clip-path=\"url(#clip970)\" d=\"M 0 0 M1602.28 124.893 Q1601.03 124.164 1599.53 123.84 Q1598.07 123.476 1596.29 123.476 Q1589.97 123.476 1586.56 127.608 Q1583.2 131.699 1583.2 139.396 L1583.2 163.296 L1575.71 163.296 L1575.71 117.926 L1583.2 117.926 L1583.2 124.974 Q1585.55 120.843 1589.32 118.858 Q1593.09 116.832 1598.47 116.832 Q1599.24 116.832 1600.18 116.954 Q1601.11 117.035 1602.24 117.237 L1602.28 124.893 Z\" fill=\"#000000\" fill-rule=\"evenodd\" fill-opacity=\"1\" /><path clip-path=\"url(#clip970)\" d=\"M 0 0 M1646.36 135.912 L1646.36 163.296 L1638.9 163.296 L1638.9 136.155 Q1638.9 129.714 1636.39 126.514 Q1633.88 123.314 1628.86 123.314 Q1622.82 123.314 1619.34 127.162 Q1615.85 131.01 1615.85 137.654 L1615.85 163.296 L1608.36 163.296 L1608.36 117.926 L1615.85 117.926 L1615.85 124.974 Q1618.53 120.883 1622.13 118.858 Q1625.78 116.832 1630.52 116.832 Q1638.33 116.832 1642.35 121.693 Q1646.36 126.514 1646.36 135.912 Z\" fill=\"#000000\" fill-rule=\"evenodd\" fill-opacity=\"1\" /><path clip-path=\"url(#clip970)\" d=\"M 0 0 M1674.79 140.489 Q1665.76 140.489 1662.28 142.555 Q1658.79 144.621 1658.79 149.604 Q1658.79 153.574 1661.38 155.923 Q1664.02 158.232 1668.51 158.232 Q1674.71 158.232 1678.44 153.857 Q1682.21 149.442 1682.21 142.15 L1682.21 140.489 L1674.79 140.489 M1689.66 137.411 L1689.66 163.296 L1682.21 163.296 L1682.21 156.409 Q1679.65 160.541 1675.85 162.526 Q1672.04 164.471 1666.53 164.471 Q1659.56 164.471 1655.43 160.582 Q1651.34 156.653 1651.34 150.09 Q1651.34 142.434 1656.44 138.545 Q1661.59 134.656 1671.75 134.656 L1682.21 134.656 L1682.21 133.927 Q1682.21 128.782 1678.8 125.987 Q1675.44 123.152 1669.32 123.152 Q1665.44 123.152 1661.75 124.083 Q1658.06 125.015 1654.66 126.878 L1654.66 119.992 Q1658.75 118.412 1662.6 117.642 Q1666.45 116.832 1670.09 116.832 Q1679.94 116.832 1684.8 121.936 Q1689.66 127.04 1689.66 137.411 Z\" fill=\"#000000\" fill-rule=\"evenodd\" fill-opacity=\"1\" /><path clip-path=\"url(#clip970)\" d=\"M 0 0 M1731.95 177.069 L1731.95 182.862 L1688.85 182.862 L1688.85 177.069 L1731.95 177.069 Z\" fill=\"#000000\" fill-rule=\"evenodd\" fill-opacity=\"1\" /><path clip-path=\"url(#clip970)\" d=\"M 0 0 M1775.09 126.635 Q1777.89 121.612 1781.78 119.222 Q1785.67 116.832 1790.93 116.832 Q1798.02 116.832 1801.87 121.815 Q1805.72 126.757 1805.72 135.912 L1805.72 163.296 L1798.22 163.296 L1798.22 136.155 Q1798.22 129.633 1795.91 126.473 Q1793.61 123.314 1788.87 123.314 Q1783.07 123.314 1779.71 127.162 Q1776.35 131.01 1776.35 137.654 L1776.35 163.296 L1768.85 163.296 L1768.85 136.155 Q1768.85 129.592 1766.55 126.473 Q1764.24 123.314 1759.42 123.314 Q1753.7 123.314 1750.34 127.202 Q1746.98 131.051 1746.98 137.654 L1746.98 163.296 L1739.49 163.296 L1739.49 117.926 L1746.98 117.926 L1746.98 124.974 Q1749.53 120.802 1753.1 118.817 Q1756.66 116.832 1761.56 116.832 Q1766.51 116.832 1769.95 119.344 Q1773.43 121.855 1775.09 126.635 Z\" fill=\"#000000\" fill-rule=\"evenodd\" fill-opacity=\"1\" /><path clip-path=\"url(#clip970)\" d=\"M 0 0 M1852.34 138.748 L1852.34 142.393 L1818.07 142.393 Q1818.56 150.09 1822.69 154.141 Q1826.86 158.151 1834.28 158.151 Q1838.57 158.151 1842.58 157.098 Q1846.63 156.045 1850.6 153.938 L1850.6 160.987 Q1846.59 162.688 1842.38 163.58 Q1838.17 164.471 1833.83 164.471 Q1822.97 164.471 1816.61 158.151 Q1810.3 151.832 1810.3 141.057 Q1810.3 129.917 1816.29 123.395 Q1822.33 116.832 1832.54 116.832 Q1841.69 116.832 1847 122.746 Q1852.34 128.62 1852.34 138.748 M1844.89 136.56 Q1844.81 130.443 1841.45 126.797 Q1838.13 123.152 1832.62 123.152 Q1826.38 123.152 1822.61 126.676 Q1818.88 130.2 1818.32 136.601 L1844.89 136.56 Z\" fill=\"#000000\" fill-rule=\"evenodd\" fill-opacity=\"1\" /><path clip-path=\"url(#clip970)\" d=\"M 0 0 M1890.02 124.812 L1890.02 100.264 L1897.47 100.264 L1897.47 163.296 L1890.02 163.296 L1890.02 156.49 Q1887.67 160.541 1884.06 162.526 Q1880.5 164.471 1875.47 164.471 Q1867.25 164.471 1862.07 157.908 Q1856.92 151.346 1856.92 140.651 Q1856.92 129.957 1862.07 123.395 Q1867.25 116.832 1875.47 116.832 Q1880.5 116.832 1884.06 118.817 Q1887.67 120.762 1890.02 124.812 M1864.62 140.651 Q1864.62 148.875 1867.98 153.574 Q1871.38 158.232 1877.3 158.232 Q1883.21 158.232 1886.61 153.574 Q1890.02 148.875 1890.02 140.651 Q1890.02 132.428 1886.61 127.77 Q1883.21 123.071 1877.3 123.071 Q1871.38 123.071 1867.98 127.77 Q1864.62 132.428 1864.62 140.651 Z\" fill=\"#000000\" fill-rule=\"evenodd\" fill-opacity=\"1\" /><path clip-path=\"url(#clip970)\" d=\"M 0 0 M1905.29 117.926 L1912.74 117.926 L1912.74 163.296 L1905.29 163.296 L1905.29 117.926 M1905.29 100.264 L1912.74 100.264 L1912.74 109.703 L1905.29 109.703 L1905.29 100.264 Z\" fill=\"#000000\" fill-rule=\"evenodd\" fill-opacity=\"1\" /><path clip-path=\"url(#clip970)\" d=\"M 0 0 M1941.18 140.489 Q1932.15 140.489 1928.66 142.555 Q1925.18 144.621 1925.18 149.604 Q1925.18 153.574 1927.77 155.923 Q1930.4 158.232 1934.9 158.232 Q1941.1 158.232 1944.83 153.857 Q1948.59 149.442 1948.59 142.15 L1948.59 140.489 L1941.18 140.489 M1956.05 137.411 L1956.05 163.296 L1948.59 163.296 L1948.59 156.409 Q1946.04 160.541 1942.23 162.526 Q1938.43 164.471 1932.92 164.471 Q1925.95 164.471 1921.82 160.582 Q1917.73 156.653 1917.73 150.09 Q1917.73 142.434 1922.83 138.545 Q1927.97 134.656 1938.14 134.656 L1948.59 134.656 L1948.59 133.927 Q1948.59 128.782 1945.19 125.987 Q1941.83 123.152 1935.71 123.152 Q1931.82 123.152 1928.14 124.083 Q1924.45 125.015 1921.05 126.878 L1921.05 119.992 Q1925.14 118.412 1928.99 117.642 Q1932.84 116.832 1936.48 116.832 Q1946.32 116.832 1951.19 121.936 Q1956.05 127.04 1956.05 137.411 Z\" fill=\"#000000\" fill-rule=\"evenodd\" fill-opacity=\"1\" /><path clip-path=\"url(#clip970)\" d=\"M 0 0 M2001.58 135.912 L2001.58 163.296 L1994.13 163.296 L1994.13 136.155 Q1994.13 129.714 1991.61 126.514 Q1989.1 123.314 1984.08 123.314 Q1978.04 123.314 1974.56 127.162 Q1971.08 131.01 1971.08 137.654 L1971.08 163.296 L1963.58 163.296 L1963.58 117.926 L1971.08 117.926 L1971.08 124.974 Q1973.75 120.883 1977.35 118.858 Q1981 116.832 1985.74 116.832 Q1993.56 116.832 1997.57 121.693 Q2001.58 126.514 2001.58 135.912 Z\" fill=\"#000000\" fill-rule=\"evenodd\" fill-opacity=\"1\" /><path clip-path=\"url(#clip970)\" d=\"M 0 0 M2043.87 177.069 L2043.87 182.862 L2000.77 182.862 L2000.77 177.069 L2043.87 177.069 Z\" fill=\"#000000\" fill-rule=\"evenodd\" fill-opacity=\"1\" /><path clip-path=\"url(#clip970)\" d=\"M 0 0 M2048.53 102.816 L2096.05 102.816 L2096.05 109.054 L2057.81 156.409 L2096.98 156.409 L2096.98 163.296 L2047.6 163.296 L2047.6 157.058 L2085.84 109.703 L2048.53 109.703 L2048.53 102.816 Z\" fill=\"#000000\" fill-rule=\"evenodd\" fill-opacity=\"1\" /><path clip-path=\"url(#clip970)\" d=\"M 0 0 M2133.72 119.263 L2133.72 126.311 Q2130.56 124.691 2127.16 123.881 Q2123.75 123.071 2120.11 123.071 Q2114.56 123.071 2111.76 124.772 Q2109.01 126.473 2109.01 129.876 Q2109.01 132.469 2110.99 133.967 Q2112.98 135.426 2118.97 136.763 L2121.53 137.33 Q2129.47 139.031 2132.79 142.15 Q2136.15 145.229 2136.15 150.779 Q2136.15 157.098 2131.13 160.784 Q2126.14 164.471 2117.39 164.471 Q2113.75 164.471 2109.78 163.742 Q2105.85 163.053 2101.47 161.635 L2101.47 153.938 Q2105.61 156.085 2109.62 157.179 Q2113.63 158.232 2117.56 158.232 Q2122.82 158.232 2125.66 156.45 Q2128.49 154.627 2128.49 151.346 Q2128.49 148.308 2126.43 146.687 Q2124.4 145.067 2117.48 143.568 L2114.88 142.96 Q2107.96 141.502 2104.88 138.504 Q2101.8 135.466 2101.8 130.2 Q2101.8 123.8 2106.34 120.316 Q2110.87 116.832 2119.22 116.832 Q2123.35 116.832 2127 117.44 Q2130.64 118.047 2133.72 119.263 Z\" fill=\"#000000\" fill-rule=\"evenodd\" fill-opacity=\"1\" /><path clip-path=\"url(#clip970)\" d=\"M 0 0 M2176.62 119.668 L2176.62 126.635 Q2173.46 124.893 2170.26 124.043 Q2167.1 123.152 2163.86 123.152 Q2156.61 123.152 2152.6 127.77 Q2148.59 132.347 2148.59 140.651 Q2148.59 148.956 2152.6 153.574 Q2156.61 158.151 2163.86 158.151 Q2167.1 158.151 2170.26 157.301 Q2173.46 156.409 2176.62 154.668 L2176.62 161.554 Q2173.5 163.012 2170.14 163.742 Q2166.82 164.471 2163.05 164.471 Q2152.8 164.471 2146.76 158.03 Q2140.73 151.589 2140.73 140.651 Q2140.73 129.552 2146.8 123.192 Q2152.92 116.832 2163.53 116.832 Q2166.98 116.832 2170.26 117.561 Q2173.54 118.25 2176.62 119.668 Z\" fill=\"#000000\" fill-rule=\"evenodd\" fill-opacity=\"1\" /><path clip-path=\"url(#clip970)\" d=\"M 0 0 M2202.02 123.152 Q2196.02 123.152 2192.54 127.851 Q2189.06 132.509 2189.06 140.651 Q2189.06 148.794 2192.5 153.493 Q2195.98 158.151 2202.02 158.151 Q2207.97 158.151 2211.46 153.452 Q2214.94 148.753 2214.94 140.651 Q2214.94 132.59 2211.46 127.891 Q2207.97 123.152 2202.02 123.152 M2202.02 116.832 Q2211.74 116.832 2217.29 123.152 Q2222.84 129.471 2222.84 140.651 Q2222.84 151.791 2217.29 158.151 Q2211.74 164.471 2202.02 164.471 Q2192.26 164.471 2186.71 158.151 Q2181.2 151.791 2181.2 140.651 Q2181.2 129.471 2186.71 123.152 Q2192.26 116.832 2202.02 116.832 Z\" fill=\"#000000\" fill-rule=\"evenodd\" fill-opacity=\"1\" /><path clip-path=\"url(#clip970)\" d=\"M 0 0 M2256.95 124.893 Q2255.69 124.164 2254.19 123.84 Q2252.74 123.476 2250.95 123.476 Q2244.63 123.476 2241.23 127.608 Q2237.87 131.699 2237.87 139.396 L2237.87 163.296 L2230.37 163.296 L2230.37 117.926 L2237.87 117.926 L2237.87 124.974 Q2240.22 120.843 2243.99 118.858 Q2247.75 116.832 2253.14 116.832 Q2253.91 116.832 2254.84 116.954 Q2255.77 117.035 2256.91 117.237 L2256.95 124.893 Z\" fill=\"#000000\" fill-rule=\"evenodd\" fill-opacity=\"1\" /><path clip-path=\"url(#clip970)\" d=\"M 0 0 M2301.75 138.748 L2301.75 142.393 L2267.48 142.393 Q2267.97 150.09 2272.1 154.141 Q2276.27 158.151 2283.68 158.151 Q2287.98 158.151 2291.99 157.098 Q2296.04 156.045 2300.01 153.938 L2300.01 160.987 Q2296 162.688 2291.79 163.58 Q2287.57 164.471 2283.24 164.471 Q2272.38 164.471 2266.02 158.151 Q2259.7 151.832 2259.7 141.057 Q2259.7 129.917 2265.7 123.395 Q2271.73 116.832 2281.94 116.832 Q2291.1 116.832 2296.4 122.746 Q2301.75 128.62 2301.75 138.748 M2294.3 136.56 Q2294.22 130.443 2290.85 126.797 Q2287.53 123.152 2282.02 123.152 Q2275.78 123.152 2272.02 126.676 Q2268.29 130.2 2267.72 136.601 L2294.3 136.56 Z\" fill=\"#000000\" fill-rule=\"evenodd\" fill-opacity=\"1\" /><path clip-path=\"url(#clip970)\" d=\"M 0 0 M2338.49 119.263 L2338.49 126.311 Q2335.33 124.691 2331.93 123.881 Q2328.53 123.071 2324.88 123.071 Q2319.33 123.071 2316.54 124.772 Q2313.78 126.473 2313.78 129.876 Q2313.78 132.469 2315.77 133.967 Q2317.75 135.426 2323.75 136.763 L2326.3 137.33 Q2334.24 139.031 2337.56 142.15 Q2340.92 145.229 2340.92 150.779 Q2340.92 157.098 2335.9 160.784 Q2330.92 164.471 2322.17 164.471 Q2318.52 164.471 2314.55 163.742 Q2310.62 163.053 2306.25 161.635 L2306.25 153.938 Q2310.38 156.085 2314.39 157.179 Q2318.4 158.232 2322.33 158.232 Q2327.6 158.232 2330.43 156.45 Q2333.27 154.627 2333.27 151.346 Q2333.27 148.308 2331.2 146.687 Q2329.18 145.067 2322.25 143.568 L2319.66 142.96 Q2312.73 141.502 2309.65 138.504 Q2306.57 135.466 2306.57 130.2 Q2306.57 123.8 2311.11 120.316 Q2315.65 116.832 2323.99 116.832 Q2328.12 116.832 2331.77 117.44 Q2335.41 118.047 2338.49 119.263 Z\" fill=\"#000000\" fill-rule=\"evenodd\" fill-opacity=\"1\" /><path clip-path=\"url(#clip970)\" d=\"M 0 0 M1098.46 1508.52 L1138.66 1508.52 L1138.66 1513.93 L1121.8 1513.93 L1121.8 1556.04 L1115.33 1556.04 L1115.33 1513.93 L1098.46 1513.93 L1098.46 1508.52 Z\" fill=\"#000000\" fill-rule=\"evenodd\" fill-opacity=\"1\" /><path clip-path=\"url(#clip970)\" d=\"M 0 0 M1142.8 1520.4 L1148.66 1520.4 L1148.66 1556.04 L1142.8 1556.04 L1142.8 1520.4 M1142.8 1506.52 L1148.66 1506.52 L1148.66 1513.93 L1142.8 1513.93 L1142.8 1506.52 Z\" fill=\"#000000\" fill-rule=\"evenodd\" fill-opacity=\"1\" /><path clip-path=\"url(#clip970)\" d=\"M 0 0 M1182.56 1527.24 Q1184.75 1523.29 1187.81 1521.41 Q1190.86 1519.54 1195 1519.54 Q1200.57 1519.54 1203.59 1523.45 Q1206.62 1527.33 1206.62 1534.53 L1206.62 1556.04 L1200.73 1556.04 L1200.73 1534.72 Q1200.73 1529.59 1198.92 1527.11 Q1197.1 1524.63 1193.38 1524.63 Q1188.83 1524.63 1186.18 1527.65 Q1183.54 1530.68 1183.54 1535.9 L1183.54 1556.04 L1177.65 1556.04 L1177.65 1534.72 Q1177.65 1529.56 1175.84 1527.11 Q1174.03 1524.63 1170.24 1524.63 Q1165.75 1524.63 1163.11 1527.68 Q1160.47 1530.71 1160.47 1535.9 L1160.47 1556.04 L1154.58 1556.04 L1154.58 1520.4 L1160.47 1520.4 L1160.47 1525.93 Q1162.47 1522.66 1165.27 1521.1 Q1168.07 1519.54 1171.93 1519.54 Q1175.81 1519.54 1178.51 1521.51 Q1181.25 1523.48 1182.56 1527.24 Z\" fill=\"#000000\" fill-rule=\"evenodd\" fill-opacity=\"1\" /><path clip-path=\"url(#clip970)\" d=\"M 0 0 M1243.25 1536.76 L1243.25 1539.62 L1216.33 1539.62 Q1216.71 1545.67 1219.95 1548.85 Q1223.23 1552 1229.06 1552 Q1232.43 1552 1235.58 1551.17 Q1238.77 1550.35 1241.88 1548.69 L1241.88 1554.23 Q1238.73 1555.57 1235.42 1556.27 Q1232.11 1556.97 1228.71 1556.97 Q1220.18 1556.97 1215.18 1552 Q1210.21 1547.04 1210.21 1538.57 Q1210.21 1529.82 1214.93 1524.69 Q1219.67 1519.54 1227.69 1519.54 Q1234.88 1519.54 1239.05 1524.18 Q1243.25 1528.8 1243.25 1536.76 M1237.4 1535.04 Q1237.33 1530.23 1234.69 1527.37 Q1232.08 1524.5 1227.75 1524.5 Q1222.85 1524.5 1219.89 1527.27 Q1216.96 1530.04 1216.52 1535.07 L1237.4 1535.04 Z\" fill=\"#000000\" fill-rule=\"evenodd\" fill-opacity=\"1\" /><path clip-path=\"url(#clip970)\" d=\"M 0 0 M1284.18 1506.58 Q1279.92 1513.9 1277.85 1521.06 Q1275.78 1528.23 1275.78 1535.58 Q1275.78 1542.93 1277.85 1550.16 Q1279.95 1557.35 1284.18 1564.64 L1279.09 1564.64 Q1274.32 1557.16 1271.93 1549.93 Q1269.58 1542.71 1269.58 1535.58 Q1269.58 1528.48 1271.93 1521.29 Q1274.29 1514.09 1279.09 1506.58 L1284.18 1506.58 Z\" fill=\"#000000\" fill-rule=\"evenodd\" fill-opacity=\"1\" /><path clip-path=\"url(#clip970)\" d=\"M 0 0 M1297.01 1513.81 L1297.01 1550.76 L1304.78 1550.76 Q1314.61 1550.76 1319.16 1546.3 Q1323.75 1541.85 1323.75 1532.24 Q1323.75 1522.69 1319.16 1518.26 Q1314.61 1513.81 1304.78 1513.81 L1297.01 1513.81 M1290.58 1508.52 L1303.79 1508.52 Q1317.6 1508.52 1324.07 1514.28 Q1330.53 1520.01 1330.53 1532.24 Q1330.53 1544.52 1324.03 1550.28 Q1317.54 1556.04 1303.79 1556.04 L1290.58 1556.04 L1290.58 1508.52 Z\" fill=\"#000000\" fill-rule=\"evenodd\" fill-opacity=\"1\" /><path clip-path=\"url(#clip970)\" d=\"M 0 0 M1351.66 1514.86 L1342.94 1538.51 L1360.41 1538.51 L1351.66 1514.86 M1348.03 1508.52 L1355.32 1508.52 L1373.43 1556.04 L1366.75 1556.04 L1362.42 1543.85 L1341 1543.85 L1336.67 1556.04 L1329.89 1556.04 L1348.03 1508.52 Z\" fill=\"#000000\" fill-rule=\"evenodd\" fill-opacity=\"1\" /><path clip-path=\"url(#clip970)\" d=\"M 0 0 M1368.24 1508.52 L1375.15 1508.52 L1388.33 1528.07 L1401.41 1508.52 L1408.32 1508.52 L1391.51 1533.41 L1391.51 1556.04 L1385.05 1556.04 L1385.05 1533.41 L1368.24 1508.52 Z\" fill=\"#000000\" fill-rule=\"evenodd\" fill-opacity=\"1\" /><path clip-path=\"url(#clip970)\" d=\"M 0 0 M1443.2 1510.08 L1443.2 1516.35 Q1439.54 1514.6 1436.29 1513.74 Q1433.05 1512.88 1430.02 1512.88 Q1424.77 1512.88 1421.91 1514.92 Q1419.07 1516.96 1419.07 1520.71 Q1419.07 1523.87 1420.95 1525.49 Q1422.86 1527.08 1428.14 1528.07 L1432.03 1528.86 Q1439.22 1530.23 1442.63 1533.7 Q1446.06 1537.14 1446.06 1542.93 Q1446.06 1549.84 1441.42 1553.4 Q1436.8 1556.97 1427.86 1556.97 Q1424.48 1556.97 1420.67 1556.2 Q1416.88 1555.44 1412.8 1553.94 L1412.8 1547.32 Q1416.72 1549.52 1420.47 1550.63 Q1424.23 1551.75 1427.86 1551.75 Q1433.36 1551.75 1436.36 1549.58 Q1439.35 1547.42 1439.35 1543.41 Q1439.35 1539.91 1437.18 1537.93 Q1435.05 1535.96 1430.15 1534.97 L1426.24 1534.21 Q1419.04 1532.78 1415.83 1529.72 Q1412.61 1526.67 1412.61 1521.22 Q1412.61 1514.92 1417.04 1511.29 Q1421.49 1507.66 1429.29 1507.66 Q1432.63 1507.66 1436.1 1508.27 Q1439.57 1508.87 1443.2 1510.08 Z\" fill=\"#000000\" fill-rule=\"evenodd\" fill-opacity=\"1\" /><path clip-path=\"url(#clip970)\" d=\"M 0 0 M1451.28 1506.58 L1456.38 1506.58 Q1461.15 1514.09 1463.51 1521.29 Q1465.89 1528.48 1465.89 1535.58 Q1465.89 1542.71 1463.51 1549.93 Q1461.15 1557.16 1456.38 1564.64 L1451.28 1564.64 Q1455.52 1557.35 1457.59 1550.16 Q1459.69 1542.93 1459.69 1535.58 Q1459.69 1528.23 1457.59 1521.06 Q1455.52 1513.9 1451.28 1506.58 Z\" fill=\"#000000\" fill-rule=\"evenodd\" fill-opacity=\"1\" /><path clip-path=\"url(#clip970)\" d=\"M 0 0 M42.0438 1145.67 L48.314 1145.67 Q46.5634 1149.34 45.704 1152.58 Q44.8447 1155.83 44.8447 1158.85 Q44.8447 1164.1 46.8817 1166.97 Q48.9187 1169.8 52.6745 1169.8 Q55.8255 1169.8 57.4488 1167.92 Q59.0402 1166.01 60.0269 1160.73 L60.8226 1156.85 Q62.1912 1149.65 65.6605 1146.25 Q69.098 1142.81 74.8908 1142.81 Q81.7976 1142.81 85.3624 1147.46 Q88.9272 1152.07 88.9272 1161.02 Q88.9272 1164.39 88.1633 1168.21 Q87.3994 1172 85.9035 1176.07 L79.2831 1176.07 Q81.4793 1172.16 82.5933 1168.4 Q83.7073 1164.64 83.7073 1161.02 Q83.7073 1155.51 81.543 1152.52 Q79.3786 1149.53 75.3682 1149.53 Q71.8671 1149.53 69.8937 1151.69 Q67.9204 1153.82 66.9337 1158.72 L66.1698 1162.64 Q64.7375 1169.83 61.682 1173.05 Q58.6264 1176.26 53.1837 1176.26 Q46.8817 1176.26 43.2532 1171.84 Q39.6248 1167.38 39.6248 1159.58 Q39.6248 1156.24 40.2295 1152.77 Q40.8343 1149.3 42.0438 1145.67 Z\" fill=\"#000000\" fill-rule=\"evenodd\" fill-opacity=\"1\" /><path clip-path=\"url(#clip970)\" d=\"M 0 0 M73.9359 1137.27 L52.3562 1137.27 L52.3562 1131.42 L73.7131 1131.42 Q78.7739 1131.42 81.3202 1129.44 Q83.8346 1127.47 83.8346 1123.52 Q83.8346 1118.78 80.8109 1116.04 Q77.7872 1113.27 72.5673 1113.27 L52.3562 1113.27 L52.3562 1107.42 L88.0042 1107.42 L88.0042 1113.27 L82.5296 1113.27 Q85.7762 1115.41 87.3676 1118.24 Q88.9272 1121.04 88.9272 1124.76 Q88.9272 1130.91 85.1078 1134.09 Q81.2883 1137.27 73.9359 1137.27 M51.4968 1122.54 L51.4968 1122.54 Z\" fill=\"#000000\" fill-rule=\"evenodd\" fill-opacity=\"1\" /><path clip-path=\"url(#clip970)\" d=\"M 0 0 M57.8307 1080.62 Q57.2578 1081.6 57.0032 1082.78 Q56.7167 1083.93 56.7167 1085.33 Q56.7167 1090.29 59.9632 1092.97 Q63.1779 1095.61 69.2253 1095.61 L88.0042 1095.61 L88.0042 1101.5 L52.3562 1101.5 L52.3562 1095.61 L57.8944 1095.61 Q54.6479 1093.76 53.0883 1090.8 Q51.4968 1087.84 51.4968 1083.61 Q51.4968 1083 51.5923 1082.27 Q51.656 1081.54 51.8151 1080.65 L57.8307 1080.62 Z\" fill=\"#000000\" fill-rule=\"evenodd\" fill-opacity=\"1\" /><path clip-path=\"url(#clip970)\" d=\"M 0 0 M52.3562 1078.68 L52.3562 1072.47 L82.275 1061.33 L52.3562 1050.19 L52.3562 1043.98 L88.0042 1057.35 L88.0042 1065.31 L52.3562 1078.68 Z\" fill=\"#000000\" fill-rule=\"evenodd\" fill-opacity=\"1\" /><path clip-path=\"url(#clip970)\" d=\"M 0 0 M52.3562 1037.84 L52.3562 1031.98 L88.0042 1031.98 L88.0042 1037.84 L52.3562 1037.84 M38.479 1037.84 L38.479 1031.98 L45.895 1031.98 L45.895 1037.84 L38.479 1037.84 Z\" fill=\"#000000\" fill-rule=\"evenodd\" fill-opacity=\"1\" /><path clip-path=\"url(#clip970)\" d=\"M 0 0 M52.3562 1030.04 L52.3562 1023.84 L82.275 1012.7 L52.3562 1001.56 L52.3562 995.349 L88.0042 1008.72 L88.0042 1016.67 L52.3562 1030.04 Z\" fill=\"#000000\" fill-rule=\"evenodd\" fill-opacity=\"1\" /><path clip-path=\"url(#clip970)\" d=\"M 0 0 M70.0847 973.005 Q70.0847 980.103 71.7079 982.84 Q73.3312 985.577 77.2461 985.577 Q80.3653 985.577 82.2114 983.54 Q84.0256 981.472 84.0256 977.939 Q84.0256 973.069 80.5881 970.141 Q77.1188 967.181 71.3897 967.181 L70.0847 967.181 L70.0847 973.005 M67.6657 961.324 L88.0042 961.324 L88.0042 967.181 L82.5933 967.181 Q85.8398 969.186 87.3994 972.178 Q88.9272 975.17 88.9272 979.498 Q88.9272 984.973 85.8716 988.219 Q82.7843 991.434 77.6281 991.434 Q71.6125 991.434 68.5569 987.424 Q65.5014 983.381 65.5014 975.392 L65.5014 967.181 L64.9285 967.181 Q60.8862 967.181 58.6901 969.854 Q56.4621 972.496 56.4621 977.302 Q56.4621 980.358 57.1941 983.254 Q57.9262 986.15 59.3903 988.824 L53.9795 988.824 Q52.7381 985.609 52.1334 982.586 Q51.4968 979.562 51.4968 976.697 Q51.4968 968.963 55.5072 965.144 Q59.5176 961.324 67.6657 961.324 Z\" fill=\"#000000\" fill-rule=\"evenodd\" fill-opacity=\"1\" /><path clip-path=\"url(#clip970)\" d=\"M 0 0 M38.479 955.181 L38.479 949.325 L88.0042 949.325 L88.0042 955.181 L38.479 955.181 Z\" fill=\"#000000\" fill-rule=\"evenodd\" fill-opacity=\"1\" /><path clip-path=\"url(#clip970)\" d=\"M 0 0 M38.5426 908.393 Q45.8632 912.658 53.0246 914.727 Q60.186 916.796 67.5384 916.796 Q74.8908 916.796 82.1159 914.727 Q89.3091 912.626 96.5979 908.393 L96.5979 913.486 Q89.1182 918.26 81.8931 920.647 Q74.668 923.003 67.5384 923.003 Q60.4406 923.003 53.2474 920.647 Q46.0542 918.292 38.5426 913.486 L38.5426 908.393 Z\" fill=\"#000000\" fill-rule=\"evenodd\" fill-opacity=\"1\" /><path clip-path=\"url(#clip970)\" d=\"M 0 0 M44.8447 882.708 Q44.8447 889.71 50.0645 893.848 Q55.2844 897.953 64.2919 897.953 Q73.2675 897.953 78.4874 893.848 Q83.7073 889.71 83.7073 882.708 Q83.7073 875.705 78.4874 871.631 Q73.2675 867.525 64.2919 867.525 Q55.2844 867.525 50.0645 871.631 Q44.8447 875.705 44.8447 882.708 M39.6248 882.708 Q39.6248 872.713 46.3406 866.73 Q53.0246 860.746 64.2919 860.746 Q75.5274 860.746 82.2432 866.73 Q88.9272 872.713 88.9272 882.708 Q88.9272 892.734 82.2432 898.749 Q75.5592 904.733 64.2919 904.733 Q53.0246 904.733 46.3406 898.749 Q39.6248 892.734 39.6248 882.708 Z\" fill=\"#000000\" fill-rule=\"evenodd\" fill-opacity=\"1\" /><path clip-path=\"url(#clip970)\" d=\"M 0 0 M52.3562 858.804 L52.3562 852.598 L82.275 841.458 L52.3562 830.318 L52.3562 824.111 L88.0042 837.479 L88.0042 845.436 L52.3562 858.804 Z\" fill=\"#000000\" fill-rule=\"evenodd\" fill-opacity=\"1\" /><path clip-path=\"url(#clip970)\" d=\"M 0 0 M68.7161 787.477 L71.5806 787.477 L71.5806 814.404 Q77.6281 814.022 80.8109 810.775 Q83.9619 807.497 83.9619 801.672 Q83.9619 798.298 83.1344 795.147 Q82.3069 791.964 80.6518 788.845 L86.1899 788.845 Q87.5267 791.996 88.227 795.306 Q88.9272 798.617 88.9272 802.022 Q88.9272 810.552 83.9619 815.549 Q78.9967 820.515 70.5303 820.515 Q61.7774 820.515 56.6531 815.804 Q51.4968 811.062 51.4968 803.041 Q51.4968 795.848 56.1438 791.678 Q60.7589 787.477 68.7161 787.477 M66.9973 793.333 Q62.1912 793.397 59.3266 796.039 Q56.4621 798.648 56.4621 802.977 Q56.4621 807.879 59.2312 810.839 Q62.0002 813.767 67.0292 814.213 L66.9973 793.333 Z\" fill=\"#000000\" fill-rule=\"evenodd\" fill-opacity=\"1\" /><path clip-path=\"url(#clip970)\" d=\"M 0 0 M57.8307 760.677 Q57.2578 761.664 57.0032 762.841 Q56.7167 763.987 56.7167 765.388 Q56.7167 770.353 59.9632 773.027 Q63.1779 775.668 69.2253 775.668 L88.0042 775.668 L88.0042 781.557 L52.3562 781.557 L52.3562 775.668 L57.8944 775.668 Q54.6479 773.822 53.0883 770.862 Q51.4968 767.902 51.4968 763.669 Q51.4968 763.064 51.5923 762.332 Q51.656 761.6 51.8151 760.709 L57.8307 760.677 Z\" fill=\"#000000\" fill-rule=\"evenodd\" fill-opacity=\"1\" /><path clip-path=\"url(#clip970)\" d=\"M 0 0 M70.0847 738.333 Q70.0847 745.431 71.7079 748.168 Q73.3312 750.906 77.2461 750.906 Q80.3653 750.906 82.2114 748.869 Q84.0256 746.8 84.0256 743.267 Q84.0256 738.397 80.5881 735.469 Q77.1188 732.509 71.3897 732.509 L70.0847 732.509 L70.0847 738.333 M67.6657 726.652 L88.0042 726.652 L88.0042 732.509 L82.5933 732.509 Q85.8398 734.514 87.3994 737.506 Q88.9272 740.498 88.9272 744.826 Q88.9272 750.301 85.8716 753.547 Q82.7843 756.762 77.6281 756.762 Q71.6125 756.762 68.5569 752.752 Q65.5014 748.71 65.5014 740.721 L65.5014 732.509 L64.9285 732.509 Q60.8862 732.509 58.6901 735.182 Q56.4621 737.824 56.4621 742.63 Q56.4621 745.686 57.1941 748.582 Q57.9262 751.479 59.3903 754.152 L53.9795 754.152 Q52.7381 750.938 52.1334 747.914 Q51.4968 744.89 51.4968 742.026 Q51.4968 734.291 55.5072 730.472 Q59.5176 726.652 67.6657 726.652 Z\" fill=\"#000000\" fill-rule=\"evenodd\" fill-opacity=\"1\" /><path clip-path=\"url(#clip970)\" d=\"M 0 0 M38.479 720.509 L38.479 714.653 L88.0042 714.653 L88.0042 720.509 L38.479 720.509 Z\" fill=\"#000000\" fill-rule=\"evenodd\" fill-opacity=\"1\" /><path clip-path=\"url(#clip970)\" d=\"M 0 0 M38.479 708.51 L38.479 702.654 L88.0042 702.654 L88.0042 708.51 L38.479 708.51 Z\" fill=\"#000000\" fill-rule=\"evenodd\" fill-opacity=\"1\" /><path clip-path=\"url(#clip970)\" d=\"M 0 0 M42.0438 647.049 L48.314 647.049 Q46.5634 650.709 45.704 653.956 Q44.8447 657.202 44.8447 660.226 Q44.8447 665.478 46.8817 668.342 Q48.9187 671.175 52.6745 671.175 Q55.8255 671.175 57.4488 669.297 Q59.0402 667.388 60.0269 662.104 L60.8226 658.221 Q62.1912 651.028 65.6605 647.622 Q69.098 644.185 74.8908 644.185 Q81.7976 644.185 85.3624 648.832 Q88.9272 653.447 88.9272 662.391 Q88.9272 665.764 88.1633 669.584 Q87.3994 673.371 85.9035 677.445 L79.2831 677.445 Q81.4793 673.531 82.5933 669.775 Q83.7073 666.019 83.7073 662.391 Q83.7073 656.884 81.543 653.892 Q79.3786 650.9 75.3682 650.9 Q71.8671 650.9 69.8937 653.065 Q67.9204 655.197 66.9337 660.099 L66.1698 664.014 Q64.7375 671.207 61.682 674.422 Q58.6264 677.636 53.1837 677.636 Q46.8817 677.636 43.2532 673.212 Q39.6248 668.756 39.6248 660.958 Q39.6248 657.616 40.2295 654.147 Q40.8343 650.678 42.0438 647.049 Z\" fill=\"#000000\" fill-rule=\"evenodd\" fill-opacity=\"1\" /><path clip-path=\"url(#clip970)\" d=\"M 0 0 M73.9359 638.646 L52.3562 638.646 L52.3562 632.79 L73.7131 632.79 Q78.7739 632.79 81.3202 630.817 Q83.8346 628.843 83.8346 624.897 Q83.8346 620.154 80.8109 617.417 Q77.7872 614.648 72.5673 614.648 L52.3562 614.648 L52.3562 608.791 L88.0042 608.791 L88.0042 614.648 L82.5296 614.648 Q85.7762 616.78 87.3676 619.613 Q88.9272 622.414 88.9272 626.138 Q88.9272 632.281 85.1078 635.464 Q81.2883 638.646 73.9359 638.646 M51.4968 623.91 L51.4968 623.91 Z\" fill=\"#000000\" fill-rule=\"evenodd\" fill-opacity=\"1\" /><path clip-path=\"url(#clip970)\" d=\"M 0 0 M57.8307 581.992 Q57.2578 582.978 57.0032 584.156 Q56.7167 585.302 56.7167 586.702 Q56.7167 591.668 59.9632 594.341 Q63.1779 596.983 69.2253 596.983 L88.0042 596.983 L88.0042 602.871 L52.3562 602.871 L52.3562 596.983 L57.8944 596.983 Q54.6479 595.137 53.0883 592.177 Q51.4968 589.217 51.4968 584.984 Q51.4968 584.379 51.5923 583.647 Q51.656 582.915 51.8151 582.023 L57.8307 581.992 Z\" fill=\"#000000\" fill-rule=\"evenodd\" fill-opacity=\"1\" /><path clip-path=\"url(#clip970)\" d=\"M 0 0 M52.3562 580.05 L52.3562 573.844 L82.275 562.704 L52.3562 551.564 L52.3562 545.357 L88.0042 558.725 L88.0042 566.682 L52.3562 580.05 Z\" fill=\"#000000\" fill-rule=\"evenodd\" fill-opacity=\"1\" /><path clip-path=\"url(#clip970)\" d=\"M 0 0 M52.3562 539.214 L52.3562 533.358 L88.0042 533.358 L88.0042 539.214 L52.3562 539.214 M38.479 539.214 L38.479 533.358 L45.895 533.358 L45.895 539.214 L38.479 539.214 Z\" fill=\"#000000\" fill-rule=\"evenodd\" fill-opacity=\"1\" /><path clip-path=\"url(#clip970)\" d=\"M 0 0 M52.3562 531.416 L52.3562 525.21 L82.275 514.07 L52.3562 502.93 L52.3562 496.723 L88.0042 510.091 L88.0042 518.048 L52.3562 531.416 Z\" fill=\"#000000\" fill-rule=\"evenodd\" fill-opacity=\"1\" /><path clip-path=\"url(#clip970)\" d=\"M 0 0 M70.0847 474.379 Q70.0847 481.477 71.7079 484.214 Q73.3312 486.952 77.2461 486.952 Q80.3653 486.952 82.2114 484.915 Q84.0256 482.846 84.0256 479.313 Q84.0256 474.443 80.5881 471.515 Q77.1188 468.555 71.3897 468.555 L70.0847 468.555 L70.0847 474.379 M67.6657 462.698 L88.0042 462.698 L88.0042 468.555 L82.5933 468.555 Q85.8398 470.56 87.3994 473.552 Q88.9272 476.544 88.9272 480.872 Q88.9272 486.347 85.8716 489.593 Q82.7843 492.808 77.6281 492.808 Q71.6125 492.808 68.5569 488.798 Q65.5014 484.755 65.5014 476.767 L65.5014 468.555 L64.9285 468.555 Q60.8862 468.555 58.6901 471.228 Q56.4621 473.87 56.4621 478.676 Q56.4621 481.732 57.1941 484.628 Q57.9262 487.525 59.3903 490.198 L53.9795 490.198 Q52.7381 486.983 52.1334 483.96 Q51.4968 480.936 51.4968 478.071 Q51.4968 470.337 55.5072 466.518 Q59.5176 462.698 67.6657 462.698 Z\" fill=\"#000000\" fill-rule=\"evenodd\" fill-opacity=\"1\" /><path clip-path=\"url(#clip970)\" d=\"M 0 0 M38.479 456.555 L38.479 450.699 L88.0042 450.699 L88.0042 456.555 L38.479 456.555 Z\" fill=\"#000000\" fill-rule=\"evenodd\" fill-opacity=\"1\" /><path clip-path=\"url(#clip970)\" d=\"M 0 0 M38.5426 445.479 L38.5426 440.387 Q46.0542 435.612 53.2474 433.257 Q60.4406 430.87 67.5384 430.87 Q74.668 430.87 81.8931 433.257 Q89.1182 435.612 96.5979 440.387 L96.5979 445.479 Q89.3091 441.246 82.1159 439.177 Q74.8908 437.076 67.5384 437.076 Q60.186 437.076 53.0246 439.177 Q45.8632 441.246 38.5426 445.479 Z\" fill=\"#000000\" fill-rule=\"evenodd\" fill-opacity=\"1\" /><polyline clip-path=\"url(#clip972)\" style=\"stroke:#009af9; stroke-width:4; stroke-opacity:1; fill:none\" points=\"\n",
       "  272.201,219.025 274.485,219.025 274.485,221.034 274.771,221.034 274.771,223.049 275.342,223.049 275.628,223.049 275.913,223.049 \n",
       "  276.199,223.049 276.77,223.049 277.055,223.049 277.341,223.049 277.912,223.049 \n",
       "  277.912,225.142 278.198,225.142 278.483,225.142 278.769,225.142 278.769,227.267 279.054,227.267 279.054,229.395 279.34,229.395 \n",
       "  279.625,229.395 279.911,229.395 280.196,229.395 280.196,231.542 280.482,231.542 280.768,231.542 \n",
       "  281.053,231.542 281.624,231.542 281.624,233.721 281.91,233.721 282.195,233.721 282.481,233.721 \n",
       "  282.766,233.721 282.766,235.924 283.052,235.924 283.909,235.924 284.194,235.924 285.051,235.924 \n",
       "  286.193,235.924 286.478,235.924 286.764,235.924 287.05,235.924 287.621,235.924 \n",
       "  287.906,235.924 288.192,235.924 288.477,235.924 288.763,235.924 289.048,235.924 \n",
       "  289.619,235.924 289.905,235.924 290.476,235.924 291.618,235.924 292.76,235.924 \n",
       "  293.617,235.924 293.903,235.924 293.903,238.253 294.759,238.253 295.045,238.253 295.616,238.253 \n",
       "  295.901,238.253 296.473,238.253 296.758,238.253 297.329,238.253 297.329,242.987 298.186,242.987 \n",
       "  298.471,242.987 300.185,242.987 300.756,242.987 301.612,242.987 301.898,242.987 \n",
       "  302.183,242.987 302.469,242.987 303.897,242.987 304.182,242.987 304.468,242.987 \n",
       "  304.753,242.987 305.325,242.987 305.896,242.987 306.467,242.987 306.752,242.987 \n",
       "  307.323,242.987 307.323,245.436 307.894,245.436 308.751,245.436 309.322,245.436 309.608,245.436 \n",
       "  309.893,245.436 310.179,245.436 310.464,245.436 311.892,245.436 312.463,245.436 \n",
       "  313.034,245.436 314.176,245.436 314.462,245.436 315.033,245.436 315.604,245.436 \n",
       "  315.89,245.436 316.175,245.436 316.461,245.436 317.032,245.436 317.317,245.436 \n",
       "  319.316,245.436 319.316,247.981 319.887,247.981 320.458,247.981 321.886,247.981 322.172,247.981 \n",
       "  322.457,247.981 322.743,247.981 323.028,247.981 323.314,247.981 323.314,250.592 324.171,250.592 \n",
       "  324.742,250.592 325.027,250.592 325.598,250.592 326.169,250.592 326.455,250.592 \n",
       "  327.026,250.592 327.312,250.592 327.597,250.592 328.168,250.592 328.739,250.592 \n",
       "  329.025,250.592 330.167,250.592 330.738,250.592 331.309,250.592 331.595,250.592 \n",
       "  332.737,250.592 333.594,250.592 334.165,250.592 335.021,250.592 336.164,250.592 \n",
       "  336.449,250.592 336.735,250.592 337.02,250.592 337.591,250.592 337.877,250.592 \n",
       "  338.162,250.592 338.162,253.411 338.448,253.411 339.59,253.411 339.876,253.411 340.161,253.411 \n",
       "  341.303,253.411 341.303,256.264 341.589,256.264 342.446,256.264 342.446,259.123 343.017,259.123 343.302,259.123 \n",
       "  343.588,259.123 343.873,259.123 345.015,259.123 346.158,259.123 346.729,259.123 \n",
       "  347.014,259.123 347.014,262.047 347.3,262.047 347.585,262.047 347.871,262.047 349.584,262.047 \n",
       "  349.87,262.047 350.155,262.047 350.155,265.008 350.441,265.008 350.726,265.008 351.583,265.008 \n",
       "  351.869,265.008 352.154,265.008 352.44,265.008 354.724,265.008 355.295,265.008 \n",
       "  355.866,265.008 356.152,265.008 356.152,268.093 356.723,268.093 357.865,268.093 359.007,268.093 \n",
       "  360.721,268.093 361.006,268.093 361.006,271.213 362.434,271.213 363.29,271.213 364.147,271.213 \n",
       "  364.433,271.213 364.718,271.213 365.289,271.213 365.86,271.213 366.431,271.213 \n",
       "  366.717,271.213 367.003,271.213 367.288,271.213 367.288,274.441 367.859,274.441 368.43,274.441 \n",
       "  368.716,274.441 369.572,274.441 370.429,274.441 370.715,274.441 372.428,274.441 \n",
       "  374.141,274.441 374.712,274.441 375.569,274.441 376.426,274.441 376.997,274.441 \n",
       "  377.568,274.441 377.568,277.801 377.853,277.801 378.424,277.801 378.424,281.17 379.567,281.17 380.138,281.17 \n",
       "  380.423,281.17 380.709,281.17 382.422,281.17 382.708,281.17 386.134,281.17 \n",
       "  386.991,281.17 387.276,281.17 389.561,281.17 391.274,281.17 391.56,281.17 \n",
       "  392.416,281.17 392.987,281.17 394.415,281.17 394.986,281.17 395.843,281.17 \n",
       "  395.843,284.842 396.414,284.842 398.984,284.842 399.555,284.842 400.126,284.842 402.696,284.842 \n",
       "  404.409,284.842 404.695,284.842 404.98,284.842 405.837,284.842 406.408,284.842 \n",
       "  408.121,284.842 410.12,284.842 410.406,284.842 411.548,284.842 412.404,284.842 \n",
       "  412.69,284.842 413.261,284.842 415.545,284.842 415.831,284.842 416.117,284.842 \n",
       "  416.402,284.842 417.259,284.842 417.544,284.842 421.256,284.842 421.542,284.842 \n",
       "  422.113,284.842 422.113,288.799 422.399,288.799 422.684,288.799 423.541,288.799 423.826,288.799 \n",
       "  423.826,292.825 424.112,292.825 427.824,292.825 427.824,296.862 428.681,296.862 429.252,296.862 429.823,296.862 \n",
       "  430.108,296.862 430.394,296.862 430.679,296.862 430.679,300.961 430.965,300.961 431.251,300.961 \n",
       "  431.536,300.961 432.107,300.961 432.393,300.961 433.535,300.961 433.535,305.147 434.677,305.147 \n",
       "  437.247,305.147 437.247,309.359 438.96,309.359 439.531,309.359 439.817,309.359 440.959,309.359 \n",
       "  441.53,309.359 442.101,309.359 442.958,309.359 443.529,309.359 444.1,309.359 \n",
       "  446.956,309.359 447.527,309.359 447.812,309.359 448.954,309.359 448.954,313.777 449.811,313.777 \n",
       "  450.097,313.777 450.097,318.209 451.239,318.209 451.81,318.209 454.951,318.209 455.522,318.209 \n",
       "  456.664,318.209 456.664,322.731 457.806,322.731 458.092,322.731 458.949,322.731 462.09,322.731 \n",
       "  462.661,322.731 463.232,322.731 464.088,322.731 465.802,322.731 466.373,322.731 \n",
       "  467.515,322.731 470.656,322.731 471.798,322.731 474.654,322.731 477.224,322.731 \n",
       "  477.795,322.731 478.08,322.731 480.65,322.731 480.65,327.527 481.221,327.527 483.506,327.527 \n",
       "  484.362,327.527 486.361,327.527 487.218,327.527 487.503,327.527 487.789,327.527 \n",
       "  489.788,327.527 490.073,327.527 491.501,327.527 492.072,327.527 492.072,332.558 492.357,332.558 \n",
       "  494.071,332.558 494.071,337.626 495.213,337.626 496.07,337.626 497.497,337.626 497.497,342.734 498.354,342.734 \n",
       "  498.354,347.842 498.639,347.842 498.639,352.95 500.067,352.95 500.067,358.058 500.353,358.058 500.353,363.186 503.779,363.186 504.35,363.186 \n",
       "  504.636,363.186 505.778,363.186 505.778,368.375 509.776,368.375 509.776,373.564 510.347,373.564 510.918,373.564 \n",
       "  512.346,373.564 513.488,373.564 515.487,373.564 516.914,373.564 518.057,373.564 \n",
       "  518.628,373.564 519.484,373.564 519.77,373.564 519.77,378.97 521.769,378.97 522.054,378.97 \n",
       "  524.339,378.97 525.195,378.97 525.195,384.446 526.338,384.446 526.338,389.921 528.336,389.921 534.333,389.921 \n",
       "  534.333,395.42 534.618,395.42 536.046,395.42 537.188,395.42 537.188,400.967 541.186,400.967 542.899,400.967 \n",
       "  543.47,400.967 544.898,400.967 547.182,400.967 550.323,400.967 550.323,406.663 551.751,406.663 \n",
       "  552.037,406.663 552.322,406.663 554.607,406.663 554.892,406.663 556.034,406.663 \n",
       "  560.032,406.663 560.889,406.663 561.46,406.663 563.744,406.663 564.03,406.663 \n",
       "  565.743,406.663 565.743,412.687 568.884,412.687 568.884,418.711 569.455,418.711 569.455,424.735 580.306,424.735 582.59,424.735 \n",
       "  583.161,424.735 584.018,424.735 589.158,424.735 593.155,424.735 594.012,424.735 \n",
       "  594.298,424.735 595.154,424.735 595.44,424.735 596.011,424.735 596.011,431.132 597.439,431.132 \n",
       "  599.152,431.132 602.007,431.132 602.007,437.595 602.293,437.595 602.578,437.595 603.721,437.595 \n",
       "  604.292,437.595 604.577,437.595 606.005,437.595 606.291,437.595 607.718,437.595 \n",
       "  607.718,444.306 608.86,444.306 609.146,444.306 611.145,444.306 614.286,444.306 615.714,444.306 \n",
       "  617.712,444.306 619.426,444.306 621.425,444.306 621.71,444.306 621.996,444.306 \n",
       "  623.709,444.306 630.276,444.306 630.848,444.306 636.844,444.306 637.13,444.306 \n",
       "  641.413,444.306 641.413,451.708 643.983,451.708 645.125,451.708 646.553,451.708 646.553,459.295 646.838,459.295 \n",
       "  647.98,459.295 648.266,459.295 648.837,459.295 651.407,459.295 652.549,459.295 \n",
       "  652.835,459.295 653.977,459.295 656.547,459.295 656.547,467.285 656.832,467.285 659.402,467.285 \n",
       "  659.688,467.285 660.259,467.285 662.258,467.285 662.829,467.285 663.4,467.285 \n",
       "  663.971,467.285 663.971,475.665 666.541,475.665 670.539,475.665 670.539,484.105 672.252,484.105 675.393,484.105 \n",
       "  676.535,484.105 681.96,484.105 684.53,484.105 685.958,484.105 691.954,484.105 \n",
       "  692.24,484.105 693.097,484.105 694.239,484.105 697.094,484.105 697.094,493.264 698.237,493.264 \n",
       "  700.235,493.264 704.804,493.264 704.804,502.569 707.945,502.569 714.513,502.569 716.226,502.569 \n",
       "  718.51,502.569 718.51,512.102 719.367,512.102 719.938,512.102 720.509,512.102 720.509,521.796 723.079,521.796 \n",
       "  732.502,521.796 735.643,521.796 736.785,521.796 737.642,521.796 739.07,521.796 \n",
       "  740.497,521.796 742.782,521.796 743.067,521.796 743.067,532.29 747.636,532.29 751.919,532.29 \n",
       "  751.919,542.982 755.631,542.982 757.345,542.982 757.345,553.777 757.916,553.777 757.916,564.573 764.483,564.573 768.767,564.573 \n",
       "  769.052,564.573 772.764,564.573 773.906,564.573 774.763,564.573 776.476,564.573 \n",
       "  776.476,576.042 782.758,576.042 782.758,587.512 791.61,587.512 791.61,598.982 795.893,598.982 808.172,598.982 811.313,598.982 \n",
       "  811.884,598.982 815.596,598.982 817.595,598.982 821.878,598.982 822.449,598.982 \n",
       "  822.449,611.68 831.016,611.68 842.723,611.68 843.294,611.68 843.294,624.692 844.722,624.692 847.863,624.692 \n",
       "  847.863,637.869 860.427,637.869 866.423,637.869 868.708,637.869 881.557,637.869 881.557,651.758 885.555,651.758 \n",
       "  896.406,651.758 896.977,651.758 908.399,651.758 908.399,666.243 913.253,666.243 923.247,666.243 \n",
       "  923.247,680.94 930.386,680.94 930.386,695.637 935.811,695.637 939.809,695.637 945.805,695.637 949.517,695.637 \n",
       "  957.513,695.637 964.366,695.637 964.366,711.804 986.639,711.804 991.207,711.804 991.778,711.804 \n",
       "  993.777,711.804 993.777,728.838 997.775,728.838 997.775,745.871 1002.63,745.871 1002.63,762.904 1008.91,762.904 1008.91,779.937 1051.17,779.937 \n",
       "  1059.45,779.937 1063.16,779.937 1073.16,779.937 1073.16,798.013 1082.3,798.013 1082.3,816.089 1095.43,816.089 \n",
       "  1095.72,816.089 1117.99,816.089 1120.85,816.089 1120.85,854.706 1121.7,854.706 1125.7,854.706 \n",
       "  1136.84,854.706 1155.97,854.706 1166.82,854.706 1166.82,876.047 1174.53,876.047 1223.36,876.047 \n",
       "  1225.07,876.047 1225.93,876.047 1230.78,876.047 1233.35,876.047 1237.63,876.047 \n",
       "  1237.63,901.519 1247.63,901.519 1247.63,926.99 1250.2,926.99 1250.2,952.462 1262.48,952.462 1262.48,977.933 1262.76,977.933 1262.76,1003.4 1265.62,1003.4 \n",
       "  1265.62,1028.88 1341,1028.88 1341,1054.35 1364.99,1054.35 1366.99,1054.35 1369.56,1054.35 1369.56,1082.13 1379.84,1082.13 \n",
       "  1391.54,1082.13 1399.54,1082.13 1399.54,1112.85 1400.68,1112.85 1400.68,1145.37 1404.68,1145.37 1404.68,1177.88 1441.51,1177.88 \n",
       "  1492.63,1177.88 1492.63,1212.73 1546.6,1212.73 1546.6,1247.57 1573.44,1247.57 1641.4,1247.57 1656.25,1247.57 \n",
       "  1681.66,1247.57 1776.46,1247.57 1811.3,1247.57 1815.01,1247.57 1961.49,1247.57 \n",
       "  1961.49,1331.19 2111.69,1331.19 2192.79,1331.19 2214.77,1331.19 2292.16,1331.19 \n",
       "  \"/>\n",
       "<polyline clip-path=\"url(#clip972)\" style=\"stroke:#e26f46; stroke-width:4; stroke-opacity:1; fill:none\" points=\"\n",
       "  274.771,219.025 277.626,219.025 283.052,219.025 292.475,219.025 308.18,219.025 309.037,219.025 \n",
       "  329.31,219.025 334.165,219.025 337.306,219.025 348.156,219.025 352.44,219.025 \n",
       "  355.581,219.025 374.712,219.025 381.565,219.025 384.992,219.025 387.562,219.025 \n",
       "  393.558,219.025 402.125,219.025 413.261,219.025 432.393,219.025 438.96,219.025 \n",
       "  489.502,219.025 489.502,281.922 534.618,281.922 534.618,344.819 548.039,344.819 548.039,407.717 557.177,407.717 557.177,470.614 600.294,470.614 \n",
       "  600.294,533.511 608.289,533.511 609.432,533.511 609.432,600.108 611.145,600.108 638.843,600.108 641.984,600.108 \n",
       "  714.513,600.108 714.513,682.074 756.202,682.074 756.202,764.04 759.343,764.04 759.343,846.006 813.312,846.006 824.448,846.006 \n",
       "  824.448,937.079 835.299,937.079 872.991,937.079 872.991,1041.16 900.118,1041.16 900.118,1145.25 904.401,1145.25 904.401,1249.33 1022.05,1249.33 \n",
       "  1048.6,1249.33 1048.6,1388.11 1061.74,1388.11 1915.81,1388.11 \n",
       "  \"/>\n",
       "<path clip-path=\"url(#clip970)\" d=\"\n",
       "M1432.46 406.7 L2281.38 406.7 L2281.38 225.26 L1432.46 225.26  Z\n",
       "  \" fill=\"#ffffff\" fill-rule=\"evenodd\" fill-opacity=\"1\"/>\n",
       "<polyline clip-path=\"url(#clip970)\" style=\"stroke:#000000; stroke-width:4; stroke-opacity:1; fill:none\" points=\"\n",
       "  1432.46,406.7 2281.38,406.7 2281.38,225.26 1432.46,225.26 1432.46,406.7 \n",
       "  \"/>\n",
       "<polyline clip-path=\"url(#clip970)\" style=\"stroke:#009af9; stroke-width:4; stroke-opacity:1; fill:none\" points=\"\n",
       "  1456.25,285.74 1599,285.74 \n",
       "  \"/>\n",
       "<path clip-path=\"url(#clip970)\" d=\"M 0 0 M1638.62 273.066 L1632.28 290.265 L1644.99 290.265 L1638.62 273.066 M1635.98 268.46 L1641.28 268.46 L1654.45 303.02 L1649.59 303.02 L1646.44 294.154 L1630.87 294.154 L1627.72 303.02 L1622.79 303.02 L1635.98 268.46 Z\" fill=\"#000000\" fill-rule=\"evenodd\" fill-opacity=\"1\" /><path clip-path=\"url(#clip970)\" d=\"M 0 0 M1658.92 267.001 L1663.18 267.001 L1663.18 303.02 L1658.92 303.02 L1658.92 267.001 Z\" fill=\"#000000\" fill-rule=\"evenodd\" fill-opacity=\"1\" /><path clip-path=\"url(#clip970)\" d=\"M 0 0 M1667.65 267.001 L1671.91 267.001 L1671.91 303.02 L1667.65 303.02 L1667.65 267.001 Z\" fill=\"#000000\" fill-rule=\"evenodd\" fill-opacity=\"1\" /><path clip-path=\"url(#clip970)\" d=\"M 0 0 M1708.02 286.816 Q1709.52 287.325 1710.94 288.992 Q1712.37 290.659 1713.81 293.575 L1718.55 303.02 L1713.53 303.02 L1709.11 294.154 Q1707.39 290.682 1705.77 289.548 Q1704.18 288.413 1701.4 288.413 L1696.31 288.413 L1696.31 303.02 L1691.63 303.02 L1691.63 268.46 L1702.19 268.46 Q1708.11 268.46 1711.03 270.937 Q1713.94 273.413 1713.94 278.413 Q1713.94 281.677 1712.42 283.83 Q1710.91 285.983 1708.02 286.816 M1696.31 272.302 L1696.31 284.571 L1702.19 284.571 Q1705.57 284.571 1707.28 283.02 Q1709.01 281.446 1709.01 278.413 Q1709.01 275.381 1707.28 273.853 Q1705.57 272.302 1702.19 272.302 L1696.31 272.302 Z\" fill=\"#000000\" fill-rule=\"evenodd\" fill-opacity=\"1\" /><path clip-path=\"url(#clip970)\" d=\"M 0 0 M1743.06 288.992 L1743.06 291.075 L1723.48 291.075 Q1723.76 295.473 1726.12 297.788 Q1728.5 300.08 1732.74 300.08 Q1735.19 300.08 1737.49 299.478 Q1739.8 298.876 1742.07 297.673 L1742.07 301.7 Q1739.78 302.672 1737.37 303.182 Q1734.96 303.691 1732.49 303.691 Q1726.28 303.691 1722.65 300.08 Q1719.04 296.469 1719.04 290.311 Q1719.04 283.946 1722.46 280.219 Q1725.91 276.469 1731.75 276.469 Q1736.98 276.469 1740.01 279.849 Q1743.06 283.205 1743.06 288.992 M1738.81 287.742 Q1738.76 284.247 1736.84 282.163 Q1734.94 280.08 1731.79 280.08 Q1728.23 280.08 1726.07 282.094 Q1723.94 284.108 1723.62 287.765 L1738.81 287.742 Z\" fill=\"#000000\" fill-rule=\"evenodd\" fill-opacity=\"1\" /><path clip-path=\"url(#clip970)\" d=\"M 0 0 M1767.72 282.071 Q1769.31 279.2 1771.54 277.835 Q1773.76 276.469 1776.77 276.469 Q1780.82 276.469 1783.02 279.316 Q1785.22 282.14 1785.22 287.372 L1785.22 303.02 L1780.93 303.02 L1780.93 287.511 Q1780.93 283.784 1779.62 281.978 Q1778.3 280.173 1775.59 280.173 Q1772.28 280.173 1770.36 282.372 Q1768.44 284.571 1768.44 288.367 L1768.44 303.02 L1764.15 303.02 L1764.15 287.511 Q1764.15 283.761 1762.83 281.978 Q1761.51 280.173 1758.76 280.173 Q1755.5 280.173 1753.57 282.395 Q1751.65 284.594 1751.65 288.367 L1751.65 303.02 L1747.37 303.02 L1747.37 277.094 L1751.65 277.094 L1751.65 281.122 Q1753.11 278.737 1755.15 277.603 Q1757.19 276.469 1759.99 276.469 Q1762.81 276.469 1764.78 277.904 Q1766.77 279.339 1767.72 282.071 Z\" fill=\"#000000\" fill-rule=\"evenodd\" fill-opacity=\"1\" /><path clip-path=\"url(#clip970)\" d=\"M 0 0 M1801.47 289.987 Q1796.31 289.987 1794.31 291.168 Q1792.32 292.348 1792.32 295.196 Q1792.32 297.464 1793.81 298.807 Q1795.31 300.126 1797.88 300.126 Q1801.42 300.126 1803.55 297.626 Q1805.7 295.103 1805.7 290.936 L1805.7 289.987 L1801.47 289.987 M1809.96 288.228 L1809.96 303.02 L1805.7 303.02 L1805.7 299.085 Q1804.25 301.446 1802.07 302.58 Q1799.89 303.691 1796.75 303.691 Q1792.76 303.691 1790.4 301.469 Q1788.06 299.223 1788.06 295.473 Q1788.06 291.098 1790.98 288.876 Q1793.92 286.654 1799.73 286.654 L1805.7 286.654 L1805.7 286.237 Q1805.7 283.298 1803.76 281.7 Q1801.84 280.08 1798.34 280.08 Q1796.12 280.08 1794.01 280.612 Q1791.91 281.145 1789.96 282.21 L1789.96 278.274 Q1792.3 277.372 1794.5 276.932 Q1796.7 276.469 1798.78 276.469 Q1804.41 276.469 1807.18 279.386 Q1809.96 282.302 1809.96 288.228 Z\" fill=\"#000000\" fill-rule=\"evenodd\" fill-opacity=\"1\" /><path clip-path=\"url(#clip970)\" d=\"M 0 0 M1814.43 277.094 L1818.69 277.094 L1818.69 303.02 L1814.43 303.02 L1814.43 277.094 M1814.43 267.001 L1818.69 267.001 L1818.69 272.395 L1814.43 272.395 L1814.43 267.001 Z\" fill=\"#000000\" fill-rule=\"evenodd\" fill-opacity=\"1\" /><path clip-path=\"url(#clip970)\" d=\"M 0 0 M1844.71 287.372 L1844.71 303.02 L1840.45 303.02 L1840.45 287.511 Q1840.45 283.83 1839.01 282.001 Q1837.58 280.173 1834.71 280.173 Q1831.26 280.173 1829.27 282.372 Q1827.28 284.571 1827.28 288.367 L1827.28 303.02 L1822.99 303.02 L1822.99 277.094 L1827.28 277.094 L1827.28 281.122 Q1828.81 278.784 1830.87 277.626 Q1832.95 276.469 1835.66 276.469 Q1840.12 276.469 1842.42 279.247 Q1844.71 282.001 1844.71 287.372 Z\" fill=\"#000000\" fill-rule=\"evenodd\" fill-opacity=\"1\" /><path clip-path=\"url(#clip970)\" d=\"M 0 0 M1849.18 277.094 L1853.43 277.094 L1853.43 303.02 L1849.18 303.02 L1849.18 277.094 M1849.18 267.001 L1853.43 267.001 L1853.43 272.395 L1849.18 272.395 L1849.18 267.001 Z\" fill=\"#000000\" fill-rule=\"evenodd\" fill-opacity=\"1\" /><path clip-path=\"url(#clip970)\" d=\"M 0 0 M1879.45 287.372 L1879.45 303.02 L1875.19 303.02 L1875.19 287.511 Q1875.19 283.83 1873.76 282.001 Q1872.32 280.173 1869.45 280.173 Q1866 280.173 1864.01 282.372 Q1862.02 284.571 1862.02 288.367 L1862.02 303.02 L1857.74 303.02 L1857.74 277.094 L1862.02 277.094 L1862.02 281.122 Q1863.55 278.784 1865.61 277.626 Q1867.69 276.469 1870.4 276.469 Q1874.87 276.469 1877.16 279.247 Q1879.45 282.001 1879.45 287.372 Z\" fill=\"#000000\" fill-rule=\"evenodd\" fill-opacity=\"1\" /><path clip-path=\"url(#clip970)\" d=\"M 0 0 M1900.98 289.756 Q1900.98 285.126 1899.06 282.58 Q1897.16 280.034 1893.71 280.034 Q1890.29 280.034 1888.36 282.58 Q1886.47 285.126 1886.47 289.756 Q1886.47 294.362 1888.36 296.909 Q1890.29 299.455 1893.71 299.455 Q1897.16 299.455 1899.06 296.909 Q1900.98 294.362 1900.98 289.756 M1905.24 299.802 Q1905.24 306.422 1902.3 309.64 Q1899.36 312.881 1893.3 312.881 Q1891.05 312.881 1889.06 312.534 Q1887.07 312.209 1885.19 311.515 L1885.19 307.372 Q1887.07 308.39 1888.9 308.876 Q1890.73 309.362 1892.62 309.362 Q1896.81 309.362 1898.9 307.163 Q1900.98 304.987 1900.98 300.566 L1900.98 298.46 Q1899.66 300.751 1897.6 301.885 Q1895.54 303.02 1892.67 303.02 Q1887.9 303.02 1884.99 299.385 Q1882.07 295.751 1882.07 289.756 Q1882.07 283.737 1884.99 280.103 Q1887.9 276.469 1892.67 276.469 Q1895.54 276.469 1897.6 277.603 Q1899.66 278.737 1900.98 281.029 L1900.98 277.094 L1905.24 277.094 L1905.24 299.802 Z\" fill=\"#000000\" fill-rule=\"evenodd\" fill-opacity=\"1\" /><path clip-path=\"url(#clip970)\" d=\"M 0 0 M1950.84 271.122 L1950.84 276.052 Q1948.48 273.853 1945.8 272.765 Q1943.13 271.677 1940.12 271.677 Q1934.2 271.677 1931.05 275.312 Q1927.9 278.923 1927.9 285.774 Q1927.9 292.603 1931.05 296.237 Q1934.2 299.848 1940.12 299.848 Q1943.13 299.848 1945.8 298.76 Q1948.48 297.673 1950.84 295.473 L1950.84 300.358 Q1948.39 302.024 1945.63 302.858 Q1942.9 303.691 1939.85 303.691 Q1932 303.691 1927.49 298.899 Q1922.97 294.085 1922.97 285.774 Q1922.97 277.441 1927.49 272.65 Q1932 267.835 1939.85 267.835 Q1942.95 267.835 1945.68 268.668 Q1948.43 269.478 1950.84 271.122 Z\" fill=\"#000000\" fill-rule=\"evenodd\" fill-opacity=\"1\" /><path clip-path=\"url(#clip970)\" d=\"M 0 0 M1967.09 289.987 Q1961.93 289.987 1959.94 291.168 Q1957.95 292.348 1957.95 295.196 Q1957.95 297.464 1959.43 298.807 Q1960.93 300.126 1963.5 300.126 Q1967.05 300.126 1969.17 297.626 Q1971.33 295.103 1971.33 290.936 L1971.33 289.987 L1967.09 289.987 M1975.59 288.228 L1975.59 303.02 L1971.33 303.02 L1971.33 299.085 Q1969.87 301.446 1967.69 302.58 Q1965.52 303.691 1962.37 303.691 Q1958.39 303.691 1956.03 301.469 Q1953.69 299.223 1953.69 295.473 Q1953.69 291.098 1956.61 288.876 Q1959.55 286.654 1965.36 286.654 L1971.33 286.654 L1971.33 286.237 Q1971.33 283.298 1969.38 281.7 Q1967.46 280.08 1963.97 280.08 Q1961.74 280.08 1959.64 280.612 Q1957.53 281.145 1955.59 282.21 L1955.59 278.274 Q1957.92 277.372 1960.12 276.932 Q1962.32 276.469 1964.41 276.469 Q1970.03 276.469 1972.81 279.386 Q1975.59 282.302 1975.59 288.228 Z\" fill=\"#000000\" fill-rule=\"evenodd\" fill-opacity=\"1\" /><path clip-path=\"url(#clip970)\" d=\"M 0 0 M1996.58 277.858 L1996.58 281.886 Q1994.78 280.96 1992.83 280.497 Q1990.89 280.034 1988.8 280.034 Q1985.63 280.034 1984.04 281.006 Q1982.46 281.978 1982.46 283.923 Q1982.46 285.404 1983.6 286.261 Q1984.73 287.094 1988.16 287.858 L1989.61 288.182 Q1994.15 289.154 1996.05 290.936 Q1997.97 292.696 1997.97 295.867 Q1997.97 299.478 1995.1 301.585 Q1992.25 303.691 1987.25 303.691 Q1985.17 303.691 1982.9 303.274 Q1980.66 302.881 1978.16 302.071 L1978.16 297.673 Q1980.52 298.899 1982.81 299.524 Q1985.1 300.126 1987.35 300.126 Q1990.36 300.126 1991.98 299.108 Q1993.6 298.066 1993.6 296.191 Q1993.6 294.455 1992.42 293.529 Q1991.26 292.603 1987.3 291.747 L1985.82 291.399 Q1981.86 290.566 1980.1 288.853 Q1978.34 287.117 1978.34 284.108 Q1978.34 280.45 1980.93 278.46 Q1983.53 276.469 1988.29 276.469 Q1990.66 276.469 1992.74 276.816 Q1994.82 277.163 1996.58 277.858 Z\" fill=\"#000000\" fill-rule=\"evenodd\" fill-opacity=\"1\" /><path clip-path=\"url(#clip970)\" d=\"M 0 0 M2024.61 288.992 L2024.61 291.075 L2005.03 291.075 Q2005.31 295.473 2007.67 297.788 Q2010.05 300.08 2014.29 300.08 Q2016.74 300.08 2019.04 299.478 Q2021.35 298.876 2023.62 297.673 L2023.62 301.7 Q2021.33 302.672 2018.92 303.182 Q2016.51 303.691 2014.04 303.691 Q2007.83 303.691 2004.2 300.08 Q2000.59 296.469 2000.59 290.311 Q2000.59 283.946 2004.01 280.219 Q2007.46 276.469 2013.29 276.469 Q2018.53 276.469 2021.56 279.849 Q2024.61 283.205 2024.61 288.992 M2020.36 287.742 Q2020.31 284.247 2018.39 282.163 Q2016.49 280.08 2013.34 280.08 Q2009.78 280.08 2007.62 282.094 Q2005.49 284.108 2005.17 287.765 L2020.36 287.742 Z\" fill=\"#000000\" fill-rule=\"evenodd\" fill-opacity=\"1\" /><path clip-path=\"url(#clip970)\" d=\"M 0 0 M2045.61 277.858 L2045.61 281.886 Q2043.8 280.96 2041.86 280.497 Q2039.92 280.034 2037.83 280.034 Q2034.66 280.034 2033.06 281.006 Q2031.49 281.978 2031.49 283.923 Q2031.49 285.404 2032.62 286.261 Q2033.76 287.094 2037.18 287.858 L2038.64 288.182 Q2043.18 289.154 2045.08 290.936 Q2047 292.696 2047 295.867 Q2047 299.478 2044.13 301.585 Q2041.28 303.691 2036.28 303.691 Q2034.2 303.691 2031.93 303.274 Q2029.68 302.881 2027.18 302.071 L2027.18 297.673 Q2029.54 298.899 2031.84 299.524 Q2034.13 300.126 2036.37 300.126 Q2039.38 300.126 2041 299.108 Q2042.62 298.066 2042.62 296.191 Q2042.62 294.455 2041.44 293.529 Q2040.29 292.603 2036.33 291.747 L2034.85 291.399 Q2030.89 290.566 2029.13 288.853 Q2027.37 287.117 2027.37 284.108 Q2027.37 280.45 2029.96 278.46 Q2032.55 276.469 2037.32 276.469 Q2039.68 276.469 2041.77 276.816 Q2043.85 277.163 2045.61 277.858 Z\" fill=\"#000000\" fill-rule=\"evenodd\" fill-opacity=\"1\" /><polyline clip-path=\"url(#clip970)\" style=\"stroke:#e26f46; stroke-width:4; stroke-opacity:1; fill:none\" points=\"\n",
       "  1456.25,346.22 1599,346.22 \n",
       "  \"/>\n",
       "<path clip-path=\"url(#clip970)\" d=\"M 0 0 M1627.46 332.782 L1627.46 345.768 L1633.34 345.768 Q1636.61 345.768 1638.39 344.079 Q1640.17 342.389 1640.17 339.264 Q1640.17 336.162 1638.39 334.472 Q1636.61 332.782 1633.34 332.782 L1627.46 332.782 M1622.79 328.94 L1633.34 328.94 Q1639.15 328.94 1642.12 331.579 Q1645.1 334.194 1645.1 339.264 Q1645.1 344.379 1642.12 346.995 Q1639.15 349.611 1633.34 349.611 L1627.46 349.611 L1627.46 363.5 L1622.79 363.5 L1622.79 328.94 Z\" fill=\"#000000\" fill-rule=\"evenodd\" fill-opacity=\"1\" /><path clip-path=\"url(#clip970)\" d=\"M 0 0 M1644.96 328.94 L1674.2 328.94 L1674.2 332.875 L1661.93 332.875 L1661.93 363.5 L1657.23 363.5 L1657.23 332.875 L1644.96 332.875 L1644.96 328.94 Z\" fill=\"#000000\" fill-rule=\"evenodd\" fill-opacity=\"1\" /><path clip-path=\"url(#clip970)\" d=\"M 0 0 M1678.85 328.94 L1700.7 328.94 L1700.7 332.875 L1683.53 332.875 L1683.53 343.106 L1699.99 343.106 L1699.99 347.041 L1683.53 347.041 L1683.53 359.565 L1701.12 359.565 L1701.12 363.5 L1678.85 363.5 L1678.85 328.94 Z\" fill=\"#000000\" fill-rule=\"evenodd\" fill-opacity=\"1\" /><path clip-path=\"url(#clip970)\" d=\"M 0 0 M1705.77 328.94 L1712.07 328.94 L1727.39 357.852 L1727.39 328.94 L1731.93 328.94 L1731.93 363.5 L1725.63 363.5 L1710.31 334.588 L1710.31 363.5 L1705.77 363.5 L1705.77 328.94 Z\" fill=\"#000000\" fill-rule=\"evenodd\" fill-opacity=\"1\" /><path clip-path=\"url(#clip970)\" d=\"M 0 0 M1737.49 357.62 L1742.37 357.62 L1742.37 363.5 L1737.49 363.5 L1737.49 357.62 M1737.49 338.986 L1742.37 338.986 L1742.37 344.866 L1737.49 344.866 L1737.49 338.986 Z\" fill=\"#000000\" fill-rule=\"evenodd\" fill-opacity=\"1\" /><path clip-path=\"url(#clip970)\" d=\"M 0 0 M1745.03 328.94 L1772.19 328.94 L1772.19 332.505 L1750.33 359.565 L1772.72 359.565 L1772.72 363.5 L1744.5 363.5 L1744.5 359.935 L1766.35 332.875 L1745.03 332.875 L1745.03 328.94 Z\" fill=\"#000000\" fill-rule=\"evenodd\" fill-opacity=\"1\" /><path clip-path=\"url(#clip970)\" d=\"M 0 0 M1777.74 339.981 L1777.74 335.907 L1807.42 344.403 L1807.42 348.338 L1777.74 356.856 L1777.74 352.736 L1799.99 346.393 L1777.74 339.981 M1807.42 359.565 L1807.42 363.5 L1777.74 363.5 L1777.74 359.565 L1807.42 359.565 Z\" fill=\"#000000\" fill-rule=\"evenodd\" fill-opacity=\"1\" /><path clip-path=\"url(#clip970)\" d=\"M 0 0 M1822.49 332.018 Q1818.87 332.018 1817.05 335.583 Q1815.24 339.125 1815.24 346.254 Q1815.24 353.361 1817.05 356.926 Q1818.87 360.467 1822.49 360.467 Q1826.12 360.467 1827.93 356.926 Q1829.75 353.361 1829.75 346.254 Q1829.75 339.125 1827.93 335.583 Q1826.12 332.018 1822.49 332.018 M1822.49 328.315 Q1828.3 328.315 1831.35 332.921 Q1834.43 337.504 1834.43 346.254 Q1834.43 354.981 1831.35 359.588 Q1828.3 364.171 1822.49 364.171 Q1816.68 364.171 1813.6 359.588 Q1810.54 354.981 1810.54 346.254 Q1810.54 337.504 1813.6 332.921 Q1816.68 328.315 1822.49 328.315 Z\" fill=\"#000000\" fill-rule=\"evenodd\" fill-opacity=\"1\" /><path clip-path=\"url(#clip970)\" d=\"M 0 0 M1839.5 357.62 L1844.38 357.62 L1844.38 363.5 L1839.5 363.5 L1839.5 357.62 Z\" fill=\"#000000\" fill-rule=\"evenodd\" fill-opacity=\"1\" /><path clip-path=\"url(#clip970)\" d=\"M 0 0 M1853.48 359.565 L1869.8 359.565 L1869.8 363.5 L1847.86 363.5 L1847.86 359.565 Q1850.52 356.81 1855.1 352.18 Q1859.71 347.528 1860.89 346.185 Q1863.13 343.662 1864.01 341.926 Q1864.92 340.167 1864.92 338.477 Q1864.92 335.722 1862.97 333.986 Q1861.05 332.25 1857.95 332.25 Q1855.75 332.25 1853.3 333.014 Q1850.87 333.778 1848.09 335.329 L1848.09 330.606 Q1850.91 329.472 1853.37 328.893 Q1855.82 328.315 1857.86 328.315 Q1863.23 328.315 1866.42 331 Q1869.62 333.685 1869.62 338.176 Q1869.62 340.305 1868.8 342.227 Q1868.02 344.125 1865.91 346.717 Q1865.33 347.389 1862.23 350.606 Q1859.13 353.801 1853.48 359.565 Z\" fill=\"#000000\" fill-rule=\"evenodd\" fill-opacity=\"1\" /><path clip-path=\"url(#clip970)\" d=\"M 0 0 M1874.92 328.94 L1893.27 328.94 L1893.27 332.875 L1879.2 332.875 L1879.2 341.347 Q1880.22 341 1881.24 340.838 Q1882.25 340.653 1883.27 340.653 Q1889.06 340.653 1892.44 343.824 Q1895.82 346.995 1895.82 352.412 Q1895.82 357.99 1892.35 361.092 Q1888.87 364.171 1882.55 364.171 Q1880.38 364.171 1878.11 363.801 Q1875.87 363.43 1873.46 362.69 L1873.46 357.99 Q1875.54 359.125 1877.76 359.68 Q1879.99 360.236 1882.46 360.236 Q1886.47 360.236 1888.8 358.129 Q1891.14 356.023 1891.14 352.412 Q1891.14 348.801 1888.8 346.694 Q1886.47 344.588 1882.46 344.588 Q1880.59 344.588 1878.71 345.004 Q1876.86 345.421 1874.92 346.301 L1874.92 328.94 Z\" fill=\"#000000\" fill-rule=\"evenodd\" fill-opacity=\"1\" /><path clip-path=\"url(#clip970)\" d=\"M 0 0 M1922.42 344.912 Q1920.31 346.787 1919.31 348.662 Q1918.34 350.514 1918.34 352.551 Q1918.34 355.93 1920.8 358.176 Q1923.25 360.421 1926.95 360.421 Q1929.15 360.421 1931.07 359.703 Q1932.99 358.963 1934.68 357.481 L1922.42 344.912 M1925.68 342.319 L1937.44 354.356 Q1938.8 352.296 1939.57 349.958 Q1940.33 347.597 1940.47 344.958 L1944.78 344.958 Q1944.5 348.014 1943.3 351 Q1942.09 353.986 1939.94 356.903 L1946.4 363.5 L1940.56 363.5 L1937.25 360.097 Q1934.85 362.157 1932.21 363.176 Q1929.57 364.171 1926.54 364.171 Q1920.96 364.171 1917.42 361 Q1913.87 357.805 1913.87 352.828 Q1913.87 349.866 1915.43 347.273 Q1916.98 344.657 1920.08 342.366 Q1918.97 340.907 1918.39 339.472 Q1917.81 338.014 1917.81 336.625 Q1917.81 332.875 1920.38 330.606 Q1922.95 328.315 1927.21 328.315 Q1929.13 328.315 1931.03 328.731 Q1932.95 329.148 1934.92 329.981 L1934.92 334.194 Q1932.9 333.106 1931.07 332.551 Q1929.24 331.972 1927.67 331.972 Q1925.24 331.972 1923.71 333.268 Q1922.21 334.542 1922.21 336.579 Q1922.21 337.759 1922.88 338.963 Q1923.57 340.143 1925.68 342.319 Z\" fill=\"#000000\" fill-rule=\"evenodd\" fill-opacity=\"1\" /><path clip-path=\"url(#clip970)\" d=\"M 0 0 M1961.33 328.94 L1990.56 328.94 L1990.56 332.875 L1978.3 332.875 L1978.3 363.5 L1973.6 363.5 L1973.6 332.875 L1961.33 332.875 L1961.33 328.94 Z\" fill=\"#000000\" fill-rule=\"evenodd\" fill-opacity=\"1\" /><path clip-path=\"url(#clip970)\" d=\"M 0 0 M1999.89 332.782 L1999.89 345.768 L2005.77 345.768 Q2009.04 345.768 2010.82 344.079 Q2012.6 342.389 2012.6 339.264 Q2012.6 336.162 2010.82 334.472 Q2009.04 332.782 2005.77 332.782 L1999.89 332.782 M1995.22 328.94 L2005.77 328.94 Q2011.58 328.94 2014.54 331.579 Q2017.53 334.194 2017.53 339.264 Q2017.53 344.379 2014.54 346.995 Q2011.58 349.611 2005.77 349.611 L1999.89 349.611 L1999.89 363.5 L1995.22 363.5 L1995.22 328.94 Z\" fill=\"#000000\" fill-rule=\"evenodd\" fill-opacity=\"1\" /><path clip-path=\"url(#clip970)\" d=\"M 0 0 M2022.65 328.94 L2041 328.94 L2041 332.875 L2026.93 332.875 L2026.93 341.347 Q2027.95 341 2028.97 340.838 Q2029.98 340.653 2031 340.653 Q2036.79 340.653 2040.17 343.824 Q2043.55 346.995 2043.55 352.412 Q2043.55 357.99 2040.08 361.092 Q2036.6 364.171 2030.29 364.171 Q2028.11 364.171 2025.84 363.801 Q2023.6 363.43 2021.19 362.69 L2021.19 357.99 Q2023.27 359.125 2025.49 359.68 Q2027.72 360.236 2030.19 360.236 Q2034.2 360.236 2036.54 358.129 Q2038.87 356.023 2038.87 352.412 Q2038.87 348.801 2036.54 346.694 Q2034.2 344.588 2030.19 344.588 Q2028.32 344.588 2026.44 345.004 Q2024.59 345.421 2022.65 346.301 L2022.65 328.94 Z\" fill=\"#000000\" fill-rule=\"evenodd\" fill-opacity=\"1\" /><path clip-path=\"url(#clip970)\" d=\"M 0 0 M2062.79 344.866 Q2066.14 345.583 2068.02 347.852 Q2069.91 350.12 2069.91 353.453 Q2069.91 358.569 2066.4 361.37 Q2062.88 364.171 2056.4 364.171 Q2054.22 364.171 2051.91 363.731 Q2049.61 363.315 2047.16 362.458 L2047.16 357.944 Q2049.1 359.078 2051.42 359.657 Q2053.73 360.236 2056.26 360.236 Q2060.66 360.236 2062.95 358.5 Q2065.26 356.764 2065.26 353.453 Q2065.26 350.398 2063.11 348.685 Q2060.98 346.949 2057.16 346.949 L2053.13 346.949 L2053.13 343.106 L2057.35 343.106 Q2060.79 343.106 2062.62 341.741 Q2064.45 340.352 2064.45 337.759 Q2064.45 335.097 2062.55 333.685 Q2060.68 332.25 2057.16 332.25 Q2055.24 332.25 2053.04 332.667 Q2050.84 333.083 2048.2 333.963 L2048.2 329.796 Q2050.86 329.055 2053.18 328.685 Q2055.52 328.315 2057.58 328.315 Q2062.9 328.315 2066 330.745 Q2069.1 333.153 2069.1 337.273 Q2069.1 340.143 2067.46 342.134 Q2065.82 344.102 2062.79 344.866 Z\" fill=\"#000000\" fill-rule=\"evenodd\" fill-opacity=\"1\" /><path clip-path=\"url(#clip970)\" d=\"M 0 0 M2075.47 357.62 L2080.35 357.62 L2080.35 363.5 L2075.47 363.5 L2075.47 357.62 M2075.47 338.986 L2080.35 338.986 L2080.35 344.866 L2075.47 344.866 L2075.47 338.986 Z\" fill=\"#000000\" fill-rule=\"evenodd\" fill-opacity=\"1\" /><path clip-path=\"url(#clip970)\" d=\"M 0 0 M2083.02 328.94 L2110.17 328.94 L2110.17 332.505 L2088.32 359.565 L2110.7 359.565 L2110.7 363.5 L2082.48 363.5 L2082.48 359.935 L2104.34 332.875 L2083.02 332.875 L2083.02 328.94 Z\" fill=\"#000000\" fill-rule=\"evenodd\" fill-opacity=\"1\" /><path clip-path=\"url(#clip970)\" d=\"M 0 0 M2115.72 339.981 L2115.72 335.907 L2145.4 344.403 L2145.4 348.338 L2115.72 356.856 L2115.72 352.736 L2137.97 346.393 L2115.72 339.981 M2145.4 359.565 L2145.4 363.5 L2115.72 363.5 L2115.72 359.565 L2145.4 359.565 Z\" fill=\"#000000\" fill-rule=\"evenodd\" fill-opacity=\"1\" /><path clip-path=\"url(#clip970)\" d=\"M 0 0 M2160.47 332.018 Q2156.86 332.018 2155.03 335.583 Q2153.22 339.125 2153.22 346.254 Q2153.22 353.361 2155.03 356.926 Q2156.86 360.467 2160.47 360.467 Q2164.1 360.467 2165.91 356.926 Q2167.74 353.361 2167.74 346.254 Q2167.74 339.125 2165.91 335.583 Q2164.1 332.018 2160.47 332.018 M2160.47 328.315 Q2166.28 328.315 2169.34 332.921 Q2172.41 337.504 2172.41 346.254 Q2172.41 354.981 2169.34 359.588 Q2166.28 364.171 2160.47 364.171 Q2154.66 364.171 2151.58 359.588 Q2148.53 354.981 2148.53 346.254 Q2148.53 337.504 2151.58 332.921 Q2154.66 328.315 2160.47 328.315 Z\" fill=\"#000000\" fill-rule=\"evenodd\" fill-opacity=\"1\" /><path clip-path=\"url(#clip970)\" d=\"M 0 0 M2177.48 357.62 L2182.37 357.62 L2182.37 363.5 L2177.48 363.5 L2177.48 357.62 Z\" fill=\"#000000\" fill-rule=\"evenodd\" fill-opacity=\"1\" /><path clip-path=\"url(#clip970)\" d=\"M 0 0 M2191.47 359.565 L2207.78 359.565 L2207.78 363.5 L2185.84 363.5 L2185.84 359.565 Q2188.5 356.81 2193.09 352.18 Q2197.69 347.528 2198.87 346.185 Q2201.12 343.662 2202 341.926 Q2202.9 340.167 2202.9 338.477 Q2202.9 335.722 2200.96 333.986 Q2199.03 332.25 2195.93 332.25 Q2193.73 332.25 2191.28 333.014 Q2188.85 333.778 2186.07 335.329 L2186.07 330.606 Q2188.9 329.472 2191.35 328.893 Q2193.8 328.315 2195.84 328.315 Q2201.21 328.315 2204.4 331 Q2207.6 333.685 2207.6 338.176 Q2207.6 340.305 2206.79 342.227 Q2206 344.125 2203.9 346.717 Q2203.32 347.389 2200.22 350.606 Q2197.11 353.801 2191.47 359.565 Z\" fill=\"#000000\" fill-rule=\"evenodd\" fill-opacity=\"1\" /><path clip-path=\"url(#clip970)\" d=\"M 0 0 M2212.9 328.94 L2231.26 328.94 L2231.26 332.875 L2217.18 332.875 L2217.18 341.347 Q2218.2 341 2219.22 340.838 Q2220.24 340.653 2221.26 340.653 Q2227.04 340.653 2230.42 343.824 Q2233.8 346.995 2233.8 352.412 Q2233.8 357.99 2230.33 361.092 Q2226.86 364.171 2220.54 364.171 Q2218.36 364.171 2216.09 363.801 Q2213.85 363.43 2211.44 362.69 L2211.44 357.99 Q2213.53 359.125 2215.75 359.68 Q2217.97 360.236 2220.45 360.236 Q2224.45 360.236 2226.79 358.129 Q2229.13 356.023 2229.13 352.412 Q2229.13 348.801 2226.79 346.694 Q2224.45 344.588 2220.45 344.588 Q2218.57 344.588 2216.7 345.004 Q2214.84 345.421 2212.9 346.301 L2212.9 328.94 Z\" fill=\"#000000\" fill-rule=\"evenodd\" fill-opacity=\"1\" /></svg>\n"
      ]
     },
     "execution_count": 84,
     "metadata": {},
     "output_type": "execute_result"
    }
   ],
   "source": [
    "interactive_perform_survival(config_json)"
   ]
  }
 ],
 "metadata": {
  "kernelspec": {
   "display_name": "Julia 1.5.1",
   "language": "julia",
   "name": "julia-1.5"
  },
  "language_info": {
   "file_extension": ".jl",
   "mimetype": "application/julia",
   "name": "julia",
   "version": "1.5.1"
  }
 },
 "nbformat": 4,
 "nbformat_minor": 4
}
